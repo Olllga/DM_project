{
  "nbformat": 4,
  "nbformat_minor": 0,
  "metadata": {
    "colab": {
      "name": "discriminator.ipynb",
      "provenance": [],
      "collapsed_sections": []
    },
    "kernelspec": {
      "name": "python3",
      "display_name": "Python 3"
    },
    "language_info": {
      "name": "python"
    },
    "accelerator": "GPU"
  },
  "cells": [
    {
      "cell_type": "code",
      "execution_count": 1,
      "metadata": {
        "id": "dFv4WgT7-gVp"
      },
      "outputs": [],
      "source": [
        "from google.colab import drive\n",
        "import os\n",
        "import numpy as np\n",
        "import matplotlib.pyplot as plt\n",
        "from IPython.display import display\n",
        "\n",
        "import torch\n",
        "import torch.nn as nn\n",
        "import torch.nn.functional as F\n",
        "from torch.utils.data import TensorDataset, DataLoader\n",
        "import torch.optim as optim\n",
        "\n",
        "from torchvision.transforms.functional import to_pil_image\n",
        "from torchvision import models, transforms\n",
        "\n",
        "from fastai.torch_core import requires_grad"
      ]
    },
    {
      "cell_type": "code",
      "source": [
        "# check if training using GPU is possible\n",
        "torch.cuda.is_available()"
      ],
      "metadata": {
        "id": "I47kSYXCpEJS",
        "colab": {
          "base_uri": "https://localhost:8080/"
        },
        "outputId": "8a43914b-48f1-43fe-ab65-305e9252d4d3"
      },
      "execution_count": 2,
      "outputs": [
        {
          "output_type": "execute_result",
          "data": {
            "text/plain": [
              "True"
            ]
          },
          "metadata": {},
          "execution_count": 2
        }
      ]
    },
    {
      "cell_type": "code",
      "source": [
        "# mounting Google Drive with your credentials \n",
        "drive.mount('/content/gdrive')"
      ],
      "metadata": {
        "id": "aEJhgDZDCLi_",
        "colab": {
          "base_uri": "https://localhost:8080/"
        },
        "outputId": "5bff884b-2fce-4cd9-c05b-874c282ae9bc"
      },
      "execution_count": 3,
      "outputs": [
        {
          "output_type": "stream",
          "name": "stdout",
          "text": [
            "Mounted at /content/gdrive\n"
          ]
        }
      ]
    },
    {
      "cell_type": "code",
      "source": [
        "# folder, created in advance in the Google Drive and containing kaggle.json\n",
        "#project_folder = \"/content/gdrive/My Drive/Kaggle/NaturalPainters\" # for original email\n",
        "project_folder = \"/content/gdrive/My Drive/NaturalPainters\" \n",
        "os.environ['KAGGLE_CONFIG_DIR'] = project_folder"
      ],
      "metadata": {
        "id": "NflAVSf4CPAC"
      },
      "execution_count": 4,
      "outputs": []
    },
    {
      "cell_type": "code",
      "source": [
        "# dive into folder\n",
        "#%cd /content/gdrive/MyDrive/Kaggle/NaturalPainters\n",
        "%cd /content/gdrive/MyDrive/NaturalPainters"
      ],
      "metadata": {
        "id": "IkB-4rwUCdOB",
        "colab": {
          "base_uri": "https://localhost:8080/"
        },
        "outputId": "995abd90-0f6d-4688-8be7-525c41d59458"
      },
      "execution_count": 5,
      "outputs": [
        {
          "output_type": "stream",
          "name": "stdout",
          "text": [
            "/content/gdrive/.shortcut-targets-by-id/1m2LH2VheZ1KLU1PiFqOKItm5-sBWZ1C4/NaturalPainters\n"
          ]
        }
      ]
    },
    {
      "cell_type": "markdown",
      "source": [
        "# **Generator**"
      ],
      "metadata": {
        "id": "uSJXC2Iu4OEA"
      }
    },
    {
      "cell_type": "code",
      "source": [
        "# data is stored in the 'episodes_i.npz' format, where i is in {0,...,77}\n",
        "# this routine loads desired 'episodes_i.npz' for a particular i\n",
        "# data will be loaded in the dictionary with two fields: 'strokes' and 'actions'\n",
        "def load_data(npz):\n",
        "\n",
        "    data = np.load('strokes-dataset/' + npz)\n",
        "    return data['strokes'], data['actions']"
      ],
      "metadata": {
        "id": "qDvPk8DWCiho"
      },
      "execution_count": 6,
      "outputs": []
    },
    {
      "cell_type": "code",
      "source": [
        "class Discriminator(nn.Module):\n",
        "  def __init__(self, \n",
        "               img_channels: int, \n",
        "               num_features: int):\n",
        "    super(Discriminator, self).__init__()\n",
        "\n",
        "    self.conv1 = nn.Conv2d(img_channels, num_features, kernel_size = (4, 4), stride = (2, 2), padding = (1, 1))\n",
        "    self.conv2 = nn.Conv2d(num_features, num_features*2, kernel_size = (4, 4), stride = (2, 2), padding = (1, 1))\n",
        "    num_features *= 2\n",
        "    self.norm2 = nn.BatchNorm2d(num_features)\n",
        "    self.conv3 = nn.Conv2d(num_features, num_features*2, kernel_size = (4, 4), stride = (2, 2), padding = (1, 1))\n",
        "    num_features *= 2\n",
        "    self.norm3 = nn.BatchNorm2d(num_features)\n",
        "    self.conv4 = nn.Conv2d(num_features, num_features*2, kernel_size = (4, 4), stride = (2, 2), padding = (1, 1))\n",
        "    self.norm4 = nn.BatchNorm2d(num_features*2)\n",
        "    self.lin = nn.Linear(4*4*(num_features*2), 1)\n",
        "\n",
        "\n",
        "  def forward(self, x):\n",
        "    x = F.leaky_relu(self.conv1(x), negative_slope = 0.2)\n",
        "    x = F.leaky_relu(self.norm2(self.conv2(x)), negative_slope = 0.2)\n",
        "    x = F.leaky_relu(self.norm3(self.conv3(x)), negative_slope = 0.2)\n",
        "    x = F.leaky_relu(self.norm4(self.conv4(x)), negative_slope = 0.2)\n",
        "    x = x.flatten(start_dim = 1)\n",
        "\n",
        "    return self.lin(x)"
      ],
      "metadata": {
        "id": "DMZc6mL1uwEj"
      },
      "execution_count": 7,
      "outputs": []
    },
    {
      "cell_type": "code",
      "source": [
        "# to check created model\n",
        "# discriminator = Discriminator(hparams.img_channels, \n",
        "#                               hparams.img_height).cuda()\n",
        "# discriminator"
      ],
      "metadata": {
        "id": "fzsF9euDvIzD"
      },
      "execution_count": 8,
      "outputs": []
    },
    {
      "cell_type": "code",
      "source": [
        "# to check on the output of the dataloader\n",
        "# for num_iter, (stroke, condition) in enumerate(dataloader):  \n",
        "#     condition = condition.cuda()\n",
        "#     stroke = torch.stack([strokes_tfms(s) for s in stroke]).cuda()\n",
        "#     break\n",
        "\n",
        "# discriminator(stroke).shape"
      ],
      "metadata": {
        "id": "u_UCfXsarvFZ"
      },
      "execution_count": 9,
      "outputs": []
    },
    {
      "cell_type": "code",
      "source": [
        "class Generator(nn.Module):\n",
        "\n",
        "    def __init__(self, \n",
        "                 in_features: int,\n",
        "                 img_height: int,\n",
        "                 img_width: int,\n",
        "                 num_features: int,\n",
        "                 img_channels: int):\n",
        "      super(Generator, self).__init__()\n",
        "\n",
        "      self.out_features = img_height * img_width\n",
        "\n",
        "      self.lin = nn.Linear(in_features, self.out_features)\n",
        "\n",
        "      self.conv1 = nn.ConvTranspose2d(self.out_features, num_features, \n",
        "                                      kernel_size = (4, 4), stride = (1, 1), bias = False)\n",
        "      self.norm1 = nn.BatchNorm2d(num_features)\n",
        "\n",
        "      self.conv2 = nn.ConvTranspose2d(num_features, num_features//2, \n",
        "                                      kernel_size = (4, 4), stride = (2, 2), padding = (1, 1), bias = False)\n",
        "      num_features //= 2\n",
        "      self.norm2 = nn.BatchNorm2d(num_features)\n",
        "\n",
        "      self.conv3 = nn.ConvTranspose2d(num_features, num_features//2, \n",
        "                                      kernel_size = (4, 4), stride = (2, 2), padding = (1, 1), bias = False)\n",
        "      num_features //= 2\n",
        "      self.norm3 = nn.BatchNorm2d(num_features)\n",
        "\n",
        "      self.conv4 = nn.ConvTranspose2d(num_features, num_features//2, \n",
        "                                      kernel_size = (4, 4), stride = (2, 2), padding = (1, 1), bias = False)\n",
        "      num_features //= 2\n",
        "      self.norm4 = nn.BatchNorm2d(num_features)\n",
        "\n",
        "      self.conv5 = nn.ConvTranspose2d(num_features, num_features, \n",
        "                                      kernel_size = (3, 3), stride = (1, 1), padding = (1, 1), bias = False)\n",
        "      self.norm5 = nn.BatchNorm2d(num_features)\n",
        "\n",
        "      self.conv6 = nn.ConvTranspose2d(num_features, img_channels, \n",
        "                                      kernel_size = (4, 4), stride = (2, 2), padding = (1, 1), bias = False)\n",
        "\n",
        "\n",
        "\n",
        "    def forward(self, x):\n",
        "      x = self.lin(x)\n",
        "      x = F.relu(self.conv1(x.view(x.size(0), x.size(1), 1, 1)), inplace = True)\n",
        "      x = self.norm1(x)\n",
        "      x = F.relu(self.conv2(x), inplace = True)\n",
        "      x = self.norm2(x)\n",
        "      x = F.relu(self.conv3(x), inplace = True)\n",
        "      x = self.norm3(x)\n",
        "      x = F.relu(self.conv4(x), inplace = True)\n",
        "      x = self.norm4(x)\n",
        "      x = F.relu(self.conv5(x), inplace = True)\n",
        "      x = self.norm5(x)\n",
        "\n",
        "      return torch.tanh(self.conv6(x))"
      ],
      "metadata": {
        "id": "xqW0oPCnDZpi"
      },
      "execution_count": 10,
      "outputs": []
    },
    {
      "cell_type": "code",
      "source": [
        "strokes_tfms = transforms.Compose([transforms.Lambda(lambda x: x.float()),\n",
        "                                   transforms.Lambda(lambda x: x.div_(255))\n",
        "                                  ])"
      ],
      "metadata": {
        "id": "2pQWUaTGDuww"
      },
      "execution_count": 11,
      "outputs": []
    },
    {
      "cell_type": "code",
      "source": [
        "#torch.manual_seed(4)\n",
        "class Trainer():\n",
        "\n",
        "        def __init__(self,\n",
        "                     transforms,\n",
        "                     generator: nn.Module,\n",
        "                     discriminator: nn.Module,\n",
        "                     optimizer: torch.optim,\n",
        "                     loss: torch.nn.functional,\n",
        "                     epochs: int = 3,\n",
        "                     gpu: bool = False):\n",
        "            super(Trainer, self).__init__()\n",
        "\n",
        "            self.transforms = transforms\n",
        "            self.generator = generator\n",
        "            self.discriminator = discriminator\n",
        "            self.optimizer = optimizer\n",
        "            self.loss = loss\n",
        "            self.epochs = epochs\n",
        "            self.gpu = gpu\n",
        "\n",
        "        def train(self,\n",
        "              dataloader,\n",
        "              print_interval: int = 50):\n",
        "            \n",
        "            train_loss = []\n",
        "            \n",
        "            for epoch in range(self.epochs):\n",
        "\n",
        "                self.discriminator.train()\n",
        "\n",
        "                for i, (stroke, action) in enumerate(dataloader):  \n",
        "\n",
        "                    stroke = torch.stack([self.transforms(s) for s in stroke])\n",
        "                    \n",
        "                    y_true = torch.ones((stroke.shape[0], 1), dtype = torch.float, requires_grad = False)\n",
        "                    y_gen = torch.zeros((stroke.shape[0], 1), dtype = torch.float, requires_grad = False)\n",
        "\n",
        "                    if self.gpu:\n",
        "                        action = action.cuda()\n",
        "                        stroke = stroke.cuda()\n",
        "                        y_true = y_true.cuda()\n",
        "                        y_gen = y_gen.cuda()\n",
        "                \n",
        "                    self.optimizer.zero_grad()\n",
        "\n",
        "                    y_true_pred = torch.sigmoid(self.discriminator(stroke))\n",
        "                    true_loss = self.loss(y_true_pred, y_true)\n",
        "\n",
        "                    gen_stroke = self.generator(action)\n",
        "                    y_gen_pred = torch.sigmoid(self.discriminator(gen_stroke))\n",
        "                    gen_loss = self.loss(y_gen_pred, y_gen)\n",
        "\n",
        "                    cur_loss = 0.5 * true_loss + 0.5 * gen_loss\n",
        "                    cur_loss.backward()\n",
        "\n",
        "                    self.optimizer.step()\n",
        "\n",
        "                    train_loss.append(cur_loss.data.item())\n",
        "\n",
        "                    if (i % print_interval) == 0:\n",
        "                        print('Epoch {}/{} | Sample {}/{} => Loss: {:.3f}'.format((epoch + 1), self.epochs,\n",
        "                                                                          (i + 1), len(dataloader),\n",
        "                                                                          torch.mean(torch.FloatTensor(train_loss))))\n",
        "                        \n",
        "                        s = stroke[0].clone().cpu()\n",
        "                        print('true stroke')\n",
        "                        print('discriminator prediction for true = 1:', round(y_true_pred[0].item(), 3))\n",
        "                        display(to_pil_image(s))\n",
        "            \n",
        "                        g = gen_stroke[0].clone().cpu()\n",
        "                        print('generated stroke')\n",
        "                        print('discriminator prediction for true = 0:', round(y_gen_pred[0].item(), 3))\n",
        "                        display(to_pil_image(g))\n",
        "                        \n",
        "                        print('-'*50)\n",
        "\n",
        "                print('End of epoch {}'.format(epoch + 1))\n",
        "\n",
        "            torch.save(self.discriminator.state_dict(), project_folder + '_discriminator_10e.pth')        "
      ],
      "metadata": {
        "id": "u4apYN98--ny"
      },
      "execution_count": 14,
      "outputs": []
    },
    {
      "cell_type": "code",
      "source": [
        "#torch.manual_seed(4)\n",
        "class Hparams():\n",
        "    in_features = 12 #constant\n",
        "    num_features = 512 #@param {type:\"slider\", min:8, max:1024, step:8}\n",
        "    img_height = 64 #@param {type:\"slider\", min:8, max:1024, step:8}\n",
        "    img_width = 64 #@param {type:\"slider\", min:8, max:1024, step:8}\n",
        "    img_channels = 3 #@param {type:\"slider\", min:1, max:3, step:2}\n",
        "    batch_size = 512 #@param {type: \"slider\", min:8, max:512, step:8}\n",
        "    lr = 0.001 #@param {type:\"number\"}\n",
        "    betas = (0.5, 0.999) #@param\n",
        "    epochs = 10 #@param {type:\"slider\", min:1, max:1000, step:1}\n",
        "    print_interval = 50 #@param {type:\"slider\", min:1, max:100, step:10}\n",
        "hparams = Hparams()\n",
        "\n",
        "current_npz = 'episodes_1.npz'\n",
        "\n",
        "strokes, actions = load_data(current_npz)\n",
        "\n",
        "strokes = torch.stack([torch.from_numpy(stroke).permute(2, 0, 1) for stroke in strokes])\n",
        "actions = torch.stack([torch.from_numpy(action).float() for action in actions])\n",
        "\n",
        "dataset = TensorDataset(strokes, actions)\n",
        "\n",
        "dataloader = DataLoader(dataset, \n",
        "                        batch_size = hparams.batch_size, \n",
        "                        shuffle = False)\n",
        "\n",
        "discriminator = Discriminator(hparams.img_channels, \n",
        "                              hparams.img_height)\n",
        "\n",
        "gpu = torch.cuda.is_available()\n",
        "if gpu:\n",
        "    print(\"Training is performed using GPU.\\n\")\n",
        "    device = 'cuda'\n",
        "else:\n",
        "    print(\"Training is performed using CPU.\\n\")\n",
        "    device = 'cpu'\n",
        "\n",
        "discriminator.to(device)\n",
        "\n",
        "generator = Generator(hparams.in_features,\n",
        "                      hparams.img_height,\n",
        "                      hparams.img_width,\n",
        "                      hparams.num_features,\n",
        "                      hparams.img_channels)\n",
        "\n",
        "generator_path = \"/content/gdrive/.shortcut-targets-by-id/1m2LH2VheZ1KLU1PiFqOKItm5-sBWZ1C4/NaturalPainters/results/generator_5152w_10e_1d.pth\"\n",
        "\n",
        "generator.load_state_dict(torch.load(generator_path, \n",
        "                                     map_location = torch.device(device)))\n",
        "\n",
        "for param in generator.parameters():\n",
        "    generator.requires_grad = False\n",
        "\n",
        "generator.to(device).eval()\n",
        "\n",
        "optimizer = optim.Adam(discriminator.parameters(), \n",
        "                       lr = hparams.lr, \n",
        "                       betas = hparams.betas)\n",
        "\n",
        "loss = F.binary_cross_entropy\n",
        "\n",
        "trainer = Trainer(strokes_tfms,\n",
        "                  generator,\n",
        "                  discriminator,\n",
        "                  optimizer,\n",
        "                  loss,\n",
        "                  epochs = hparams.epochs,\n",
        "                  gpu = gpu)\n",
        "\n",
        "trainer.train(dataloader, \n",
        "              print_interval = hparams.print_interval)"
      ],
      "metadata": {
        "id": "lEQBOVVxCwAE",
        "colab": {
          "base_uri": "https://localhost:8080/",
          "height": 1000
        },
        "outputId": "7421a809-0602-4d9d-87e2-466b136dfa16"
      },
      "execution_count": 15,
      "outputs": [
        {
          "output_type": "stream",
          "name": "stdout",
          "text": [
            "Training is performed using GPU.\n",
            "\n",
            "Epoch 1/10 | Sample 1/196 => Loss: 0.705\n",
            "true stroke\n",
            "discriminator prediction for true = 1: 0.426756352186203\n"
          ]
        },
        {
          "output_type": "display_data",
          "data": {
            "image/png": "[encoded data removed]",
            "text/plain": [
              "<PIL.Image.Image image mode=RGB size=64x64 at 0x7F12663EEC10>"
            ]
          },
          "metadata": {}
        },
        {
          "output_type": "stream",
          "name": "stdout",
          "text": [
            "generated stroke\n",
            "discriminator prediction for true = 0: 0.4176158308982849\n"
          ]
        },
        {
          "output_type": "display_data",
          "data": {
            "image/png": "[encoded data removed]",
            "text/plain": [
              "<PIL.Image.Image image mode=RGB size=64x64 at 0x7F114A07C6D0>"
            ]
          },
          "metadata": {}
        },
        {
          "output_type": "stream",
          "name": "stdout",
          "text": [
            "--------------------------------------------------\n",
            "Epoch 1/10 | Sample 51/196 => Loss: 0.594\n",
            "true stroke\n",
            "discriminator prediction for true = 1: 0.640634298324585\n"
          ]
        },
        {
          "output_type": "display_data",
          "data": {
            "image/png": "[encoded data removed]",
            "text/plain": [
              "<PIL.Image.Image image mode=RGB size=64x64 at 0x7F114B298AD0>"
            ]
          },
          "metadata": {}
        },
        {
          "output_type": "stream",
          "name": "stdout",
          "text": [
            "generated stroke\n",
            "discriminator prediction for true = 0: 0.23237244784832\n"
          ]
        },
        {
          "output_type": "display_data",
          "data": {
            "image/png": "[encoded data removed]",
            "text/plain": [
              "<PIL.Image.Image image mode=RGB size=64x64 at 0x7F114B2982D0>"
            ]
          },
          "metadata": {}
        },
        {
          "output_type": "stream",
          "name": "stdout",
          "text": [
            "--------------------------------------------------\n",
            "Epoch 1/10 | Sample 101/196 => Loss: 0.317\n",
            "true stroke\n",
            "discriminator prediction for true = 1: 0.9857856631278992\n"
          ]
        },
        {
          "output_type": "display_data",
          "data": {
            "image/png": "[encoded data removed]",
            "text/plain": [
              "<PIL.Image.Image image mode=RGB size=64x64 at 0x7F12663EEA90>"
            ]
          },
          "metadata": {}
        },
        {
          "output_type": "stream",
          "name": "stdout",
          "text": [
            "generated stroke\n",
            "discriminator prediction for true = 0: 0.0016059551853686571\n"
          ]
        },
        {
          "output_type": "display_data",
          "data": {
            "image/png": "[encoded data removed]",
            "text/plain": [
              "<PIL.Image.Image image mode=RGB size=64x64 at 0x7F12663EEA90>"
            ]
          },
          "metadata": {}
        },
        {
          "output_type": "stream",
          "name": "stdout",
          "text": [
            "--------------------------------------------------\n",
            "Epoch 1/10 | Sample 151/196 => Loss: 0.212\n",
            "true stroke\n",
            "discriminator prediction for true = 1: 0.9999158382415771\n"
          ]
        },
        {
          "output_type": "display_data",
          "data": {
            "image/png": "[encoded data removed]",
            "text/plain": [
              "<PIL.Image.Image image mode=RGB size=64x64 at 0x7F114C57CB90>"
            ]
          },
          "metadata": {}
        },
        {
          "output_type": "stream",
          "name": "stdout",
          "text": [
            "generated stroke\n",
            "discriminator prediction for true = 0: 0.001885630888864398\n"
          ]
        },
        {
          "output_type": "display_data",
          "data": {
            "image/png": "[encoded data removed]",
            "text/plain": [
              "<PIL.Image.Image image mode=RGB size=64x64 at 0x7F114B298D90>"
            ]
          },
          "metadata": {}
        },
        {
          "output_type": "stream",
          "name": "stdout",
          "text": [
            "--------------------------------------------------\n",
            "End of epoch 1\n",
            "Epoch 2/10 | Sample 1/196 => Loss: 0.163\n",
            "true stroke\n",
            "discriminator prediction for true = 1: 0.9999126195907593\n"
          ]
        },
        {
          "output_type": "display_data",
          "data": {
            "image/png": "[encoded data removed]",
            "text/plain": [
              "<PIL.Image.Image image mode=RGB size=64x64 at 0x7F114C5C8250>"
            ]
          },
          "metadata": {}
        },
        {
          "output_type": "stream",
          "name": "stdout",
          "text": [
            "generated stroke\n",
            "discriminator prediction for true = 0: 0.0006122391205281019\n"
          ]
        },
        {
          "output_type": "display_data",
          "data": {
            "image/png": "[encoded data removed]",
            "text/plain": [
              "<PIL.Image.Image image mode=RGB size=64x64 at 0x7F114B2DAB50>"
            ]
          },
          "metadata": {}
        },
        {
          "output_type": "stream",
          "name": "stdout",
          "text": [
            "--------------------------------------------------\n",
            "Epoch 2/10 | Sample 51/196 => Loss: 0.130\n",
            "true stroke\n",
            "discriminator prediction for true = 1: 0.999902606010437\n"
          ]
        },
        {
          "output_type": "display_data",
          "data": {
            "image/png": "[encoded data removed]",
            "text/plain": [
              "<PIL.Image.Image image mode=RGB size=64x64 at 0x7F114C57CC10>"
            ]
          },
          "metadata": {}
        },
        {
          "output_type": "stream",
          "name": "stdout",
          "text": [
            "generated stroke\n",
            "discriminator prediction for true = 0: 0.0003488590882625431\n"
          ]
        },
        {
          "output_type": "display_data",
          "data": {
            "image/png": "[encoded data removed]",
            "text/plain": [
              "<PIL.Image.Image image mode=RGB size=64x64 at 0x7F114A07C7D0>"
            ]
          },
          "metadata": {}
        },
        {
          "output_type": "stream",
          "name": "stdout",
          "text": [
            "--------------------------------------------------\n",
            "Epoch 2/10 | Sample 101/196 => Loss: 0.108\n",
            "true stroke\n",
            "discriminator prediction for true = 1: 0.9991074204444885\n"
          ]
        },
        {
          "output_type": "display_data",
          "data": {
            "image/png": "[encoded data removed]",
            "text/plain": [
              "<PIL.Image.Image image mode=RGB size=64x64 at 0x7F114C5E4310>"
            ]
          },
          "metadata": {}
        },
        {
          "output_type": "stream",
          "name": "stdout",
          "text": [
            "generated stroke\n",
            "discriminator prediction for true = 0: 0.00012279536167625338\n"
          ]
        },
        {
          "output_type": "display_data",
          "data": {
            "image/png": "[encoded data removed]",
            "text/plain": [
              "<PIL.Image.Image image mode=RGB size=64x64 at 0x7F114B2DAB50>"
            ]
          },
          "metadata": {}
        },
        {
          "output_type": "stream",
          "name": "stdout",
          "text": [
            "--------------------------------------------------\n",
            "Epoch 2/10 | Sample 151/196 => Loss: 0.093\n",
            "true stroke\n",
            "discriminator prediction for true = 1: 0.9999756813049316\n"
          ]
        },
        {
          "output_type": "display_data",
          "data": {
            "image/png": "[encoded data removed]",
            "text/plain": [
              "<PIL.Image.Image image mode=RGB size=64x64 at 0x7F114B2DAED0>"
            ]
          },
          "metadata": {}
        },
        {
          "output_type": "stream",
          "name": "stdout",
          "text": [
            "generated stroke\n",
            "discriminator prediction for true = 0: 0.00021924756583757699\n"
          ]
        },
        {
          "output_type": "display_data",
          "data": {
            "image/png": "[encoded data removed]",
            "text/plain": [
              "<PIL.Image.Image image mode=RGB size=64x64 at 0x7F114A07C590>"
            ]
          },
          "metadata": {}
        },
        {
          "output_type": "stream",
          "name": "stdout",
          "text": [
            "--------------------------------------------------\n",
            "End of epoch 2\n",
            "Epoch 3/10 | Sample 1/196 => Loss: 0.082\n",
            "true stroke\n",
            "discriminator prediction for true = 1: 0.9999756813049316\n"
          ]
        },
        {
          "output_type": "display_data",
          "data": {
            "image/png": "[encoded data removed]",
            "text/plain": [
              "<PIL.Image.Image image mode=RGB size=64x64 at 0x7F114C5E4110>"
            ]
          },
          "metadata": {}
        },
        {
          "output_type": "stream",
          "name": "stdout",
          "text": [
            "generated stroke\n",
            "discriminator prediction for true = 0: 0.00016970436263363808\n"
          ]
        },
        {
          "output_type": "display_data",
          "data": {
            "image/png": "[encoded data removed]",
            "text/plain": [
              "<PIL.Image.Image image mode=RGB size=64x64 at 0x7F114A07C410>"
            ]
          },
          "metadata": {}
        },
        {
          "output_type": "stream",
          "name": "stdout",
          "text": [
            "--------------------------------------------------\n",
            "Epoch 3/10 | Sample 51/196 => Loss: 0.072\n",
            "true stroke\n",
            "discriminator prediction for true = 1: 0.9999665021896362\n"
          ]
        },
        {
          "output_type": "display_data",
          "data": {
            "image/png": "[encoded data removed]",
            "text/plain": [
              "<PIL.Image.Image image mode=RGB size=64x64 at 0x7F114A0786D0>"
            ]
          },
          "metadata": {}
        },
        {
          "output_type": "stream",
          "name": "stdout",
          "text": [
            "generated stroke\n",
            "discriminator prediction for true = 0: 0.00010689469490898773\n"
          ]
        },
        {
          "output_type": "display_data",
          "data": {
            "image/png": "[encoded data removed]",
            "text/plain": [
              "<PIL.Image.Image image mode=RGB size=64x64 at 0x7F114A07CB90>"
            ]
          },
          "metadata": {}
        },
        {
          "output_type": "stream",
          "name": "stdout",
          "text": [
            "--------------------------------------------------\n",
            "Epoch 3/10 | Sample 101/196 => Loss: 0.065\n",
            "true stroke\n",
            "discriminator prediction for true = 1: 0.9997032284736633\n"
          ]
        },
        {
          "output_type": "display_data",
          "data": {
            "image/png": "[encoded data removed]",
            "text/plain": [
              "<PIL.Image.Image image mode=RGB size=64x64 at 0x7F114A078510>"
            ]
          },
          "metadata": {}
        },
        {
          "output_type": "stream",
          "name": "stdout",
          "text": [
            "generated stroke\n",
            "discriminator prediction for true = 0: 4.6981142077129334e-05\n"
          ]
        },
        {
          "output_type": "display_data",
          "data": {
            "image/png": "[encoded data removed]",
            "text/plain": [
              "<PIL.Image.Image image mode=RGB size=64x64 at 0x7F114A07CBD0>"
            ]
          },
          "metadata": {}
        },
        {
          "output_type": "stream",
          "name": "stdout",
          "text": [
            "--------------------------------------------------\n",
            "Epoch 3/10 | Sample 151/196 => Loss: 0.059\n",
            "true stroke\n",
            "discriminator prediction for true = 1: 0.999988317489624\n"
          ]
        },
        {
          "output_type": "display_data",
          "data": {
            "image/png": "[encoded data removed]",
            "text/plain": [
              "<PIL.Image.Image image mode=RGB size=64x64 at 0x7F114C572F10>"
            ]
          },
          "metadata": {}
        },
        {
          "output_type": "stream",
          "name": "stdout",
          "text": [
            "generated stroke\n",
            "discriminator prediction for true = 0: 8.273436833405867e-05\n"
          ]
        },
        {
          "output_type": "display_data",
          "data": {
            "image/png": "[encoded data removed]",
            "text/plain": [
              "<PIL.Image.Image image mode=RGB size=64x64 at 0x7F114B298FD0>"
            ]
          },
          "metadata": {}
        },
        {
          "output_type": "stream",
          "name": "stdout",
          "text": [
            "--------------------------------------------------\n",
            "End of epoch 3\n",
            "Epoch 4/10 | Sample 1/196 => Loss: 0.055\n",
            "true stroke\n",
            "discriminator prediction for true = 1: 0.9999885559082031\n"
          ]
        },
        {
          "output_type": "display_data",
          "data": {
            "image/png": "[encoded data removed]",
            "text/plain": [
              "<PIL.Image.Image image mode=RGB size=64x64 at 0x7F114C57CC10>"
            ]
          },
          "metadata": {}
        },
        {
          "output_type": "stream",
          "name": "stdout",
          "text": [
            "generated stroke\n",
            "discriminator prediction for true = 0: 7.67970850574784e-05\n"
          ]
        },
        {
          "output_type": "display_data",
          "data": {
            "image/png": "[encoded data removed]",
            "text/plain": [
              "<PIL.Image.Image image mode=RGB size=64x64 at 0x7F114B298E10>"
            ]
          },
          "metadata": {}
        },
        {
          "output_type": "stream",
          "name": "stdout",
          "text": [
            "--------------------------------------------------\n",
            "Epoch 4/10 | Sample 51/196 => Loss: 0.050\n",
            "true stroke\n",
            "discriminator prediction for true = 1: 0.9999829530715942\n"
          ]
        },
        {
          "output_type": "display_data",
          "data": {
            "image/png": "[encoded data removed]",
            "text/plain": [
              "<PIL.Image.Image image mode=RGB size=64x64 at 0x7F114A0786D0>"
            ]
          },
          "metadata": {}
        },
        {
          "output_type": "stream",
          "name": "stdout",
          "text": [
            "generated stroke\n",
            "discriminator prediction for true = 0: 5.209862138144672e-05\n"
          ]
        },
        {
          "output_type": "display_data",
          "data": {
            "image/png": "[encoded data removed]",
            "text/plain": [
              "<PIL.Image.Image image mode=RGB size=64x64 at 0x7F114B298F10>"
            ]
          },
          "metadata": {}
        },
        {
          "output_type": "stream",
          "name": "stdout",
          "text": [
            "--------------------------------------------------\n",
            "Epoch 4/10 | Sample 101/196 => Loss: 0.047\n",
            "true stroke\n",
            "discriminator prediction for true = 1: 0.9998582601547241\n"
          ]
        },
        {
          "output_type": "display_data",
          "data": {
            "image/png": "[encoded data removed]",
            "text/plain": [
              "<PIL.Image.Image image mode=RGB size=64x64 at 0x7F114A06D550>"
            ]
          },
          "metadata": {}
        },
        {
          "output_type": "stream",
          "name": "stdout",
          "text": [
            "generated stroke\n",
            "discriminator prediction for true = 0: 2.492231760697905e-05\n"
          ]
        },
        {
          "output_type": "display_data",
          "data": {
            "image/png": "[encoded data removed]",
            "text/plain": [
              "<PIL.Image.Image image mode=RGB size=64x64 at 0x7F114A07C390>"
            ]
          },
          "metadata": {}
        },
        {
          "output_type": "stream",
          "name": "stdout",
          "text": [
            "--------------------------------------------------\n",
            "Epoch 4/10 | Sample 151/196 => Loss: 0.043\n",
            "true stroke\n",
            "discriminator prediction for true = 1: 0.9999932050704956\n"
          ]
        },
        {
          "output_type": "display_data",
          "data": {
            "image/png": "[encoded data removed]",
            "text/plain": [
              "<PIL.Image.Image image mode=RGB size=64x64 at 0x7F114A0786D0>"
            ]
          },
          "metadata": {}
        },
        {
          "output_type": "stream",
          "name": "stdout",
          "text": [
            "generated stroke\n",
            "discriminator prediction for true = 0: 4.2980384023394436e-05\n"
          ]
        },
        {
          "output_type": "display_data",
          "data": {
            "image/png": "[encoded data removed]",
            "text/plain": [
              "<PIL.Image.Image image mode=RGB size=64x64 at 0x7F114A07C710>"
            ]
          },
          "metadata": {}
        },
        {
          "output_type": "stream",
          "name": "stdout",
          "text": [
            "--------------------------------------------------\n",
            "End of epoch 4\n",
            "Epoch 5/10 | Sample 1/196 => Loss: 0.041\n",
            "true stroke\n",
            "discriminator prediction for true = 1: 0.9999934434890747\n"
          ]
        },
        {
          "output_type": "display_data",
          "data": {
            "image/png": "[encoded data removed]",
            "text/plain": [
              "<PIL.Image.Image image mode=RGB size=64x64 at 0x7F114C57CC10>"
            ]
          },
          "metadata": {}
        },
        {
          "output_type": "stream",
          "name": "stdout",
          "text": [
            "generated stroke\n",
            "discriminator prediction for true = 0: 4.351081224740483e-05\n"
          ]
        },
        {
          "output_type": "display_data",
          "data": {
            "image/png": "[encoded data removed]",
            "text/plain": [
              "<PIL.Image.Image image mode=RGB size=64x64 at 0x7F114B298450>"
            ]
          },
          "metadata": {}
        },
        {
          "output_type": "stream",
          "name": "stdout",
          "text": [
            "--------------------------------------------------\n",
            "Epoch 5/10 | Sample 51/196 => Loss: 0.038\n",
            "true stroke\n",
            "discriminator prediction for true = 1: 0.9999897480010986\n"
          ]
        },
        {
          "output_type": "display_data",
          "data": {
            "image/png": "[encoded data removed]",
            "text/plain": [
              "<PIL.Image.Image image mode=RGB size=64x64 at 0x7F114C57CB90>"
            ]
          },
          "metadata": {}
        },
        {
          "output_type": "stream",
          "name": "stdout",
          "text": [
            "generated stroke\n",
            "discriminator prediction for true = 0: 3.0945466278353706e-05\n"
          ]
        },
        {
          "output_type": "display_data",
          "data": {
            "image/png": "[encoded data removed]",
            "text/plain": [
              "<PIL.Image.Image image mode=RGB size=64x64 at 0x7F114B298650>"
            ]
          },
          "metadata": {}
        },
        {
          "output_type": "stream",
          "name": "stdout",
          "text": [
            "--------------------------------------------------\n",
            "Epoch 5/10 | Sample 101/196 => Loss: 0.036\n",
            "true stroke\n",
            "discriminator prediction for true = 1: 0.999919056892395\n"
          ]
        },
        {
          "output_type": "display_data",
          "data": {
            "image/png": "[encoded data removed]",
            "text/plain": [
              "<PIL.Image.Image image mode=RGB size=64x64 at 0x7F114C5E4190>"
            ]
          },
          "metadata": {}
        },
        {
          "output_type": "stream",
          "name": "stdout",
          "text": [
            "generated stroke\n",
            "discriminator prediction for true = 0: 1.522294678579783e-05\n"
          ]
        },
        {
          "output_type": "display_data",
          "data": {
            "image/png": "[encoded data removed]",
            "text/plain": [
              "<PIL.Image.Image image mode=RGB size=64x64 at 0x7F114A07C490>"
            ]
          },
          "metadata": {}
        },
        {
          "output_type": "stream",
          "name": "stdout",
          "text": [
            "--------------------------------------------------\n",
            "Epoch 5/10 | Sample 151/196 => Loss: 0.034\n",
            "true stroke\n",
            "discriminator prediction for true = 1: 0.9999954700469971\n"
          ]
        },
        {
          "output_type": "display_data",
          "data": {
            "image/png": "[encoded data removed]",
            "text/plain": [
              "<PIL.Image.Image image mode=RGB size=64x64 at 0x7F114C5D0CD0>"
            ]
          },
          "metadata": {}
        },
        {
          "output_type": "stream",
          "name": "stdout",
          "text": [
            "generated stroke\n",
            "discriminator prediction for true = 0: 2.603112989163492e-05\n"
          ]
        },
        {
          "output_type": "display_data",
          "data": {
            "image/png": "[encoded data removed]",
            "text/plain": [
              "<PIL.Image.Image image mode=RGB size=64x64 at 0x7F114C5D0CD0>"
            ]
          },
          "metadata": {}
        },
        {
          "output_type": "stream",
          "name": "stdout",
          "text": [
            "--------------------------------------------------\n",
            "End of epoch 5\n",
            "Epoch 6/10 | Sample 1/196 => Loss: 0.033\n",
            "true stroke\n",
            "discriminator prediction for true = 1: 0.9999958276748657\n"
          ]
        },
        {
          "output_type": "display_data",
          "data": {
            "image/png": "[encoded data removed]",
            "text/plain": [
              "<PIL.Image.Image image mode=RGB size=64x64 at 0x7F114B298B90>"
            ]
          },
          "metadata": {}
        },
        {
          "output_type": "stream",
          "name": "stdout",
          "text": [
            "generated stroke\n",
            "discriminator prediction for true = 0: 2.778880480036605e-05\n"
          ]
        },
        {
          "output_type": "display_data",
          "data": {
            "image/png": "[encoded data removed]",
            "text/plain": [
              "<PIL.Image.Image image mode=RGB size=64x64 at 0x7F114B298D90>"
            ]
          },
          "metadata": {}
        },
        {
          "output_type": "stream",
          "name": "stdout",
          "text": [
            "--------------------------------------------------\n",
            "Epoch 6/10 | Sample 51/196 => Loss: 0.031\n",
            "true stroke\n",
            "discriminator prediction for true = 1: 0.9999933242797852\n"
          ]
        },
        {
          "output_type": "display_data",
          "data": {
            "image/png": "[encoded data removed]",
            "text/plain": [
              "<PIL.Image.Image image mode=RGB size=64x64 at 0x7F114A06D590>"
            ]
          },
          "metadata": {}
        },
        {
          "output_type": "stream",
          "name": "stdout",
          "text": [
            "generated stroke\n",
            "discriminator prediction for true = 0: 2.044828397629317e-05\n"
          ]
        },
        {
          "output_type": "display_data",
          "data": {
            "image/png": "[encoded data removed]",
            "text/plain": [
              "<PIL.Image.Image image mode=RGB size=64x64 at 0x7F114B298110>"
            ]
          },
          "metadata": {}
        },
        {
          "output_type": "stream",
          "name": "stdout",
          "text": [
            "--------------------------------------------------\n",
            "Epoch 6/10 | Sample 101/196 => Loss: 0.030\n",
            "true stroke\n",
            "discriminator prediction for true = 1: 0.9999493360519409\n"
          ]
        },
        {
          "output_type": "display_data",
          "data": {
            "image/png": "[encoded data removed]",
            "text/plain": [
              "<PIL.Image.Image image mode=RGB size=64x64 at 0x7F114A078D10>"
            ]
          },
          "metadata": {}
        },
        {
          "output_type": "stream",
          "name": "stdout",
          "text": [
            "generated stroke\n",
            "discriminator prediction for true = 0: 1.0207007107965183e-05\n"
          ]
        },
        {
          "output_type": "display_data",
          "data": {
            "image/png": "[encoded data removed]",
            "text/plain": [
              "<PIL.Image.Image image mode=RGB size=64x64 at 0x7F114A07CA90>"
            ]
          },
          "metadata": {}
        },
        {
          "output_type": "stream",
          "name": "stdout",
          "text": [
            "--------------------------------------------------\n",
            "Epoch 6/10 | Sample 151/196 => Loss: 0.028\n",
            "true stroke\n",
            "discriminator prediction for true = 1: 0.9999967813491821\n"
          ]
        },
        {
          "output_type": "display_data",
          "data": {
            "image/png": "[encoded data removed]",
            "text/plain": [
              "<PIL.Image.Image image mode=RGB size=64x64 at 0x7F114B2DAC90>"
            ]
          },
          "metadata": {}
        },
        {
          "output_type": "stream",
          "name": "stdout",
          "text": [
            "generated stroke\n",
            "discriminator prediction for true = 0: 1.7080608813557774e-05\n"
          ]
        },
        {
          "output_type": "display_data",
          "data": {
            "image/png": "[encoded data removed]",
            "text/plain": [
              "<PIL.Image.Image image mode=RGB size=64x64 at 0x7F114B298AD0>"
            ]
          },
          "metadata": {}
        },
        {
          "output_type": "stream",
          "name": "stdout",
          "text": [
            "--------------------------------------------------\n",
            "End of epoch 6\n",
            "Epoch 7/10 | Sample 1/196 => Loss: 0.027\n",
            "true stroke\n",
            "discriminator prediction for true = 1: 0.9999971389770508\n"
          ]
        },
        {
          "output_type": "display_data",
          "data": {
            "image/png": "[encoded data removed]",
            "text/plain": [
              "<PIL.Image.Image image mode=RGB size=64x64 at 0x7F114C5E4310>"
            ]
          },
          "metadata": {}
        },
        {
          "output_type": "stream",
          "name": "stdout",
          "text": [
            "generated stroke\n",
            "discriminator prediction for true = 0: 1.9087279724772088e-05\n"
          ]
        },
        {
          "output_type": "display_data",
          "data": {
            "image/png": "[encoded data removed]",
            "text/plain": [
              "<PIL.Image.Image image mode=RGB size=64x64 at 0x7F114B298110>"
            ]
          },
          "metadata": {}
        },
        {
          "output_type": "stream",
          "name": "stdout",
          "text": [
            "--------------------------------------------------\n",
            "Epoch 7/10 | Sample 51/196 => Loss: 0.026\n",
            "true stroke\n",
            "discriminator prediction for true = 1: 0.9999953508377075\n"
          ]
        },
        {
          "output_type": "display_data",
          "data": {
            "image/png": "[encoded data removed]",
            "text/plain": [
              "<PIL.Image.Image image mode=RGB size=64x64 at 0x7F114B2DAB50>"
            ]
          },
          "metadata": {}
        },
        {
          "output_type": "stream",
          "name": "stdout",
          "text": [
            "generated stroke\n",
            "discriminator prediction for true = 0: 1.4444551197811961e-05\n"
          ]
        },
        {
          "output_type": "display_data",
          "data": {
            "image/png": "[encoded data removed]",
            "text/plain": [
              "<PIL.Image.Image image mode=RGB size=64x64 at 0x7F114A078D10>"
            ]
          },
          "metadata": {}
        },
        {
          "output_type": "stream",
          "name": "stdout",
          "text": [
            "--------------------------------------------------\n",
            "Epoch 7/10 | Sample 101/196 => Loss: 0.025\n",
            "true stroke\n",
            "discriminator prediction for true = 1: 0.9999661445617676\n"
          ]
        },
        {
          "output_type": "display_data",
          "data": {
            "image/png": "[encoded data removed]",
            "text/plain": [
              "<PIL.Image.Image image mode=RGB size=64x64 at 0x7F114A078D10>"
            ]
          },
          "metadata": {}
        },
        {
          "output_type": "stream",
          "name": "stdout",
          "text": [
            "generated stroke\n",
            "discriminator prediction for true = 0: 7.2428306339134e-06\n"
          ]
        },
        {
          "output_type": "display_data",
          "data": {
            "image/png": "[encoded data removed]",
            "text/plain": [
              "<PIL.Image.Image image mode=RGB size=64x64 at 0x7F114A0786D0>"
            ]
          },
          "metadata": {}
        },
        {
          "output_type": "stream",
          "name": "stdout",
          "text": [
            "--------------------------------------------------\n",
            "Epoch 7/10 | Sample 151/196 => Loss: 0.024\n",
            "true stroke\n",
            "discriminator prediction for true = 1: 0.9999974966049194\n"
          ]
        },
        {
          "output_type": "display_data",
          "data": {
            "image/png": "[encoded data removed]",
            "text/plain": [
              "<PIL.Image.Image image mode=RGB size=64x64 at 0x7F114A06D590>"
            ]
          },
          "metadata": {}
        },
        {
          "output_type": "stream",
          "name": "stdout",
          "text": [
            "generated stroke\n",
            "discriminator prediction for true = 0: 1.197948404296767e-05\n"
          ]
        },
        {
          "output_type": "display_data",
          "data": {
            "image/png": "[encoded data removed]",
            "text/plain": [
              "<PIL.Image.Image image mode=RGB size=64x64 at 0x7F114C572590>"
            ]
          },
          "metadata": {}
        },
        {
          "output_type": "stream",
          "name": "stdout",
          "text": [
            "--------------------------------------------------\n",
            "End of epoch 7\n",
            "Epoch 8/10 | Sample 1/196 => Loss: 0.023\n",
            "true stroke\n",
            "discriminator prediction for true = 1: 0.9999979734420776\n"
          ]
        },
        {
          "output_type": "display_data",
          "data": {
            "image/png": "[encoded data removed]",
            "text/plain": [
              "<PIL.Image.Image image mode=RGB size=64x64 at 0x7F114C572590>"
            ]
          },
          "metadata": {}
        },
        {
          "output_type": "stream",
          "name": "stdout",
          "text": [
            "generated stroke\n",
            "discriminator prediction for true = 0: 1.379089371766895e-05\n"
          ]
        },
        {
          "output_type": "display_data",
          "data": {
            "image/png": "[encoded data removed]",
            "text/plain": [
              "<PIL.Image.Image image mode=RGB size=64x64 at 0x7F114A07CED0>"
            ]
          },
          "metadata": {}
        },
        {
          "output_type": "stream",
          "name": "stdout",
          "text": [
            "--------------------------------------------------\n",
            "Epoch 8/10 | Sample 51/196 => Loss: 0.023\n",
            "true stroke\n",
            "discriminator prediction for true = 1: 0.999996542930603\n"
          ]
        },
        {
          "output_type": "display_data",
          "data": {
            "image/png": "[encoded data removed]",
            "text/plain": [
              "<PIL.Image.Image image mode=RGB size=64x64 at 0x7F114A07C490>"
            ]
          },
          "metadata": {}
        },
        {
          "output_type": "stream",
          "name": "stdout",
          "text": [
            "generated stroke\n",
            "discriminator prediction for true = 0: 1.0687861504266039e-05\n"
          ]
        },
        {
          "output_type": "display_data",
          "data": {
            "image/png": "[encoded data removed]",
            "text/plain": [
              "<PIL.Image.Image image mode=RGB size=64x64 at 0x7F114A07C7D0>"
            ]
          },
          "metadata": {}
        },
        {
          "output_type": "stream",
          "name": "stdout",
          "text": [
            "--------------------------------------------------\n",
            "Epoch 8/10 | Sample 101/196 => Loss: 0.022\n",
            "true stroke\n",
            "discriminator prediction for true = 1: 0.9999761581420898\n"
          ]
        },
        {
          "output_type": "display_data",
          "data": {
            "image/png": "[encoded data removed]",
            "text/plain": [
              "<PIL.Image.Image image mode=RGB size=64x64 at 0x7F114B2C9510>"
            ]
          },
          "metadata": {}
        },
        {
          "output_type": "stream",
          "name": "stdout",
          "text": [
            "generated stroke\n",
            "discriminator prediction for true = 0: 5.326215159584535e-06\n"
          ]
        },
        {
          "output_type": "display_data",
          "data": {
            "image/png": "[encoded data removed]",
            "text/plain": [
              "<PIL.Image.Image image mode=RGB size=64x64 at 0x7F114B2989D0>"
            ]
          },
          "metadata": {}
        },
        {
          "output_type": "stream",
          "name": "stdout",
          "text": [
            "--------------------------------------------------\n",
            "Epoch 8/10 | Sample 151/196 => Loss: 0.021\n",
            "true stroke\n",
            "discriminator prediction for true = 1: 0.9999980926513672\n"
          ]
        },
        {
          "output_type": "display_data",
          "data": {
            "image/png": "[encoded data removed]",
            "text/plain": [
              "<PIL.Image.Image image mode=RGB size=64x64 at 0x7F114A07CA90>"
            ]
          },
          "metadata": {}
        },
        {
          "output_type": "stream",
          "name": "stdout",
          "text": [
            "generated stroke\n",
            "discriminator prediction for true = 0: 8.695181350049097e-06\n"
          ]
        },
        {
          "output_type": "display_data",
          "data": {
            "image/png": "[encoded data removed]",
            "text/plain": [
              "<PIL.Image.Image image mode=RGB size=64x64 at 0x7F114A07C890>"
            ]
          },
          "metadata": {}
        },
        {
          "output_type": "stream",
          "name": "stdout",
          "text": [
            "--------------------------------------------------\n",
            "End of epoch 8\n",
            "Epoch 9/10 | Sample 1/196 => Loss: 0.020\n",
            "true stroke\n",
            "discriminator prediction for true = 1: 0.9999984502792358\n"
          ]
        },
        {
          "output_type": "display_data",
          "data": {
            "image/png": "[encoded data removed]",
            "text/plain": [
              "<PIL.Image.Image image mode=RGB size=64x64 at 0x7F114C57CB90>"
            ]
          },
          "metadata": {}
        },
        {
          "output_type": "stream",
          "name": "stdout",
          "text": [
            "generated stroke\n",
            "discriminator prediction for true = 0: 1.0336702871427406e-05\n"
          ]
        },
        {
          "output_type": "display_data",
          "data": {
            "image/png": "[encoded data removed]",
            "text/plain": [
              "<PIL.Image.Image image mode=RGB size=64x64 at 0x7F114A07C7D0>"
            ]
          },
          "metadata": {}
        },
        {
          "output_type": "stream",
          "name": "stdout",
          "text": [
            "--------------------------------------------------\n",
            "Epoch 9/10 | Sample 51/196 => Loss: 0.020\n",
            "true stroke\n",
            "discriminator prediction for true = 1: 0.9999973773956299\n"
          ]
        },
        {
          "output_type": "display_data",
          "data": {
            "image/png": "[encoded data removed]",
            "text/plain": [
              "<PIL.Image.Image image mode=RGB size=64x64 at 0x7F12663EEC50>"
            ]
          },
          "metadata": {}
        },
        {
          "output_type": "stream",
          "name": "stdout",
          "text": [
            "generated stroke\n",
            "discriminator prediction for true = 0: 8.248207450378686e-06\n"
          ]
        },
        {
          "output_type": "display_data",
          "data": {
            "image/png": "[encoded data removed]",
            "text/plain": [
              "<PIL.Image.Image image mode=RGB size=64x64 at 0x7F114A07C750>"
            ]
          },
          "metadata": {}
        },
        {
          "output_type": "stream",
          "name": "stdout",
          "text": [
            "--------------------------------------------------\n",
            "Epoch 9/10 | Sample 101/196 => Loss: 0.019\n",
            "true stroke\n",
            "discriminator prediction for true = 1: 0.9999825954437256\n"
          ]
        },
        {
          "output_type": "display_data",
          "data": {
            "image/png": "[encoded data removed]",
            "text/plain": [
              "<PIL.Image.Image image mode=RGB size=64x64 at 0x7F114C572F10>"
            ]
          },
          "metadata": {}
        },
        {
          "output_type": "stream",
          "name": "stdout",
          "text": [
            "generated stroke\n",
            "discriminator prediction for true = 0: 4.041452029923676e-06\n"
          ]
        },
        {
          "output_type": "display_data",
          "data": {
            "image/png": "[encoded data removed]",
            "text/plain": [
              "<PIL.Image.Image image mode=RGB size=64x64 at 0x7F114A07CB10>"
            ]
          },
          "metadata": {}
        },
        {
          "output_type": "stream",
          "name": "stdout",
          "text": [
            "--------------------------------------------------\n",
            "Epoch 9/10 | Sample 151/196 => Loss: 0.019\n",
            "true stroke\n",
            "discriminator prediction for true = 1: 0.9999984502792358\n"
          ]
        },
        {
          "output_type": "display_data",
          "data": {
            "image/png": "[encoded data removed]",
            "text/plain": [
              "<PIL.Image.Image image mode=RGB size=64x64 at 0x7F12663EEA90>"
            ]
          },
          "metadata": {}
        },
        {
          "output_type": "stream",
          "name": "stdout",
          "text": [
            "generated stroke\n",
            "discriminator prediction for true = 0: 6.617053713853238e-06\n"
          ]
        },
        {
          "output_type": "display_data",
          "data": {
            "image/png": "[encoded data removed]",
            "text/plain": [
              "<PIL.Image.Image image mode=RGB size=64x64 at 0x7F114B298C50>"
            ]
          },
          "metadata": {}
        },
        {
          "output_type": "stream",
          "name": "stdout",
          "text": [
            "--------------------------------------------------\n",
            "End of epoch 9\n",
            "Epoch 10/10 | Sample 1/196 => Loss: 0.018\n",
            "true stroke\n",
            "discriminator prediction for true = 1: 0.9999988079071045\n"
          ]
        },
        {
          "output_type": "display_data",
          "data": {
            "image/png": "[encoded data removed]",
            "text/plain": [
              "<PIL.Image.Image image mode=RGB size=64x64 at 0x7F114A07CD50>"
            ]
          },
          "metadata": {}
        },
        {
          "output_type": "stream",
          "name": "stdout",
          "text": [
            "generated stroke\n",
            "discriminator prediction for true = 0: 8.087355126917828e-06\n"
          ]
        },
        {
          "output_type": "display_data",
          "data": {
            "image/png": "[encoded data removed]",
            "text/plain": [
              "<PIL.Image.Image image mode=RGB size=64x64 at 0x7F114A07CA90>"
            ]
          },
          "metadata": {}
        },
        {
          "output_type": "stream",
          "name": "stdout",
          "text": [
            "--------------------------------------------------\n",
            "Epoch 10/10 | Sample 51/196 => Loss: 0.018\n",
            "true stroke\n",
            "discriminator prediction for true = 1: 0.9999979734420776\n"
          ]
        },
        {
          "output_type": "display_data",
          "data": {
            "image/png": "[encoded data removed]",
            "text/plain": [
              "<PIL.Image.Image image mode=RGB size=64x64 at 0x7F12663EEC50>"
            ]
          },
          "metadata": {}
        },
        {
          "output_type": "stream",
          "name": "stdout",
          "text": [
            "generated stroke\n",
            "discriminator prediction for true = 0: 6.536477940244367e-06\n"
          ]
        },
        {
          "output_type": "display_data",
          "data": {
            "image/png": "[encoded data removed]",
            "text/plain": [
              "<PIL.Image.Image image mode=RGB size=64x64 at 0x7F114B298D50>"
            ]
          },
          "metadata": {}
        },
        {
          "output_type": "stream",
          "name": "stdout",
          "text": [
            "--------------------------------------------------\n",
            "Epoch 10/10 | Sample 101/196 => Loss: 0.017\n",
            "true stroke\n",
            "discriminator prediction for true = 1: 0.9999868869781494\n"
          ]
        },
        {
          "output_type": "display_data",
          "data": {
            "image/png": "[encoded data removed]",
            "text/plain": [
              "<PIL.Image.Image image mode=RGB size=64x64 at 0x7F114C5D0CD0>"
            ]
          },
          "metadata": {}
        },
        {
          "output_type": "stream",
          "name": "stdout",
          "text": [
            "generated stroke\n",
            "discriminator prediction for true = 0: 3.171273647240014e-06\n"
          ]
        },
        {
          "output_type": "display_data",
          "data": {
            "image/png": "[encoded data removed]",
            "text/plain": [
              "<PIL.Image.Image image mode=RGB size=64x64 at 0x7F114A07C390>"
            ]
          },
          "metadata": {}
        },
        {
          "output_type": "stream",
          "name": "stdout",
          "text": [
            "--------------------------------------------------\n",
            "Epoch 10/10 | Sample 151/196 => Loss: 0.017\n",
            "true stroke\n",
            "discriminator prediction for true = 1: 0.9999988079071045\n"
          ]
        },
        {
          "output_type": "display_data",
          "data": {
            "image/png": "[encoded data removed]",
            "text/plain": [
              "<PIL.Image.Image image mode=RGB size=64x64 at 0x7F114C5D0D50>"
            ]
          },
          "metadata": {}
        },
        {
          "output_type": "stream",
          "name": "stdout",
          "text": [
            "generated stroke\n",
            "discriminator prediction for true = 0: 5.191632681089686e-06\n"
          ]
        },
        {
          "output_type": "display_data",
          "data": {
            "image/png": "[encoded data removed]",
            "text/plain": [
              "<PIL.Image.Image image mode=RGB size=64x64 at 0x7F114B298450>"
            ]
          },
          "metadata": {}
        },
        {
          "output_type": "stream",
          "name": "stdout",
          "text": [
            "--------------------------------------------------\n",
            "End of epoch 10\n"
          ]
        }
      ]
    },
    {
      "cell_type": "code",
      "source": [
        ""
      ],
      "metadata": {
        "id": "cO3MPvw5GePI"
      },
      "execution_count": null,
      "outputs": []
    }
  ]
}
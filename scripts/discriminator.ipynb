{
  "nbformat": 4,
  "nbformat_minor": 0,
  "metadata": {
    "colab": {
      "name": "discriminator.ipynb",
      "provenance": [],
      "collapsed_sections": []
    },
    "kernelspec": {
      "name": "python3",
      "display_name": "Python 3"
    },
    "language_info": {
      "name": "python"
    },
    "accelerator": "GPU"
  },
  "cells": [
    {
      "cell_type": "markdown",
      "source": [
        "#**Imports**"
      ],
      "metadata": {
        "id": "MCrZ2jHrCorQ"
      }
    },
    {
      "cell_type": "code",
      "execution_count": null,
      "metadata": {
        "id": "dFv4WgT7-gVp"
      },
      "outputs": [],
      "source": [
        "from google.colab import drive\n",
        "import os\n",
        "import numpy as np\n",
        "import matplotlib.pyplot as plt\n",
        "from IPython.display import display\n",
        "import matplotlib.pyplot as plt\n",
        "\n",
        "import torch\n",
        "import torch.nn as nn\n",
        "import torch.nn.functional as F\n",
        "from torch.utils.data import TensorDataset, DataLoader\n",
        "import torch.optim as optim\n",
        "\n",
        "from torchvision.transforms.functional import to_pil_image\n",
        "from torchvision import models, transforms\n",
        "\n",
        "from fastai.torch_core import requires_grad"
      ]
    },
    {
      "cell_type": "code",
      "source": [
        "torch.backends.cudnn.deterministic = True \n",
        "# check if training using GPU is possible\n",
        "torch.cuda.is_available()"
      ],
      "metadata": {
        "id": "I47kSYXCpEJS",
        "colab": {
          "base_uri": "https://localhost:8080/"
        },
        "outputId": "05b58467-11c9-4f87-b331-e5e5803926eb"
      },
      "execution_count": null,
      "outputs": [
        {
          "output_type": "execute_result",
          "data": {
            "text/plain": [
              "True"
            ]
          },
          "metadata": {},
          "execution_count": 2
        }
      ]
    },
    {
      "cell_type": "code",
      "source": [
        "# mounting Google Drive with your credentials \n",
        "drive.mount('/content/gdrive')"
      ],
      "metadata": {
        "id": "aEJhgDZDCLi_",
        "colab": {
          "base_uri": "https://localhost:8080/"
        },
        "outputId": "e79dc684-6dc8-412a-a42a-3e52d5dcc509"
      },
      "execution_count": null,
      "outputs": [
        {
          "output_type": "stream",
          "name": "stdout",
          "text": [
            "Mounted at /content/gdrive\n"
          ]
        }
      ]
    },
    {
      "cell_type": "code",
      "source": [
        "# folder, created in advance in the Google Drive and containing kaggle.json\n",
        "#project_folder = \"/content/gdrive/MyDrive/Kaggle/NaturalPainters\" # for original email\n",
        "project_folder = \"/content/gdrive/MyDrive/NaturalPainters\" \n",
        "os.environ['KAGGLE_CONFIG_DIR'] = project_folder"
      ],
      "metadata": {
        "id": "NflAVSf4CPAC"
      },
      "execution_count": null,
      "outputs": []
    },
    {
      "cell_type": "code",
      "source": [
        "# dive into folder\n",
        "#%cd /content/gdrive/MyDrive/Kaggle/NaturalPainters\n",
        "%cd /content/gdrive/MyDrive/NaturalPainters"
      ],
      "metadata": {
        "id": "IkB-4rwUCdOB",
        "colab": {
          "base_uri": "https://localhost:8080/"
        },
        "outputId": "7fb3b0d6-1131-4745-f993-8e7e8ef0fb4a"
      },
      "execution_count": null,
      "outputs": [
        {
          "output_type": "stream",
          "name": "stdout",
          "text": [
            "/content/gdrive/.shortcut-targets-by-id/1m2LH2VheZ1KLU1PiFqOKItm5-sBWZ1C4/NaturalPainters\n"
          ]
        }
      ]
    },
    {
      "cell_type": "code",
      "source": [
        "# path to load the generator weights\n",
        "generator_path = project_folder + '/models/generator/generator_5152w_10e_1d.pth'\n",
        "# path to save discriminator weights\n",
        "discriminator_path = project_folder + '/models/discriminator/discriminator_'\n",
        "# path to save discriminator loss\n",
        "plots_path = project_folder + '/plots/'"
      ],
      "metadata": {
        "id": "pSKFnNgE_fRc"
      },
      "execution_count": null,
      "outputs": []
    },
    {
      "cell_type": "code",
      "source": [
        "SEED = 10"
      ],
      "metadata": {
        "id": "rNEdCiJnATlT"
      },
      "execution_count": null,
      "outputs": []
    },
    {
      "cell_type": "code",
      "source": [
        "# data is stored in the 'episodes_i.npz' format, where i is in {0,...,77}\n",
        "# this routine loads desired 'episodes_i.npz' for a particular i\n",
        "# data will be loaded in the dictionary with two fields: 'strokes' and 'actions'\n",
        "def load_data(npz):\n",
        "\n",
        "    data = np.load('strokes-dataset/' + npz)\n",
        "    return data['strokes'], data['actions']"
      ],
      "metadata": {
        "id": "qDvPk8DWCiho"
      },
      "execution_count": null,
      "outputs": []
    },
    {
      "cell_type": "markdown",
      "source": [
        "#**Generator**"
      ],
      "metadata": {
        "id": "twZk35lODctn"
      }
    },
    {
      "cell_type": "code",
      "source": [
        "class Generator(nn.Module):\n",
        "\n",
        "    def __init__(self, \n",
        "                 in_features: int,\n",
        "                 img_height: int,\n",
        "                 img_width: int,\n",
        "                 num_features: int,\n",
        "                 img_channels: int):\n",
        "      super(Generator, self).__init__()\n",
        "\n",
        "      self.out_features = img_height * img_width\n",
        "\n",
        "      self.lin = nn.Linear(in_features, self.out_features)\n",
        "\n",
        "      self.conv1 = nn.ConvTranspose2d(self.out_features, num_features, \n",
        "                                      kernel_size = (4, 4), stride = (1, 1), bias = False)\n",
        "      self.norm1 = nn.BatchNorm2d(num_features)\n",
        "\n",
        "      self.conv2 = nn.ConvTranspose2d(num_features, num_features//2, \n",
        "                                      kernel_size = (4, 4), stride = (2, 2), padding = (1, 1), bias = False)\n",
        "      num_features //= 2\n",
        "      self.norm2 = nn.BatchNorm2d(num_features)\n",
        "\n",
        "      self.conv3 = nn.ConvTranspose2d(num_features, num_features//2, \n",
        "                                      kernel_size = (4, 4), stride = (2, 2), padding = (1, 1), bias = False)\n",
        "      num_features //= 2\n",
        "      self.norm3 = nn.BatchNorm2d(num_features)\n",
        "\n",
        "      self.conv4 = nn.ConvTranspose2d(num_features, num_features//2, \n",
        "                                      kernel_size = (4, 4), stride = (2, 2), padding = (1, 1), bias = False)\n",
        "      num_features //= 2\n",
        "      self.norm4 = nn.BatchNorm2d(num_features)\n",
        "\n",
        "      self.conv5 = nn.ConvTranspose2d(num_features, num_features, \n",
        "                                      kernel_size = (3, 3), stride = (1, 1), padding = (1, 1), bias = False)\n",
        "      self.norm5 = nn.BatchNorm2d(num_features)\n",
        "\n",
        "      self.conv6 = nn.ConvTranspose2d(num_features, img_channels, \n",
        "                                      kernel_size = (4, 4), stride = (2, 2), padding = (1, 1), bias = False)\n",
        "\n",
        "\n",
        "\n",
        "    def forward(self, x):\n",
        "      x = self.lin(x)\n",
        "      x = F.relu(self.conv1(x.view(x.size(0), x.size(1), 1, 1)), inplace = True)\n",
        "      x = self.norm1(x)\n",
        "      x = F.relu(self.conv2(x), inplace = True)\n",
        "      x = self.norm2(x)\n",
        "      x = F.relu(self.conv3(x), inplace = True)\n",
        "      x = self.norm3(x)\n",
        "      x = F.relu(self.conv4(x), inplace = True)\n",
        "      x = self.norm4(x)\n",
        "      x = F.relu(self.conv5(x), inplace = True)\n",
        "      x = self.norm5(x)\n",
        "\n",
        "      return torch.tanh(self.conv6(x))"
      ],
      "metadata": {
        "id": "xqW0oPCnDZpi"
      },
      "execution_count": null,
      "outputs": []
    },
    {
      "cell_type": "markdown",
      "source": [
        "# **Discriminator**"
      ],
      "metadata": {
        "id": "uSJXC2Iu4OEA"
      }
    },
    {
      "cell_type": "code",
      "source": [
        "class Discriminator(nn.Module):\n",
        "  def __init__(self, \n",
        "               img_channels: int, \n",
        "               num_features: int):\n",
        "    super(Discriminator, self).__init__()\n",
        "\n",
        "    self.conv1 = nn.Conv2d(img_channels, num_features, kernel_size = (4, 4), stride = (2, 2), padding = (1, 1))\n",
        "    self.conv2 = nn.Conv2d(num_features, num_features*2, kernel_size = (4, 4), stride = (2, 2), padding = (1, 1))\n",
        "    num_features *= 2\n",
        "    self.norm2 = nn.BatchNorm2d(num_features)\n",
        "    self.conv3 = nn.Conv2d(num_features, num_features*2, kernel_size = (4, 4), stride = (2, 2), padding = (1, 1))\n",
        "    num_features *= 2\n",
        "    self.norm3 = nn.BatchNorm2d(num_features)\n",
        "    self.conv4 = nn.Conv2d(num_features, num_features*2, kernel_size = (4, 4), stride = (2, 2), padding = (1, 1))\n",
        "    self.norm4 = nn.BatchNorm2d(num_features*2)\n",
        "    self.lin = nn.Linear(4*4*(num_features*2), 1)\n",
        "\n",
        "\n",
        "  def forward(self, x):\n",
        "    x = F.leaky_relu(self.conv1(x), negative_slope = 0.2)\n",
        "    x = F.leaky_relu(self.norm2(self.conv2(x)), negative_slope = 0.2)\n",
        "    x = F.leaky_relu(self.norm3(self.conv3(x)), negative_slope = 0.2)\n",
        "    x = F.leaky_relu(self.norm4(self.conv4(x)), negative_slope = 0.2)\n",
        "    x = x.flatten(start_dim = 1)\n",
        "\n",
        "    return self.lin(x)"
      ],
      "metadata": {
        "id": "DMZc6mL1uwEj"
      },
      "execution_count": null,
      "outputs": []
    },
    {
      "cell_type": "code",
      "source": [
        "# to check created model\n",
        "# discriminator = Discriminator(hparams.img_channels, \n",
        "#                               hparams.img_height).cuda()\n",
        "# discriminator"
      ],
      "metadata": {
        "id": "fzsF9euDvIzD"
      },
      "execution_count": null,
      "outputs": []
    },
    {
      "cell_type": "code",
      "source": [
        "# to check on the output of the dataloader\n",
        "# for num_iter, (stroke, condition) in enumerate(dataloader):  \n",
        "#     condition = condition.cuda()\n",
        "#     stroke = torch.stack([strokes_tfms(s) for s in stroke]).cuda()\n",
        "#     break\n",
        "\n",
        "# discriminator(stroke).shape"
      ],
      "metadata": {
        "id": "u_UCfXsarvFZ"
      },
      "execution_count": null,
      "outputs": []
    },
    {
      "cell_type": "markdown",
      "source": [
        "#**Training**"
      ],
      "metadata": {
        "id": "GuEzmTlYDumy"
      }
    },
    {
      "cell_type": "code",
      "source": [
        "class Trainer():\n",
        "\n",
        "        def __init__(self,\n",
        "                     transforms,\n",
        "                     generator: nn.Module,\n",
        "                     discriminator: nn.Module,\n",
        "                     optimizer: torch.optim,\n",
        "                     loss: torch.nn.functional,\n",
        "                     epochs: int = 3,\n",
        "                     gpu: bool = False):\n",
        "            super(Trainer, self).__init__()\n",
        "\n",
        "            self.transforms = transforms\n",
        "            self.generator = generator\n",
        "            self.discriminator = discriminator\n",
        "            self.optimizer = optimizer\n",
        "            self.loss = loss\n",
        "            self.epochs = epochs\n",
        "            self.gpu = gpu\n",
        "\n",
        "        def train(self,\n",
        "              dataloader,\n",
        "              print_interval: int = 50,\n",
        "              save_model_path: str = '',\n",
        "              verbose: bool = True):\n",
        "            \n",
        "            train_loss = []\n",
        "            mean_train_loss = []\n",
        "\n",
        "            print('-'*100)\n",
        "            print('START OF TRAINING\\n')\n",
        "            for epoch in range(self.epochs):\n",
        "\n",
        "                self.discriminator.train()\n",
        "\n",
        "                for i, (stroke, action) in enumerate(dataloader):  \n",
        "\n",
        "                    stroke = torch.stack([self.transforms(s) for s in stroke])\n",
        "                    \n",
        "                    y_true = torch.ones((stroke.shape[0], 1), dtype = torch.float, requires_grad = False)\n",
        "                    y_gen = torch.zeros((stroke.shape[0], 1), dtype = torch.float, requires_grad = False)\n",
        "\n",
        "                    if self.gpu:\n",
        "                        action = action.cuda()\n",
        "                        stroke = stroke.cuda()\n",
        "                        y_true = y_true.cuda()\n",
        "                        y_gen = y_gen.cuda()\n",
        "                \n",
        "                    self.optimizer.zero_grad()\n",
        "\n",
        "                    y_true_pred = torch.sigmoid(self.discriminator(stroke))\n",
        "                    true_loss = self.loss(y_true_pred, y_true)\n",
        "\n",
        "                    gen_stroke = self.generator(action)\n",
        "                    y_gen_pred = torch.sigmoid(self.discriminator(gen_stroke))\n",
        "                    gen_loss = self.loss(y_gen_pred, y_gen)\n",
        "\n",
        "                    cur_loss = 0.5 * true_loss + 0.5 * gen_loss\n",
        "                    cur_loss.backward()\n",
        "\n",
        "                    self.optimizer.step()\n",
        "\n",
        "                    train_loss.append(cur_loss.data.item())\n",
        "                    mean_train_loss.append(torch.mean(torch.FloatTensor(train_loss)))\n",
        "\n",
        "                    if ((i % print_interval) == 0) and verbose:\n",
        "                        print('Epoch {}/{} | Sample {}/{}'.format((epoch + 1), self.epochs,\n",
        "                                                                          (i + 1), len(dataloader)))\n",
        "                        print(' => Loss: {:.3f}\\n'.format(torch.mean(torch.FloatTensor(train_loss))))\n",
        "                        \n",
        "                        print('true vs generated stroke:')\n",
        "                        self.display_img(torch.cat((stroke[0].clone().cpu(), gen_stroke[0].clone().cpu()), dim = 2))\n",
        "\n",
        "                        print('='*40)\n",
        "                        print('true\\t\\tdiscriminator prediction')\n",
        "                        print('-'*40)\n",
        "                        print(f'{1}\\t\\t{round(y_true_pred[0].item(), 3)}')\n",
        "                        print(f'{0}\\t\\t{round(y_gen_pred[0].item(), 3)}')\n",
        "                        print('='*40)\n",
        "                        \n",
        "                        print('-'*50)\n",
        "\n",
        "                print('-'*100)\n",
        "                print('End of epoch {}'.format(epoch + 1))\n",
        "                print('-'*100)\n",
        "            \n",
        "            if save_model_path != '':\n",
        "                torch.save(self.discriminator.state_dict(), save_model_path)\n",
        "                print(f'\\nEND OF TRAINING: model is saved to {save_model_path}')\n",
        "\n",
        "            return {\n",
        "              'train_loss': train_loss,\n",
        "              'mean_train_loss': mean_train_loss}\n",
        "\n",
        "        def display_img(self, img):\n",
        "            display(to_pil_image(img))       "
      ],
      "metadata": {
        "id": "u4apYN98--ny"
      },
      "execution_count": null,
      "outputs": []
    },
    {
      "cell_type": "code",
      "source": [
        "torch.manual_seed(SEED)\n",
        "class Hparams():\n",
        "    in_features = 12 #constant\n",
        "    num_features = 512 #@param {type:\"slider\", min:8, max:1024, step:8}\n",
        "    img_height = 64 #@param {type:\"slider\", min:8, max:1024, step:8}\n",
        "    img_width = 64 #@param {type:\"slider\", min:8, max:1024, step:8}\n",
        "    img_channels = 3 #@param {type:\"slider\", min:1, max:3, step:2}\n",
        "    batch_size = 512 #@param {type: \"slider\", min:8, max:512, step:8}\n",
        "    lr = 0.001 #@param {type:\"number\"}\n",
        "    betas = (0.5, 0.999) #@param\n",
        "    epochs = 2 #@param {type:\"slider\", min:1, max:1000, step:1}\n",
        "    print_interval = 50 #@param {type:\"slider\", min:1, max:100, step:10}\n",
        "hparams = Hparams()\n",
        "\n",
        "current_npz = 'episodes_1.npz'\n",
        "\n",
        "strokes, actions = load_data(current_npz)\n",
        "\n",
        "strokes = torch.stack([torch.from_numpy(stroke).permute(2, 0, 1) for stroke in strokes])\n",
        "actions = torch.stack([torch.from_numpy(action).float() for action in actions])\n",
        "\n",
        "dataset = TensorDataset(strokes, actions)\n",
        "\n",
        "dataloader = DataLoader(dataset, \n",
        "                        batch_size = hparams.batch_size, \n",
        "                        shuffle = False)\n",
        "\n",
        "discriminator = Discriminator(hparams.img_channels, \n",
        "                              hparams.img_height)\n",
        "\n",
        "gpu = torch.cuda.is_available()\n",
        "if gpu:\n",
        "    print(\"Training is performed using GPU.\\n\")\n",
        "    device = 'cuda'\n",
        "else:\n",
        "    print(\"Training is performed using CPU.\\n\")\n",
        "    device = 'cpu'\n",
        "\n",
        "discriminator.to(device)\n",
        "\n",
        "generator = Generator(hparams.in_features,\n",
        "                      hparams.img_height,\n",
        "                      hparams.img_width,\n",
        "                      hparams.num_features,\n",
        "                      hparams.img_channels)\n",
        "\n",
        "generator.load_state_dict(torch.load(generator_path, \n",
        "                                     map_location = torch.device(device)))\n",
        "\n",
        "for param in generator.parameters():\n",
        "    generator.requires_grad = False\n",
        "\n",
        "generator.to(device).eval()\n",
        "\n",
        "optimizer = optim.Adam(discriminator.parameters(), \n",
        "                       lr = hparams.lr, \n",
        "                       betas = hparams.betas)\n",
        "\n",
        "loss = F.binary_cross_entropy\n",
        "\n",
        "strokes_tfms = transforms.Compose([transforms.Lambda(lambda x: \n",
        "                                                     x.float()),\n",
        "                                   transforms.Lambda(lambda x: \n",
        "                                                     x.div_(255))\n",
        "                                  ])\n",
        "\n",
        "trainer = Trainer(strokes_tfms,\n",
        "                  generator,\n",
        "                  discriminator,\n",
        "                  optimizer,\n",
        "                  loss,\n",
        "                  epochs = hparams.epochs,\n",
        "                  gpu = gpu)\n",
        "\n",
        "train_history = trainer.train(dataloader, \n",
        "              print_interval = hparams.print_interval,\n",
        "              save_model_path = discriminator_path + \n",
        "              f'{hparams.epochs}e_{SEED}seed.pth')"
      ],
      "metadata": {
        "id": "lEQBOVVxCwAE",
        "colab": {
          "base_uri": "https://localhost:8080/"
        },
        "outputId": "4cef8f53-ae51-4589-d5b8-b1ab06675e26"
      },
      "execution_count": null,
      "outputs": [
        {
          "output_type": "stream",
          "name": "stdout",
          "text": [
            "Training is performed using GPU.\n",
            "\n"
          ]
        }
      ]
    },
    {
      "cell_type": "code",
      "source": [
        "# plot and save train loss\n",
        "fig, axs = plt.subplots()\n",
        "plt.plot(train_history['train_loss'], '-', color = 'lightcoral')\n",
        "plt.plot(train_history['mean_train_loss'], '--', color = 'maroon')\n",
        "plt.title('Discriminator loss collected over 10 epochs')\n",
        "plt.ylabel('Loss')\n",
        "plt.xlabel('Step (dataset size / batch size * num epochs)')\n",
        "plt.xlim([-1, 395])\n",
        "plt.ylim([-0.1, 2])\n",
        "plt.legend(['train loss', 'mean train loss'], loc='upper right')\n",
        "fig.savefig(plots_path + f'discriminator_{hparams.epochs}e_{SEED}seed.png', bbox_inches = 'tight')\n",
        "plt.show()"
      ],
      "metadata": {
        "colab": {
          "base_uri": "https://localhost:8080/",
          "height": 295
        },
        "id": "xICCKiOQIjY-",
        "outputId": "3fd1b113-7126-4be2-8d68-302096e50f14"
      },
      "execution_count": null,
      "outputs": [
        {
          "output_type": "display_data",
          "data": {
            "image/png": "[encoded data removed]",
            "text/plain": [
              "<Figure size 432x288 with 1 Axes>"
            ]
          },
          "metadata": {
            "needs_background": "light"
          }
        }
      ]
    }
  ]
}
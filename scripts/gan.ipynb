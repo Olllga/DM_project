{
  "nbformat": 4,
  "nbformat_minor": 0,
  "metadata": {
    "colab": {
      "name": "gan.ipynb",
      "provenance": [],
      "collapsed_sections": []
    },
    "kernelspec": {
      "name": "python3",
      "display_name": "Python 3"
    },
    "language_info": {
      "name": "python"
    },
    "accelerator": "GPU",
    "widgets": {
      "application/vnd.jupyter.widget-state+json": {
        "b6aa39482b7144c8af351665017d7dac": {
          "model_module": "@jupyter-widgets/controls",
          "model_name": "HBoxModel",
          "model_module_version": "1.5.0",
          "state": {
            "_view_name": "HBoxView",
            "_dom_classes": [],
            "_model_name": "HBoxModel",
            "_view_module": "@jupyter-widgets/controls",
            "_model_module_version": "1.5.0",
            "_view_count": null,
            "_view_module_version": "1.5.0",
            "box_style": "",
            "layout": "IPY_MODEL_40069a122da04cfbb79e894a096c5857",
            "_model_module": "@jupyter-widgets/controls",
            "children": [
              "IPY_MODEL_1629ef65a12e4437959073e17c407383",
              "IPY_MODEL_8ab9951a9d934030ac4eb9f8b07b6648",
              "IPY_MODEL_f091ec52b4fb4f14b825b506f5179c59"
            ]
          }
        },
        "40069a122da04cfbb79e894a096c5857": {
          "model_module": "@jupyter-widgets/base",
          "model_name": "LayoutModel",
          "model_module_version": "1.2.0",
          "state": {
            "_view_name": "LayoutView",
            "grid_template_rows": null,
            "right": null,
            "justify_content": null,
            "_view_module": "@jupyter-widgets/base",
            "overflow": null,
            "_model_module_version": "1.2.0",
            "_view_count": null,
            "flex_flow": null,
            "width": null,
            "min_width": null,
            "border": null,
            "align_items": null,
            "bottom": null,
            "_model_module": "@jupyter-widgets/base",
            "top": null,
            "grid_column": null,
            "overflow_y": null,
            "overflow_x": null,
            "grid_auto_flow": null,
            "grid_area": null,
            "grid_template_columns": null,
            "flex": null,
            "_model_name": "LayoutModel",
            "justify_items": null,
            "grid_row": null,
            "max_height": null,
            "align_content": null,
            "visibility": null,
            "align_self": null,
            "height": null,
            "min_height": null,
            "padding": null,
            "grid_auto_rows": null,
            "grid_gap": null,
            "max_width": null,
            "order": null,
            "_view_module_version": "1.2.0",
            "grid_template_areas": null,
            "object_position": null,
            "object_fit": null,
            "grid_auto_columns": null,
            "margin": null,
            "display": null,
            "left": null
          }
        },
        "1629ef65a12e4437959073e17c407383": {
          "model_module": "@jupyter-widgets/controls",
          "model_name": "HTMLModel",
          "model_module_version": "1.5.0",
          "state": {
            "_view_name": "HTMLView",
            "style": "IPY_MODEL_191b28ca90744a18a6d04fa8e5c46f3d",
            "_dom_classes": [],
            "description": "",
            "_model_name": "HTMLModel",
            "placeholder": "​",
            "_view_module": "@jupyter-widgets/controls",
            "_model_module_version": "1.5.0",
            "value": "100%",
            "_view_count": null,
            "_view_module_version": "1.5.0",
            "description_tooltip": null,
            "_model_module": "@jupyter-widgets/controls",
            "layout": "IPY_MODEL_0a4a5df722b043cfaddffce75b0527cb"
          }
        },
        "8ab9951a9d934030ac4eb9f8b07b6648": {
          "model_module": "@jupyter-widgets/controls",
          "model_name": "FloatProgressModel",
          "model_module_version": "1.5.0",
          "state": {
            "_view_name": "ProgressView",
            "style": "IPY_MODEL_a6a67c8c22fe41248b40f7a05845febb",
            "_dom_classes": [],
            "description": "",
            "_model_name": "FloatProgressModel",
            "bar_style": "success",
            "max": 574769405,
            "_view_module": "@jupyter-widgets/controls",
            "_model_module_version": "1.5.0",
            "value": 574769405,
            "_view_count": null,
            "_view_module_version": "1.5.0",
            "orientation": "horizontal",
            "min": 0,
            "description_tooltip": null,
            "_model_module": "@jupyter-widgets/controls",
            "layout": "IPY_MODEL_79c6091c9b624420ba50d58286c82113"
          }
        },
        "f091ec52b4fb4f14b825b506f5179c59": {
          "model_module": "@jupyter-widgets/controls",
          "model_name": "HTMLModel",
          "model_module_version": "1.5.0",
          "state": {
            "_view_name": "HTMLView",
            "style": "IPY_MODEL_0e92a500595042bfb1b32dc8adbd39a9",
            "_dom_classes": [],
            "description": "",
            "_model_name": "HTMLModel",
            "placeholder": "​",
            "_view_module": "@jupyter-widgets/controls",
            "_model_module_version": "1.5.0",
            "value": " 548M/548M [00:04&lt;00:00, 126MB/s]",
            "_view_count": null,
            "_view_module_version": "1.5.0",
            "description_tooltip": null,
            "_model_module": "@jupyter-widgets/controls",
            "layout": "IPY_MODEL_96c47df25a3143b2a8b66c5a4059ce76"
          }
        },
        "191b28ca90744a18a6d04fa8e5c46f3d": {
          "model_module": "@jupyter-widgets/controls",
          "model_name": "DescriptionStyleModel",
          "model_module_version": "1.5.0",
          "state": {
            "_view_name": "StyleView",
            "_model_name": "DescriptionStyleModel",
            "description_width": "",
            "_view_module": "@jupyter-widgets/base",
            "_model_module_version": "1.5.0",
            "_view_count": null,
            "_view_module_version": "1.2.0",
            "_model_module": "@jupyter-widgets/controls"
          }
        },
        "0a4a5df722b043cfaddffce75b0527cb": {
          "model_module": "@jupyter-widgets/base",
          "model_name": "LayoutModel",
          "model_module_version": "1.2.0",
          "state": {
            "_view_name": "LayoutView",
            "grid_template_rows": null,
            "right": null,
            "justify_content": null,
            "_view_module": "@jupyter-widgets/base",
            "overflow": null,
            "_model_module_version": "1.2.0",
            "_view_count": null,
            "flex_flow": null,
            "width": null,
            "min_width": null,
            "border": null,
            "align_items": null,
            "bottom": null,
            "_model_module": "@jupyter-widgets/base",
            "top": null,
            "grid_column": null,
            "overflow_y": null,
            "overflow_x": null,
            "grid_auto_flow": null,
            "grid_area": null,
            "grid_template_columns": null,
            "flex": null,
            "_model_name": "LayoutModel",
            "justify_items": null,
            "grid_row": null,
            "max_height": null,
            "align_content": null,
            "visibility": null,
            "align_self": null,
            "height": null,
            "min_height": null,
            "padding": null,
            "grid_auto_rows": null,
            "grid_gap": null,
            "max_width": null,
            "order": null,
            "_view_module_version": "1.2.0",
            "grid_template_areas": null,
            "object_position": null,
            "object_fit": null,
            "grid_auto_columns": null,
            "margin": null,
            "display": null,
            "left": null
          }
        },
        "a6a67c8c22fe41248b40f7a05845febb": {
          "model_module": "@jupyter-widgets/controls",
          "model_name": "ProgressStyleModel",
          "model_module_version": "1.5.0",
          "state": {
            "_view_name": "StyleView",
            "_model_name": "ProgressStyleModel",
            "description_width": "",
            "_view_module": "@jupyter-widgets/base",
            "_model_module_version": "1.5.0",
            "_view_count": null,
            "_view_module_version": "1.2.0",
            "bar_color": null,
            "_model_module": "@jupyter-widgets/controls"
          }
        },
        "79c6091c9b624420ba50d58286c82113": {
          "model_module": "@jupyter-widgets/base",
          "model_name": "LayoutModel",
          "model_module_version": "1.2.0",
          "state": {
            "_view_name": "LayoutView",
            "grid_template_rows": null,
            "right": null,
            "justify_content": null,
            "_view_module": "@jupyter-widgets/base",
            "overflow": null,
            "_model_module_version": "1.2.0",
            "_view_count": null,
            "flex_flow": null,
            "width": null,
            "min_width": null,
            "border": null,
            "align_items": null,
            "bottom": null,
            "_model_module": "@jupyter-widgets/base",
            "top": null,
            "grid_column": null,
            "overflow_y": null,
            "overflow_x": null,
            "grid_auto_flow": null,
            "grid_area": null,
            "grid_template_columns": null,
            "flex": null,
            "_model_name": "LayoutModel",
            "justify_items": null,
            "grid_row": null,
            "max_height": null,
            "align_content": null,
            "visibility": null,
            "align_self": null,
            "height": null,
            "min_height": null,
            "padding": null,
            "grid_auto_rows": null,
            "grid_gap": null,
            "max_width": null,
            "order": null,
            "_view_module_version": "1.2.0",
            "grid_template_areas": null,
            "object_position": null,
            "object_fit": null,
            "grid_auto_columns": null,
            "margin": null,
            "display": null,
            "left": null
          }
        },
        "0e92a500595042bfb1b32dc8adbd39a9": {
          "model_module": "@jupyter-widgets/controls",
          "model_name": "DescriptionStyleModel",
          "model_module_version": "1.5.0",
          "state": {
            "_view_name": "StyleView",
            "_model_name": "DescriptionStyleModel",
            "description_width": "",
            "_view_module": "@jupyter-widgets/base",
            "_model_module_version": "1.5.0",
            "_view_count": null,
            "_view_module_version": "1.2.0",
            "_model_module": "@jupyter-widgets/controls"
          }
        },
        "96c47df25a3143b2a8b66c5a4059ce76": {
          "model_module": "@jupyter-widgets/base",
          "model_name": "LayoutModel",
          "model_module_version": "1.2.0",
          "state": {
            "_view_name": "LayoutView",
            "grid_template_rows": null,
            "right": null,
            "justify_content": null,
            "_view_module": "@jupyter-widgets/base",
            "overflow": null,
            "_model_module_version": "1.2.0",
            "_view_count": null,
            "flex_flow": null,
            "width": null,
            "min_width": null,
            "border": null,
            "align_items": null,
            "bottom": null,
            "_model_module": "@jupyter-widgets/base",
            "top": null,
            "grid_column": null,
            "overflow_y": null,
            "overflow_x": null,
            "grid_auto_flow": null,
            "grid_area": null,
            "grid_template_columns": null,
            "flex": null,
            "_model_name": "LayoutModel",
            "justify_items": null,
            "grid_row": null,
            "max_height": null,
            "align_content": null,
            "visibility": null,
            "align_self": null,
            "height": null,
            "min_height": null,
            "padding": null,
            "grid_auto_rows": null,
            "grid_gap": null,
            "max_width": null,
            "order": null,
            "_view_module_version": "1.2.0",
            "grid_template_areas": null,
            "object_position": null,
            "object_fit": null,
            "grid_auto_columns": null,
            "margin": null,
            "display": null,
            "left": null
          }
        }
      }
    }
  },
  "cells": [
    {
      "cell_type": "markdown",
      "source": [
        "#**Imports**"
      ],
      "metadata": {
        "id": "ceUplJjVCsER"
      }
    },
    {
      "cell_type": "code",
      "execution_count": 1,
      "metadata": {
        "id": "WnO6ukDy8CEW"
      },
      "outputs": [],
      "source": [
        "from google.colab import drive\n",
        "import os\n",
        "import numpy as np\n",
        "import matplotlib.pyplot as plt\n",
        "from IPython.display import display\n",
        "import time\n",
        "\n",
        "import torch\n",
        "import torch.nn as nn\n",
        "import torch.nn.functional as F\n",
        "from torch.utils.data import TensorDataset, DataLoader\n",
        "import torch.optim as optim\n",
        "\n",
        "from torchvision.transforms.functional import to_pil_image\n",
        "from torchvision import models, transforms\n",
        "\n",
        "from fastai.callbacks import hook_outputs\n",
        "from fastai.torch_core import requires_grad, children"
      ]
    },
    {
      "cell_type": "code",
      "source": [
        "torch.backends.cudnn.deterministic = True \n",
        "# check if training using GPU is possible\n",
        "torch.cuda.is_available()"
      ],
      "metadata": {
        "colab": {
          "base_uri": "https://localhost:8080/"
        },
        "id": "kpZL9-np8UlJ",
        "outputId": "174e6067-9060-4079-cb8b-53e98df58dd0"
      },
      "execution_count": 2,
      "outputs": [
        {
          "output_type": "execute_result",
          "data": {
            "text/plain": [
              "True"
            ]
          },
          "metadata": {},
          "execution_count": 2
        }
      ]
    },
    {
      "cell_type": "code",
      "source": [
        "# mounting Google Drive with your credentials \n",
        "drive.mount('/content/gdrive')"
      ],
      "metadata": {
        "colab": {
          "base_uri": "https://localhost:8080/"
        },
        "id": "RJYYLuip8320",
        "outputId": "92fae5a0-4242-435b-c61d-1b68370a32e5"
      },
      "execution_count": 3,
      "outputs": [
        {
          "output_type": "stream",
          "name": "stdout",
          "text": [
            "Mounted at /content/gdrive\n"
          ]
        }
      ]
    },
    {
      "cell_type": "code",
      "source": [
        "# folder, created in advance in the Google Drive and containing kaggle.json\n",
        "#project_folder = \"/content/gdrive/My Drive/Kaggle/NaturalPainters\" # for original email\n",
        "project_folder = \"/content/gdrive/MyDrive/NaturalPainters\" \n",
        "os.environ['KAGGLE_CONFIG_DIR'] = project_folder"
      ],
      "metadata": {
        "id": "CJ7Iou7H8cyN"
      },
      "execution_count": 4,
      "outputs": []
    },
    {
      "cell_type": "code",
      "source": [
        "# dive into folder\n",
        "#%cd /content/gdrive/MyDrive/Kaggle/NaturalPainters\n",
        "%cd /content/gdrive/MyDrive/NaturalPainters"
      ],
      "metadata": {
        "colab": {
          "base_uri": "https://localhost:8080/"
        },
        "id": "szTm6heA8iha",
        "outputId": "86507cd6-da38-4516-9c0a-8aafaf4eba16"
      },
      "execution_count": 5,
      "outputs": [
        {
          "output_type": "stream",
          "name": "stdout",
          "text": [
            "/content/gdrive/.shortcut-targets-by-id/1m2LH2VheZ1KLU1PiFqOKItm5-sBWZ1C4/NaturalPainters\n"
          ]
        }
      ]
    },
    {
      "cell_type": "code",
      "source": [
        "# path to load the generator weights\n",
        "generator_path = project_folder + '/models/generator/generator_5152w_10e_1d.pth'\n",
        "# path to load the discriminator weights\n",
        "discriminator_path = project_folder + '/models/discriminator/discriminator_10e.pth'\n",
        "# path to save GAN generator and discriminator\n",
        "gan_path = project_folder + '/models/gan/'"
      ],
      "metadata": {
        "id": "oJ9ecBNyFhH_"
      },
      "execution_count": 6,
      "outputs": []
    },
    {
      "cell_type": "code",
      "source": [
        "SEED = 4"
      ],
      "metadata": {
        "id": "-Labr4ShqUII"
      },
      "execution_count": 13,
      "outputs": []
    },
    {
      "cell_type": "code",
      "source": [
        "# data is stored in the 'episodes_i.npz' format, where i is in {0,...,77}\n",
        "# this routine loads desired 'episodes_i.npz' for a particular i\n",
        "# data will be loaded in the dictionary with two fields: 'strokes' and 'actions'\n",
        "def load_data(npz):\n",
        "\n",
        "    data = np.load('strokes-dataset/' + npz)\n",
        "    return data['strokes'], data['actions']"
      ],
      "metadata": {
        "id": "OmeAaLMZ8kxp"
      },
      "execution_count": 7,
      "outputs": []
    },
    {
      "cell_type": "markdown",
      "source": [
        "# **Generator**"
      ],
      "metadata": {
        "id": "XUFlfIb79CQ_"
      }
    },
    {
      "cell_type": "code",
      "source": [
        "class Generator(nn.Module):\n",
        "\n",
        "    def __init__(self, \n",
        "                 in_features: int,\n",
        "                 img_height: int,\n",
        "                 img_width: int,\n",
        "                 num_features: int,\n",
        "                 img_channels: int):\n",
        "      super(Generator, self).__init__()\n",
        "\n",
        "      self.out_features = img_height * img_width\n",
        "\n",
        "      self.lin = nn.Linear(in_features, self.out_features)\n",
        "\n",
        "      self.conv1 = nn.ConvTranspose2d(self.out_features, num_features, \n",
        "                                      kernel_size = (4, 4), stride = (1, 1), bias = False)\n",
        "      self.norm1 = nn.BatchNorm2d(num_features)\n",
        "\n",
        "      self.conv2 = nn.ConvTranspose2d(num_features, num_features//2, \n",
        "                                      kernel_size = (4, 4), stride = (2, 2), padding = (1, 1), bias = False)\n",
        "      num_features //= 2\n",
        "      self.norm2 = nn.BatchNorm2d(num_features)\n",
        "\n",
        "      self.conv3 = nn.ConvTranspose2d(num_features, num_features//2, \n",
        "                                      kernel_size = (4, 4), stride = (2, 2), padding = (1, 1), bias = False)\n",
        "      num_features //= 2\n",
        "      self.norm3 = nn.BatchNorm2d(num_features)\n",
        "\n",
        "      self.conv4 = nn.ConvTranspose2d(num_features, num_features//2, \n",
        "                                      kernel_size = (4, 4), stride = (2, 2), padding = (1, 1), bias = False)\n",
        "      num_features //= 2\n",
        "      self.norm4 = nn.BatchNorm2d(num_features)\n",
        "\n",
        "      self.conv5 = nn.ConvTranspose2d(num_features, num_features, \n",
        "                                      kernel_size = (3, 3), stride = (1, 1), padding = (1, 1), bias = False)\n",
        "      self.norm5 = nn.BatchNorm2d(num_features)\n",
        "\n",
        "      self.conv6 = nn.ConvTranspose2d(num_features, img_channels, \n",
        "                                      kernel_size = (4, 4), stride = (2, 2), padding = (1, 1), bias = False)\n",
        "\n",
        "\n",
        "\n",
        "    def forward(self, x):\n",
        "      x = self.lin(x)\n",
        "      x = F.relu(self.conv1(x.view(x.size(0), x.size(1), 1, 1)), inplace = True)\n",
        "      x = self.norm1(x)\n",
        "      x = F.relu(self.conv2(x), inplace = True)\n",
        "      x = self.norm2(x)\n",
        "      x = F.relu(self.conv3(x), inplace = True)\n",
        "      x = self.norm3(x)\n",
        "      x = F.relu(self.conv4(x), inplace = True)\n",
        "      x = self.norm4(x)\n",
        "      x = F.relu(self.conv5(x), inplace = True)\n",
        "      x = self.norm5(x)\n",
        "\n",
        "      return torch.tanh(self.conv6(x))"
      ],
      "metadata": {
        "id": "zZiPBHwi9ZsV"
      },
      "execution_count": 8,
      "outputs": []
    },
    {
      "cell_type": "code",
      "source": [
        "class FeatureExtractor(nn.Module):\n",
        "\n",
        "    def __init__(self, \n",
        "                 layers_weights,\n",
        "                 device):\n",
        "      super(FeatureExtractor, self).__init__()\n",
        "      \n",
        "      self.layers_weights = layers_weights\n",
        "      self.device = device\n",
        "      self.feature_extractor, self.layers_indices = self.extractor()\n",
        "      self.outputs = hook_outputs([self.feature_extractor[i] for i in self.layers_indices], detach = False)\n",
        "\n",
        "    def extractor(self):\n",
        "        print(\"Download VGG19 (batch normalized) as pre-trained.\\n\")\n",
        "        if self.device == 'cuda':\n",
        "            extractor = models.vgg19_bn(True).features.cuda().eval()\n",
        "        else:\n",
        "            extractor = models.vgg19_bn(True).features.eval()\n",
        "        requires_grad(extractor, False)\n",
        "        return extractor, [i - 1 for i, layer in enumerate(children(extractor)) if isinstance(layer, nn.MaxPool2d)][2:]\n",
        "\n",
        "    def gram_matrix(self, input):\n",
        "\n",
        "        (a, b, c, d) = input.size()\n",
        "        features = input.view(a, b, c * d)\n",
        "        G = features @ features.transpose(1, 2)\n",
        "        return G.div(b * c * d)\n",
        "\n",
        "    def forward(self, gen_stroke, true_stroke):\n",
        "\n",
        "        self.feature_extractor(gen_stroke)\n",
        "        gen_stroke_features = [out for out in self.outputs.stored]\n",
        "        \n",
        "        self.feature_extractor(true_stroke)\n",
        "        true_stroke_features = [out.clone() for out in self.outputs.stored]\n",
        "\n",
        "        self.loss = []\n",
        "        \n",
        "        feature_loss = [F.l1_loss(gen_layer, true_layer) * weight\n",
        "                             for gen_layer, true_layer, weight \n",
        "                        in zip(gen_stroke_features, true_stroke_features, self.layers_weights)]\n",
        "        \n",
        "\n",
        "        style_loss = [F.l1_loss(self.gram_matrix(gen_layer), self.gram_matrix(true_layer)) * weight**2 * 5000\n",
        "                             for gen_layer, true_layer, weight \n",
        "                      in zip(gen_stroke_features, true_stroke_features, self.layers_weights)]\n",
        "    \n",
        "        pixel_loss = [F.l1_loss(gen_stroke, true_stroke)]\n",
        "\n",
        "        self.loss += feature_loss + style_loss + pixel_loss\n",
        "                \n",
        "        return sum(self.loss)\n",
        "\n",
        "    def __del__(self):\n",
        "        self.outputs.remove()"
      ],
      "metadata": {
        "id": "64M2b06_9_Pr"
      },
      "execution_count": 10,
      "outputs": []
    },
    {
      "cell_type": "markdown",
      "source": [
        "# **Discriminator**"
      ],
      "metadata": {
        "id": "n5wT7MzSFLQ9"
      }
    },
    {
      "cell_type": "code",
      "source": [
        "class Discriminator(nn.Module):\n",
        "  def __init__(self, \n",
        "               img_channels: int, \n",
        "               num_features: int):\n",
        "    super(Discriminator, self).__init__()\n",
        "\n",
        "    self.conv1 = nn.Conv2d(img_channels, num_features, kernel_size = (4, 4), stride = (2, 2), padding = (1, 1))\n",
        "    self.conv2 = nn.Conv2d(num_features, num_features*2, kernel_size = (4, 4), stride = (2, 2), padding = (1, 1))\n",
        "    num_features *= 2\n",
        "    self.norm2 = nn.BatchNorm2d(num_features)\n",
        "    self.conv3 = nn.Conv2d(num_features, num_features*2, kernel_size = (4, 4), stride = (2, 2), padding = (1, 1))\n",
        "    num_features *= 2\n",
        "    self.norm3 = nn.BatchNorm2d(num_features)\n",
        "    self.conv4 = nn.Conv2d(num_features, num_features*2, kernel_size = (4, 4), stride = (2, 2), padding = (1, 1))\n",
        "    self.norm4 = nn.BatchNorm2d(num_features*2)\n",
        "    self.lin = nn.Linear(4*4*(num_features*2), 1)\n",
        "\n",
        "\n",
        "  def forward(self, x):\n",
        "    x = F.leaky_relu(self.conv1(x), negative_slope = 0.2)\n",
        "    x = F.leaky_relu(self.norm2(self.conv2(x)), negative_slope = 0.2)\n",
        "    x = F.leaky_relu(self.norm3(self.conv3(x)), negative_slope = 0.2)\n",
        "    x = F.leaky_relu(self.norm4(self.conv4(x)), negative_slope = 0.2)\n",
        "    x = x.flatten(start_dim = 1)\n",
        "\n",
        "    return self.lin(x)"
      ],
      "metadata": {
        "id": "k4Qp_-hO9GA2"
      },
      "execution_count": 11,
      "outputs": []
    },
    {
      "cell_type": "markdown",
      "source": [
        "#**Training**"
      ],
      "metadata": {
        "id": "Qk9PHvhUD074"
      }
    },
    {
      "cell_type": "code",
      "source": [
        "class Trainer():\n",
        "\n",
        "    def __init__(self,\n",
        "                 transforms,\n",
        "                 generator: nn.Module,\n",
        "                 feature_extractor: nn.Module,\n",
        "                 discriminator: nn.Module,\n",
        "                 g_optimizer: torch.optim,\n",
        "                 d_optimizer: torch.optim,\n",
        "                 loss: torch.nn.functional,\n",
        "                 epochs: int = 5,\n",
        "                 gpu: bool = False):\n",
        "            super(Trainer, self).__init__()\n",
        "\n",
        "            self.transforms = transforms\n",
        "            self.generator = generator\n",
        "            self.feature_extractor = feature_extractor\n",
        "            self.discriminator = discriminator\n",
        "            self.g_optimizer = g_optimizer\n",
        "            self.d_optimizer = d_optimizer\n",
        "            self.loss = loss\n",
        "            self.epochs = epochs\n",
        "            self.gpu = gpu\n",
        "\n",
        "    def train(self,\n",
        "              dataloader,\n",
        "              print_interval: int = 50,\n",
        "              save_model_path: str = ''):\n",
        "\n",
        "        d_train_loss = []\n",
        "        g_train_loss = []\n",
        "\n",
        "        print('-'*100)\n",
        "        print('START OF TRAINING\\n')\n",
        "        for epoch in range(self.epochs):\n",
        "            \n",
        "            self.generator.train()\n",
        "            self.discriminator.train()\n",
        "\n",
        "            epoch_gen_strokes = torch.ones_like(dataloader.sampler.data_source.tensors[0][0], dtype = torch.float32)\n",
        "          \n",
        "            epoch_start_time = time.time()\n",
        "\n",
        "            for i, (stroke, action) in enumerate(dataloader):  \n",
        "\n",
        "                stroke = torch.stack([self.transforms(s) for s in stroke])\n",
        "                \n",
        "                y_true = torch.ones((stroke.shape[0], 1), dtype = torch.float, requires_grad = False)   \n",
        "                y_gen = torch.zeros((stroke.shape[0], 1), dtype = torch.float, requires_grad = False)\n",
        "\n",
        "                if gpu:\n",
        "                  action = action.cuda()\n",
        "                  stroke = stroke.cuda()\n",
        "                  y_true = y_true.cuda()\n",
        "                  y_gen = y_gen.cuda()\n",
        "\n",
        "                # Discriminator part\n",
        "\n",
        "                self.d_optimizer.zero_grad()\n",
        "\n",
        "                y_true_pred = torch.sigmoid(self.discriminator(stroke))\n",
        "                true_loss = self.loss(y_true_pred, y_true)\n",
        "\n",
        "                gen_stroke = self.generator(action)\n",
        "                d_y_gen_pred = torch.sigmoid(self.discriminator(gen_stroke))\n",
        "                gen_loss = self.loss(d_y_gen_pred, y_gen)\n",
        "\n",
        "                d_cur_loss = 0.5 * true_loss + 0.5 * gen_loss\n",
        "\n",
        "                d_cur_loss.backward()\n",
        "                self.d_optimizer.step()\n",
        "\n",
        "                d_train_loss.append(d_cur_loss.data.item())\n",
        "\n",
        "                # Generator part\n",
        "\n",
        "                self.g_optimizer.zero_grad()\n",
        "\n",
        "                gen_stroke = self.generator(action)\n",
        "                g_y_gen_pred = torch.sigmoid(self.discriminator(gen_stroke))\n",
        "\n",
        "                g_cur_loss = 0.5 * self.loss(g_y_gen_pred, y_true) + 0.5 * self.feature_extractor(gen_stroke, stroke)\n",
        "\n",
        "                g_cur_loss.backward()\n",
        "                self.g_optimizer.step()\n",
        "\n",
        "                g_train_loss.append(g_cur_loss.data.item())\n",
        "\n",
        "\n",
        "                if (i % print_interval) == 0:\n",
        "                    print('Epoch {}/{} | Sample {}/{}'.format((epoch + 1), self.epochs,\n",
        "                                                              (i + 1), len(dataloader)))\n",
        "                    \n",
        "                    print(' => Loss (discriminator): {:.3f}'.format(torch.mean(torch.FloatTensor(d_train_loss))))\n",
        "                    print(' => Loss (generator): {:.3f}\\n'.format(torch.mean(torch.FloatTensor(g_train_loss))))\n",
        "                    \n",
        "                    print('true vs generated stroke:')\n",
        "                    self.display_img(torch.cat((stroke[0].clone().cpu(), gen_stroke[0].clone().cpu()), dim = 2))\n",
        "\n",
        "                    print('='*40)\n",
        "                    print('true\\t\\tdiscriminator prediction')\n",
        "                    print('-'*40)\n",
        "                    print(f'{1}\\t\\t{round(y_true_pred[0].item(), 3)}')\n",
        "                    print(f'{0}\\t\\t{round(g_y_gen_pred[0].item(), 3)}')\n",
        "                    print('='*40)\n",
        "\n",
        "                    print('-'*55)\n",
        "\n",
        "                    epoch_gen_strokes = torch.cat((epoch_gen_strokes.clone().cpu(), gen_stroke[0].clone().cpu()), dim = 2)\n",
        "\n",
        "            \n",
        "            print('-'*100)\n",
        "            epoch_time = time.time()- epoch_start_time\n",
        "            print('End of epoch {}/{} - time: {:.3f}'.format((epoch + 1), self.epochs,\n",
        "                                                             epoch_time))\n",
        "            print(' => Loss (discriminator): {:.3f}'.format(torch.mean(torch.FloatTensor(d_train_loss))))\n",
        "            print(' => Loss (generator): {:.3f}\\n'.format(torch.mean(torch.FloatTensor(g_train_loss))))\n",
        "            print('examples of generated during epoch strokes:')\n",
        "            self.display_img(epoch_gen_strokes)\n",
        "            print('-'*100)        \n",
        "\n",
        "\n",
        "        if save_model_path != '':\n",
        "            torch.save(self.generator.state_dict(), save_model_path + f'GAN_generator_{self.epochs}e.pth')   \n",
        "            torch.save(self.discriminator.state_dict(), save_model_path + f'GAN_discriminator_{self.epochs}e.pth')\n",
        "            print(f'\\nEND OF TRAINING: models are saved to {save_model_path}')\n",
        "\n",
        "    def display_img(self, img):\n",
        "        display(to_pil_image(img))           "
      ],
      "metadata": {
        "id": "YhDTLpMcBRa1"
      },
      "execution_count": 12,
      "outputs": []
    },
    {
      "cell_type": "code",
      "source": [
        "torch.manual_seed(SEED)\n",
        "class Hparams():\n",
        "    in_features = 12 #constant\n",
        "    num_features = 512 #@param {type:\"slider\", min:8, max:1024, step:8}\n",
        "    img_height = 64 #@param {type:\"slider\", min:8, max:1024, step:8}\n",
        "    img_width = 64 #@param {type:\"slider\", min:8, max:1024, step:8}\n",
        "    img_channels = 3 #@param {type:\"slider\", min:1, max:3, step:2}\n",
        "    layers_weights = [5, 15, 2] #@param\n",
        "    batch_size = 256 #@param {type: \"slider\", min:8, max:512, step:8}\n",
        "    lr = 0.0001 #@param {type:\"number\"}\n",
        "    betas = (0.5, 0.9) #@param\n",
        "    epochs = 5 #@param {type:\"slider\", min:1, max:1000, step:1}\n",
        "    print_interval = 25 #@param {type:\"slider\", min:1, max:100, step:10}\n",
        "hparams = Hparams()\n",
        "\n",
        "current_npz = 'episodes_2.npz'\n",
        "\n",
        "strokes, actions = load_data(current_npz)\n",
        "\n",
        "strokes = torch.stack([torch.from_numpy(stroke).permute(2, 0, 1) for stroke in strokes])\n",
        "actions = torch.stack([torch.from_numpy(action).float() for action in actions])\n",
        "\n",
        "dataset = TensorDataset(strokes, actions)\n",
        "\n",
        "dataloader = DataLoader(dataset, \n",
        "                        batch_size = hparams.batch_size, \n",
        "                        shuffle = False)\n",
        "\n",
        "generator = Generator(hparams.in_features,\n",
        "                      hparams.img_height,\n",
        "                      hparams.img_width,\n",
        "                      hparams.num_features,\n",
        "                      hparams.img_channels)\n",
        "\n",
        "discriminator = Discriminator(hparams.img_channels, \n",
        "                              hparams.img_height)\n",
        "\n",
        "gpu = torch.cuda.is_available()\n",
        "if gpu:\n",
        "    print(\"Training is performed using GPU.\\n\")\n",
        "    device = 'cuda'\n",
        "else:\n",
        "    print(\"Training is performed using CPU.\\n\")\n",
        "    device = 'cpu'\n",
        "\n",
        "feature_extractor = FeatureExtractor(hparams.layers_weights, device)\n",
        "\n",
        "generator.load_state_dict(torch.load(generator_path, \n",
        "                                     map_location = torch.device(device)))\n",
        "discriminator.load_state_dict(torch.load(discriminator_path, \n",
        "                                     map_location = torch.device(device)))\n",
        "\n",
        "generator.to(device)\n",
        "discriminator.to(device)\n",
        "\n",
        "g_optimizer = optim.Adam(generator.parameters(), \n",
        "                       lr = hparams.lr, \n",
        "                       betas = hparams.betas)\n",
        "\n",
        "d_optimizer = optim.Adam(discriminator.parameters(), \n",
        "                       lr = hparams.lr, \n",
        "                       betas = hparams.betas)\n",
        "\n",
        "loss = F.binary_cross_entropy\n",
        "\n",
        "strokes_tfms = transforms.Compose([transforms.Lambda(lambda x: \n",
        "                                                     x.float()),\n",
        "                                   transforms.Lambda(lambda x: \n",
        "                                                     x.div_(255))\n",
        "                                  ])\n",
        "\n",
        "trainer = Trainer(strokes_tfms,\n",
        "                  generator,\n",
        "                  feature_extractor,\n",
        "                  discriminator,\n",
        "                  g_optimizer,\n",
        "                  d_optimizer,\n",
        "                  loss,\n",
        "                  epochs = hparams.epochs,\n",
        "                  gpu = gpu)\n",
        "\n",
        "trainer.train(dataloader, \n",
        "              print_interval = hparams.print_interval,\n",
        "              save_model_path = gan_path)"
      ],
      "metadata": {
        "colab": {
          "base_uri": "https://localhost:8080/",
          "height": 1000,
          "referenced_widgets": [
            "b6aa39482b7144c8af351665017d7dac",
            "40069a122da04cfbb79e894a096c5857",
            "1629ef65a12e4437959073e17c407383",
            "8ab9951a9d934030ac4eb9f8b07b6648",
            "f091ec52b4fb4f14b825b506f5179c59",
            "191b28ca90744a18a6d04fa8e5c46f3d",
            "0a4a5df722b043cfaddffce75b0527cb",
            "a6a67c8c22fe41248b40f7a05845febb",
            "79c6091c9b624420ba50d58286c82113",
            "0e92a500595042bfb1b32dc8adbd39a9",
            "96c47df25a3143b2a8b66c5a4059ce76"
          ]
        },
        "id": "AXFlWuik9QYW",
        "outputId": "34c8f846-f0d5-470c-b4a3-73e4c0377f76"
      },
      "execution_count": 14,
      "outputs": [
        {
          "output_type": "stream",
          "name": "stdout",
          "text": [
            "Training is performed using GPU.\n",
            "\n",
            "Download VGG19 (batch normalized) as pre-trained.\n",
            "\n"
          ]
        },
        {
          "output_type": "stream",
          "name": "stderr",
          "text": [
            "Downloading: \"https://download.pytorch.org/models/vgg19_bn-c79401a0.pth\" to /root/.cache/torch/hub/checkpoints/vgg19_bn-c79401a0.pth\n"
          ]
        },
        {
          "output_type": "display_data",
          "data": {
            "application/vnd.jupyter.widget-view+json": {
              "model_id": "b6aa39482b7144c8af351665017d7dac",
              "version_minor": 0,
              "version_major": 2
            },
            "text/plain": [
              "  0%|          | 0.00/548M [00:00<?, ?B/s]"
            ]
          },
          "metadata": {}
        },
        {
          "output_type": "stream",
          "name": "stdout",
          "text": [
            "START OF TRAINING\n",
            "Epoch 1/5 | Sample 1/391\n",
            " => Loss (discriminator): 0.000\n",
            " => Loss (generator): 6.791\n",
            "\n",
            "true vs generated stroke:\n"
          ]
        },
        {
          "output_type": "display_data",
          "data": {
            "image/png": "[encoded data removed]",
            "text/plain": [
              "<PIL.Image.Image image mode=RGB size=128x64 at 0x7FE310C04B10>"
            ]
          },
          "metadata": {}
        },
        {
          "output_type": "stream",
          "name": "stdout",
          "text": [
            "========================================\n",
            "\n",
            "true\t\tdiscriminator prediction\n",
            "----------------------------------------\n",
            "1\t\t1.0\n",
            "0\t\t0.0\n",
            "========================================\n",
            "-------------------------------------------------------\n",
            "Epoch 1/5 | Sample 26/391\n",
            " => Loss (discriminator): 0.150\n",
            " => Loss (generator): 4.150\n",
            "\n",
            "true vs generated stroke:\n"
          ]
        },
        {
          "output_type": "display_data",
          "data": {
            "image/png": "[encoded data removed]",
            "text/plain": [
              "<PIL.Image.Image image mode=RGB size=128x64 at 0x7FE311989A90>"
            ]
          },
          "metadata": {}
        },
        {
          "output_type": "stream",
          "name": "stdout",
          "text": [
            "========================================\n",
            "\n",
            "true\t\tdiscriminator prediction\n",
            "----------------------------------------\n",
            "1\t\t0.994\n",
            "0\t\t0.003\n",
            "========================================\n",
            "-------------------------------------------------------\n",
            "Epoch 1/5 | Sample 51/391\n",
            " => Loss (discriminator): 0.283\n",
            " => Loss (generator): 3.317\n",
            "\n",
            "true vs generated stroke:\n"
          ]
        },
        {
          "output_type": "display_data",
          "data": {
            "image/png": "[encoded data removed]",
            "text/plain": [
              "<PIL.Image.Image image mode=RGB size=128x64 at 0x7FE310BE46D0>"
            ]
          },
          "metadata": {}
        },
        {
          "output_type": "stream",
          "name": "stdout",
          "text": [
            "========================================\n",
            "\n",
            "true\t\tdiscriminator prediction\n",
            "----------------------------------------\n",
            "1\t\t0.571\n",
            "0\t\t0.021\n",
            "========================================\n",
            "-------------------------------------------------------\n",
            "Epoch 1/5 | Sample 76/391\n",
            " => Loss (discriminator): 0.405\n",
            " => Loss (generator): 2.773\n",
            "\n",
            "true vs generated stroke:\n"
          ]
        },
        {
          "output_type": "display_data",
          "data": {
            "image/png": "[encoded data removed]",
            "text/plain": [
              "<PIL.Image.Image image mode=RGB size=128x64 at 0x7FE311989250>"
            ]
          },
          "metadata": {}
        },
        {
          "output_type": "stream",
          "name": "stdout",
          "text": [
            "========================================\n",
            "\n",
            "true\t\tdiscriminator prediction\n",
            "----------------------------------------\n",
            "1\t\t0.766\n",
            "0\t\t0.488\n",
            "========================================\n",
            "-------------------------------------------------------\n",
            "Epoch 1/5 | Sample 101/391\n",
            " => Loss (discriminator): 0.467\n",
            " => Loss (generator): 2.462\n",
            "\n",
            "true vs generated stroke:\n"
          ]
        },
        {
          "output_type": "display_data",
          "data": {
            "image/png": "[encoded data removed]",
            "text/plain": [
              "<PIL.Image.Image image mode=RGB size=128x64 at 0x7FE310C043D0>"
            ]
          },
          "metadata": {}
        },
        {
          "output_type": "stream",
          "name": "stdout",
          "text": [
            "========================================\n",
            "\n",
            "true\t\tdiscriminator prediction\n",
            "----------------------------------------\n",
            "1\t\t0.709\n",
            "0\t\t0.356\n",
            "========================================\n",
            "-------------------------------------------------------\n",
            "Epoch 1/5 | Sample 126/391\n",
            " => Loss (discriminator): 0.494\n",
            " => Loss (generator): 2.269\n",
            "\n",
            "true vs generated stroke:\n"
          ]
        },
        {
          "output_type": "display_data",
          "data": {
            "image/png": "[encoded data removed]",
            "text/plain": [
              "<PIL.Image.Image image mode=RGB size=128x64 at 0x7FE3113A7390>"
            ]
          },
          "metadata": {}
        },
        {
          "output_type": "stream",
          "name": "stdout",
          "text": [
            "========================================\n",
            "\n",
            "true\t\tdiscriminator prediction\n",
            "----------------------------------------\n",
            "1\t\t0.191\n",
            "0\t\t0.487\n",
            "========================================\n",
            "-------------------------------------------------------\n",
            "Epoch 1/5 | Sample 151/391\n",
            " => Loss (discriminator): 0.508\n",
            " => Loss (generator): 2.145\n",
            "\n",
            "true vs generated stroke:\n"
          ]
        },
        {
          "output_type": "display_data",
          "data": {
            "image/png": "[encoded data removed]",
            "text/plain": [
              "<PIL.Image.Image image mode=RGB size=128x64 at 0x7FE312689FD0>"
            ]
          },
          "metadata": {}
        },
        {
          "output_type": "stream",
          "name": "stdout",
          "text": [
            "========================================\n",
            "\n",
            "true\t\tdiscriminator prediction\n",
            "----------------------------------------\n",
            "1\t\t0.642\n",
            "0\t\t0.389\n",
            "========================================\n",
            "-------------------------------------------------------\n",
            "Epoch 1/5 | Sample 176/391\n",
            " => Loss (discriminator): 0.522\n",
            " => Loss (generator): 2.053\n",
            "\n",
            "true vs generated stroke:\n"
          ]
        },
        {
          "output_type": "display_data",
          "data": {
            "image/png": "[encoded data removed]",
            "text/plain": [
              "<PIL.Image.Image image mode=RGB size=128x64 at 0x7FE310BF2C90>"
            ]
          },
          "metadata": {}
        },
        {
          "output_type": "stream",
          "name": "stdout",
          "text": [
            "========================================\n",
            "\n",
            "true\t\tdiscriminator prediction\n",
            "----------------------------------------\n",
            "1\t\t0.592\n",
            "0\t\t0.116\n",
            "========================================\n",
            "-------------------------------------------------------\n",
            "Epoch 1/5 | Sample 201/391\n",
            " => Loss (discriminator): 0.528\n",
            " => Loss (generator): 1.988\n",
            "\n",
            "true vs generated stroke:\n"
          ]
        },
        {
          "output_type": "display_data",
          "data": {
            "image/png": "[encoded data removed]",
            "text/plain": [
              "<PIL.Image.Image image mode=RGB size=128x64 at 0x7FE311989410>"
            ]
          },
          "metadata": {}
        },
        {
          "output_type": "stream",
          "name": "stdout",
          "text": [
            "========================================\n",
            "\n",
            "true\t\tdiscriminator prediction\n",
            "----------------------------------------\n",
            "1\t\t0.477\n",
            "0\t\t0.465\n",
            "========================================\n",
            "-------------------------------------------------------\n",
            "Epoch 1/5 | Sample 226/391\n",
            " => Loss (discriminator): 0.529\n",
            " => Loss (generator): 1.944\n",
            "\n",
            "true vs generated stroke:\n"
          ]
        },
        {
          "output_type": "display_data",
          "data": {
            "image/png": "[encoded data removed]",
            "text/plain": [
              "<PIL.Image.Image image mode=RGB size=128x64 at 0x7FE310BF2D90>"
            ]
          },
          "metadata": {}
        },
        {
          "output_type": "stream",
          "name": "stdout",
          "text": [
            "========================================\n",
            "\n",
            "true\t\tdiscriminator prediction\n",
            "----------------------------------------\n",
            "1\t\t0.449\n",
            "0\t\t0.118\n",
            "========================================\n",
            "-------------------------------------------------------\n",
            "Epoch 1/5 | Sample 251/391\n",
            " => Loss (discriminator): 0.529\n",
            " => Loss (generator): 1.908\n",
            "\n",
            "true vs generated stroke:\n"
          ]
        },
        {
          "output_type": "display_data",
          "data": {
            "image/png": "[encoded data removed]",
            "text/plain": [
              "<PIL.Image.Image image mode=RGB size=128x64 at 0x7FE3113A7390>"
            ]
          },
          "metadata": {}
        },
        {
          "output_type": "stream",
          "name": "stdout",
          "text": [
            "========================================\n",
            "\n",
            "true\t\tdiscriminator prediction\n",
            "----------------------------------------\n",
            "1\t\t0.914\n",
            "0\t\t0.018\n",
            "========================================\n",
            "-------------------------------------------------------\n",
            "Epoch 1/5 | Sample 276/391\n",
            " => Loss (discriminator): 0.532\n",
            " => Loss (generator): 1.876\n",
            "\n",
            "true vs generated stroke:\n"
          ]
        },
        {
          "output_type": "display_data",
          "data": {
            "image/png": "[encoded data removed]",
            "text/plain": [
              "<PIL.Image.Image image mode=RGB size=128x64 at 0x7FE310C04110>"
            ]
          },
          "metadata": {}
        },
        {
          "output_type": "stream",
          "name": "stdout",
          "text": [
            "========================================\n",
            "\n",
            "true\t\tdiscriminator prediction\n",
            "----------------------------------------\n",
            "1\t\t0.652\n",
            "0\t\t0.299\n",
            "========================================\n",
            "-------------------------------------------------------\n",
            "Epoch 1/5 | Sample 301/391\n",
            " => Loss (discriminator): 0.531\n",
            " => Loss (generator): 1.857\n",
            "\n",
            "true vs generated stroke:\n"
          ]
        },
        {
          "output_type": "display_data",
          "data": {
            "image/png": "[encoded data removed]",
            "text/plain": [
              "<PIL.Image.Image image mode=RGB size=128x64 at 0x7FE322244AD0>"
            ]
          },
          "metadata": {}
        },
        {
          "output_type": "stream",
          "name": "stdout",
          "text": [
            "========================================\n",
            "\n",
            "true\t\tdiscriminator prediction\n",
            "----------------------------------------\n",
            "1\t\t0.732\n",
            "0\t\t0.18\n",
            "========================================\n",
            "-------------------------------------------------------\n",
            "Epoch 1/5 | Sample 326/391\n",
            " => Loss (discriminator): 0.526\n",
            " => Loss (generator): 1.844\n",
            "\n",
            "true vs generated stroke:\n"
          ]
        },
        {
          "output_type": "display_data",
          "data": {
            "image/png": "[encoded data removed]",
            "text/plain": [
              "<PIL.Image.Image image mode=RGB size=128x64 at 0x7FE3113A2350>"
            ]
          },
          "metadata": {}
        },
        {
          "output_type": "stream",
          "name": "stdout",
          "text": [
            "========================================\n",
            "\n",
            "true\t\tdiscriminator prediction\n",
            "----------------------------------------\n",
            "1\t\t0.678\n",
            "0\t\t0.17\n",
            "========================================\n",
            "-------------------------------------------------------\n",
            "Epoch 1/5 | Sample 351/391\n",
            " => Loss (discriminator): 0.527\n",
            " => Loss (generator): 1.830\n",
            "\n",
            "true vs generated stroke:\n"
          ]
        },
        {
          "output_type": "display_data",
          "data": {
            "image/png": "[encoded data removed]",
            "text/plain": [
              "<PIL.Image.Image image mode=RGB size=128x64 at 0x7FE31198E690>"
            ]
          },
          "metadata": {}
        },
        {
          "output_type": "stream",
          "name": "stdout",
          "text": [
            "========================================\n",
            "\n",
            "true\t\tdiscriminator prediction\n",
            "----------------------------------------\n",
            "1\t\t0.904\n",
            "0\t\t0.089\n",
            "========================================\n",
            "-------------------------------------------------------\n",
            "Epoch 1/5 | Sample 376/391\n",
            " => Loss (discriminator): 0.523\n",
            " => Loss (generator): 1.822\n",
            "\n",
            "true vs generated stroke:\n"
          ]
        },
        {
          "output_type": "display_data",
          "data": {
            "image/png": "[encoded data removed]",
            "text/plain": [
              "<PIL.Image.Image image mode=RGB size=128x64 at 0x7FE310BE46D0>"
            ]
          },
          "metadata": {}
        },
        {
          "output_type": "stream",
          "name": "stdout",
          "text": [
            "========================================\n",
            "\n",
            "true\t\tdiscriminator prediction\n",
            "----------------------------------------\n",
            "1\t\t0.83\n",
            "0\t\t0.322\n",
            "========================================\n",
            "-------------------------------------------------------\n",
            "----------------------------------------------------------------------------------------------------\n",
            "End of epoch 1/5 - time: 1681.954\n",
            " => Loss (discriminator): 0.522\n",
            " => Loss (generator): 1.816\n",
            "\n",
            "Epoch 2/5 | Sample 1/391\n",
            " => Loss (discriminator): 0.522\n",
            " => Loss (generator): 1.815\n",
            "\n",
            "true vs generated stroke:\n"
          ]
        },
        {
          "output_type": "display_data",
          "data": {
            "image/png": "[encoded data removed]",
            "text/plain": [
              "<PIL.Image.Image image mode=RGB size=128x64 at 0x7FE311989A90>"
            ]
          },
          "metadata": {}
        },
        {
          "output_type": "stream",
          "name": "stdout",
          "text": [
            "========================================\n",
            "\n",
            "true\t\tdiscriminator prediction\n",
            "----------------------------------------\n",
            "1\t\t0.874\n",
            "0\t\t0.733\n",
            "========================================\n",
            "-------------------------------------------------------\n",
            "Epoch 2/5 | Sample 26/391\n",
            " => Loss (discriminator): 0.518\n",
            " => Loss (generator): 1.809\n",
            "\n",
            "true vs generated stroke:\n"
          ]
        },
        {
          "output_type": "display_data",
          "data": {
            "image/png": "[encoded data removed]",
            "text/plain": [
              "<PIL.Image.Image image mode=RGB size=128x64 at 0x7FE310C043D0>"
            ]
          },
          "metadata": {}
        },
        {
          "output_type": "stream",
          "name": "stdout",
          "text": [
            "========================================\n",
            "\n",
            "true\t\tdiscriminator prediction\n",
            "----------------------------------------\n",
            "1\t\t0.786\n",
            "0\t\t0.422\n",
            "========================================\n",
            "-------------------------------------------------------\n",
            "Epoch 2/5 | Sample 51/391\n",
            " => Loss (discriminator): 0.516\n",
            " => Loss (generator): 1.805\n",
            "\n",
            "true vs generated stroke:\n"
          ]
        },
        {
          "output_type": "display_data",
          "data": {
            "image/png": "[encoded data removed]",
            "text/plain": [
              "<PIL.Image.Image image mode=RGB size=128x64 at 0x7FE310BE42D0>"
            ]
          },
          "metadata": {}
        },
        {
          "output_type": "stream",
          "name": "stdout",
          "text": [
            "========================================\n",
            "\n",
            "true\t\tdiscriminator prediction\n",
            "----------------------------------------\n",
            "1\t\t0.858\n",
            "0\t\t0.2\n",
            "========================================\n",
            "-------------------------------------------------------\n",
            "Epoch 2/5 | Sample 76/391\n",
            " => Loss (discriminator): 0.514\n",
            " => Loss (generator): 1.800\n",
            "\n",
            "true vs generated stroke:\n"
          ]
        },
        {
          "output_type": "display_data",
          "data": {
            "image/png": "[encoded data removed]",
            "text/plain": [
              "<PIL.Image.Image image mode=RGB size=128x64 at 0x7FE31198EB10>"
            ]
          },
          "metadata": {}
        },
        {
          "output_type": "stream",
          "name": "stdout",
          "text": [
            "========================================\n",
            "\n",
            "true\t\tdiscriminator prediction\n",
            "----------------------------------------\n",
            "1\t\t0.405\n",
            "0\t\t0.349\n",
            "========================================\n",
            "-------------------------------------------------------\n",
            "Epoch 2/5 | Sample 101/391\n",
            " => Loss (discriminator): 0.513\n",
            " => Loss (generator): 1.797\n",
            "\n",
            "true vs generated stroke:\n"
          ]
        },
        {
          "output_type": "display_data",
          "data": {
            "image/png": "[encoded data removed]",
            "text/plain": [
              "<PIL.Image.Image image mode=RGB size=128x64 at 0x7FE3113A7450>"
            ]
          },
          "metadata": {}
        },
        {
          "output_type": "stream",
          "name": "stdout",
          "text": [
            "========================================\n",
            "\n",
            "true\t\tdiscriminator prediction\n",
            "----------------------------------------\n",
            "1\t\t0.993\n",
            "0\t\t0.043\n",
            "========================================\n",
            "-------------------------------------------------------\n",
            "Epoch 2/5 | Sample 126/391\n",
            " => Loss (discriminator): 0.510\n",
            " => Loss (generator): 1.795\n",
            "\n",
            "true vs generated stroke:\n"
          ]
        },
        {
          "output_type": "display_data",
          "data": {
            "image/png": "[encoded data removed]",
            "text/plain": [
              "<PIL.Image.Image image mode=RGB size=128x64 at 0x7FE310BDBE10>"
            ]
          },
          "metadata": {}
        },
        {
          "output_type": "stream",
          "name": "stdout",
          "text": [
            "========================================\n",
            "\n",
            "true\t\tdiscriminator prediction\n",
            "----------------------------------------\n",
            "1\t\t0.697\n",
            "0\t\t0.064\n",
            "========================================\n",
            "-------------------------------------------------------\n",
            "Epoch 2/5 | Sample 151/391\n",
            " => Loss (discriminator): 0.507\n",
            " => Loss (generator): 1.792\n",
            "\n",
            "true vs generated stroke:\n"
          ]
        },
        {
          "output_type": "display_data",
          "data": {
            "image/png": "[encoded data removed]",
            "text/plain": [
              "<PIL.Image.Image image mode=RGB size=128x64 at 0x7FE310C04A10>"
            ]
          },
          "metadata": {}
        },
        {
          "output_type": "stream",
          "name": "stdout",
          "text": [
            "========================================\n",
            "\n",
            "true\t\tdiscriminator prediction\n",
            "----------------------------------------\n",
            "1\t\t0.755\n",
            "0\t\t0.358\n",
            "========================================\n",
            "-------------------------------------------------------\n",
            "Epoch 2/5 | Sample 176/391\n",
            " => Loss (discriminator): 0.505\n",
            " => Loss (generator): 1.793\n",
            "\n",
            "true vs generated stroke:\n"
          ]
        },
        {
          "output_type": "display_data",
          "data": {
            "image/png": "[encoded data removed]",
            "text/plain": [
              "<PIL.Image.Image image mode=RGB size=128x64 at 0x7FE310BDBB90>"
            ]
          },
          "metadata": {}
        },
        {
          "output_type": "stream",
          "name": "stdout",
          "text": [
            "========================================\n",
            "\n",
            "true\t\tdiscriminator prediction\n",
            "----------------------------------------\n",
            "1\t\t0.751\n",
            "0\t\t0.187\n",
            "========================================\n",
            "-------------------------------------------------------\n",
            "Epoch 2/5 | Sample 201/391\n",
            " => Loss (discriminator): 0.503\n",
            " => Loss (generator): 1.793\n",
            "\n",
            "true vs generated stroke:\n"
          ]
        },
        {
          "output_type": "display_data",
          "data": {
            "image/png": "[encoded data removed]",
            "text/plain": [
              "<PIL.Image.Image image mode=RGB size=128x64 at 0x7FE310C04110>"
            ]
          },
          "metadata": {}
        },
        {
          "output_type": "stream",
          "name": "stdout",
          "text": [
            "========================================\n",
            "\n",
            "true\t\tdiscriminator prediction\n",
            "----------------------------------------\n",
            "1\t\t0.814\n",
            "0\t\t0.127\n",
            "========================================\n",
            "-------------------------------------------------------\n",
            "Epoch 2/5 | Sample 226/391\n",
            " => Loss (discriminator): 0.501\n",
            " => Loss (generator): 1.792\n",
            "\n",
            "true vs generated stroke:\n"
          ]
        },
        {
          "output_type": "display_data",
          "data": {
            "image/png": "[encoded data removed]",
            "text/plain": [
              "<PIL.Image.Image image mode=RGB size=128x64 at 0x7FE31198E790>"
            ]
          },
          "metadata": {}
        },
        {
          "output_type": "stream",
          "name": "stdout",
          "text": [
            "========================================\n",
            "\n",
            "true\t\tdiscriminator prediction\n",
            "----------------------------------------\n",
            "1\t\t0.331\n",
            "0\t\t0.101\n",
            "========================================\n",
            "-------------------------------------------------------\n",
            "Epoch 2/5 | Sample 251/391\n",
            " => Loss (discriminator): 0.498\n",
            " => Loss (generator): 1.793\n",
            "\n",
            "true vs generated stroke:\n"
          ]
        },
        {
          "output_type": "display_data",
          "data": {
            "image/png": "[encoded data removed]",
            "text/plain": [
              "<PIL.Image.Image image mode=RGB size=128x64 at 0x7FE310BDBC50>"
            ]
          },
          "metadata": {}
        },
        {
          "output_type": "stream",
          "name": "stdout",
          "text": [
            "========================================\n",
            "\n",
            "true\t\tdiscriminator prediction\n",
            "----------------------------------------\n",
            "1\t\t0.777\n",
            "0\t\t0.46\n",
            "========================================\n",
            "-------------------------------------------------------\n",
            "Epoch 2/5 | Sample 276/391\n",
            " => Loss (discriminator): 0.495\n",
            " => Loss (generator): 1.797\n",
            "\n",
            "true vs generated stroke:\n"
          ]
        },
        {
          "output_type": "display_data",
          "data": {
            "image/png": "[encoded data removed]",
            "text/plain": [
              "<PIL.Image.Image image mode=RGB size=128x64 at 0x7FE310C04A10>"
            ]
          },
          "metadata": {}
        },
        {
          "output_type": "stream",
          "name": "stdout",
          "text": [
            "========================================\n",
            "\n",
            "true\t\tdiscriminator prediction\n",
            "----------------------------------------\n",
            "1\t\t0.923\n",
            "0\t\t0.064\n",
            "========================================\n",
            "-------------------------------------------------------\n",
            "Epoch 2/5 | Sample 301/391\n",
            " => Loss (discriminator): 0.493\n",
            " => Loss (generator): 1.798\n",
            "\n",
            "true vs generated stroke:\n"
          ]
        },
        {
          "output_type": "display_data",
          "data": {
            "image/png": "[encoded data removed]",
            "text/plain": [
              "<PIL.Image.Image image mode=RGB size=128x64 at 0x7FE310BDBFD0>"
            ]
          },
          "metadata": {}
        },
        {
          "output_type": "stream",
          "name": "stdout",
          "text": [
            "========================================\n",
            "\n",
            "true\t\tdiscriminator prediction\n",
            "----------------------------------------\n",
            "1\t\t0.894\n",
            "0\t\t0.087\n",
            "========================================\n",
            "-------------------------------------------------------\n",
            "Epoch 2/5 | Sample 326/391\n",
            " => Loss (discriminator): 0.491\n",
            " => Loss (generator): 1.801\n",
            "\n",
            "true vs generated stroke:\n"
          ]
        },
        {
          "output_type": "display_data",
          "data": {
            "image/png": "[encoded data removed]",
            "text/plain": [
              "<PIL.Image.Image image mode=RGB size=128x64 at 0x7FE31198E910>"
            ]
          },
          "metadata": {}
        },
        {
          "output_type": "stream",
          "name": "stdout",
          "text": [
            "========================================\n",
            "\n",
            "true\t\tdiscriminator prediction\n",
            "----------------------------------------\n",
            "1\t\t0.975\n",
            "0\t\t0.019\n",
            "========================================\n",
            "-------------------------------------------------------\n",
            "Epoch 2/5 | Sample 351/391\n",
            " => Loss (discriminator): 0.488\n",
            " => Loss (generator): 1.802\n",
            "\n",
            "true vs generated stroke:\n"
          ]
        },
        {
          "output_type": "display_data",
          "data": {
            "image/png": "[encoded data removed]",
            "text/plain": [
              "<PIL.Image.Image image mode=RGB size=128x64 at 0x7FE311989410>"
            ]
          },
          "metadata": {}
        },
        {
          "output_type": "stream",
          "name": "stdout",
          "text": [
            "========================================\n",
            "\n",
            "true\t\tdiscriminator prediction\n",
            "----------------------------------------\n",
            "1\t\t0.429\n",
            "0\t\t0.638\n",
            "========================================\n",
            "-------------------------------------------------------\n",
            "Epoch 2/5 | Sample 376/391\n",
            " => Loss (discriminator): 0.486\n",
            " => Loss (generator): 1.806\n",
            "\n",
            "true vs generated stroke:\n"
          ]
        },
        {
          "output_type": "display_data",
          "data": {
            "image/png": "[encoded data removed]",
            "text/plain": [
              "<PIL.Image.Image image mode=RGB size=128x64 at 0x7FE3113A25D0>"
            ]
          },
          "metadata": {}
        },
        {
          "output_type": "stream",
          "name": "stdout",
          "text": [
            "========================================\n",
            "\n",
            "true\t\tdiscriminator prediction\n",
            "----------------------------------------\n",
            "1\t\t0.556\n",
            "0\t\t0.378\n",
            "========================================\n",
            "-------------------------------------------------------\n",
            "----------------------------------------------------------------------------------------------------\n",
            "End of epoch 2/5 - time: 1677.329\n",
            " => Loss (discriminator): 0.484\n",
            " => Loss (generator): 1.809\n",
            "\n",
            "Epoch 3/5 | Sample 1/391\n",
            " => Loss (discriminator): 0.484\n",
            " => Loss (generator): 1.809\n",
            "\n",
            "true vs generated stroke:\n"
          ]
        },
        {
          "output_type": "display_data",
          "data": {
            "image/png": "[encoded data removed]",
            "text/plain": [
              "<PIL.Image.Image image mode=RGB size=128x64 at 0x7FE310BDBD90>"
            ]
          },
          "metadata": {}
        },
        {
          "output_type": "stream",
          "name": "stdout",
          "text": [
            "========================================\n",
            "\n",
            "true\t\tdiscriminator prediction\n",
            "----------------------------------------\n",
            "1\t\t0.677\n",
            "0\t\t0.137\n",
            "========================================\n",
            "-------------------------------------------------------\n",
            "Epoch 3/5 | Sample 26/391\n",
            " => Loss (discriminator): 0.482\n",
            " => Loss (generator): 1.814\n",
            "\n",
            "true vs generated stroke:\n"
          ]
        },
        {
          "output_type": "display_data",
          "data": {
            "image/png": "[encoded data removed]",
            "text/plain": [
              "<PIL.Image.Image image mode=RGB size=128x64 at 0x7FE310C04290>"
            ]
          },
          "metadata": {}
        },
        {
          "output_type": "stream",
          "name": "stdout",
          "text": [
            "========================================\n",
            "\n",
            "true\t\tdiscriminator prediction\n",
            "----------------------------------------\n",
            "1\t\t0.983\n",
            "0\t\t0.028\n",
            "========================================\n",
            "-------------------------------------------------------\n",
            "Epoch 3/5 | Sample 51/391\n",
            " => Loss (discriminator): 0.480\n",
            " => Loss (generator): 1.815\n",
            "\n",
            "true vs generated stroke:\n"
          ]
        },
        {
          "output_type": "display_data",
          "data": {
            "image/png": "[encoded data removed]",
            "text/plain": [
              "<PIL.Image.Image image mode=RGB size=128x64 at 0x7FE310C04B10>"
            ]
          },
          "metadata": {}
        },
        {
          "output_type": "stream",
          "name": "stdout",
          "text": [
            "========================================\n",
            "\n",
            "true\t\tdiscriminator prediction\n",
            "----------------------------------------\n",
            "1\t\t0.371\n",
            "0\t\t0.184\n",
            "========================================\n",
            "-------------------------------------------------------\n",
            "Epoch 3/5 | Sample 76/391\n",
            " => Loss (discriminator): 0.477\n",
            " => Loss (generator): 1.820\n",
            "\n",
            "true vs generated stroke:\n"
          ]
        },
        {
          "output_type": "display_data",
          "data": {
            "image/png": "[encoded data removed]",
            "text/plain": [
              "<PIL.Image.Image image mode=RGB size=128x64 at 0x7FE310BF2C90>"
            ]
          },
          "metadata": {}
        },
        {
          "output_type": "stream",
          "name": "stdout",
          "text": [
            "========================================\n",
            "\n",
            "true\t\tdiscriminator prediction\n",
            "----------------------------------------\n",
            "1\t\t0.734\n",
            "0\t\t0.108\n",
            "========================================\n",
            "-------------------------------------------------------\n",
            "Epoch 3/5 | Sample 101/391\n",
            " => Loss (discriminator): 0.475\n",
            " => Loss (generator): 1.822\n",
            "\n",
            "true vs generated stroke:\n"
          ]
        },
        {
          "output_type": "display_data",
          "data": {
            "image/png": "[encoded data removed]",
            "text/plain": [
              "<PIL.Image.Image image mode=RGB size=128x64 at 0x7FE310BE42D0>"
            ]
          },
          "metadata": {}
        },
        {
          "output_type": "stream",
          "name": "stdout",
          "text": [
            "========================================\n",
            "\n",
            "true\t\tdiscriminator prediction\n",
            "----------------------------------------\n",
            "1\t\t0.982\n",
            "0\t\t0.27\n",
            "========================================\n",
            "-------------------------------------------------------\n",
            "Epoch 3/5 | Sample 126/391\n",
            " => Loss (discriminator): 0.473\n",
            " => Loss (generator): 1.828\n",
            "\n",
            "true vs generated stroke:\n"
          ]
        },
        {
          "output_type": "display_data",
          "data": {
            "image/png": "[encoded data removed]",
            "text/plain": [
              "<PIL.Image.Image image mode=RGB size=128x64 at 0x7FE310BF2DD0>"
            ]
          },
          "metadata": {}
        },
        {
          "output_type": "stream",
          "name": "stdout",
          "text": [
            "========================================\n",
            "\n",
            "true\t\tdiscriminator prediction\n",
            "----------------------------------------\n",
            "1\t\t0.681\n",
            "0\t\t0.02\n",
            "========================================\n",
            "-------------------------------------------------------\n",
            "Epoch 3/5 | Sample 151/391\n",
            " => Loss (discriminator): 0.471\n",
            " => Loss (generator): 1.830\n",
            "\n",
            "true vs generated stroke:\n"
          ]
        },
        {
          "output_type": "display_data",
          "data": {
            "image/png": "[encoded data removed]",
            "text/plain": [
              "<PIL.Image.Image image mode=RGB size=128x64 at 0x7FE310BF2D90>"
            ]
          },
          "metadata": {}
        },
        {
          "output_type": "stream",
          "name": "stdout",
          "text": [
            "========================================\n",
            "\n",
            "true\t\tdiscriminator prediction\n",
            "----------------------------------------\n",
            "1\t\t0.813\n",
            "0\t\t0.14\n",
            "========================================\n",
            "-------------------------------------------------------\n",
            "Epoch 3/5 | Sample 176/391\n",
            " => Loss (discriminator): 0.469\n",
            " => Loss (generator): 1.834\n",
            "\n",
            "true vs generated stroke:\n"
          ]
        },
        {
          "output_type": "display_data",
          "data": {
            "image/png": "[encoded data removed]",
            "text/plain": [
              "<PIL.Image.Image image mode=RGB size=128x64 at 0x7FE31198EF10>"
            ]
          },
          "metadata": {}
        },
        {
          "output_type": "stream",
          "name": "stdout",
          "text": [
            "========================================\n",
            "\n",
            "true\t\tdiscriminator prediction\n",
            "----------------------------------------\n",
            "1\t\t0.815\n",
            "0\t\t0.087\n",
            "========================================\n",
            "-------------------------------------------------------\n",
            "Epoch 3/5 | Sample 201/391\n",
            " => Loss (discriminator): 0.467\n",
            " => Loss (generator): 1.836\n",
            "\n",
            "true vs generated stroke:\n"
          ]
        },
        {
          "output_type": "display_data",
          "data": {
            "image/png": "[encoded data removed]",
            "text/plain": [
              "<PIL.Image.Image image mode=RGB size=128x64 at 0x7FE311989A90>"
            ]
          },
          "metadata": {}
        },
        {
          "output_type": "stream",
          "name": "stdout",
          "text": [
            "========================================\n",
            "\n",
            "true\t\tdiscriminator prediction\n",
            "----------------------------------------\n",
            "1\t\t0.567\n",
            "0\t\t0.089\n",
            "========================================\n",
            "-------------------------------------------------------\n",
            "Epoch 3/5 | Sample 226/391\n",
            " => Loss (discriminator): 0.465\n",
            " => Loss (generator): 1.839\n",
            "\n",
            "true vs generated stroke:\n"
          ]
        },
        {
          "output_type": "display_data",
          "data": {
            "image/png": "[encoded data removed]",
            "text/plain": [
              "<PIL.Image.Image image mode=RGB size=128x64 at 0x7FE31198E1D0>"
            ]
          },
          "metadata": {}
        },
        {
          "output_type": "stream",
          "name": "stdout",
          "text": [
            "========================================\n",
            "\n",
            "true\t\tdiscriminator prediction\n",
            "----------------------------------------\n",
            "1\t\t0.683\n",
            "0\t\t0.119\n",
            "========================================\n",
            "-------------------------------------------------------\n",
            "Epoch 3/5 | Sample 251/391\n",
            " => Loss (discriminator): 0.462\n",
            " => Loss (generator): 1.844\n",
            "\n",
            "true vs generated stroke:\n"
          ]
        },
        {
          "output_type": "display_data",
          "data": {
            "image/png": "[encoded data removed]",
            "text/plain": [
              "<PIL.Image.Image image mode=RGB size=128x64 at 0x7FE31198E550>"
            ]
          },
          "metadata": {}
        },
        {
          "output_type": "stream",
          "name": "stdout",
          "text": [
            "========================================\n",
            "\n",
            "true\t\tdiscriminator prediction\n",
            "----------------------------------------\n",
            "1\t\t0.993\n",
            "0\t\t0.006\n",
            "========================================\n",
            "-------------------------------------------------------\n",
            "Epoch 3/5 | Sample 276/391\n",
            " => Loss (discriminator): 0.461\n",
            " => Loss (generator): 1.848\n",
            "\n",
            "true vs generated stroke:\n"
          ]
        },
        {
          "output_type": "display_data",
          "data": {
            "image/png": "[encoded data removed]",
            "text/plain": [
              "<PIL.Image.Image image mode=RGB size=128x64 at 0x7FE3113A2E90>"
            ]
          },
          "metadata": {}
        },
        {
          "output_type": "stream",
          "name": "stdout",
          "text": [
            "========================================\n",
            "\n",
            "true\t\tdiscriminator prediction\n",
            "----------------------------------------\n",
            "1\t\t0.931\n",
            "0\t\t0.353\n",
            "========================================\n",
            "-------------------------------------------------------\n",
            "Epoch 3/5 | Sample 301/391\n",
            " => Loss (discriminator): 0.459\n",
            " => Loss (generator): 1.852\n",
            "\n",
            "true vs generated stroke:\n"
          ]
        },
        {
          "output_type": "display_data",
          "data": {
            "image/png": "[encoded data removed]",
            "text/plain": [
              "<PIL.Image.Image image mode=RGB size=128x64 at 0x7FE310BF2350>"
            ]
          },
          "metadata": {}
        },
        {
          "output_type": "stream",
          "name": "stdout",
          "text": [
            "========================================\n",
            "\n",
            "true\t\tdiscriminator prediction\n",
            "----------------------------------------\n",
            "1\t\t0.626\n",
            "0\t\t0.408\n",
            "========================================\n",
            "-------------------------------------------------------\n",
            "Epoch 3/5 | Sample 326/391\n",
            " => Loss (discriminator): 0.456\n",
            " => Loss (generator): 1.856\n",
            "\n",
            "true vs generated stroke:\n"
          ]
        },
        {
          "output_type": "display_data",
          "data": {
            "image/png": "[encoded data removed]",
            "text/plain": [
              "<PIL.Image.Image image mode=RGB size=128x64 at 0x7FE3118CECD0>"
            ]
          },
          "metadata": {}
        },
        {
          "output_type": "stream",
          "name": "stdout",
          "text": [
            "========================================\n",
            "\n",
            "true\t\tdiscriminator prediction\n",
            "----------------------------------------\n",
            "1\t\t0.915\n",
            "0\t\t0.028\n",
            "========================================\n",
            "-------------------------------------------------------\n",
            "Epoch 3/5 | Sample 351/391\n",
            " => Loss (discriminator): 0.455\n",
            " => Loss (generator): 1.859\n",
            "\n",
            "true vs generated stroke:\n"
          ]
        },
        {
          "output_type": "display_data",
          "data": {
            "image/png": "[encoded data removed]",
            "text/plain": [
              "<PIL.Image.Image image mode=RGB size=128x64 at 0x7FE31198E190>"
            ]
          },
          "metadata": {}
        },
        {
          "output_type": "stream",
          "name": "stdout",
          "text": [
            "========================================\n",
            "\n",
            "true\t\tdiscriminator prediction\n",
            "----------------------------------------\n",
            "1\t\t0.263\n",
            "0\t\t0.391\n",
            "========================================\n",
            "-------------------------------------------------------\n",
            "Epoch 3/5 | Sample 376/391\n",
            " => Loss (discriminator): 0.453\n",
            " => Loss (generator): 1.863\n",
            "\n",
            "true vs generated stroke:\n"
          ]
        },
        {
          "output_type": "display_data",
          "data": {
            "image/png": "[encoded data removed]",
            "text/plain": [
              "<PIL.Image.Image image mode=RGB size=128x64 at 0x7FE310BE4AD0>"
            ]
          },
          "metadata": {}
        },
        {
          "output_type": "stream",
          "name": "stdout",
          "text": [
            "========================================\n",
            "\n",
            "true\t\tdiscriminator prediction\n",
            "----------------------------------------\n",
            "1\t\t0.985\n",
            "0\t\t0.003\n",
            "========================================\n",
            "-------------------------------------------------------\n",
            "----------------------------------------------------------------------------------------------------\n",
            "End of epoch 3/5 - time: 1675.875\n",
            " => Loss (discriminator): 0.452\n",
            " => Loss (generator): 1.866\n",
            "\n",
            "Epoch 4/5 | Sample 1/391\n",
            " => Loss (discriminator): 0.451\n",
            " => Loss (generator): 1.865\n",
            "\n",
            "true vs generated stroke:\n"
          ]
        },
        {
          "output_type": "display_data",
          "data": {
            "image/png": "[encoded data removed]",
            "text/plain": [
              "<PIL.Image.Image image mode=RGB size=128x64 at 0x7FE3118CE4D0>"
            ]
          },
          "metadata": {}
        },
        {
          "output_type": "stream",
          "name": "stdout",
          "text": [
            "========================================\n",
            "\n",
            "true\t\tdiscriminator prediction\n",
            "----------------------------------------\n",
            "1\t\t0.817\n",
            "0\t\t0.289\n",
            "========================================\n",
            "-------------------------------------------------------\n",
            "Epoch 4/5 | Sample 26/391\n",
            " => Loss (discriminator): 0.449\n",
            " => Loss (generator): 1.871\n",
            "\n",
            "true vs generated stroke:\n"
          ]
        },
        {
          "output_type": "display_data",
          "data": {
            "image/png": "[encoded data removed]",
            "text/plain": [
              "<PIL.Image.Image image mode=RGB size=128x64 at 0x7FE310C04290>"
            ]
          },
          "metadata": {}
        },
        {
          "output_type": "stream",
          "name": "stdout",
          "text": [
            "========================================\n",
            "\n",
            "true\t\tdiscriminator prediction\n",
            "----------------------------------------\n",
            "1\t\t0.965\n",
            "0\t\t0.009\n",
            "========================================\n",
            "-------------------------------------------------------\n",
            "Epoch 4/5 | Sample 51/391\n",
            " => Loss (discriminator): 0.448\n",
            " => Loss (generator): 1.874\n",
            "\n",
            "true vs generated stroke:\n"
          ]
        },
        {
          "output_type": "display_data",
          "data": {
            "image/png": "[encoded data removed]",
            "text/plain": [
              "<PIL.Image.Image image mode=RGB size=128x64 at 0x7FE310C043D0>"
            ]
          },
          "metadata": {}
        },
        {
          "output_type": "stream",
          "name": "stdout",
          "text": [
            "========================================\n",
            "\n",
            "true\t\tdiscriminator prediction\n",
            "----------------------------------------\n",
            "1\t\t0.927\n",
            "0\t\t0.017\n",
            "========================================\n",
            "-------------------------------------------------------\n",
            "Epoch 4/5 | Sample 76/391\n",
            " => Loss (discriminator): 0.446\n",
            " => Loss (generator): 1.877\n",
            "\n",
            "true vs generated stroke:\n"
          ]
        },
        {
          "output_type": "display_data",
          "data": {
            "image/png": "[encoded data removed]",
            "text/plain": [
              "<PIL.Image.Image image mode=RGB size=128x64 at 0x7FE31198EBD0>"
            ]
          },
          "metadata": {}
        },
        {
          "output_type": "stream",
          "name": "stdout",
          "text": [
            "========================================\n",
            "\n",
            "true\t\tdiscriminator prediction\n",
            "----------------------------------------\n",
            "1\t\t0.61\n",
            "0\t\t0.282\n",
            "========================================\n",
            "-------------------------------------------------------\n",
            "Epoch 4/5 | Sample 101/391\n",
            " => Loss (discriminator): 0.444\n",
            " => Loss (generator): 1.880\n",
            "\n",
            "true vs generated stroke:\n"
          ]
        },
        {
          "output_type": "display_data",
          "data": {
            "image/png": "[encoded data removed]",
            "text/plain": [
              "<PIL.Image.Image image mode=RGB size=128x64 at 0x7FE310BF2DD0>"
            ]
          },
          "metadata": {}
        },
        {
          "output_type": "stream",
          "name": "stdout",
          "text": [
            "========================================\n",
            "\n",
            "true\t\tdiscriminator prediction\n",
            "----------------------------------------\n",
            "1\t\t0.917\n",
            "0\t\t0.095\n",
            "========================================\n",
            "-------------------------------------------------------\n",
            "Epoch 4/5 | Sample 126/391\n",
            " => Loss (discriminator): 0.443\n",
            " => Loss (generator): 1.884\n",
            "\n",
            "true vs generated stroke:\n"
          ]
        },
        {
          "output_type": "display_data",
          "data": {
            "image/png": "[encoded data removed]",
            "text/plain": [
              "<PIL.Image.Image image mode=RGB size=128x64 at 0x7FE3113A2C10>"
            ]
          },
          "metadata": {}
        },
        {
          "output_type": "stream",
          "name": "stdout",
          "text": [
            "========================================\n",
            "\n",
            "true\t\tdiscriminator prediction\n",
            "----------------------------------------\n",
            "1\t\t0.948\n",
            "0\t\t0.053\n",
            "========================================\n",
            "-------------------------------------------------------\n",
            "Epoch 4/5 | Sample 151/391\n",
            " => Loss (discriminator): 0.441\n",
            " => Loss (generator): 1.887\n",
            "\n",
            "true vs generated stroke:\n"
          ]
        },
        {
          "output_type": "display_data",
          "data": {
            "image/png": "[encoded data removed]",
            "text/plain": [
              "<PIL.Image.Image image mode=RGB size=128x64 at 0x7FE3113A2C50>"
            ]
          },
          "metadata": {}
        },
        {
          "output_type": "stream",
          "name": "stdout",
          "text": [
            "========================================\n",
            "\n",
            "true\t\tdiscriminator prediction\n",
            "----------------------------------------\n",
            "1\t\t0.335\n",
            "0\t\t0.448\n",
            "========================================\n",
            "-------------------------------------------------------\n",
            "Epoch 4/5 | Sample 176/391\n",
            " => Loss (discriminator): 0.439\n",
            " => Loss (generator): 1.891\n",
            "\n",
            "true vs generated stroke:\n"
          ]
        },
        {
          "output_type": "display_data",
          "data": {
            "image/png": "[encoded data removed]",
            "text/plain": [
              "<PIL.Image.Image image mode=RGB size=128x64 at 0x7FE310BF2C90>"
            ]
          },
          "metadata": {}
        },
        {
          "output_type": "stream",
          "name": "stdout",
          "text": [
            "========================================\n",
            "\n",
            "true\t\tdiscriminator prediction\n",
            "----------------------------------------\n",
            "1\t\t0.742\n",
            "0\t\t0.035\n",
            "========================================\n",
            "-------------------------------------------------------\n",
            "Epoch 4/5 | Sample 201/391\n",
            " => Loss (discriminator): 0.437\n",
            " => Loss (generator): 1.893\n",
            "\n",
            "true vs generated stroke:\n"
          ]
        },
        {
          "output_type": "display_data",
          "data": {
            "image/png": "[encoded data removed]",
            "text/plain": [
              "<PIL.Image.Image image mode=RGB size=128x64 at 0x7FE3118CE9D0>"
            ]
          },
          "metadata": {}
        },
        {
          "output_type": "stream",
          "name": "stdout",
          "text": [
            "========================================\n",
            "\n",
            "true\t\tdiscriminator prediction\n",
            "----------------------------------------\n",
            "1\t\t0.872\n",
            "0\t\t0.374\n",
            "========================================\n",
            "-------------------------------------------------------\n",
            "Epoch 4/5 | Sample 226/391\n",
            " => Loss (discriminator): 0.436\n",
            " => Loss (generator): 1.897\n",
            "\n",
            "true vs generated stroke:\n"
          ]
        },
        {
          "output_type": "display_data",
          "data": {
            "image/png": "[encoded data removed]",
            "text/plain": [
              "<PIL.Image.Image image mode=RGB size=128x64 at 0x7FE311989250>"
            ]
          },
          "metadata": {}
        },
        {
          "output_type": "stream",
          "name": "stdout",
          "text": [
            "========================================\n",
            "\n",
            "true\t\tdiscriminator prediction\n",
            "----------------------------------------\n",
            "1\t\t0.948\n",
            "0\t\t0.025\n",
            "========================================\n",
            "-------------------------------------------------------\n",
            "Epoch 4/5 | Sample 251/391\n",
            " => Loss (discriminator): 0.434\n",
            " => Loss (generator): 1.901\n",
            "\n",
            "true vs generated stroke:\n"
          ]
        },
        {
          "output_type": "display_data",
          "data": {
            "image/png": "[encoded data removed]",
            "text/plain": [
              "<PIL.Image.Image image mode=RGB size=128x64 at 0x7FE3118CE390>"
            ]
          },
          "metadata": {}
        },
        {
          "output_type": "stream",
          "name": "stdout",
          "text": [
            "========================================\n",
            "\n",
            "true\t\tdiscriminator prediction\n",
            "----------------------------------------\n",
            "1\t\t0.949\n",
            "0\t\t0.036\n",
            "========================================\n",
            "-------------------------------------------------------\n",
            "Epoch 4/5 | Sample 276/391\n",
            " => Loss (discriminator): 0.433\n",
            " => Loss (generator): 1.906\n",
            "\n",
            "true vs generated stroke:\n"
          ]
        },
        {
          "output_type": "display_data",
          "data": {
            "image/png": "[encoded data removed]",
            "text/plain": [
              "<PIL.Image.Image image mode=RGB size=128x64 at 0x7FE31198E350>"
            ]
          },
          "metadata": {}
        },
        {
          "output_type": "stream",
          "name": "stdout",
          "text": [
            "========================================\n",
            "\n",
            "true\t\tdiscriminator prediction\n",
            "----------------------------------------\n",
            "1\t\t0.977\n",
            "0\t\t0.063\n",
            "========================================\n",
            "-------------------------------------------------------\n",
            "Epoch 4/5 | Sample 301/391\n",
            " => Loss (discriminator): 0.431\n",
            " => Loss (generator): 1.909\n",
            "\n",
            "true vs generated stroke:\n"
          ]
        },
        {
          "output_type": "display_data",
          "data": {
            "image/png": "[encoded data removed]",
            "text/plain": [
              "<PIL.Image.Image image mode=RGB size=128x64 at 0x7FE3113A2E90>"
            ]
          },
          "metadata": {}
        },
        {
          "output_type": "stream",
          "name": "stdout",
          "text": [
            "========================================\n",
            "\n",
            "true\t\tdiscriminator prediction\n",
            "----------------------------------------\n",
            "1\t\t0.163\n",
            "0\t\t0.748\n",
            "========================================\n",
            "-------------------------------------------------------\n",
            "Epoch 4/5 | Sample 326/391\n",
            " => Loss (discriminator): 0.429\n",
            " => Loss (generator): 1.914\n",
            "\n",
            "true vs generated stroke:\n"
          ]
        },
        {
          "output_type": "display_data",
          "data": {
            "image/png": "[encoded data removed]",
            "text/plain": [
              "<PIL.Image.Image image mode=RGB size=128x64 at 0x7FE3118CE790>"
            ]
          },
          "metadata": {}
        },
        {
          "output_type": "stream",
          "name": "stdout",
          "text": [
            "========================================\n",
            "\n",
            "true\t\tdiscriminator prediction\n",
            "----------------------------------------\n",
            "1\t\t0.924\n",
            "0\t\t0.113\n",
            "========================================\n",
            "-------------------------------------------------------\n",
            "Epoch 4/5 | Sample 351/391\n",
            " => Loss (discriminator): 0.427\n",
            " => Loss (generator): 1.919\n",
            "\n",
            "true vs generated stroke:\n"
          ]
        },
        {
          "output_type": "display_data",
          "data": {
            "image/png": "[encoded data removed]",
            "text/plain": [
              "<PIL.Image.Image image mode=RGB size=128x64 at 0x7FE310C04110>"
            ]
          },
          "metadata": {}
        },
        {
          "output_type": "stream",
          "name": "stdout",
          "text": [
            "========================================\n",
            "\n",
            "true\t\tdiscriminator prediction\n",
            "----------------------------------------\n",
            "1\t\t0.98\n",
            "0\t\t0.005\n",
            "========================================\n",
            "-------------------------------------------------------\n",
            "Epoch 4/5 | Sample 376/391\n",
            " => Loss (discriminator): 0.426\n",
            " => Loss (generator): 1.922\n",
            "\n",
            "true vs generated stroke:\n"
          ]
        },
        {
          "output_type": "display_data",
          "data": {
            "image/png": "[encoded data removed]",
            "text/plain": [
              "<PIL.Image.Image image mode=RGB size=128x64 at 0x7FE31198E650>"
            ]
          },
          "metadata": {}
        },
        {
          "output_type": "stream",
          "name": "stdout",
          "text": [
            "========================================\n",
            "\n",
            "true\t\tdiscriminator prediction\n",
            "----------------------------------------\n",
            "1\t\t0.996\n",
            "0\t\t0.035\n",
            "========================================\n",
            "-------------------------------------------------------\n",
            "----------------------------------------------------------------------------------------------------\n",
            "End of epoch 4/5 - time: 1676.771\n",
            " => Loss (discriminator): 0.425\n",
            " => Loss (generator): 1.925\n",
            "\n",
            "Epoch 5/5 | Sample 1/391\n",
            " => Loss (discriminator): 0.425\n",
            " => Loss (generator): 1.925\n",
            "\n",
            "true vs generated stroke:\n"
          ]
        },
        {
          "output_type": "display_data",
          "data": {
            "image/png": "[encoded data removed]",
            "text/plain": [
              "<PIL.Image.Image image mode=RGB size=128x64 at 0x7FE310BE4C50>"
            ]
          },
          "metadata": {}
        },
        {
          "output_type": "stream",
          "name": "stdout",
          "text": [
            "========================================\n",
            "\n",
            "true\t\tdiscriminator prediction\n",
            "----------------------------------------\n",
            "1\t\t0.85\n",
            "0\t\t0.068\n",
            "========================================\n",
            "-------------------------------------------------------\n",
            "Epoch 5/5 | Sample 26/391\n",
            " => Loss (discriminator): 0.423\n",
            " => Loss (generator): 1.929\n",
            "\n",
            "true vs generated stroke:\n"
          ]
        },
        {
          "output_type": "display_data",
          "data": {
            "image/png": "[encoded data removed]",
            "text/plain": [
              "<PIL.Image.Image image mode=RGB size=128x64 at 0x7FE31198E650>"
            ]
          },
          "metadata": {}
        },
        {
          "output_type": "stream",
          "name": "stdout",
          "text": [
            "========================================\n",
            "\n",
            "true\t\tdiscriminator prediction\n",
            "----------------------------------------\n",
            "1\t\t0.812\n",
            "0\t\t0.33\n",
            "========================================\n",
            "-------------------------------------------------------\n",
            "Epoch 5/5 | Sample 51/391\n",
            " => Loss (discriminator): 0.422\n",
            " => Loss (generator): 1.933\n",
            "\n",
            "true vs generated stroke:\n"
          ]
        },
        {
          "output_type": "display_data",
          "data": {
            "image/png": "[encoded data removed]",
            "text/plain": [
              "<PIL.Image.Image image mode=RGB size=128x64 at 0x7FE3113A25D0>"
            ]
          },
          "metadata": {}
        },
        {
          "output_type": "stream",
          "name": "stdout",
          "text": [
            "========================================\n",
            "\n",
            "true\t\tdiscriminator prediction\n",
            "----------------------------------------\n",
            "1\t\t0.941\n",
            "0\t\t0.017\n",
            "========================================\n",
            "-------------------------------------------------------\n",
            "Epoch 5/5 | Sample 76/391\n",
            " => Loss (discriminator): 0.420\n",
            " => Loss (generator): 1.936\n",
            "\n",
            "true vs generated stroke:\n"
          ]
        },
        {
          "output_type": "display_data",
          "data": {
            "image/png": "[encoded data removed]",
            "text/plain": [
              "<PIL.Image.Image image mode=RGB size=128x64 at 0x7FE310BDBDD0>"
            ]
          },
          "metadata": {}
        },
        {
          "output_type": "stream",
          "name": "stdout",
          "text": [
            "========================================\n",
            "\n",
            "true\t\tdiscriminator prediction\n",
            "----------------------------------------\n",
            "1\t\t0.098\n",
            "0\t\t0.853\n",
            "========================================\n",
            "-------------------------------------------------------\n",
            "Epoch 5/5 | Sample 101/391\n",
            " => Loss (discriminator): 0.419\n",
            " => Loss (generator): 1.939\n",
            "\n",
            "true vs generated stroke:\n"
          ]
        },
        {
          "output_type": "display_data",
          "data": {
            "image/png": "[encoded data removed]",
            "text/plain": [
              "<PIL.Image.Image image mode=RGB size=128x64 at 0x7FE31198E590>"
            ]
          },
          "metadata": {}
        },
        {
          "output_type": "stream",
          "name": "stdout",
          "text": [
            "========================================\n",
            "\n",
            "true\t\tdiscriminator prediction\n",
            "----------------------------------------\n",
            "1\t\t0.981\n",
            "0\t\t0.385\n",
            "========================================\n",
            "-------------------------------------------------------\n",
            "Epoch 5/5 | Sample 126/391\n",
            " => Loss (discriminator): 0.417\n",
            " => Loss (generator): 1.943\n",
            "\n",
            "true vs generated stroke:\n"
          ]
        },
        {
          "output_type": "display_data",
          "data": {
            "image/png": "[encoded data removed]",
            "text/plain": [
              "<PIL.Image.Image image mode=RGB size=128x64 at 0x7FE310BDBB10>"
            ]
          },
          "metadata": {}
        },
        {
          "output_type": "stream",
          "name": "stdout",
          "text": [
            "========================================\n",
            "\n",
            "true\t\tdiscriminator prediction\n",
            "----------------------------------------\n",
            "1\t\t0.724\n",
            "0\t\t0.025\n",
            "========================================\n",
            "-------------------------------------------------------\n",
            "Epoch 5/5 | Sample 151/391\n",
            " => Loss (discriminator): 0.415\n",
            " => Loss (generator): 1.947\n",
            "\n",
            "true vs generated stroke:\n"
          ]
        },
        {
          "output_type": "display_data",
          "data": {
            "image/png": "[encoded data removed]",
            "text/plain": [
              "<PIL.Image.Image image mode=RGB size=128x64 at 0x7FE310C04990>"
            ]
          },
          "metadata": {}
        },
        {
          "output_type": "stream",
          "name": "stdout",
          "text": [
            "========================================\n",
            "\n",
            "true\t\tdiscriminator prediction\n",
            "----------------------------------------\n",
            "1\t\t0.928\n",
            "0\t\t0.353\n",
            "========================================\n",
            "-------------------------------------------------------\n",
            "Epoch 5/5 | Sample 176/391\n",
            " => Loss (discriminator): 0.414\n",
            " => Loss (generator): 1.951\n",
            "\n",
            "true vs generated stroke:\n"
          ]
        },
        {
          "output_type": "display_data",
          "data": {
            "image/png": "[encoded data removed]",
            "text/plain": [
              "<PIL.Image.Image image mode=RGB size=128x64 at 0x7FE31198EF50>"
            ]
          },
          "metadata": {}
        },
        {
          "output_type": "stream",
          "name": "stdout",
          "text": [
            "========================================\n",
            "\n",
            "true\t\tdiscriminator prediction\n",
            "----------------------------------------\n",
            "1\t\t0.813\n",
            "0\t\t0.03\n",
            "========================================\n",
            "-------------------------------------------------------\n",
            "Epoch 5/5 | Sample 201/391\n",
            " => Loss (discriminator): 0.412\n",
            " => Loss (generator): 1.955\n",
            "\n",
            "true vs generated stroke:\n"
          ]
        },
        {
          "output_type": "display_data",
          "data": {
            "image/png": "[encoded data removed]",
            "text/plain": [
              "<PIL.Image.Image image mode=RGB size=128x64 at 0x7FE3113A2910>"
            ]
          },
          "metadata": {}
        },
        {
          "output_type": "stream",
          "name": "stdout",
          "text": [
            "========================================\n",
            "\n",
            "true\t\tdiscriminator prediction\n",
            "----------------------------------------\n",
            "1\t\t0.957\n",
            "0\t\t0.071\n",
            "========================================\n",
            "-------------------------------------------------------\n",
            "Epoch 5/5 | Sample 226/391\n",
            " => Loss (discriminator): 0.411\n",
            " => Loss (generator): 1.957\n",
            "\n",
            "true vs generated stroke:\n"
          ]
        },
        {
          "output_type": "display_data",
          "data": {
            "image/png": "[encoded data removed]",
            "text/plain": [
              "<PIL.Image.Image image mode=RGB size=128x64 at 0x7FE311989A90>"
            ]
          },
          "metadata": {}
        },
        {
          "output_type": "stream",
          "name": "stdout",
          "text": [
            "========================================\n",
            "\n",
            "true\t\tdiscriminator prediction\n",
            "----------------------------------------\n",
            "1\t\t0.938\n",
            "0\t\t0.035\n",
            "========================================\n",
            "-------------------------------------------------------\n",
            "Epoch 5/5 | Sample 251/391\n",
            " => Loss (discriminator): 0.410\n",
            " => Loss (generator): 1.962\n",
            "\n",
            "true vs generated stroke:\n"
          ]
        },
        {
          "output_type": "display_data",
          "data": {
            "image/png": "[encoded data removed]",
            "text/plain": [
              "<PIL.Image.Image image mode=RGB size=128x64 at 0x7FE3118CE450>"
            ]
          },
          "metadata": {}
        },
        {
          "output_type": "stream",
          "name": "stdout",
          "text": [
            "========================================\n",
            "\n",
            "true\t\tdiscriminator prediction\n",
            "----------------------------------------\n",
            "1\t\t0.971\n",
            "0\t\t0.0\n",
            "========================================\n",
            "-------------------------------------------------------\n",
            "Epoch 5/5 | Sample 276/391\n",
            " => Loss (discriminator): 0.409\n",
            " => Loss (generator): 1.965\n",
            "\n",
            "true vs generated stroke:\n"
          ]
        },
        {
          "output_type": "display_data",
          "data": {
            "image/png": "[encoded data removed]",
            "text/plain": [
              "<PIL.Image.Image image mode=RGB size=128x64 at 0x7FE31198E790>"
            ]
          },
          "metadata": {}
        },
        {
          "output_type": "stream",
          "name": "stdout",
          "text": [
            "========================================\n",
            "\n",
            "true\t\tdiscriminator prediction\n",
            "----------------------------------------\n",
            "1\t\t0.264\n",
            "0\t\t0.512\n",
            "========================================\n",
            "-------------------------------------------------------\n",
            "Epoch 5/5 | Sample 301/391\n",
            " => Loss (discriminator): 0.407\n",
            " => Loss (generator): 1.970\n",
            "\n",
            "true vs generated stroke:\n"
          ]
        },
        {
          "output_type": "display_data",
          "data": {
            "image/png": "[encoded data removed]",
            "text/plain": [
              "<PIL.Image.Image image mode=RGB size=128x64 at 0x7FE310BF2DD0>"
            ]
          },
          "metadata": {}
        },
        {
          "output_type": "stream",
          "name": "stdout",
          "text": [
            "========================================\n",
            "\n",
            "true\t\tdiscriminator prediction\n",
            "----------------------------------------\n",
            "1\t\t0.414\n",
            "0\t\t0.605\n",
            "========================================\n",
            "-------------------------------------------------------\n",
            "Epoch 5/5 | Sample 326/391\n",
            " => Loss (discriminator): 0.406\n",
            " => Loss (generator): 1.974\n",
            "\n",
            "true vs generated stroke:\n"
          ]
        },
        {
          "output_type": "display_data",
          "data": {
            "image/png": "[encoded data removed]",
            "text/plain": [
              "<PIL.Image.Image image mode=RGB size=128x64 at 0x7FE310BE46D0>"
            ]
          },
          "metadata": {}
        },
        {
          "output_type": "stream",
          "name": "stdout",
          "text": [
            "========================================\n",
            "\n",
            "true\t\tdiscriminator prediction\n",
            "----------------------------------------\n",
            "1\t\t0.367\n",
            "0\t\t0.577\n",
            "========================================\n",
            "-------------------------------------------------------\n",
            "Epoch 5/5 | Sample 351/391\n",
            " => Loss (discriminator): 0.405\n",
            " => Loss (generator): 1.978\n",
            "\n",
            "true vs generated stroke:\n"
          ]
        },
        {
          "output_type": "display_data",
          "data": {
            "image/png": "[encoded data removed]",
            "text/plain": [
              "<PIL.Image.Image image mode=RGB size=128x64 at 0x7FE3113A2810>"
            ]
          },
          "metadata": {}
        },
        {
          "output_type": "stream",
          "name": "stdout",
          "text": [
            "========================================\n",
            "\n",
            "true\t\tdiscriminator prediction\n",
            "----------------------------------------\n",
            "1\t\t0.696\n",
            "0\t\t0.256\n",
            "========================================\n",
            "-------------------------------------------------------\n",
            "Epoch 5/5 | Sample 376/391\n",
            " => Loss (discriminator): 0.404\n",
            " => Loss (generator): 1.981\n",
            "\n",
            "true vs generated stroke:\n"
          ]
        },
        {
          "output_type": "display_data",
          "data": {
            "image/png": "[encoded data removed]",
            "text/plain": [
              "<PIL.Image.Image image mode=RGB size=128x64 at 0x7FE3118CE090>"
            ]
          },
          "metadata": {}
        },
        {
          "output_type": "stream",
          "name": "stdout",
          "text": [
            "========================================\n",
            "\n",
            "true\t\tdiscriminator prediction\n",
            "----------------------------------------\n",
            "1\t\t0.99\n",
            "0\t\t0.041\n",
            "========================================\n",
            "-------------------------------------------------------\n",
            "----------------------------------------------------------------------------------------------------\n",
            "End of epoch 5/5 - time: 1676.237\n",
            " => Loss (discriminator): 0.402\n",
            " => Loss (generator): 1.983\n",
            "\n",
            "\n",
            "END OF TRAINING: models are saved to /content/gdrive/MyDrive/NaturalPainters/models/gan/\n"
          ]
        }
      ]
    },
    {
      "cell_type": "code",
      "source": [
        ""
      ],
      "metadata": {
        "id": "_j4AgJFW_U_Z"
      },
      "execution_count": null,
      "outputs": []
    }
  ]
}
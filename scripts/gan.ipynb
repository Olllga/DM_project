{
  "nbformat": 4,
  "nbformat_minor": 0,
  "metadata": {
    "colab": {
      "name": "gan.ipynb",
      "provenance": [],
      "collapsed_sections": []
    },
    "kernelspec": {
      "name": "python3",
      "display_name": "Python 3"
    },
    "language_info": {
      "name": "python"
    },
    "accelerator": "GPU"
  },
  "cells": [
    {
      "cell_type": "code",
      "execution_count": 27,
      "metadata": {
        "id": "WnO6ukDy8CEW"
      },
      "outputs": [],
      "source": [
        "from google.colab import drive\n",
        "import os\n",
        "import numpy as np\n",
        "import matplotlib.pyplot as plt\n",
        "from IPython.display import display\n",
        "import time\n",
        "\n",
        "import torch\n",
        "import torch.nn as nn\n",
        "import torch.nn.functional as F\n",
        "from torch.utils.data import TensorDataset, DataLoader\n",
        "import torch.optim as optim\n",
        "\n",
        "from torchvision.transforms.functional import to_pil_image\n",
        "from torchvision import models, transforms\n",
        "\n",
        "from fastai.callbacks import hook_outputs\n",
        "from fastai.torch_core import requires_grad, children"
      ]
    },
    {
      "cell_type": "code",
      "source": [
        "# check if training using GPU is possible\n",
        "torch.cuda.is_available()"
      ],
      "metadata": {
        "colab": {
          "base_uri": "https://localhost:8080/"
        },
        "id": "kpZL9-np8UlJ",
        "outputId": "cfdad1ea-afa9-48c8-9587-d189ceeb82fe"
      },
      "execution_count": 3,
      "outputs": [
        {
          "output_type": "execute_result",
          "data": {
            "text/plain": [
              "True"
            ]
          },
          "metadata": {},
          "execution_count": 3
        }
      ]
    },
    {
      "cell_type": "code",
      "source": [
        "# mounting Google Drive with your credentials \n",
        "drive.mount('/content/gdrive')"
      ],
      "metadata": {
        "colab": {
          "base_uri": "https://localhost:8080/"
        },
        "id": "RJYYLuip8320",
        "outputId": "9aa4b2cf-7886-4d89-a23d-c17402e1d0d3"
      },
      "execution_count": 12,
      "outputs": [
        {
          "output_type": "stream",
          "name": "stdout",
          "text": [
            "Mounted at /content/gdrive\n"
          ]
        }
      ]
    },
    {
      "cell_type": "code",
      "source": [
        "# folder, created in advance in the Google Drive and containing kaggle.json\n",
        "#project_folder = \"/content/gdrive/My Drive/Kaggle/NaturalPainters\" # for original email\n",
        "project_folder = \"/content/gdrive/My Drive/NaturalPainters\" \n",
        "os.environ['KAGGLE_CONFIG_DIR'] = project_folder"
      ],
      "metadata": {
        "id": "CJ7Iou7H8cyN"
      },
      "execution_count": 13,
      "outputs": []
    },
    {
      "cell_type": "code",
      "source": [
        "# dive into folder\n",
        "#%cd /content/gdrive/MyDrive/Kaggle/NaturalPainters\n",
        "%cd /content/gdrive/MyDrive/NaturalPainters"
      ],
      "metadata": {
        "colab": {
          "base_uri": "https://localhost:8080/"
        },
        "id": "szTm6heA8iha",
        "outputId": "9b1dead7-3f0d-411b-8921-9c0bd48a1445"
      },
      "execution_count": 14,
      "outputs": [
        {
          "output_type": "stream",
          "name": "stdout",
          "text": [
            "/content/gdrive/.shortcut-targets-by-id/1m2LH2VheZ1KLU1PiFqOKItm5-sBWZ1C4/NaturalPainters\n"
          ]
        }
      ]
    },
    {
      "cell_type": "markdown",
      "source": [
        "# **GAN**"
      ],
      "metadata": {
        "id": "XUFlfIb79CQ_"
      }
    },
    {
      "cell_type": "code",
      "source": [
        "# data is stored in the 'episodes_i.npz' format, where i is in {0,...,77}\n",
        "# this routine loads desired 'episodes_i.npz' for a particular i\n",
        "# data will be loaded in the dictionary with two fields: 'strokes' and 'actions'\n",
        "def load_data(npz):\n",
        "\n",
        "    data = np.load('strokes-dataset/' + npz)\n",
        "    return data['strokes'], data['actions']"
      ],
      "metadata": {
        "id": "OmeAaLMZ8kxp"
      },
      "execution_count": 17,
      "outputs": []
    },
    {
      "cell_type": "code",
      "source": [
        "class Generator(nn.Module):\n",
        "\n",
        "    def __init__(self, \n",
        "                 in_features: int,\n",
        "                 img_height: int,\n",
        "                 img_width: int,\n",
        "                 num_features: int,\n",
        "                 img_channels: int):\n",
        "      super(Generator, self).__init__()\n",
        "\n",
        "      self.out_features = img_height * img_width\n",
        "\n",
        "      self.lin = nn.Linear(in_features, self.out_features)\n",
        "\n",
        "      self.conv1 = nn.ConvTranspose2d(self.out_features, num_features, \n",
        "                                      kernel_size = (4, 4), stride = (1, 1), bias = False)\n",
        "      self.norm1 = nn.BatchNorm2d(num_features)\n",
        "\n",
        "      self.conv2 = nn.ConvTranspose2d(num_features, num_features//2, \n",
        "                                      kernel_size = (4, 4), stride = (2, 2), padding = (1, 1), bias = False)\n",
        "      num_features //= 2\n",
        "      self.norm2 = nn.BatchNorm2d(num_features)\n",
        "\n",
        "      self.conv3 = nn.ConvTranspose2d(num_features, num_features//2, \n",
        "                                      kernel_size = (4, 4), stride = (2, 2), padding = (1, 1), bias = False)\n",
        "      num_features //= 2\n",
        "      self.norm3 = nn.BatchNorm2d(num_features)\n",
        "\n",
        "      self.conv4 = nn.ConvTranspose2d(num_features, num_features//2, \n",
        "                                      kernel_size = (4, 4), stride = (2, 2), padding = (1, 1), bias = False)\n",
        "      num_features //= 2\n",
        "      self.norm4 = nn.BatchNorm2d(num_features)\n",
        "\n",
        "      self.conv5 = nn.ConvTranspose2d(num_features, num_features, \n",
        "                                      kernel_size = (3, 3), stride = (1, 1), padding = (1, 1), bias = False)\n",
        "      self.norm5 = nn.BatchNorm2d(num_features)\n",
        "\n",
        "      self.conv6 = nn.ConvTranspose2d(num_features, img_channels, \n",
        "                                      kernel_size = (4, 4), stride = (2, 2), padding = (1, 1), bias = False)\n",
        "\n",
        "\n",
        "\n",
        "    def forward(self, x):\n",
        "      x = self.lin(x)\n",
        "      x = F.relu(self.conv1(x.view(x.size(0), x.size(1), 1, 1)), inplace = True)\n",
        "      x = self.norm1(x)\n",
        "      x = F.relu(self.conv2(x), inplace = True)\n",
        "      x = self.norm2(x)\n",
        "      x = F.relu(self.conv3(x), inplace = True)\n",
        "      x = self.norm3(x)\n",
        "      x = F.relu(self.conv4(x), inplace = True)\n",
        "      x = self.norm4(x)\n",
        "      x = F.relu(self.conv5(x), inplace = True)\n",
        "      x = self.norm5(x)\n",
        "\n",
        "      return torch.tanh(self.conv6(x))"
      ],
      "metadata": {
        "id": "zZiPBHwi9ZsV"
      },
      "execution_count": 20,
      "outputs": []
    },
    {
      "cell_type": "code",
      "source": [
        "class FeatureExtractor(nn.Module):\n",
        "\n",
        "    def __init__(self, \n",
        "                 layers_weights,\n",
        "                 device):\n",
        "      super(FeatureExtractor, self).__init__()\n",
        "      \n",
        "      self.layers_weights = layers_weights\n",
        "      self.device = device\n",
        "      self.feature_extractor, self.layers_indices = self.extractor()\n",
        "      self.outputs = hook_outputs([self.feature_extractor[i] for i in self.layers_indices], detach = False)\n",
        "\n",
        "    def extractor(self):\n",
        "        print(\"Download VGG19 (batch normalized) as pre-trained.\")\n",
        "        if device == 'cuda':\n",
        "            extractor = models.vgg19_bn(True).features.cuda().eval()\n",
        "        else:\n",
        "            extractor = models.vgg19_bn(True).features.eval()\n",
        "        requires_grad(extractor, False)\n",
        "        return extractor, [i - 1 for i, layer in enumerate(children(extractor)) if isinstance(layer, nn.MaxPool2d)][2:]\n",
        "\n",
        "    def gram_matrix(self, input):\n",
        "\n",
        "        (a, b, c, d) = input.size()\n",
        "        features = input.view(a, b, c * d)\n",
        "        G = features @ features.transpose(1, 2)\n",
        "        return G.div(b * c * d)\n",
        "\n",
        "    def forward(self, gen_stroke, true_stroke):\n",
        "\n",
        "        self.feature_extractor(gen_stroke)\n",
        "        gen_stroke_features = [out for out in self.outputs.stored]\n",
        "        \n",
        "        self.feature_extractor(true_stroke)\n",
        "        true_stroke_features = [out.clone() for out in self.outputs.stored]\n",
        "\n",
        "        self.loss = []\n",
        "        \n",
        "        feature_loss = [F.l1_loss(gen_layer, true_layer) * weight\n",
        "                             for gen_layer, true_layer, weight \n",
        "                        in zip(gen_stroke_features, true_stroke_features, self.layers_weights)]\n",
        "        \n",
        "\n",
        "        style_loss = [F.l1_loss(self.gram_matrix(gen_layer), self.gram_matrix(true_layer)) * weight**2 * 5000\n",
        "                             for gen_layer, true_layer, weight \n",
        "                      in zip(gen_stroke_features, true_stroke_features, self.layers_weights)]\n",
        "    \n",
        "        pixel_loss = [F.l1_loss(gen_stroke, true_stroke)]\n",
        "\n",
        "        self.loss += feature_loss + style_loss + pixel_loss\n",
        "                \n",
        "        return sum(self.loss)\n",
        "\n",
        "    def __del__(self):\n",
        "        \n",
        "        self.outputs.remove()"
      ],
      "metadata": {
        "id": "64M2b06_9_Pr"
      },
      "execution_count": 22,
      "outputs": []
    },
    {
      "cell_type": "code",
      "source": [
        "class Discriminator(nn.Module):\n",
        "  def __init__(self, \n",
        "               img_channels: int, \n",
        "               num_features: int):\n",
        "    super(Discriminator, self).__init__()\n",
        "\n",
        "    self.conv1 = nn.Conv2d(img_channels, num_features, kernel_size = (4, 4), stride = (2, 2), padding = (1, 1))\n",
        "    self.conv2 = nn.Conv2d(num_features, num_features*2, kernel_size = (4, 4), stride = (2, 2), padding = (1, 1))\n",
        "    num_features *= 2\n",
        "    self.norm2 = nn.BatchNorm2d(num_features)\n",
        "    self.conv3 = nn.Conv2d(num_features, num_features*2, kernel_size = (4, 4), stride = (2, 2), padding = (1, 1))\n",
        "    num_features *= 2\n",
        "    self.norm3 = nn.BatchNorm2d(num_features)\n",
        "    self.conv4 = nn.Conv2d(num_features, num_features*2, kernel_size = (4, 4), stride = (2, 2), padding = (1, 1))\n",
        "    self.norm4 = nn.BatchNorm2d(num_features*2)\n",
        "    self.lin = nn.Linear(4*4*(num_features*2), 1)\n",
        "\n",
        "\n",
        "  def forward(self, x):\n",
        "    x = F.leaky_relu(self.conv1(x), negative_slope = 0.2)\n",
        "    x = F.leaky_relu(self.norm2(self.conv2(x)), negative_slope = 0.2)\n",
        "    x = F.leaky_relu(self.norm3(self.conv3(x)), negative_slope = 0.2)\n",
        "    x = F.leaky_relu(self.norm4(self.conv4(x)), negative_slope = 0.2)\n",
        "    x = x.flatten(start_dim = 1)\n",
        "\n",
        "    return self.lin(x)"
      ],
      "metadata": {
        "id": "k4Qp_-hO9GA2"
      },
      "execution_count": 19,
      "outputs": []
    },
    {
      "cell_type": "code",
      "source": [
        "strokes_tfms = transforms.Compose([transforms.Lambda(lambda x: x.float()),\n",
        "                                   transforms.Lambda(lambda x: x.div_(255))\n",
        "                                  ])"
      ],
      "metadata": {
        "id": "kNTcTsWY-fby"
      },
      "execution_count": 23,
      "outputs": []
    },
    {
      "cell_type": "code",
      "source": [
        "torch.manual_seed(4)\n",
        "class Trainer():\n",
        "\n",
        "    def __init__(self,\n",
        "                 transforms,\n",
        "                 generator: nn.Module,\n",
        "                 feature_extractor: nn.Module,\n",
        "                 discriminator: nn.Module,\n",
        "                 g_optimizer: torch.optim,\n",
        "                 d_optimizer: torch.optim,\n",
        "                 loss: torch.nn.functional,\n",
        "                 epochs: int = 5,\n",
        "                 gpu: bool = False):\n",
        "            super(Trainer, self).__init__()\n",
        "\n",
        "            self.transforms = transforms\n",
        "            self.generator = generator\n",
        "            self.feature_extractor = feature_extractor\n",
        "            self.discriminator = discriminator\n",
        "            self.g_optimizer = g_optimizer\n",
        "            self.d_optimizer = d_optimizer\n",
        "            self.loss = loss\n",
        "            self.epochs = epochs\n",
        "            self.gpu = gpu\n",
        "\n",
        "    def train(self,\n",
        "              dataloader,\n",
        "              print_interval: int = 50):\n",
        "\n",
        "        d_train_loss = []\n",
        "        g_train_loss = []\n",
        "\n",
        "\n",
        "        for epoch in range(self.epochs):\n",
        "            \n",
        "            self.generator.train()\n",
        "            self.discriminator.train()\n",
        "          \n",
        "            epoch_start_time = time.time()\n",
        "\n",
        "            for i, (stroke, action) in enumerate(dataloader):  \n",
        "\n",
        "                stroke = torch.stack([self.transforms(s) for s in stroke])\n",
        "                \n",
        "                y_true = torch.ones((stroke.shape[0], 1), dtype = torch.float, requires_grad = False)   \n",
        "                y_gen = torch.zeros((stroke.shape[0], 1), dtype = torch.float, requires_grad = False)\n",
        "\n",
        "                if gpu:\n",
        "                  action = action.cuda()\n",
        "                  stroke = stroke.cuda()\n",
        "                  y_true = y_true.cuda()\n",
        "                  y_gen = y_gen.cuda()\n",
        "\n",
        "                # Discriminator part\n",
        "\n",
        "                self.d_optimizer.zero_grad()\n",
        "\n",
        "                y_true_pred = torch.sigmoid(self.discriminator(stroke))\n",
        "                true_loss = self.loss(y_true_pred, y_true)\n",
        "\n",
        "                gen_stroke = self.generator(action)\n",
        "                d_y_gen_pred = torch.sigmoid(self.discriminator(gen_stroke))\n",
        "                gen_loss = self.loss(d_y_gen_pred, y_gen)\n",
        "\n",
        "                d_cur_loss = 0.5 * true_loss + 0.5 * gen_loss\n",
        "\n",
        "                d_cur_loss.backward()\n",
        "                self.d_optimizer.step()\n",
        "\n",
        "                d_train_loss.append(d_cur_loss.data.item())\n",
        "\n",
        "                # Generator part\n",
        "\n",
        "                self.g_optimizer.zero_grad()\n",
        "\n",
        "                gen_stroke = self.generator(action)\n",
        "                g_y_gen_pred = torch.sigmoid(self.discriminator(gen_stroke))\n",
        "\n",
        "                g_cur_loss = 0.5 * self.loss(g_y_gen_pred, y_true) + 0.5 * self.feature_extractor(gen_stroke, stroke)\n",
        "\n",
        "                g_cur_loss.backward()\n",
        "                self.g_optimizer.step()\n",
        "\n",
        "                g_train_loss.append(g_cur_loss.data.item())\n",
        "\n",
        "\n",
        "                if (i % print_interval) == 0:\n",
        "                    print('Epoch {}/{} | Sample {}/{}'.format((epoch + 1), self.epochs,\n",
        "                                                              (i + 1), len(dataloader)))\n",
        "                    \n",
        "                    print(' => Loss: 1) discriminator - {:.3f}, 2) generator - {:.3f}'.format(torch.mean(torch.FloatTensor(d_train_loss)),\n",
        "                                                                                              torch.mean(torch.FloatTensor(g_train_loss))))\n",
        "\n",
        "                    s = stroke[0].clone().cpu()\n",
        "                    print('true stroke')\n",
        "                    print('discriminator prediction for true = 1:', round(y_true_pred[0].item(), 3))\n",
        "                    display(to_pil_image(s))\n",
        "                    print('-'*25)\n",
        "\n",
        "                    g = gen_stroke[0].clone().cpu()\n",
        "                    print('generated stroke')\n",
        "                    print('discriminator prediction for true = 0:', round(g_y_gen_pred[0].item(), 3))\n",
        "                    display(to_pil_image(g))\n",
        "                    print('-'*55)\n",
        "            \n",
        "            print('-'*100)\n",
        "            epoch_time = time.time()- epoch_start_time\n",
        "            print('End of epoch {}/{} - time: {:.3f}, => Loss of generator: {:.3f}\\n'.format((epoch + 1), self.epochs,\n",
        "                                                                                           epoch_time,\n",
        "            print('-'*100)                                                                               torch.mean(torch.FloatTensor(g_train_loss))))\n",
        "\n",
        "\n",
        "\n",
        "        torch.save(generator.state_dict(), project_folder + 'GAN_generator_5e.pth')   \n",
        "        torch.save(discriminator.state_dict(), project_folder + 'GAN_discriminator_5e.pth')         "
      ],
      "metadata": {
        "id": "YhDTLpMcBRa1"
      },
      "execution_count": 31,
      "outputs": []
    },
    {
      "cell_type": "code",
      "source": [
        "torch.manual_seed(4)\n",
        "class Hparams():\n",
        "    in_features = 12 #constant\n",
        "    num_features = 512 #@param {type:\"slider\", min:8, max:1024, step:8}\n",
        "    img_height = 64 #@param {type:\"slider\", min:8, max:1024, step:8}\n",
        "    img_width = 64 #@param {type:\"slider\", min:8, max:1024, step:8}\n",
        "    img_channels = 3 #@param {type:\"slider\", min:1, max:3, step:2}\n",
        "    layers_weights = [5, 15, 2] #@param\n",
        "    batch_size = 256 #@param {type: \"slider\", min:8, max:512, step:8}\n",
        "    lr = 0.0001 #@param {type:\"number\"}\n",
        "    betas = (0.5, 0.9) #@param\n",
        "    epochs = 5 #@param {type:\"slider\", min:1, max:1000, step:1}\n",
        "    print_interval = 25 #@param {type:\"slider\", min:1, max:100, step:10}\n",
        "hparams = Hparams()\n",
        "\n",
        "current_npz = 'episodes_2.npz'\n",
        "\n",
        "strokes, actions = load_data(current_npz)\n",
        "\n",
        "strokes = torch.stack([torch.from_numpy(stroke).permute(2, 0, 1) for stroke in strokes])\n",
        "actions = torch.stack([torch.from_numpy(action).float() for action in actions])\n",
        "\n",
        "dataset = TensorDataset(strokes, actions)\n",
        "\n",
        "dataloader = DataLoader(dataset, \n",
        "                        batch_size = hparams.batch_size, \n",
        "                        shuffle = False)\n",
        "\n",
        "generator = Generator(hparams.in_features,\n",
        "                      hparams.img_height,\n",
        "                      hparams.img_width,\n",
        "                      hparams.num_features,\n",
        "                      hparams.img_channels)\n",
        "\n",
        "discriminator = Discriminator(hparams.img_channels, \n",
        "                              hparams.img_height)\n",
        "\n",
        "common_path = \"./results/\"\n",
        "generator_path = \"generator_5152w_10e_1d.pth\"\n",
        "discriminator_path = \"discriminator_10e.pth\"\n",
        "\n",
        "gpu = torch.cuda.is_available()\n",
        "if gpu:\n",
        "    print(\"Training is performed using GPU.\\n\")\n",
        "    device = 'cuda'\n",
        "else:\n",
        "    print(\"Training is performed using CPU.\\n\")\n",
        "    device = 'cpu'\n",
        "\n",
        "feature_extractor = FeatureExtractor(hparams.layers_weights, device)\n",
        "\n",
        "generator.load_state_dict(torch.load(common_path + generator_path, \n",
        "                                     map_location = torch.device(device)))\n",
        "discriminator.load_state_dict(torch.load(common_path + discriminator_path, \n",
        "                                     map_location = torch.device(device)))\n",
        "\n",
        "generator.to(device)\n",
        "discriminator.to(device)\n",
        "\n",
        "g_optimizer = optim.Adam(generator.parameters(), \n",
        "                       lr = hparams.lr, \n",
        "                       betas = hparams.betas)\n",
        "\n",
        "d_optimizer = optim.Adam(discriminator.parameters(), \n",
        "                       lr = hparams.lr, \n",
        "                       betas = hparams.betas)\n",
        "\n",
        "loss = F.binary_cross_entropy\n",
        "\n",
        "trainer = Trainer(strokes_tfms,\n",
        "                  generator,\n",
        "                  feature_extractor,\n",
        "                  discriminator,\n",
        "                  g_optimizer,\n",
        "                  d_optimizer,\n",
        "                  loss,\n",
        "                  epochs = hparams.epochs,\n",
        "                  gpu = gpu)\n",
        "\n",
        "trainer.train(dataloader, \n",
        "              print_interval = hparams.print_interval)"
      ],
      "metadata": {
        "colab": {
          "base_uri": "https://localhost:8080/",
          "height": 1000
        },
        "id": "AXFlWuik9QYW",
        "outputId": "c9b04ae6-fa3d-414e-f0c3-c8febe530ea5"
      },
      "execution_count": 32,
      "outputs": [
        {
          "output_type": "stream",
          "name": "stdout",
          "text": [
            "Download VGG19 (batch normalized) as pre-trained.\n",
            "Training is performed using GPU.\n",
            "\n",
            "Epoch 1/5 | Sample 1/391\n",
            " => Loss: 1) discriminator - 0.000, 2) generator - 6.791\n",
            "true stroke\n",
            "discriminator prediction for true = 1: 1.0\n"
          ]
        },
        {
          "output_type": "display_data",
          "data": {
            "image/png": "[encoded data removed]",
            "text/plain": [
              "<PIL.Image.Image image mode=RGB size=64x64 at 0x7FF4786CDCD0>"
            ]
          },
          "metadata": {}
        },
        {
          "output_type": "stream",
          "name": "stdout",
          "text": [
            "-------------------------\n",
            "generated stroke\n",
            "discriminator prediction for true = 0: 0.0\n"
          ]
        },
        {
          "output_type": "display_data",
          "data": {
            "image/png": "[encoded data removed]",
            "text/plain": [
              "<PIL.Image.Image image mode=RGB size=64x64 at 0x7FF47873B1D0>"
            ]
          },
          "metadata": {}
        },
        {
          "output_type": "stream",
          "name": "stdout",
          "text": [
            "--------------------------------------------------\n",
            "Epoch 1/5 | Sample 26/391\n",
            " => Loss: 1) discriminator - 0.150, 2) generator - 4.150\n",
            "true stroke\n",
            "discriminator prediction for true = 1: 0.993\n"
          ]
        },
        {
          "output_type": "display_data",
          "data": {
            "image/png": "[encoded data removed]",
            "text/plain": [
              "<PIL.Image.Image image mode=RGB size=64x64 at 0x7FF478741410>"
            ]
          },
          "metadata": {}
        },
        {
          "output_type": "stream",
          "name": "stdout",
          "text": [
            "-------------------------\n",
            "generated stroke\n",
            "discriminator prediction for true = 0: 0.003\n"
          ]
        },
        {
          "output_type": "display_data",
          "data": {
            "image/png": "[encoded data removed]",
            "text/plain": [
              "<PIL.Image.Image image mode=RGB size=64x64 at 0x7FF478741410>"
            ]
          },
          "metadata": {}
        },
        {
          "output_type": "stream",
          "name": "stdout",
          "text": [
            "--------------------------------------------------\n",
            "Epoch 1/5 | Sample 51/391\n",
            " => Loss: 1) discriminator - 0.283, 2) generator - 3.318\n",
            "true stroke\n",
            "discriminator prediction for true = 1: 0.583\n"
          ]
        },
        {
          "output_type": "display_data",
          "data": {
            "image/png": "[encoded data removed]",
            "text/plain": [
              "<PIL.Image.Image image mode=RGB size=64x64 at 0x7FF4787643D0>"
            ]
          },
          "metadata": {}
        },
        {
          "output_type": "stream",
          "name": "stdout",
          "text": [
            "-------------------------\n",
            "generated stroke\n",
            "discriminator prediction for true = 0: 0.024\n"
          ]
        },
        {
          "output_type": "display_data",
          "data": {
            "image/png": "[encoded data removed]",
            "text/plain": [
              "<PIL.Image.Image image mode=RGB size=64x64 at 0x7FF47760C490>"
            ]
          },
          "metadata": {}
        },
        {
          "output_type": "stream",
          "name": "stdout",
          "text": [
            "--------------------------------------------------\n",
            "Epoch 1/5 | Sample 76/391\n",
            " => Loss: 1) discriminator - 0.405, 2) generator - 2.774\n",
            "true stroke\n",
            "discriminator prediction for true = 1: 0.762\n"
          ]
        },
        {
          "output_type": "display_data",
          "data": {
            "image/png": "[encoded data removed]",
            "text/plain": [
              "<PIL.Image.Image image mode=RGB size=64x64 at 0x7FF478741B50>"
            ]
          },
          "metadata": {}
        },
        {
          "output_type": "stream",
          "name": "stdout",
          "text": [
            "-------------------------\n",
            "generated stroke\n",
            "discriminator prediction for true = 0: 0.541\n"
          ]
        },
        {
          "output_type": "display_data",
          "data": {
            "image/png": "[encoded data removed]",
            "text/plain": [
              "<PIL.Image.Image image mode=RGB size=64x64 at 0x7FF476C705D0>"
            ]
          },
          "metadata": {}
        },
        {
          "output_type": "stream",
          "name": "stdout",
          "text": [
            "--------------------------------------------------\n",
            "Epoch 1/5 | Sample 101/391\n",
            " => Loss: 1) discriminator - 0.468, 2) generator - 2.460\n",
            "true stroke\n",
            "discriminator prediction for true = 1: 0.616\n"
          ]
        },
        {
          "output_type": "display_data",
          "data": {
            "image/png": "[encoded data removed]",
            "text/plain": [
              "<PIL.Image.Image image mode=RGB size=64x64 at 0x7FF47874D2D0>"
            ]
          },
          "metadata": {}
        },
        {
          "output_type": "stream",
          "name": "stdout",
          "text": [
            "-------------------------\n",
            "generated stroke\n",
            "discriminator prediction for true = 0: 0.425\n"
          ]
        },
        {
          "output_type": "display_data",
          "data": {
            "image/png": "[encoded data removed]",
            "text/plain": [
              "<PIL.Image.Image image mode=RGB size=64x64 at 0x7FF47760C910>"
            ]
          },
          "metadata": {}
        },
        {
          "output_type": "stream",
          "name": "stdout",
          "text": [
            "--------------------------------------------------\n",
            "Epoch 1/5 | Sample 126/391\n",
            " => Loss: 1) discriminator - 0.494, 2) generator - 2.265\n",
            "true stroke\n",
            "discriminator prediction for true = 1: 0.339\n"
          ]
        },
        {
          "output_type": "display_data",
          "data": {
            "image/png": "[encoded data removed]",
            "text/plain": [
              "<PIL.Image.Image image mode=RGB size=64x64 at 0x7FF4777BC050>"
            ]
          },
          "metadata": {}
        },
        {
          "output_type": "stream",
          "name": "stdout",
          "text": [
            "-------------------------\n",
            "generated stroke\n",
            "discriminator prediction for true = 0: 0.521\n"
          ]
        },
        {
          "output_type": "display_data",
          "data": {
            "image/png": "[encoded data removed]",
            "text/plain": [
              "<PIL.Image.Image image mode=RGB size=64x64 at 0x7FF476C706D0>"
            ]
          },
          "metadata": {}
        },
        {
          "output_type": "stream",
          "name": "stdout",
          "text": [
            "--------------------------------------------------\n",
            "Epoch 1/5 | Sample 151/391\n",
            " => Loss: 1) discriminator - 0.509, 2) generator - 2.146\n",
            "true stroke\n",
            "discriminator prediction for true = 1: 0.717\n"
          ]
        },
        {
          "output_type": "display_data",
          "data": {
            "image/png": "[encoded data removed]",
            "text/plain": [
              "<PIL.Image.Image image mode=RGB size=64x64 at 0x7FF4776A2310>"
            ]
          },
          "metadata": {}
        },
        {
          "output_type": "stream",
          "name": "stdout",
          "text": [
            "-------------------------\n",
            "generated stroke\n",
            "discriminator prediction for true = 0: 0.328\n"
          ]
        },
        {
          "output_type": "display_data",
          "data": {
            "image/png": "[encoded data removed]",
            "text/plain": [
              "<PIL.Image.Image image mode=RGB size=64x64 at 0x7FF4776245D0>"
            ]
          },
          "metadata": {}
        },
        {
          "output_type": "stream",
          "name": "stdout",
          "text": [
            "--------------------------------------------------\n",
            "Epoch 1/5 | Sample 176/391\n",
            " => Loss: 1) discriminator - 0.525, 2) generator - 2.052\n",
            "true stroke\n",
            "discriminator prediction for true = 1: 0.549\n"
          ]
        },
        {
          "output_type": "display_data",
          "data": {
            "image/png": "[encoded data removed]",
            "text/plain": [
              "<PIL.Image.Image image mode=RGB size=64x64 at 0x7FF4776E9690>"
            ]
          },
          "metadata": {}
        },
        {
          "output_type": "stream",
          "name": "stdout",
          "text": [
            "-------------------------\n",
            "generated stroke\n",
            "discriminator prediction for true = 0: 0.177\n"
          ]
        },
        {
          "output_type": "display_data",
          "data": {
            "image/png": "[encoded data removed]",
            "text/plain": [
              "<PIL.Image.Image image mode=RGB size=64x64 at 0x7FF4776E2A10>"
            ]
          },
          "metadata": {}
        },
        {
          "output_type": "stream",
          "name": "stdout",
          "text": [
            "--------------------------------------------------\n",
            "Epoch 1/5 | Sample 201/391\n",
            " => Loss: 1) discriminator - 0.526, 2) generator - 1.991\n",
            "true stroke\n",
            "discriminator prediction for true = 1: 0.848\n"
          ]
        },
        {
          "output_type": "display_data",
          "data": {
            "image/png": "[encoded data removed]",
            "text/plain": [
              "<PIL.Image.Image image mode=RGB size=64x64 at 0x7FF477624210>"
            ]
          },
          "metadata": {}
        },
        {
          "output_type": "stream",
          "name": "stdout",
          "text": [
            "-------------------------\n",
            "generated stroke\n",
            "discriminator prediction for true = 0: 0.101\n"
          ]
        },
        {
          "output_type": "display_data",
          "data": {
            "image/png": "[encoded data removed]",
            "text/plain": [
              "<PIL.Image.Image image mode=RGB size=64x64 at 0x7FF477624050>"
            ]
          },
          "metadata": {}
        },
        {
          "output_type": "stream",
          "name": "stdout",
          "text": [
            "--------------------------------------------------\n",
            "Epoch 1/5 | Sample 226/391\n",
            " => Loss: 1) discriminator - 0.530, 2) generator - 1.946\n",
            "true stroke\n",
            "discriminator prediction for true = 1: 0.177\n"
          ]
        },
        {
          "output_type": "display_data",
          "data": {
            "image/png": "[encoded data removed]",
            "text/plain": [
              "<PIL.Image.Image image mode=RGB size=64x64 at 0x7FF477790D50>"
            ]
          },
          "metadata": {}
        },
        {
          "output_type": "stream",
          "name": "stdout",
          "text": [
            "-------------------------\n",
            "generated stroke\n",
            "discriminator prediction for true = 0: 0.237\n"
          ]
        },
        {
          "output_type": "display_data",
          "data": {
            "image/png": "[encoded data removed]",
            "text/plain": [
              "<PIL.Image.Image image mode=RGB size=64x64 at 0x7FF4776E2E10>"
            ]
          },
          "metadata": {}
        },
        {
          "output_type": "stream",
          "name": "stdout",
          "text": [
            "--------------------------------------------------\n",
            "Epoch 1/5 | Sample 251/391\n",
            " => Loss: 1) discriminator - 0.531, 2) generator - 1.910\n",
            "true stroke\n",
            "discriminator prediction for true = 1: 0.547\n"
          ]
        },
        {
          "output_type": "display_data",
          "data": {
            "image/png": "[encoded data removed]",
            "text/plain": [
              "<PIL.Image.Image image mode=RGB size=64x64 at 0x7FF47873B050>"
            ]
          },
          "metadata": {}
        },
        {
          "output_type": "stream",
          "name": "stdout",
          "text": [
            "-------------------------\n",
            "generated stroke\n",
            "discriminator prediction for true = 0: 0.127\n"
          ]
        },
        {
          "output_type": "display_data",
          "data": {
            "image/png": "[encoded data removed]",
            "text/plain": [
              "<PIL.Image.Image image mode=RGB size=64x64 at 0x7FF478779210>"
            ]
          },
          "metadata": {}
        },
        {
          "output_type": "stream",
          "name": "stdout",
          "text": [
            "--------------------------------------------------\n",
            "Epoch 1/5 | Sample 276/391\n",
            " => Loss: 1) discriminator - 0.531, 2) generator - 1.882\n",
            "true stroke\n",
            "discriminator prediction for true = 1: 0.534\n"
          ]
        },
        {
          "output_type": "display_data",
          "data": {
            "image/png": "[encoded data removed]",
            "text/plain": [
              "<PIL.Image.Image image mode=RGB size=64x64 at 0x7FF477790D10>"
            ]
          },
          "metadata": {}
        },
        {
          "output_type": "stream",
          "name": "stdout",
          "text": [
            "-------------------------\n",
            "generated stroke\n",
            "discriminator prediction for true = 0: 0.553\n"
          ]
        },
        {
          "output_type": "display_data",
          "data": {
            "image/png": "[encoded data removed]",
            "text/plain": [
              "<PIL.Image.Image image mode=RGB size=64x64 at 0x7FF47762DE10>"
            ]
          },
          "metadata": {}
        },
        {
          "output_type": "stream",
          "name": "stdout",
          "text": [
            "--------------------------------------------------\n",
            "Epoch 1/5 | Sample 301/391\n",
            " => Loss: 1) discriminator - 0.530, 2) generator - 1.864\n",
            "true stroke\n",
            "discriminator prediction for true = 1: 0.736\n"
          ]
        },
        {
          "output_type": "display_data",
          "data": {
            "image/png": "[encoded data removed]",
            "text/plain": [
              "<PIL.Image.Image image mode=RGB size=64x64 at 0x7FF47762D690>"
            ]
          },
          "metadata": {}
        },
        {
          "output_type": "stream",
          "name": "stdout",
          "text": [
            "-------------------------\n",
            "generated stroke\n",
            "discriminator prediction for true = 0: 0.246\n"
          ]
        },
        {
          "output_type": "display_data",
          "data": {
            "image/png": "[encoded data removed]",
            "text/plain": [
              "<PIL.Image.Image image mode=RGB size=64x64 at 0x7FF477790F10>"
            ]
          },
          "metadata": {}
        },
        {
          "output_type": "stream",
          "name": "stdout",
          "text": [
            "--------------------------------------------------\n",
            "Epoch 1/5 | Sample 326/391\n",
            " => Loss: 1) discriminator - 0.526, 2) generator - 1.849\n",
            "true stroke\n",
            "discriminator prediction for true = 1: 0.625\n"
          ]
        },
        {
          "output_type": "display_data",
          "data": {
            "image/png": "[encoded data removed]",
            "text/plain": [
              "<PIL.Image.Image image mode=RGB size=64x64 at 0x7FF47768F850>"
            ]
          },
          "metadata": {}
        },
        {
          "output_type": "stream",
          "name": "stdout",
          "text": [
            "-------------------------\n",
            "generated stroke\n",
            "discriminator prediction for true = 0: 0.237\n"
          ]
        },
        {
          "output_type": "display_data",
          "data": {
            "image/png": "[encoded data removed]",
            "text/plain": [
              "<PIL.Image.Image image mode=RGB size=64x64 at 0x7FF47768EDD0>"
            ]
          },
          "metadata": {}
        },
        {
          "output_type": "stream",
          "name": "stdout",
          "text": [
            "--------------------------------------------------\n",
            "Epoch 1/5 | Sample 351/391\n",
            " => Loss: 1) discriminator - 0.527, 2) generator - 1.835\n",
            "true stroke\n",
            "discriminator prediction for true = 1: 0.907\n"
          ]
        },
        {
          "output_type": "display_data",
          "data": {
            "image/png": "[encoded data removed]",
            "text/plain": [
              "<PIL.Image.Image image mode=RGB size=64x64 at 0x7FF478764350>"
            ]
          },
          "metadata": {}
        },
        {
          "output_type": "stream",
          "name": "stdout",
          "text": [
            "-------------------------\n",
            "generated stroke\n",
            "discriminator prediction for true = 0: 0.223\n"
          ]
        },
        {
          "output_type": "display_data",
          "data": {
            "image/png": "[encoded data removed]",
            "text/plain": [
              "<PIL.Image.Image image mode=RGB size=64x64 at 0x7FF47873B950>"
            ]
          },
          "metadata": {}
        },
        {
          "output_type": "stream",
          "name": "stdout",
          "text": [
            "--------------------------------------------------\n",
            "Epoch 1/5 | Sample 376/391\n",
            " => Loss: 1) discriminator - 0.522, 2) generator - 1.826\n",
            "true stroke\n",
            "discriminator prediction for true = 1: 0.908\n"
          ]
        },
        {
          "output_type": "display_data",
          "data": {
            "image/png": "[encoded data removed]",
            "text/plain": [
              "<PIL.Image.Image image mode=RGB size=64x64 at 0x7FF47762DD50>"
            ]
          },
          "metadata": {}
        },
        {
          "output_type": "stream",
          "name": "stdout",
          "text": [
            "-------------------------\n",
            "generated stroke\n",
            "discriminator prediction for true = 0: 0.303\n"
          ]
        },
        {
          "output_type": "display_data",
          "data": {
            "image/png": "[encoded data removed]",
            "text/plain": [
              "<PIL.Image.Image image mode=RGB size=64x64 at 0x7FF4787791D0>"
            ]
          },
          "metadata": {}
        },
        {
          "output_type": "stream",
          "name": "stdout",
          "text": [
            "--------------------------------------------------\n",
            "----------------------------------------------------------------------------------------------------\n",
            "End of epoch 1/5 - time: 480.760, => Loss of generator: 1.818\n",
            "Epoch 2/5 | Sample 1/391\n",
            " => Loss: 1) discriminator - 0.523, 2) generator - 1.818\n",
            "true stroke\n",
            "discriminator prediction for true = 1: 0.899\n"
          ]
        },
        {
          "output_type": "display_data",
          "data": {
            "image/png": "[encoded data removed]",
            "text/plain": [
              "<PIL.Image.Image image mode=RGB size=64x64 at 0x7FF4777BC050>"
            ]
          },
          "metadata": {}
        },
        {
          "output_type": "stream",
          "name": "stdout",
          "text": [
            "-------------------------\n",
            "generated stroke\n",
            "discriminator prediction for true = 0: 0.714\n"
          ]
        },
        {
          "output_type": "display_data",
          "data": {
            "image/png": "[encoded data removed]",
            "text/plain": [
              "<PIL.Image.Image image mode=RGB size=64x64 at 0x7FF4776E9290>"
            ]
          },
          "metadata": {}
        },
        {
          "output_type": "stream",
          "name": "stdout",
          "text": [
            "--------------------------------------------------\n",
            "Epoch 2/5 | Sample 26/391\n",
            " => Loss: 1) discriminator - 0.519, 2) generator - 1.814\n",
            "true stroke\n",
            "discriminator prediction for true = 1: 0.711\n"
          ]
        },
        {
          "output_type": "display_data",
          "data": {
            "image/png": "[encoded data removed]",
            "text/plain": [
              "<PIL.Image.Image image mode=RGB size=64x64 at 0x7FF477624350>"
            ]
          },
          "metadata": {}
        },
        {
          "output_type": "stream",
          "name": "stdout",
          "text": [
            "-------------------------\n",
            "generated stroke\n",
            "discriminator prediction for true = 0: 0.345\n"
          ]
        },
        {
          "output_type": "display_data",
          "data": {
            "image/png": "[encoded data removed]",
            "text/plain": [
              "<PIL.Image.Image image mode=RGB size=64x64 at 0x7FF477624510>"
            ]
          },
          "metadata": {}
        },
        {
          "output_type": "stream",
          "name": "stdout",
          "text": [
            "--------------------------------------------------\n",
            "Epoch 2/5 | Sample 51/391\n",
            " => Loss: 1) discriminator - 0.516, 2) generator - 1.808\n",
            "true stroke\n",
            "discriminator prediction for true = 1: 0.805\n"
          ]
        },
        {
          "output_type": "display_data",
          "data": {
            "image/png": "[encoded data removed]",
            "text/plain": [
              "<PIL.Image.Image image mode=RGB size=64x64 at 0x7FF4777BC110>"
            ]
          },
          "metadata": {}
        },
        {
          "output_type": "stream",
          "name": "stdout",
          "text": [
            "-------------------------\n",
            "generated stroke\n",
            "discriminator prediction for true = 0: 0.113\n"
          ]
        },
        {
          "output_type": "display_data",
          "data": {
            "image/png": "[encoded data removed]",
            "text/plain": [
              "<PIL.Image.Image image mode=RGB size=64x64 at 0x7FF47762DDD0>"
            ]
          },
          "metadata": {}
        },
        {
          "output_type": "stream",
          "name": "stdout",
          "text": [
            "--------------------------------------------------\n",
            "Epoch 2/5 | Sample 76/391\n",
            " => Loss: 1) discriminator - 0.515, 2) generator - 1.803\n",
            "true stroke\n",
            "discriminator prediction for true = 1: 0.477\n"
          ]
        },
        {
          "output_type": "display_data",
          "data": {
            "image/png": "[encoded data removed]",
            "text/plain": [
              "<PIL.Image.Image image mode=RGB size=64x64 at 0x7FF4776A2E10>"
            ]
          },
          "metadata": {}
        },
        {
          "output_type": "stream",
          "name": "stdout",
          "text": [
            "-------------------------\n",
            "generated stroke\n",
            "discriminator prediction for true = 0: 0.345\n"
          ]
        },
        {
          "output_type": "display_data",
          "data": {
            "image/png": "[encoded data removed]",
            "text/plain": [
              "<PIL.Image.Image image mode=RGB size=64x64 at 0x7FF47768E650>"
            ]
          },
          "metadata": {}
        },
        {
          "output_type": "stream",
          "name": "stdout",
          "text": [
            "--------------------------------------------------\n",
            "Epoch 2/5 | Sample 101/391\n",
            " => Loss: 1) discriminator - 0.513, 2) generator - 1.799\n",
            "true stroke\n",
            "discriminator prediction for true = 1: 0.97\n"
          ]
        },
        {
          "output_type": "display_data",
          "data": {
            "image/png": "[encoded data removed]",
            "text/plain": [
              "<PIL.Image.Image image mode=RGB size=64x64 at 0x7FF477723A90>"
            ]
          },
          "metadata": {}
        },
        {
          "output_type": "stream",
          "name": "stdout",
          "text": [
            "-------------------------\n",
            "generated stroke\n",
            "discriminator prediction for true = 0: 0.29\n"
          ]
        },
        {
          "output_type": "display_data",
          "data": {
            "image/png": "[encoded data removed]",
            "text/plain": [
              "<PIL.Image.Image image mode=RGB size=64x64 at 0x7FF478779D10>"
            ]
          },
          "metadata": {}
        },
        {
          "output_type": "stream",
          "name": "stdout",
          "text": [
            "--------------------------------------------------\n",
            "Epoch 2/5 | Sample 126/391\n",
            " => Loss: 1) discriminator - 0.510, 2) generator - 1.796\n",
            "true stroke\n",
            "discriminator prediction for true = 1: 0.411\n"
          ]
        },
        {
          "output_type": "display_data",
          "data": {
            "image/png": "[encoded data removed]",
            "text/plain": [
              "<PIL.Image.Image image mode=RGB size=64x64 at 0x7FF47768E290>"
            ]
          },
          "metadata": {}
        },
        {
          "output_type": "stream",
          "name": "stdout",
          "text": [
            "-------------------------\n",
            "generated stroke\n",
            "discriminator prediction for true = 0: 0.135\n"
          ]
        },
        {
          "output_type": "display_data",
          "data": {
            "image/png": "[encoded data removed]",
            "text/plain": [
              "<PIL.Image.Image image mode=RGB size=64x64 at 0x7FF47768EC90>"
            ]
          },
          "metadata": {}
        },
        {
          "output_type": "stream",
          "name": "stdout",
          "text": [
            "--------------------------------------------------\n",
            "Epoch 2/5 | Sample 151/391\n",
            " => Loss: 1) discriminator - 0.508, 2) generator - 1.794\n",
            "true stroke\n",
            "discriminator prediction for true = 1: 0.885\n"
          ]
        },
        {
          "output_type": "display_data",
          "data": {
            "image/png": "[encoded data removed]",
            "text/plain": [
              "<PIL.Image.Image image mode=RGB size=64x64 at 0x7FF478779B90>"
            ]
          },
          "metadata": {}
        },
        {
          "output_type": "stream",
          "name": "stdout",
          "text": [
            "-------------------------\n",
            "generated stroke\n",
            "discriminator prediction for true = 0: 0.05\n"
          ]
        },
        {
          "output_type": "display_data",
          "data": {
            "image/png": "[encoded data removed]",
            "text/plain": [
              "<PIL.Image.Image image mode=RGB size=64x64 at 0x7FF47873BBD0>"
            ]
          },
          "metadata": {}
        },
        {
          "output_type": "stream",
          "name": "stdout",
          "text": [
            "--------------------------------------------------\n",
            "Epoch 2/5 | Sample 176/391\n",
            " => Loss: 1) discriminator - 0.506, 2) generator - 1.793\n",
            "true stroke\n",
            "discriminator prediction for true = 1: 0.933\n"
          ]
        },
        {
          "output_type": "display_data",
          "data": {
            "image/png": "[encoded data removed]",
            "text/plain": [
              "<PIL.Image.Image image mode=RGB size=64x64 at 0x7FF47771CF90>"
            ]
          },
          "metadata": {}
        },
        {
          "output_type": "stream",
          "name": "stdout",
          "text": [
            "-------------------------\n",
            "generated stroke\n",
            "discriminator prediction for true = 0: 0.06\n"
          ]
        },
        {
          "output_type": "display_data",
          "data": {
            "image/png": "[encoded data removed]",
            "text/plain": [
              "<PIL.Image.Image image mode=RGB size=64x64 at 0x7FF476C706D0>"
            ]
          },
          "metadata": {}
        },
        {
          "output_type": "stream",
          "name": "stdout",
          "text": [
            "--------------------------------------------------\n",
            "Epoch 2/5 | Sample 201/391\n",
            " => Loss: 1) discriminator - 0.504, 2) generator - 1.793\n",
            "true stroke\n",
            "discriminator prediction for true = 1: 0.889\n"
          ]
        },
        {
          "output_type": "display_data",
          "data": {
            "image/png": "[encoded data removed]",
            "text/plain": [
              "<PIL.Image.Image image mode=RGB size=64x64 at 0x7FF47873B5D0>"
            ]
          },
          "metadata": {}
        },
        {
          "output_type": "stream",
          "name": "stdout",
          "text": [
            "-------------------------\n",
            "generated stroke\n",
            "discriminator prediction for true = 0: 0.081\n"
          ]
        },
        {
          "output_type": "display_data",
          "data": {
            "image/png": "[encoded data removed]",
            "text/plain": [
              "<PIL.Image.Image image mode=RGB size=64x64 at 0x7FF478756810>"
            ]
          },
          "metadata": {}
        },
        {
          "output_type": "stream",
          "name": "stdout",
          "text": [
            "--------------------------------------------------\n",
            "Epoch 2/5 | Sample 226/391\n",
            " => Loss: 1) discriminator - 0.502, 2) generator - 1.793\n",
            "true stroke\n",
            "discriminator prediction for true = 1: 0.525\n"
          ]
        },
        {
          "output_type": "display_data",
          "data": {
            "image/png": "[encoded data removed]",
            "text/plain": [
              "<PIL.Image.Image image mode=RGB size=64x64 at 0x7FF4776A2BD0>"
            ]
          },
          "metadata": {}
        },
        {
          "output_type": "stream",
          "name": "stdout",
          "text": [
            "-------------------------\n",
            "generated stroke\n",
            "discriminator prediction for true = 0: 0.14\n"
          ]
        },
        {
          "output_type": "display_data",
          "data": {
            "image/png": "[encoded data removed]",
            "text/plain": [
              "<PIL.Image.Image image mode=RGB size=64x64 at 0x7FF476C70210>"
            ]
          },
          "metadata": {}
        },
        {
          "output_type": "stream",
          "name": "stdout",
          "text": [
            "--------------------------------------------------\n",
            "Epoch 2/5 | Sample 251/391\n",
            " => Loss: 1) discriminator - 0.498, 2) generator - 1.795\n",
            "true stroke\n",
            "discriminator prediction for true = 1: 0.967\n"
          ]
        },
        {
          "output_type": "display_data",
          "data": {
            "image/png": "[encoded data removed]",
            "text/plain": [
              "<PIL.Image.Image image mode=RGB size=64x64 at 0x7FF478741410>"
            ]
          },
          "metadata": {}
        },
        {
          "output_type": "stream",
          "name": "stdout",
          "text": [
            "-------------------------\n",
            "generated stroke\n",
            "discriminator prediction for true = 0: 0.001\n"
          ]
        },
        {
          "output_type": "display_data",
          "data": {
            "image/png": "[encoded data removed]",
            "text/plain": [
              "<PIL.Image.Image image mode=RGB size=64x64 at 0x7FF47873B7D0>"
            ]
          },
          "metadata": {}
        },
        {
          "output_type": "stream",
          "name": "stdout",
          "text": [
            "--------------------------------------------------\n",
            "Epoch 2/5 | Sample 276/391\n",
            " => Loss: 1) discriminator - 0.496, 2) generator - 1.796\n",
            "true stroke\n",
            "discriminator prediction for true = 1: 0.877\n"
          ]
        },
        {
          "output_type": "display_data",
          "data": {
            "image/png": "[encoded data removed]",
            "text/plain": [
              "<PIL.Image.Image image mode=RGB size=64x64 at 0x7FF478764290>"
            ]
          },
          "metadata": {}
        },
        {
          "output_type": "stream",
          "name": "stdout",
          "text": [
            "-------------------------\n",
            "generated stroke\n",
            "discriminator prediction for true = 0: 0.193\n"
          ]
        },
        {
          "output_type": "display_data",
          "data": {
            "image/png": "[encoded data removed]",
            "text/plain": [
              "<PIL.Image.Image image mode=RGB size=64x64 at 0x7FF26B348110>"
            ]
          },
          "metadata": {}
        },
        {
          "output_type": "stream",
          "name": "stdout",
          "text": [
            "--------------------------------------------------\n",
            "Epoch 2/5 | Sample 301/391\n",
            " => Loss: 1) discriminator - 0.493, 2) generator - 1.798\n",
            "true stroke\n",
            "discriminator prediction for true = 1: 0.609\n"
          ]
        },
        {
          "output_type": "display_data",
          "data": {
            "image/png": "[encoded data removed]",
            "text/plain": [
              "<PIL.Image.Image image mode=RGB size=64x64 at 0x7FF476C70210>"
            ]
          },
          "metadata": {}
        },
        {
          "output_type": "stream",
          "name": "stdout",
          "text": [
            "-------------------------\n",
            "generated stroke\n",
            "discriminator prediction for true = 0: 0.342\n"
          ]
        },
        {
          "output_type": "display_data",
          "data": {
            "image/png": "[encoded data removed]",
            "text/plain": [
              "<PIL.Image.Image image mode=RGB size=64x64 at 0x7FF47768ED90>"
            ]
          },
          "metadata": {}
        },
        {
          "output_type": "stream",
          "name": "stdout",
          "text": [
            "--------------------------------------------------\n",
            "Epoch 2/5 | Sample 326/391\n",
            " => Loss: 1) discriminator - 0.491, 2) generator - 1.801\n",
            "true stroke\n",
            "discriminator prediction for true = 1: 0.908\n"
          ]
        },
        {
          "output_type": "display_data",
          "data": {
            "image/png": "[encoded data removed]",
            "text/plain": [
              "<PIL.Image.Image image mode=RGB size=64x64 at 0x7FF478764510>"
            ]
          },
          "metadata": {}
        },
        {
          "output_type": "stream",
          "name": "stdout",
          "text": [
            "-------------------------\n",
            "generated stroke\n",
            "discriminator prediction for true = 0: 0.022\n"
          ]
        },
        {
          "output_type": "display_data",
          "data": {
            "image/png": "[encoded data removed]",
            "text/plain": [
              "<PIL.Image.Image image mode=RGB size=64x64 at 0x7FF26B348450>"
            ]
          },
          "metadata": {}
        },
        {
          "output_type": "stream",
          "name": "stdout",
          "text": [
            "--------------------------------------------------\n",
            "Epoch 2/5 | Sample 351/391\n",
            " => Loss: 1) discriminator - 0.488, 2) generator - 1.803\n",
            "true stroke\n",
            "discriminator prediction for true = 1: 0.933\n"
          ]
        },
        {
          "output_type": "display_data",
          "data": {
            "image/png": "[encoded data removed]",
            "text/plain": [
              "<PIL.Image.Image image mode=RGB size=64x64 at 0x7FF4786CD750>"
            ]
          },
          "metadata": {}
        },
        {
          "output_type": "stream",
          "name": "stdout",
          "text": [
            "-------------------------\n",
            "generated stroke\n",
            "discriminator prediction for true = 0: 0.043\n"
          ]
        },
        {
          "output_type": "display_data",
          "data": {
            "image/png": "[encoded data removed]",
            "text/plain": [
              "<PIL.Image.Image image mode=RGB size=64x64 at 0x7FF4786CDCD0>"
            ]
          },
          "metadata": {}
        },
        {
          "output_type": "stream",
          "name": "stdout",
          "text": [
            "--------------------------------------------------\n",
            "Epoch 2/5 | Sample 376/391\n",
            " => Loss: 1) discriminator - 0.486, 2) generator - 1.805\n",
            "true stroke\n",
            "discriminator prediction for true = 1: 0.978\n"
          ]
        },
        {
          "output_type": "display_data",
          "data": {
            "image/png": "[encoded data removed]",
            "text/plain": [
              "<PIL.Image.Image image mode=RGB size=64x64 at 0x7FF47782F4D0>"
            ]
          },
          "metadata": {}
        },
        {
          "output_type": "stream",
          "name": "stdout",
          "text": [
            "-------------------------\n",
            "generated stroke\n",
            "discriminator prediction for true = 0: 0.032\n"
          ]
        },
        {
          "output_type": "display_data",
          "data": {
            "image/png": "[encoded data removed]",
            "text/plain": [
              "<PIL.Image.Image image mode=RGB size=64x64 at 0x7FF476C70550>"
            ]
          },
          "metadata": {}
        },
        {
          "output_type": "stream",
          "name": "stdout",
          "text": [
            "--------------------------------------------------\n",
            "----------------------------------------------------------------------------------------------------\n",
            "End of epoch 2/5 - time: 485.751, => Loss of generator: 1.807\n",
            "Epoch 3/5 | Sample 1/391\n",
            " => Loss: 1) discriminator - 0.484, 2) generator - 1.807\n",
            "true stroke\n",
            "discriminator prediction for true = 1: 0.816\n"
          ]
        },
        {
          "output_type": "display_data",
          "data": {
            "image/png": "[encoded data removed]",
            "text/plain": [
              "<PIL.Image.Image image mode=RGB size=64x64 at 0x7FF4776E9690>"
            ]
          },
          "metadata": {}
        },
        {
          "output_type": "stream",
          "name": "stdout",
          "text": [
            "-------------------------\n",
            "generated stroke\n",
            "discriminator prediction for true = 0: 0.101\n"
          ]
        },
        {
          "output_type": "display_data",
          "data": {
            "image/png": "[encoded data removed]",
            "text/plain": [
              "<PIL.Image.Image image mode=RGB size=64x64 at 0x7FF47768EFD0>"
            ]
          },
          "metadata": {}
        },
        {
          "output_type": "stream",
          "name": "stdout",
          "text": [
            "--------------------------------------------------\n",
            "Epoch 3/5 | Sample 26/391\n",
            " => Loss: 1) discriminator - 0.481, 2) generator - 1.809\n",
            "true stroke\n",
            "discriminator prediction for true = 1: 0.889\n"
          ]
        },
        {
          "output_type": "display_data",
          "data": {
            "image/png": "[encoded data removed]",
            "text/plain": [
              "<PIL.Image.Image image mode=RGB size=64x64 at 0x7FF4777BC7D0>"
            ]
          },
          "metadata": {}
        },
        {
          "output_type": "stream",
          "name": "stdout",
          "text": [
            "-------------------------\n",
            "generated stroke\n",
            "discriminator prediction for true = 0: 0.184\n"
          ]
        },
        {
          "output_type": "display_data",
          "data": {
            "image/png": "[encoded data removed]",
            "text/plain": [
              "<PIL.Image.Image image mode=RGB size=64x64 at 0x7FF26B348350>"
            ]
          },
          "metadata": {}
        },
        {
          "output_type": "stream",
          "name": "stdout",
          "text": [
            "--------------------------------------------------\n",
            "Epoch 3/5 | Sample 51/391\n",
            " => Loss: 1) discriminator - 0.479, 2) generator - 1.811\n",
            "true stroke\n",
            "discriminator prediction for true = 1: 0.16\n"
          ]
        },
        {
          "output_type": "display_data",
          "data": {
            "image/png": "[encoded data removed]",
            "text/plain": [
              "<PIL.Image.Image image mode=RGB size=64x64 at 0x7FF47771CFD0>"
            ]
          },
          "metadata": {}
        },
        {
          "output_type": "stream",
          "name": "stdout",
          "text": [
            "-------------------------\n",
            "generated stroke\n",
            "discriminator prediction for true = 0: 0.594\n"
          ]
        },
        {
          "output_type": "display_data",
          "data": {
            "image/png": "[encoded data removed]",
            "text/plain": [
              "<PIL.Image.Image image mode=RGB size=64x64 at 0x7FF4776240D0>"
            ]
          },
          "metadata": {}
        },
        {
          "output_type": "stream",
          "name": "stdout",
          "text": [
            "--------------------------------------------------\n",
            "Epoch 3/5 | Sample 76/391\n",
            " => Loss: 1) discriminator - 0.477, 2) generator - 1.817\n",
            "true stroke\n",
            "discriminator prediction for true = 1: 0.368\n"
          ]
        },
        {
          "output_type": "display_data",
          "data": {
            "image/png": "[encoded data removed]",
            "text/plain": [
              "<PIL.Image.Image image mode=RGB size=64x64 at 0x7FF4787791D0>"
            ]
          },
          "metadata": {}
        },
        {
          "output_type": "stream",
          "name": "stdout",
          "text": [
            "-------------------------\n",
            "generated stroke\n",
            "discriminator prediction for true = 0: 0.352\n"
          ]
        },
        {
          "output_type": "display_data",
          "data": {
            "image/png": "[encoded data removed]",
            "text/plain": [
              "<PIL.Image.Image image mode=RGB size=64x64 at 0x7FF26B348790>"
            ]
          },
          "metadata": {}
        },
        {
          "output_type": "stream",
          "name": "stdout",
          "text": [
            "--------------------------------------------------\n",
            "Epoch 3/5 | Sample 101/391\n",
            " => Loss: 1) discriminator - 0.475, 2) generator - 1.820\n",
            "true stroke\n",
            "discriminator prediction for true = 1: 0.952\n"
          ]
        },
        {
          "output_type": "display_data",
          "data": {
            "image/png": "[encoded data removed]",
            "text/plain": [
              "<PIL.Image.Image image mode=RGB size=64x64 at 0x7FF477624150>"
            ]
          },
          "metadata": {}
        },
        {
          "output_type": "stream",
          "name": "stdout",
          "text": [
            "-------------------------\n",
            "generated stroke\n",
            "discriminator prediction for true = 0: 0.103\n"
          ]
        },
        {
          "output_type": "display_data",
          "data": {
            "image/png": "[encoded data removed]",
            "text/plain": [
              "<PIL.Image.Image image mode=RGB size=64x64 at 0x7FF477624350>"
            ]
          },
          "metadata": {}
        },
        {
          "output_type": "stream",
          "name": "stdout",
          "text": [
            "--------------------------------------------------\n",
            "Epoch 3/5 | Sample 126/391\n",
            " => Loss: 1) discriminator - 0.473, 2) generator - 1.823\n",
            "true stroke\n",
            "discriminator prediction for true = 1: 0.47\n"
          ]
        },
        {
          "output_type": "display_data",
          "data": {
            "image/png": "[encoded data removed]",
            "text/plain": [
              "<PIL.Image.Image image mode=RGB size=64x64 at 0x7FF477624310>"
            ]
          },
          "metadata": {}
        },
        {
          "output_type": "stream",
          "name": "stdout",
          "text": [
            "-------------------------\n",
            "generated stroke\n",
            "discriminator prediction for true = 0: 0.779\n"
          ]
        },
        {
          "output_type": "display_data",
          "data": {
            "image/png": "[encoded data removed]",
            "text/plain": [
              "<PIL.Image.Image image mode=RGB size=64x64 at 0x7FF4776A2DD0>"
            ]
          },
          "metadata": {}
        },
        {
          "output_type": "stream",
          "name": "stdout",
          "text": [
            "--------------------------------------------------\n",
            "Epoch 3/5 | Sample 151/391\n",
            " => Loss: 1) discriminator - 0.471, 2) generator - 1.826\n",
            "true stroke\n",
            "discriminator prediction for true = 1: 0.885\n"
          ]
        },
        {
          "output_type": "display_data",
          "data": {
            "image/png": "[encoded data removed]",
            "text/plain": [
              "<PIL.Image.Image image mode=RGB size=64x64 at 0x7FF4776A2E10>"
            ]
          },
          "metadata": {}
        },
        {
          "output_type": "stream",
          "name": "stdout",
          "text": [
            "-------------------------\n",
            "generated stroke\n",
            "discriminator prediction for true = 0: 0.121\n"
          ]
        },
        {
          "output_type": "display_data",
          "data": {
            "image/png": "[encoded data removed]",
            "text/plain": [
              "<PIL.Image.Image image mode=RGB size=64x64 at 0x7FF477790E90>"
            ]
          },
          "metadata": {}
        },
        {
          "output_type": "stream",
          "name": "stdout",
          "text": [
            "--------------------------------------------------\n",
            "Epoch 3/5 | Sample 176/391\n",
            " => Loss: 1) discriminator - 0.468, 2) generator - 1.829\n",
            "true stroke\n",
            "discriminator prediction for true = 1: 0.459\n"
          ]
        },
        {
          "output_type": "display_data",
          "data": {
            "image/png": "[encoded data removed]",
            "text/plain": [
              "<PIL.Image.Image image mode=RGB size=64x64 at 0x7FF4776B0A90>"
            ]
          },
          "metadata": {}
        },
        {
          "output_type": "stream",
          "name": "stdout",
          "text": [
            "-------------------------\n",
            "generated stroke\n",
            "discriminator prediction for true = 0: 0.066\n"
          ]
        },
        {
          "output_type": "display_data",
          "data": {
            "image/png": "[encoded data removed]",
            "text/plain": [
              "<PIL.Image.Image image mode=RGB size=64x64 at 0x7FF4776E2150>"
            ]
          },
          "metadata": {}
        },
        {
          "output_type": "stream",
          "name": "stdout",
          "text": [
            "--------------------------------------------------\n",
            "Epoch 3/5 | Sample 201/391\n",
            " => Loss: 1) discriminator - 0.466, 2) generator - 1.833\n",
            "true stroke\n",
            "discriminator prediction for true = 1: 0.353\n"
          ]
        },
        {
          "output_type": "display_data",
          "data": {
            "image/png": "[encoded data removed]",
            "text/plain": [
              "<PIL.Image.Image image mode=RGB size=64x64 at 0x7FF478741A10>"
            ]
          },
          "metadata": {}
        },
        {
          "output_type": "stream",
          "name": "stdout",
          "text": [
            "-------------------------\n",
            "generated stroke\n",
            "discriminator prediction for true = 0: 0.073\n"
          ]
        },
        {
          "output_type": "display_data",
          "data": {
            "image/png": "[encoded data removed]",
            "text/plain": [
              "<PIL.Image.Image image mode=RGB size=64x64 at 0x7FF4776E93D0>"
            ]
          },
          "metadata": {}
        },
        {
          "output_type": "stream",
          "name": "stdout",
          "text": [
            "--------------------------------------------------\n",
            "Epoch 3/5 | Sample 226/391\n",
            " => Loss: 1) discriminator - 0.464, 2) generator - 1.837\n",
            "true stroke\n",
            "discriminator prediction for true = 1: 0.497\n"
          ]
        },
        {
          "output_type": "display_data",
          "data": {
            "image/png": "[encoded data removed]",
            "text/plain": [
              "<PIL.Image.Image image mode=RGB size=64x64 at 0x7FF47771CFD0>"
            ]
          },
          "metadata": {}
        },
        {
          "output_type": "stream",
          "name": "stdout",
          "text": [
            "-------------------------\n",
            "generated stroke\n",
            "discriminator prediction for true = 0: 0.353\n"
          ]
        },
        {
          "output_type": "display_data",
          "data": {
            "image/png": "[encoded data removed]",
            "text/plain": [
              "<PIL.Image.Image image mode=RGB size=64x64 at 0x7FF476C705D0>"
            ]
          },
          "metadata": {}
        },
        {
          "output_type": "stream",
          "name": "stdout",
          "text": [
            "--------------------------------------------------\n",
            "Epoch 3/5 | Sample 251/391\n",
            " => Loss: 1) discriminator - 0.461, 2) generator - 1.841\n",
            "true stroke\n",
            "discriminator prediction for true = 1: 0.921\n"
          ]
        },
        {
          "output_type": "display_data",
          "data": {
            "image/png": "[encoded data removed]",
            "text/plain": [
              "<PIL.Image.Image image mode=RGB size=64x64 at 0x7FF478764F90>"
            ]
          },
          "metadata": {}
        },
        {
          "output_type": "stream",
          "name": "stdout",
          "text": [
            "-------------------------\n",
            "generated stroke\n",
            "discriminator prediction for true = 0: 0.013\n"
          ]
        },
        {
          "output_type": "display_data",
          "data": {
            "image/png": "[encoded data removed]",
            "text/plain": [
              "<PIL.Image.Image image mode=RGB size=64x64 at 0x7FF4787568D0>"
            ]
          },
          "metadata": {}
        },
        {
          "output_type": "stream",
          "name": "stdout",
          "text": [
            "--------------------------------------------------\n",
            "Epoch 3/5 | Sample 276/391\n",
            " => Loss: 1) discriminator - 0.460, 2) generator - 1.846\n",
            "true stroke\n",
            "discriminator prediction for true = 1: 0.856\n"
          ]
        },
        {
          "output_type": "display_data",
          "data": {
            "image/png": "[encoded data removed]",
            "text/plain": [
              "<PIL.Image.Image image mode=RGB size=64x64 at 0x7FF478764290>"
            ]
          },
          "metadata": {}
        },
        {
          "output_type": "stream",
          "name": "stdout",
          "text": [
            "-------------------------\n",
            "generated stroke\n",
            "discriminator prediction for true = 0: 0.325\n"
          ]
        },
        {
          "output_type": "display_data",
          "data": {
            "image/png": "[encoded data removed]",
            "text/plain": [
              "<PIL.Image.Image image mode=RGB size=64x64 at 0x7FF478764D50>"
            ]
          },
          "metadata": {}
        },
        {
          "output_type": "stream",
          "name": "stdout",
          "text": [
            "--------------------------------------------------\n",
            "Epoch 3/5 | Sample 301/391\n",
            " => Loss: 1) discriminator - 0.458, 2) generator - 1.850\n",
            "true stroke\n",
            "discriminator prediction for true = 1: 0.944\n"
          ]
        },
        {
          "output_type": "display_data",
          "data": {
            "image/png": "[encoded data removed]",
            "text/plain": [
              "<PIL.Image.Image image mode=RGB size=64x64 at 0x7FF478756410>"
            ]
          },
          "metadata": {}
        },
        {
          "output_type": "stream",
          "name": "stdout",
          "text": [
            "-------------------------\n",
            "generated stroke\n",
            "discriminator prediction for true = 0: 0.037\n"
          ]
        },
        {
          "output_type": "display_data",
          "data": {
            "image/png": "[encoded data removed]",
            "text/plain": [
              "<PIL.Image.Image image mode=RGB size=64x64 at 0x7FF478779A50>"
            ]
          },
          "metadata": {}
        },
        {
          "output_type": "stream",
          "name": "stdout",
          "text": [
            "--------------------------------------------------\n",
            "Epoch 3/5 | Sample 326/391\n",
            " => Loss: 1) discriminator - 0.456, 2) generator - 1.852\n",
            "true stroke\n",
            "discriminator prediction for true = 1: 0.761\n"
          ]
        },
        {
          "output_type": "display_data",
          "data": {
            "image/png": "[encoded data removed]",
            "text/plain": [
              "<PIL.Image.Image image mode=RGB size=64x64 at 0x7FF4776A2890>"
            ]
          },
          "metadata": {}
        },
        {
          "output_type": "stream",
          "name": "stdout",
          "text": [
            "-------------------------\n",
            "generated stroke\n",
            "discriminator prediction for true = 0: 0.015\n"
          ]
        },
        {
          "output_type": "display_data",
          "data": {
            "image/png": "[encoded data removed]",
            "text/plain": [
              "<PIL.Image.Image image mode=RGB size=64x64 at 0x7FF4786CDF50>"
            ]
          },
          "metadata": {}
        },
        {
          "output_type": "stream",
          "name": "stdout",
          "text": [
            "--------------------------------------------------\n",
            "Epoch 3/5 | Sample 351/391\n",
            " => Loss: 1) discriminator - 0.454, 2) generator - 1.855\n",
            "true stroke\n",
            "discriminator prediction for true = 1: 0.526\n"
          ]
        },
        {
          "output_type": "display_data",
          "data": {
            "image/png": "[encoded data removed]",
            "text/plain": [
              "<PIL.Image.Image image mode=RGB size=64x64 at 0x7FF476C70510>"
            ]
          },
          "metadata": {}
        },
        {
          "output_type": "stream",
          "name": "stdout",
          "text": [
            "-------------------------\n",
            "generated stroke\n",
            "discriminator prediction for true = 0: 0.162\n"
          ]
        },
        {
          "output_type": "display_data",
          "data": {
            "image/png": "[encoded data removed]",
            "text/plain": [
              "<PIL.Image.Image image mode=RGB size=64x64 at 0x7FF478756610>"
            ]
          },
          "metadata": {}
        },
        {
          "output_type": "stream",
          "name": "stdout",
          "text": [
            "--------------------------------------------------\n",
            "Epoch 3/5 | Sample 376/391\n",
            " => Loss: 1) discriminator - 0.452, 2) generator - 1.859\n",
            "true stroke\n",
            "discriminator prediction for true = 1: 0.919\n"
          ]
        },
        {
          "output_type": "display_data",
          "data": {
            "image/png": "[encoded data removed]",
            "text/plain": [
              "<PIL.Image.Image image mode=RGB size=64x64 at 0x7FF47873BB50>"
            ]
          },
          "metadata": {}
        },
        {
          "output_type": "stream",
          "name": "stdout",
          "text": [
            "-------------------------\n",
            "generated stroke\n",
            "discriminator prediction for true = 0: 0.014\n"
          ]
        },
        {
          "output_type": "display_data",
          "data": {
            "image/png": "[encoded data removed]",
            "text/plain": [
              "<PIL.Image.Image image mode=RGB size=64x64 at 0x7FF26B3486D0>"
            ]
          },
          "metadata": {}
        },
        {
          "output_type": "stream",
          "name": "stdout",
          "text": [
            "--------------------------------------------------\n",
            "----------------------------------------------------------------------------------------------------\n",
            "End of epoch 3/5 - time: 485.763, => Loss of generator: 1.861\n",
            "Epoch 4/5 | Sample 1/391\n",
            " => Loss: 1) discriminator - 0.451, 2) generator - 1.861\n",
            "true stroke\n",
            "discriminator prediction for true = 1: 0.821\n"
          ]
        },
        {
          "output_type": "display_data",
          "data": {
            "image/png": "[encoded data removed]",
            "text/plain": [
              "<PIL.Image.Image image mode=RGB size=64x64 at 0x7FF47760C1D0>"
            ]
          },
          "metadata": {}
        },
        {
          "output_type": "stream",
          "name": "stdout",
          "text": [
            "-------------------------\n",
            "generated stroke\n",
            "discriminator prediction for true = 0: 0.027\n"
          ]
        },
        {
          "output_type": "display_data",
          "data": {
            "image/png": "[encoded data removed]",
            "text/plain": [
              "<PIL.Image.Image image mode=RGB size=64x64 at 0x7FF47760CA50>"
            ]
          },
          "metadata": {}
        },
        {
          "output_type": "stream",
          "name": "stdout",
          "text": [
            "--------------------------------------------------\n",
            "Epoch 4/5 | Sample 26/391\n",
            " => Loss: 1) discriminator - 0.449, 2) generator - 1.865\n",
            "true stroke\n",
            "discriminator prediction for true = 1: 0.957\n"
          ]
        },
        {
          "output_type": "display_data",
          "data": {
            "image/png": "[encoded data removed]",
            "text/plain": [
              "<PIL.Image.Image image mode=RGB size=64x64 at 0x7FF4786CDA90>"
            ]
          },
          "metadata": {}
        },
        {
          "output_type": "stream",
          "name": "stdout",
          "text": [
            "-------------------------\n",
            "generated stroke\n",
            "discriminator prediction for true = 0: 0.119\n"
          ]
        },
        {
          "output_type": "display_data",
          "data": {
            "image/png": "[encoded data removed]",
            "text/plain": [
              "<PIL.Image.Image image mode=RGB size=64x64 at 0x7FF478731250>"
            ]
          },
          "metadata": {}
        },
        {
          "output_type": "stream",
          "name": "stdout",
          "text": [
            "--------------------------------------------------\n",
            "Epoch 4/5 | Sample 51/391\n",
            " => Loss: 1) discriminator - 0.447, 2) generator - 1.869\n",
            "true stroke\n",
            "discriminator prediction for true = 1: 0.807\n"
          ]
        },
        {
          "output_type": "display_data",
          "data": {
            "image/png": "[encoded data removed]",
            "text/plain": [
              "<PIL.Image.Image image mode=RGB size=64x64 at 0x7FF477790E90>"
            ]
          },
          "metadata": {}
        },
        {
          "output_type": "stream",
          "name": "stdout",
          "text": [
            "-------------------------\n",
            "generated stroke\n",
            "discriminator prediction for true = 0: 0.023\n"
          ]
        },
        {
          "output_type": "display_data",
          "data": {
            "image/png": "[encoded data removed]",
            "text/plain": [
              "<PIL.Image.Image image mode=RGB size=64x64 at 0x7FF26B348290>"
            ]
          },
          "metadata": {}
        },
        {
          "output_type": "stream",
          "name": "stdout",
          "text": [
            "--------------------------------------------------\n",
            "Epoch 4/5 | Sample 76/391\n",
            " => Loss: 1) discriminator - 0.446, 2) generator - 1.872\n",
            "true stroke\n",
            "discriminator prediction for true = 1: 0.947\n"
          ]
        },
        {
          "output_type": "display_data",
          "data": {
            "image/png": "[encoded data removed]",
            "text/plain": [
              "<PIL.Image.Image image mode=RGB size=64x64 at 0x7FF4776E9590>"
            ]
          },
          "metadata": {}
        },
        {
          "output_type": "stream",
          "name": "stdout",
          "text": [
            "-------------------------\n",
            "generated stroke\n",
            "discriminator prediction for true = 0: 0.099\n"
          ]
        },
        {
          "output_type": "display_data",
          "data": {
            "image/png": "[encoded data removed]",
            "text/plain": [
              "<PIL.Image.Image image mode=RGB size=64x64 at 0x7FF4776A2F10>"
            ]
          },
          "metadata": {}
        },
        {
          "output_type": "stream",
          "name": "stdout",
          "text": [
            "--------------------------------------------------\n",
            "Epoch 4/5 | Sample 101/391\n",
            " => Loss: 1) discriminator - 0.444, 2) generator - 1.876\n",
            "true stroke\n",
            "discriminator prediction for true = 1: 0.899\n"
          ]
        },
        {
          "output_type": "display_data",
          "data": {
            "image/png": "[encoded data removed]",
            "text/plain": [
              "<PIL.Image.Image image mode=RGB size=64x64 at 0x7FF478779A50>"
            ]
          },
          "metadata": {}
        },
        {
          "output_type": "stream",
          "name": "stdout",
          "text": [
            "-------------------------\n",
            "generated stroke\n",
            "discriminator prediction for true = 0: 0.067\n"
          ]
        },
        {
          "output_type": "display_data",
          "data": {
            "image/png": "[encoded data removed]",
            "text/plain": [
              "<PIL.Image.Image image mode=RGB size=64x64 at 0x7FF26B348150>"
            ]
          },
          "metadata": {}
        },
        {
          "output_type": "stream",
          "name": "stdout",
          "text": [
            "--------------------------------------------------\n",
            "Epoch 4/5 | Sample 126/391\n",
            " => Loss: 1) discriminator - 0.442, 2) generator - 1.880\n",
            "true stroke\n",
            "discriminator prediction for true = 1: 0.36\n"
          ]
        },
        {
          "output_type": "display_data",
          "data": {
            "image/png": "[encoded data removed]",
            "text/plain": [
              "<PIL.Image.Image image mode=RGB size=64x64 at 0x7FF476C70890>"
            ]
          },
          "metadata": {}
        },
        {
          "output_type": "stream",
          "name": "stdout",
          "text": [
            "-------------------------\n",
            "generated stroke\n",
            "discriminator prediction for true = 0: 0.809\n"
          ]
        },
        {
          "output_type": "display_data",
          "data": {
            "image/png": "[encoded data removed]",
            "text/plain": [
              "<PIL.Image.Image image mode=RGB size=64x64 at 0x7FF478779B90>"
            ]
          },
          "metadata": {}
        },
        {
          "output_type": "stream",
          "name": "stdout",
          "text": [
            "--------------------------------------------------\n",
            "Epoch 4/5 | Sample 151/391\n",
            " => Loss: 1) discriminator - 0.441, 2) generator - 1.883\n",
            "true stroke\n",
            "discriminator prediction for true = 1: 0.834\n"
          ]
        },
        {
          "output_type": "display_data",
          "data": {
            "image/png": "[encoded data removed]",
            "text/plain": [
              "<PIL.Image.Image image mode=RGB size=64x64 at 0x7FF478741CD0>"
            ]
          },
          "metadata": {}
        },
        {
          "output_type": "stream",
          "name": "stdout",
          "text": [
            "-------------------------\n",
            "generated stroke\n",
            "discriminator prediction for true = 0: 0.323\n"
          ]
        },
        {
          "output_type": "display_data",
          "data": {
            "image/png": "[encoded data removed]",
            "text/plain": [
              "<PIL.Image.Image image mode=RGB size=64x64 at 0x7FF478741CD0>"
            ]
          },
          "metadata": {}
        },
        {
          "output_type": "stream",
          "name": "stdout",
          "text": [
            "--------------------------------------------------\n",
            "Epoch 4/5 | Sample 176/391\n",
            " => Loss: 1) discriminator - 0.439, 2) generator - 1.887\n",
            "true stroke\n",
            "discriminator prediction for true = 1: 0.764\n"
          ]
        },
        {
          "output_type": "display_data",
          "data": {
            "image/png": "[encoded data removed]",
            "text/plain": [
              "<PIL.Image.Image image mode=RGB size=64x64 at 0x7FF4776B0510>"
            ]
          },
          "metadata": {}
        },
        {
          "output_type": "stream",
          "name": "stdout",
          "text": [
            "-------------------------\n",
            "generated stroke\n",
            "discriminator prediction for true = 0: 0.277\n"
          ]
        },
        {
          "output_type": "display_data",
          "data": {
            "image/png": "[encoded data removed]",
            "text/plain": [
              "<PIL.Image.Image image mode=RGB size=64x64 at 0x7FF478756210>"
            ]
          },
          "metadata": {}
        },
        {
          "output_type": "stream",
          "name": "stdout",
          "text": [
            "--------------------------------------------------\n",
            "Epoch 4/5 | Sample 201/391\n",
            " => Loss: 1) discriminator - 0.437, 2) generator - 1.891\n",
            "true stroke\n",
            "discriminator prediction for true = 1: 0.71\n"
          ]
        },
        {
          "output_type": "display_data",
          "data": {
            "image/png": "[encoded data removed]",
            "text/plain": [
              "<PIL.Image.Image image mode=RGB size=64x64 at 0x7FF478741390>"
            ]
          },
          "metadata": {}
        },
        {
          "output_type": "stream",
          "name": "stdout",
          "text": [
            "-------------------------\n",
            "generated stroke\n",
            "discriminator prediction for true = 0: 0.011\n"
          ]
        },
        {
          "output_type": "display_data",
          "data": {
            "image/png": "[encoded data removed]",
            "text/plain": [
              "<PIL.Image.Image image mode=RGB size=64x64 at 0x7FF47760C510>"
            ]
          },
          "metadata": {}
        },
        {
          "output_type": "stream",
          "name": "stdout",
          "text": [
            "--------------------------------------------------\n",
            "Epoch 4/5 | Sample 226/391\n",
            " => Loss: 1) discriminator - 0.436, 2) generator - 1.894\n",
            "true stroke\n",
            "discriminator prediction for true = 1: 0.721\n"
          ]
        },
        {
          "output_type": "display_data",
          "data": {
            "image/png": "[encoded data removed]",
            "text/plain": [
              "<PIL.Image.Image image mode=RGB size=64x64 at 0x7FF478741790>"
            ]
          },
          "metadata": {}
        },
        {
          "output_type": "stream",
          "name": "stdout",
          "text": [
            "-------------------------\n",
            "generated stroke\n",
            "discriminator prediction for true = 0: 0.056\n"
          ]
        },
        {
          "output_type": "display_data",
          "data": {
            "image/png": "[encoded data removed]",
            "text/plain": [
              "<PIL.Image.Image image mode=RGB size=64x64 at 0x7FF47768EA10>"
            ]
          },
          "metadata": {}
        },
        {
          "output_type": "stream",
          "name": "stdout",
          "text": [
            "--------------------------------------------------\n",
            "Epoch 4/5 | Sample 251/391\n",
            " => Loss: 1) discriminator - 0.434, 2) generator - 1.898\n",
            "true stroke\n",
            "discriminator prediction for true = 1: 0.74\n"
          ]
        },
        {
          "output_type": "display_data",
          "data": {
            "image/png": "[encoded data removed]",
            "text/plain": [
              "<PIL.Image.Image image mode=RGB size=64x64 at 0x7FF26B3487D0>"
            ]
          },
          "metadata": {}
        },
        {
          "output_type": "stream",
          "name": "stdout",
          "text": [
            "-------------------------\n",
            "generated stroke\n",
            "discriminator prediction for true = 0: 0.005\n"
          ]
        },
        {
          "output_type": "display_data",
          "data": {
            "image/png": "[encoded data removed]",
            "text/plain": [
              "<PIL.Image.Image image mode=RGB size=64x64 at 0x7FF26B348850>"
            ]
          },
          "metadata": {}
        },
        {
          "output_type": "stream",
          "name": "stdout",
          "text": [
            "--------------------------------------------------\n",
            "Epoch 4/5 | Sample 276/391\n",
            " => Loss: 1) discriminator - 0.433, 2) generator - 1.902\n",
            "true stroke\n",
            "discriminator prediction for true = 1: 0.922\n"
          ]
        },
        {
          "output_type": "display_data",
          "data": {
            "image/png": "[encoded data removed]",
            "text/plain": [
              "<PIL.Image.Image image mode=RGB size=64x64 at 0x7FF47762DE90>"
            ]
          },
          "metadata": {}
        },
        {
          "output_type": "stream",
          "name": "stdout",
          "text": [
            "-------------------------\n",
            "generated stroke\n",
            "discriminator prediction for true = 0: 0.207\n"
          ]
        },
        {
          "output_type": "display_data",
          "data": {
            "image/png": "[encoded data removed]",
            "text/plain": [
              "<PIL.Image.Image image mode=RGB size=64x64 at 0x7FF477790F50>"
            ]
          },
          "metadata": {}
        },
        {
          "output_type": "stream",
          "name": "stdout",
          "text": [
            "--------------------------------------------------\n",
            "Epoch 4/5 | Sample 301/391\n",
            " => Loss: 1) discriminator - 0.431, 2) generator - 1.906\n",
            "true stroke\n",
            "discriminator prediction for true = 1: 0.906\n"
          ]
        },
        {
          "output_type": "display_data",
          "data": {
            "image/png": "[encoded data removed]",
            "text/plain": [
              "<PIL.Image.Image image mode=RGB size=64x64 at 0x7FF47760CF50>"
            ]
          },
          "metadata": {}
        },
        {
          "output_type": "stream",
          "name": "stdout",
          "text": [
            "-------------------------\n",
            "generated stroke\n",
            "discriminator prediction for true = 0: 0.015\n"
          ]
        },
        {
          "output_type": "display_data",
          "data": {
            "image/png": "[encoded data removed]",
            "text/plain": [
              "<PIL.Image.Image image mode=RGB size=64x64 at 0x7FF47760C110>"
            ]
          },
          "metadata": {}
        },
        {
          "output_type": "stream",
          "name": "stdout",
          "text": [
            "--------------------------------------------------\n",
            "Epoch 4/5 | Sample 326/391\n",
            " => Loss: 1) discriminator - 0.430, 2) generator - 1.909\n",
            "true stroke\n",
            "discriminator prediction for true = 1: 0.522\n"
          ]
        },
        {
          "output_type": "display_data",
          "data": {
            "image/png": "[encoded data removed]",
            "text/plain": [
              "<PIL.Image.Image image mode=RGB size=64x64 at 0x7FF477790790>"
            ]
          },
          "metadata": {}
        },
        {
          "output_type": "stream",
          "name": "stdout",
          "text": [
            "-------------------------\n",
            "generated stroke\n",
            "discriminator prediction for true = 0: 0.382\n"
          ]
        },
        {
          "output_type": "display_data",
          "data": {
            "image/png": "[encoded data removed]",
            "text/plain": [
              "<PIL.Image.Image image mode=RGB size=64x64 at 0x7FF477790F50>"
            ]
          },
          "metadata": {}
        },
        {
          "output_type": "stream",
          "name": "stdout",
          "text": [
            "--------------------------------------------------\n",
            "Epoch 4/5 | Sample 351/391\n",
            " => Loss: 1) discriminator - 0.428, 2) generator - 1.914\n",
            "true stroke\n",
            "discriminator prediction for true = 1: 0.943\n"
          ]
        },
        {
          "output_type": "display_data",
          "data": {
            "image/png": "[encoded data removed]",
            "text/plain": [
              "<PIL.Image.Image image mode=RGB size=64x64 at 0x7FF477790F50>"
            ]
          },
          "metadata": {}
        },
        {
          "output_type": "stream",
          "name": "stdout",
          "text": [
            "-------------------------\n",
            "generated stroke\n",
            "discriminator prediction for true = 0: 0.201\n"
          ]
        },
        {
          "output_type": "display_data",
          "data": {
            "image/png": "[encoded data removed]",
            "text/plain": [
              "<PIL.Image.Image image mode=RGB size=64x64 at 0x7FF476C70110>"
            ]
          },
          "metadata": {}
        },
        {
          "output_type": "stream",
          "name": "stdout",
          "text": [
            "--------------------------------------------------\n",
            "Epoch 4/5 | Sample 376/391\n",
            " => Loss: 1) discriminator - 0.427, 2) generator - 1.917\n",
            "true stroke\n",
            "discriminator prediction for true = 1: 0.952\n"
          ]
        },
        {
          "output_type": "display_data",
          "data": {
            "image/png": "[encoded data removed]",
            "text/plain": [
              "<PIL.Image.Image image mode=RGB size=64x64 at 0x7FF478764750>"
            ]
          },
          "metadata": {}
        },
        {
          "output_type": "stream",
          "name": "stdout",
          "text": [
            "-------------------------\n",
            "generated stroke\n",
            "discriminator prediction for true = 0: 0.066\n"
          ]
        },
        {
          "output_type": "display_data",
          "data": {
            "image/png": "[encoded data removed]",
            "text/plain": [
              "<PIL.Image.Image image mode=RGB size=64x64 at 0x7FF478764110>"
            ]
          },
          "metadata": {}
        },
        {
          "output_type": "stream",
          "name": "stdout",
          "text": [
            "--------------------------------------------------\n",
            "----------------------------------------------------------------------------------------------------\n",
            "End of epoch 4/5 - time: 485.478, => Loss of generator: 1.920\n",
            "Epoch 5/5 | Sample 1/391\n",
            " => Loss: 1) discriminator - 0.426, 2) generator - 1.920\n",
            "true stroke\n",
            "discriminator prediction for true = 1: 0.664\n"
          ]
        },
        {
          "output_type": "display_data",
          "data": {
            "image/png": "[encoded data removed]",
            "text/plain": [
              "<PIL.Image.Image image mode=RGB size=64x64 at 0x7FF476C57450>"
            ]
          },
          "metadata": {}
        },
        {
          "output_type": "stream",
          "name": "stdout",
          "text": [
            "-------------------------\n",
            "generated stroke\n",
            "discriminator prediction for true = 0: 0.131\n"
          ]
        },
        {
          "output_type": "display_data",
          "data": {
            "image/png": "[encoded data removed]",
            "text/plain": [
              "<PIL.Image.Image image mode=RGB size=64x64 at 0x7FF4776E9290>"
            ]
          },
          "metadata": {}
        },
        {
          "output_type": "stream",
          "name": "stdout",
          "text": [
            "--------------------------------------------------\n",
            "Epoch 5/5 | Sample 26/391\n",
            " => Loss: 1) discriminator - 0.424, 2) generator - 1.923\n",
            "true stroke\n",
            "discriminator prediction for true = 1: 0.886\n"
          ]
        },
        {
          "output_type": "display_data",
          "data": {
            "image/png": "[encoded data removed]",
            "text/plain": [
              "<PIL.Image.Image image mode=RGB size=64x64 at 0x7FF4787796D0>"
            ]
          },
          "metadata": {}
        },
        {
          "output_type": "stream",
          "name": "stdout",
          "text": [
            "-------------------------\n",
            "generated stroke\n",
            "discriminator prediction for true = 0: 0.135\n"
          ]
        },
        {
          "output_type": "display_data",
          "data": {
            "image/png": "[encoded data removed]",
            "text/plain": [
              "<PIL.Image.Image image mode=RGB size=64x64 at 0x7FF478779D10>"
            ]
          },
          "metadata": {}
        },
        {
          "output_type": "stream",
          "name": "stdout",
          "text": [
            "--------------------------------------------------\n",
            "Epoch 5/5 | Sample 51/391\n",
            " => Loss: 1) discriminator - 0.423, 2) generator - 1.926\n",
            "true stroke\n",
            "discriminator prediction for true = 1: 0.429\n"
          ]
        },
        {
          "output_type": "display_data",
          "data": {
            "image/png": "[encoded data removed]",
            "text/plain": [
              "<PIL.Image.Image image mode=RGB size=64x64 at 0x7FF47768E750>"
            ]
          },
          "metadata": {}
        },
        {
          "output_type": "stream",
          "name": "stdout",
          "text": [
            "-------------------------\n",
            "generated stroke\n",
            "discriminator prediction for true = 0: 0.517\n"
          ]
        },
        {
          "output_type": "display_data",
          "data": {
            "image/png": "[encoded data removed]",
            "text/plain": [
              "<PIL.Image.Image image mode=RGB size=64x64 at 0x7FF47768EDD0>"
            ]
          },
          "metadata": {}
        },
        {
          "output_type": "stream",
          "name": "stdout",
          "text": [
            "--------------------------------------------------\n",
            "Epoch 5/5 | Sample 76/391\n",
            " => Loss: 1) discriminator - 0.422, 2) generator - 1.929\n",
            "true stroke\n",
            "discriminator prediction for true = 1: 0.434\n"
          ]
        },
        {
          "output_type": "display_data",
          "data": {
            "image/png": "[encoded data removed]",
            "text/plain": [
              "<PIL.Image.Image image mode=RGB size=64x64 at 0x7FF47771C390>"
            ]
          },
          "metadata": {}
        },
        {
          "output_type": "stream",
          "name": "stdout",
          "text": [
            "-------------------------\n",
            "generated stroke\n",
            "discriminator prediction for true = 0: 0.804\n"
          ]
        },
        {
          "output_type": "display_data",
          "data": {
            "image/png": "[encoded data removed]",
            "text/plain": [
              "<PIL.Image.Image image mode=RGB size=64x64 at 0x7FF4787791D0>"
            ]
          },
          "metadata": {}
        },
        {
          "output_type": "stream",
          "name": "stdout",
          "text": [
            "--------------------------------------------------\n",
            "Epoch 5/5 | Sample 101/391\n",
            " => Loss: 1) discriminator - 0.420, 2) generator - 1.933\n",
            "true stroke\n",
            "discriminator prediction for true = 1: 0.988\n"
          ]
        },
        {
          "output_type": "display_data",
          "data": {
            "image/png": "[encoded data removed]",
            "text/plain": [
              "<PIL.Image.Image image mode=RGB size=64x64 at 0x7FF476C70490>"
            ]
          },
          "metadata": {}
        },
        {
          "output_type": "stream",
          "name": "stdout",
          "text": [
            "-------------------------\n",
            "generated stroke\n",
            "discriminator prediction for true = 0: 0.019\n"
          ]
        },
        {
          "output_type": "display_data",
          "data": {
            "image/png": "[encoded data removed]",
            "text/plain": [
              "<PIL.Image.Image image mode=RGB size=64x64 at 0x7FF476C706D0>"
            ]
          },
          "metadata": {}
        },
        {
          "output_type": "stream",
          "name": "stdout",
          "text": [
            "--------------------------------------------------\n",
            "Epoch 5/5 | Sample 126/391\n",
            " => Loss: 1) discriminator - 0.419, 2) generator - 1.937\n",
            "true stroke\n",
            "discriminator prediction for true = 1: 0.649\n"
          ]
        },
        {
          "output_type": "display_data",
          "data": {
            "image/png": "[encoded data removed]",
            "text/plain": [
              "<PIL.Image.Image image mode=RGB size=64x64 at 0x7FF478731250>"
            ]
          },
          "metadata": {}
        },
        {
          "output_type": "stream",
          "name": "stdout",
          "text": [
            "-------------------------\n",
            "generated stroke\n",
            "discriminator prediction for true = 0: 0.062\n"
          ]
        },
        {
          "output_type": "display_data",
          "data": {
            "image/png": "[encoded data removed]",
            "text/plain": [
              "<PIL.Image.Image image mode=RGB size=64x64 at 0x7FF47768EB50>"
            ]
          },
          "metadata": {}
        },
        {
          "output_type": "stream",
          "name": "stdout",
          "text": [
            "--------------------------------------------------\n",
            "Epoch 5/5 | Sample 151/391\n",
            " => Loss: 1) discriminator - 0.418, 2) generator - 1.940\n",
            "true stroke\n",
            "discriminator prediction for true = 1: 0.797\n"
          ]
        },
        {
          "output_type": "display_data",
          "data": {
            "image/png": "[encoded data removed]",
            "text/plain": [
              "<PIL.Image.Image image mode=RGB size=64x64 at 0x7FF47874D890>"
            ]
          },
          "metadata": {}
        },
        {
          "output_type": "stream",
          "name": "stdout",
          "text": [
            "-------------------------\n",
            "generated stroke\n",
            "discriminator prediction for true = 0: 0.299\n"
          ]
        },
        {
          "output_type": "display_data",
          "data": {
            "image/png": "[encoded data removed]",
            "text/plain": [
              "<PIL.Image.Image image mode=RGB size=64x64 at 0x7FF47762D410>"
            ]
          },
          "metadata": {}
        },
        {
          "output_type": "stream",
          "name": "stdout",
          "text": [
            "--------------------------------------------------\n",
            "Epoch 5/5 | Sample 176/391\n",
            " => Loss: 1) discriminator - 0.416, 2) generator - 1.943\n",
            "true stroke\n",
            "discriminator prediction for true = 1: 0.776\n"
          ]
        },
        {
          "output_type": "display_data",
          "data": {
            "image/png": "[encoded data removed]",
            "text/plain": [
              "<PIL.Image.Image image mode=RGB size=64x64 at 0x7FF477790790>"
            ]
          },
          "metadata": {}
        },
        {
          "output_type": "stream",
          "name": "stdout",
          "text": [
            "-------------------------\n",
            "generated stroke\n",
            "discriminator prediction for true = 0: 0.051\n"
          ]
        },
        {
          "output_type": "display_data",
          "data": {
            "image/png": "[encoded data removed]",
            "text/plain": [
              "<PIL.Image.Image image mode=RGB size=64x64 at 0x7FF47760C110>"
            ]
          },
          "metadata": {}
        },
        {
          "output_type": "stream",
          "name": "stdout",
          "text": [
            "--------------------------------------------------\n",
            "Epoch 5/5 | Sample 201/391\n",
            " => Loss: 1) discriminator - 0.415, 2) generator - 1.946\n",
            "true stroke\n",
            "discriminator prediction for true = 1: 0.964\n"
          ]
        },
        {
          "output_type": "display_data",
          "data": {
            "image/png": "[encoded data removed]",
            "text/plain": [
              "<PIL.Image.Image image mode=RGB size=64x64 at 0x7FF478764D50>"
            ]
          },
          "metadata": {}
        },
        {
          "output_type": "stream",
          "name": "stdout",
          "text": [
            "-------------------------\n",
            "generated stroke\n",
            "discriminator prediction for true = 0: 0.097\n"
          ]
        },
        {
          "output_type": "display_data",
          "data": {
            "image/png": "[encoded data removed]",
            "text/plain": [
              "<PIL.Image.Image image mode=RGB size=64x64 at 0x7FF477624210>"
            ]
          },
          "metadata": {}
        },
        {
          "output_type": "stream",
          "name": "stdout",
          "text": [
            "--------------------------------------------------\n",
            "Epoch 5/5 | Sample 226/391\n",
            " => Loss: 1) discriminator - 0.414, 2) generator - 1.949\n",
            "true stroke\n",
            "discriminator prediction for true = 1: 0.724\n"
          ]
        },
        {
          "output_type": "display_data",
          "data": {
            "image/png": "[encoded data removed]",
            "text/plain": [
              "<PIL.Image.Image image mode=RGB size=64x64 at 0x7FF4786CD410>"
            ]
          },
          "metadata": {}
        },
        {
          "output_type": "stream",
          "name": "stdout",
          "text": [
            "-------------------------\n",
            "generated stroke\n",
            "discriminator prediction for true = 0: 0.174\n"
          ]
        },
        {
          "output_type": "display_data",
          "data": {
            "image/png": "[encoded data removed]",
            "text/plain": [
              "<PIL.Image.Image image mode=RGB size=64x64 at 0x7FF4776244D0>"
            ]
          },
          "metadata": {}
        },
        {
          "output_type": "stream",
          "name": "stdout",
          "text": [
            "--------------------------------------------------\n",
            "Epoch 5/5 | Sample 251/391\n",
            " => Loss: 1) discriminator - 0.413, 2) generator - 1.952\n",
            "true stroke\n",
            "discriminator prediction for true = 1: 0.92\n"
          ]
        },
        {
          "output_type": "display_data",
          "data": {
            "image/png": "[encoded data removed]",
            "text/plain": [
              "<PIL.Image.Image image mode=RGB size=64x64 at 0x7FF478779210>"
            ]
          },
          "metadata": {}
        },
        {
          "output_type": "stream",
          "name": "stdout",
          "text": [
            "-------------------------\n",
            "generated stroke\n",
            "discriminator prediction for true = 0: 0.008\n"
          ]
        },
        {
          "output_type": "display_data",
          "data": {
            "image/png": "[encoded data removed]",
            "text/plain": [
              "<PIL.Image.Image image mode=RGB size=64x64 at 0x7FF4787644D0>"
            ]
          },
          "metadata": {}
        },
        {
          "output_type": "stream",
          "name": "stdout",
          "text": [
            "--------------------------------------------------\n",
            "Epoch 5/5 | Sample 276/391\n",
            " => Loss: 1) discriminator - 0.411, 2) generator - 1.956\n",
            "true stroke\n",
            "discriminator prediction for true = 1: 0.885\n"
          ]
        },
        {
          "output_type": "display_data",
          "data": {
            "image/png": "[encoded data removed]",
            "text/plain": [
              "<PIL.Image.Image image mode=RGB size=64x64 at 0x7FF476C70490>"
            ]
          },
          "metadata": {}
        },
        {
          "output_type": "stream",
          "name": "stdout",
          "text": [
            "-------------------------\n",
            "generated stroke\n",
            "discriminator prediction for true = 0: 0.016\n"
          ]
        },
        {
          "output_type": "display_data",
          "data": {
            "image/png": "[encoded data removed]",
            "text/plain": [
              "<PIL.Image.Image image mode=RGB size=64x64 at 0x7FF47760C8D0>"
            ]
          },
          "metadata": {}
        },
        {
          "output_type": "stream",
          "name": "stdout",
          "text": [
            "--------------------------------------------------\n",
            "Epoch 5/5 | Sample 301/391\n",
            " => Loss: 1) discriminator - 0.411, 2) generator - 1.959\n",
            "true stroke\n",
            "discriminator prediction for true = 1: 0.866\n"
          ]
        },
        {
          "output_type": "display_data",
          "data": {
            "image/png": "[encoded data removed]",
            "text/plain": [
              "<PIL.Image.Image image mode=RGB size=64x64 at 0x7FF47762DD50>"
            ]
          },
          "metadata": {}
        },
        {
          "output_type": "stream",
          "name": "stdout",
          "text": [
            "-------------------------\n",
            "generated stroke\n",
            "discriminator prediction for true = 0: 0.131\n"
          ]
        },
        {
          "output_type": "display_data",
          "data": {
            "image/png": "[encoded data removed]",
            "text/plain": [
              "<PIL.Image.Image image mode=RGB size=64x64 at 0x7FF47762D790>"
            ]
          },
          "metadata": {}
        },
        {
          "output_type": "stream",
          "name": "stdout",
          "text": [
            "--------------------------------------------------\n",
            "Epoch 5/5 | Sample 326/391\n",
            " => Loss: 1) discriminator - 0.410, 2) generator - 1.963\n",
            "true stroke\n",
            "discriminator prediction for true = 1: 0.878\n"
          ]
        },
        {
          "output_type": "display_data",
          "data": {
            "image/png": "[encoded data removed]",
            "text/plain": [
              "<PIL.Image.Image image mode=RGB size=64x64 at 0x7FF476C57450>"
            ]
          },
          "metadata": {}
        },
        {
          "output_type": "stream",
          "name": "stdout",
          "text": [
            "-------------------------\n",
            "generated stroke\n",
            "discriminator prediction for true = 0: 0.032\n"
          ]
        },
        {
          "output_type": "display_data",
          "data": {
            "image/png": "[encoded data removed]",
            "text/plain": [
              "<PIL.Image.Image image mode=RGB size=64x64 at 0x7FF4776E2D10>"
            ]
          },
          "metadata": {}
        },
        {
          "output_type": "stream",
          "name": "stdout",
          "text": [
            "--------------------------------------------------\n",
            "Epoch 5/5 | Sample 351/391\n",
            " => Loss: 1) discriminator - 0.408, 2) generator - 1.967\n",
            "true stroke\n",
            "discriminator prediction for true = 1: 0.901\n"
          ]
        },
        {
          "output_type": "display_data",
          "data": {
            "image/png": "[encoded data removed]",
            "text/plain": [
              "<PIL.Image.Image image mode=RGB size=64x64 at 0x7FF4776A2BD0>"
            ]
          },
          "metadata": {}
        },
        {
          "output_type": "stream",
          "name": "stdout",
          "text": [
            "-------------------------\n",
            "generated stroke\n",
            "discriminator prediction for true = 0: 0.099\n"
          ]
        },
        {
          "output_type": "display_data",
          "data": {
            "image/png": "[encoded data removed]",
            "text/plain": [
              "<PIL.Image.Image image mode=RGB size=64x64 at 0x7FF47762DFD0>"
            ]
          },
          "metadata": {}
        },
        {
          "output_type": "stream",
          "name": "stdout",
          "text": [
            "--------------------------------------------------\n",
            "Epoch 5/5 | Sample 376/391\n",
            " => Loss: 1) discriminator - 0.407, 2) generator - 1.970\n",
            "true stroke\n",
            "discriminator prediction for true = 1: 0.918\n"
          ]
        },
        {
          "output_type": "display_data",
          "data": {
            "image/png": "[encoded data removed]",
            "text/plain": [
              "<PIL.Image.Image image mode=RGB size=64x64 at 0x7FF478764750>"
            ]
          },
          "metadata": {}
        },
        {
          "output_type": "stream",
          "name": "stdout",
          "text": [
            "-------------------------\n",
            "generated stroke\n",
            "discriminator prediction for true = 0: 0.124\n"
          ]
        },
        {
          "output_type": "display_data",
          "data": {
            "image/png": "[encoded data removed]",
            "text/plain": [
              "<PIL.Image.Image image mode=RGB size=64x64 at 0x7FF478756350>"
            ]
          },
          "metadata": {}
        },
        {
          "output_type": "stream",
          "name": "stdout",
          "text": [
            "--------------------------------------------------\n",
            "----------------------------------------------------------------------------------------------------\n",
            "End of epoch 5/5 - time: 483.987, => Loss of generator: 1.972\n"
          ]
        }
      ]
    },
    {
      "cell_type": "code",
      "source": [
        ""
      ],
      "metadata": {
        "id": "_j4AgJFW_U_Z"
      },
      "execution_count": null,
      "outputs": []
    }
  ]
}
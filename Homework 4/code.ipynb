{
  "nbformat": 4,
  "nbformat_minor": 0,
  "metadata": {
    "colab": {
      "name": "DM_Homework_4__1937430_Olga_Sorokoletova.ipynb",
      "provenance": [],
      "collapsed_sections": []
    },
    "kernelspec": {
      "name": "python3",
      "display_name": "Python 3"
    },
    "language_info": {
      "name": "python"
    },
    "accelerator": "GPU",
    "widgets": {
      "application/vnd.jupyter.widget-state+json": {
        "407f3b335d17457b93da1d23602ac9ea": {
          "model_module": "@jupyter-widgets/controls",
          "model_name": "HBoxModel",
          "model_module_version": "1.5.0",
          "state": {
            "_view_name": "HBoxView",
            "_dom_classes": [],
            "_model_name": "HBoxModel",
            "_view_module": "@jupyter-widgets/controls",
            "_model_module_version": "1.5.0",
            "_view_count": null,
            "_view_module_version": "1.5.0",
            "box_style": "",
            "layout": "IPY_MODEL_b321b3c6f969442e840f71352249bde5",
            "_model_module": "@jupyter-widgets/controls",
            "children": [
              "IPY_MODEL_73aa974760ec427cb427a3d06b7565b2",
              "IPY_MODEL_c9ada91df027417c8eaa9cd1e6384f95",
              "IPY_MODEL_c45f0e6352e3422eae21c75c4e69cbe4"
            ]
          }
        },
        "b321b3c6f969442e840f71352249bde5": {
          "model_module": "@jupyter-widgets/base",
          "model_name": "LayoutModel",
          "model_module_version": "1.2.0",
          "state": {
            "_view_name": "LayoutView",
            "grid_template_rows": null,
            "right": null,
            "justify_content": null,
            "_view_module": "@jupyter-widgets/base",
            "overflow": null,
            "_model_module_version": "1.2.0",
            "_view_count": null,
            "flex_flow": null,
            "width": null,
            "min_width": null,
            "border": null,
            "align_items": null,
            "bottom": null,
            "_model_module": "@jupyter-widgets/base",
            "top": null,
            "grid_column": null,
            "overflow_y": null,
            "overflow_x": null,
            "grid_auto_flow": null,
            "grid_area": null,
            "grid_template_columns": null,
            "flex": null,
            "_model_name": "LayoutModel",
            "justify_items": null,
            "grid_row": null,
            "max_height": null,
            "align_content": null,
            "visibility": null,
            "align_self": null,
            "height": null,
            "min_height": null,
            "padding": null,
            "grid_auto_rows": null,
            "grid_gap": null,
            "max_width": null,
            "order": null,
            "_view_module_version": "1.2.0",
            "grid_template_areas": null,
            "object_position": null,
            "object_fit": null,
            "grid_auto_columns": null,
            "margin": null,
            "display": null,
            "left": null
          }
        },
        "73aa974760ec427cb427a3d06b7565b2": {
          "model_module": "@jupyter-widgets/controls",
          "model_name": "HTMLModel",
          "model_module_version": "1.5.0",
          "state": {
            "_view_name": "HTMLView",
            "style": "IPY_MODEL_be191718e7ab46e89e628b8081ae5a9b",
            "_dom_classes": [],
            "description": "",
            "_model_name": "HTMLModel",
            "placeholder": "​",
            "_view_module": "@jupyter-widgets/controls",
            "_model_module_version": "1.5.0",
            "value": "100%",
            "_view_count": null,
            "_view_module_version": "1.5.0",
            "description_tooltip": null,
            "_model_module": "@jupyter-widgets/controls",
            "layout": "IPY_MODEL_72f73060dff143cea5ed8fa4d5f5f3cd"
          }
        },
        "c9ada91df027417c8eaa9cd1e6384f95": {
          "model_module": "@jupyter-widgets/controls",
          "model_name": "FloatProgressModel",
          "model_module_version": "1.5.0",
          "state": {
            "_view_name": "ProgressView",
            "style": "IPY_MODEL_5ddf491a43b4462f9f6586631524128d",
            "_dom_classes": [],
            "description": "",
            "_model_name": "FloatProgressModel",
            "bar_style": "success",
            "max": 100,
            "_view_module": "@jupyter-widgets/controls",
            "_model_module_version": "1.5.0",
            "value": 100,
            "_view_count": null,
            "_view_module_version": "1.5.0",
            "orientation": "horizontal",
            "min": 0,
            "description_tooltip": null,
            "_model_module": "@jupyter-widgets/controls",
            "layout": "IPY_MODEL_b4ca5038a9424d1286833a80457bd9c6"
          }
        },
        "c45f0e6352e3422eae21c75c4e69cbe4": {
          "model_module": "@jupyter-widgets/controls",
          "model_name": "HTMLModel",
          "model_module_version": "1.5.0",
          "state": {
            "_view_name": "HTMLView",
            "style": "IPY_MODEL_c87f8f2ff2d949bc83ab9e7c94a81f66",
            "_dom_classes": [],
            "description": "",
            "_model_name": "HTMLModel",
            "placeholder": "​",
            "_view_module": "@jupyter-widgets/controls",
            "_model_module_version": "1.5.0",
            "value": " 100/100 [18:08&lt;00:00, 10.19s/it]",
            "_view_count": null,
            "_view_module_version": "1.5.0",
            "description_tooltip": null,
            "_model_module": "@jupyter-widgets/controls",
            "layout": "IPY_MODEL_88f9c5c0bd1341c3a7c61e90acb5afc8"
          }
        },
        "be191718e7ab46e89e628b8081ae5a9b": {
          "model_module": "@jupyter-widgets/controls",
          "model_name": "DescriptionStyleModel",
          "model_module_version": "1.5.0",
          "state": {
            "_view_name": "StyleView",
            "_model_name": "DescriptionStyleModel",
            "description_width": "",
            "_view_module": "@jupyter-widgets/base",
            "_model_module_version": "1.5.0",
            "_view_count": null,
            "_view_module_version": "1.2.0",
            "_model_module": "@jupyter-widgets/controls"
          }
        },
        "72f73060dff143cea5ed8fa4d5f5f3cd": {
          "model_module": "@jupyter-widgets/base",
          "model_name": "LayoutModel",
          "model_module_version": "1.2.0",
          "state": {
            "_view_name": "LayoutView",
            "grid_template_rows": null,
            "right": null,
            "justify_content": null,
            "_view_module": "@jupyter-widgets/base",
            "overflow": null,
            "_model_module_version": "1.2.0",
            "_view_count": null,
            "flex_flow": null,
            "width": null,
            "min_width": null,
            "border": null,
            "align_items": null,
            "bottom": null,
            "_model_module": "@jupyter-widgets/base",
            "top": null,
            "grid_column": null,
            "overflow_y": null,
            "overflow_x": null,
            "grid_auto_flow": null,
            "grid_area": null,
            "grid_template_columns": null,
            "flex": null,
            "_model_name": "LayoutModel",
            "justify_items": null,
            "grid_row": null,
            "max_height": null,
            "align_content": null,
            "visibility": null,
            "align_self": null,
            "height": null,
            "min_height": null,
            "padding": null,
            "grid_auto_rows": null,
            "grid_gap": null,
            "max_width": null,
            "order": null,
            "_view_module_version": "1.2.0",
            "grid_template_areas": null,
            "object_position": null,
            "object_fit": null,
            "grid_auto_columns": null,
            "margin": null,
            "display": null,
            "left": null
          }
        },
        "5ddf491a43b4462f9f6586631524128d": {
          "model_module": "@jupyter-widgets/controls",
          "model_name": "ProgressStyleModel",
          "model_module_version": "1.5.0",
          "state": {
            "_view_name": "StyleView",
            "_model_name": "ProgressStyleModel",
            "description_width": "",
            "_view_module": "@jupyter-widgets/base",
            "_model_module_version": "1.5.0",
            "_view_count": null,
            "_view_module_version": "1.2.0",
            "bar_color": null,
            "_model_module": "@jupyter-widgets/controls"
          }
        },
        "b4ca5038a9424d1286833a80457bd9c6": {
          "model_module": "@jupyter-widgets/base",
          "model_name": "LayoutModel",
          "model_module_version": "1.2.0",
          "state": {
            "_view_name": "LayoutView",
            "grid_template_rows": null,
            "right": null,
            "justify_content": null,
            "_view_module": "@jupyter-widgets/base",
            "overflow": null,
            "_model_module_version": "1.2.0",
            "_view_count": null,
            "flex_flow": null,
            "width": null,
            "min_width": null,
            "border": null,
            "align_items": null,
            "bottom": null,
            "_model_module": "@jupyter-widgets/base",
            "top": null,
            "grid_column": null,
            "overflow_y": null,
            "overflow_x": null,
            "grid_auto_flow": null,
            "grid_area": null,
            "grid_template_columns": null,
            "flex": null,
            "_model_name": "LayoutModel",
            "justify_items": null,
            "grid_row": null,
            "max_height": null,
            "align_content": null,
            "visibility": null,
            "align_self": null,
            "height": null,
            "min_height": null,
            "padding": null,
            "grid_auto_rows": null,
            "grid_gap": null,
            "max_width": null,
            "order": null,
            "_view_module_version": "1.2.0",
            "grid_template_areas": null,
            "object_position": null,
            "object_fit": null,
            "grid_auto_columns": null,
            "margin": null,
            "display": null,
            "left": null
          }
        },
        "c87f8f2ff2d949bc83ab9e7c94a81f66": {
          "model_module": "@jupyter-widgets/controls",
          "model_name": "DescriptionStyleModel",
          "model_module_version": "1.5.0",
          "state": {
            "_view_name": "StyleView",
            "_model_name": "DescriptionStyleModel",
            "description_width": "",
            "_view_module": "@jupyter-widgets/base",
            "_model_module_version": "1.5.0",
            "_view_count": null,
            "_view_module_version": "1.2.0",
            "_model_module": "@jupyter-widgets/controls"
          }
        },
        "88f9c5c0bd1341c3a7c61e90acb5afc8": {
          "model_module": "@jupyter-widgets/base",
          "model_name": "LayoutModel",
          "model_module_version": "1.2.0",
          "state": {
            "_view_name": "LayoutView",
            "grid_template_rows": null,
            "right": null,
            "justify_content": null,
            "_view_module": "@jupyter-widgets/base",
            "overflow": null,
            "_model_module_version": "1.2.0",
            "_view_count": null,
            "flex_flow": null,
            "width": null,
            "min_width": null,
            "border": null,
            "align_items": null,
            "bottom": null,
            "_model_module": "@jupyter-widgets/base",
            "top": null,
            "grid_column": null,
            "overflow_y": null,
            "overflow_x": null,
            "grid_auto_flow": null,
            "grid_area": null,
            "grid_template_columns": null,
            "flex": null,
            "_model_name": "LayoutModel",
            "justify_items": null,
            "grid_row": null,
            "max_height": null,
            "align_content": null,
            "visibility": null,
            "align_self": null,
            "height": null,
            "min_height": null,
            "padding": null,
            "grid_auto_rows": null,
            "grid_gap": null,
            "max_width": null,
            "order": null,
            "_view_module_version": "1.2.0",
            "grid_template_areas": null,
            "object_position": null,
            "object_fit": null,
            "grid_auto_columns": null,
            "margin": null,
            "display": null,
            "left": null
          }
        },
        "8475923c64f6437a95010caef240d292": {
          "model_module": "@jupyter-widgets/controls",
          "model_name": "HBoxModel",
          "model_module_version": "1.5.0",
          "state": {
            "_view_name": "HBoxView",
            "_dom_classes": [],
            "_model_name": "HBoxModel",
            "_view_module": "@jupyter-widgets/controls",
            "_model_module_version": "1.5.0",
            "_view_count": null,
            "_view_module_version": "1.5.0",
            "box_style": "",
            "layout": "IPY_MODEL_f10d505116ad498187ab5d9d646d268b",
            "_model_module": "@jupyter-widgets/controls",
            "children": [
              "IPY_MODEL_b011d2cd7e0d4895b587aab335144789",
              "IPY_MODEL_5dfac3883fe14bfeaf33c67127870197",
              "IPY_MODEL_90f4ac03c9b74528ac9345a91ccc8b5a"
            ]
          }
        },
        "f10d505116ad498187ab5d9d646d268b": {
          "model_module": "@jupyter-widgets/base",
          "model_name": "LayoutModel",
          "model_module_version": "1.2.0",
          "state": {
            "_view_name": "LayoutView",
            "grid_template_rows": null,
            "right": null,
            "justify_content": null,
            "_view_module": "@jupyter-widgets/base",
            "overflow": null,
            "_model_module_version": "1.2.0",
            "_view_count": null,
            "flex_flow": null,
            "width": null,
            "min_width": null,
            "border": null,
            "align_items": null,
            "bottom": null,
            "_model_module": "@jupyter-widgets/base",
            "top": null,
            "grid_column": null,
            "overflow_y": null,
            "overflow_x": null,
            "grid_auto_flow": null,
            "grid_area": null,
            "grid_template_columns": null,
            "flex": null,
            "_model_name": "LayoutModel",
            "justify_items": null,
            "grid_row": null,
            "max_height": null,
            "align_content": null,
            "visibility": null,
            "align_self": null,
            "height": null,
            "min_height": null,
            "padding": null,
            "grid_auto_rows": null,
            "grid_gap": null,
            "max_width": null,
            "order": null,
            "_view_module_version": "1.2.0",
            "grid_template_areas": null,
            "object_position": null,
            "object_fit": null,
            "grid_auto_columns": null,
            "margin": null,
            "display": null,
            "left": null
          }
        },
        "b011d2cd7e0d4895b587aab335144789": {
          "model_module": "@jupyter-widgets/controls",
          "model_name": "HTMLModel",
          "model_module_version": "1.5.0",
          "state": {
            "_view_name": "HTMLView",
            "style": "IPY_MODEL_4ad4ff5e535e41228133ae05dd7564d3",
            "_dom_classes": [],
            "description": "",
            "_model_name": "HTMLModel",
            "placeholder": "​",
            "_view_module": "@jupyter-widgets/controls",
            "_model_module_version": "1.5.0",
            "value": "100%",
            "_view_count": null,
            "_view_module_version": "1.5.0",
            "description_tooltip": null,
            "_model_module": "@jupyter-widgets/controls",
            "layout": "IPY_MODEL_fb4bced011e04bafb9478a1104ab4ea7"
          }
        },
        "5dfac3883fe14bfeaf33c67127870197": {
          "model_module": "@jupyter-widgets/controls",
          "model_name": "FloatProgressModel",
          "model_module_version": "1.5.0",
          "state": {
            "_view_name": "ProgressView",
            "style": "IPY_MODEL_52744d7cf57b4a66ab24efc1ea43e7af",
            "_dom_classes": [],
            "description": "",
            "_model_name": "FloatProgressModel",
            "bar_style": "success",
            "max": 1000,
            "_view_module": "@jupyter-widgets/controls",
            "_model_module_version": "1.5.0",
            "value": 1000,
            "_view_count": null,
            "_view_module_version": "1.5.0",
            "orientation": "horizontal",
            "min": 0,
            "description_tooltip": null,
            "_model_module": "@jupyter-widgets/controls",
            "layout": "IPY_MODEL_50d1bbd62f9443998bfdac0db0d5db88"
          }
        },
        "90f4ac03c9b74528ac9345a91ccc8b5a": {
          "model_module": "@jupyter-widgets/controls",
          "model_name": "HTMLModel",
          "model_module_version": "1.5.0",
          "state": {
            "_view_name": "HTMLView",
            "style": "IPY_MODEL_127332e7e5ab407e9e1f66eadc21f9f0",
            "_dom_classes": [],
            "description": "",
            "_model_name": "HTMLModel",
            "placeholder": "​",
            "_view_module": "@jupyter-widgets/controls",
            "_model_module_version": "1.5.0",
            "value": " 1000/1000 [00:22&lt;00:00, 46.07it/s]",
            "_view_count": null,
            "_view_module_version": "1.5.0",
            "description_tooltip": null,
            "_model_module": "@jupyter-widgets/controls",
            "layout": "IPY_MODEL_1c607d6c83874e3ab2ef4a1698b96a5c"
          }
        },
        "4ad4ff5e535e41228133ae05dd7564d3": {
          "model_module": "@jupyter-widgets/controls",
          "model_name": "DescriptionStyleModel",
          "model_module_version": "1.5.0",
          "state": {
            "_view_name": "StyleView",
            "_model_name": "DescriptionStyleModel",
            "description_width": "",
            "_view_module": "@jupyter-widgets/base",
            "_model_module_version": "1.5.0",
            "_view_count": null,
            "_view_module_version": "1.2.0",
            "_model_module": "@jupyter-widgets/controls"
          }
        },
        "fb4bced011e04bafb9478a1104ab4ea7": {
          "model_module": "@jupyter-widgets/base",
          "model_name": "LayoutModel",
          "model_module_version": "1.2.0",
          "state": {
            "_view_name": "LayoutView",
            "grid_template_rows": null,
            "right": null,
            "justify_content": null,
            "_view_module": "@jupyter-widgets/base",
            "overflow": null,
            "_model_module_version": "1.2.0",
            "_view_count": null,
            "flex_flow": null,
            "width": null,
            "min_width": null,
            "border": null,
            "align_items": null,
            "bottom": null,
            "_model_module": "@jupyter-widgets/base",
            "top": null,
            "grid_column": null,
            "overflow_y": null,
            "overflow_x": null,
            "grid_auto_flow": null,
            "grid_area": null,
            "grid_template_columns": null,
            "flex": null,
            "_model_name": "LayoutModel",
            "justify_items": null,
            "grid_row": null,
            "max_height": null,
            "align_content": null,
            "visibility": null,
            "align_self": null,
            "height": null,
            "min_height": null,
            "padding": null,
            "grid_auto_rows": null,
            "grid_gap": null,
            "max_width": null,
            "order": null,
            "_view_module_version": "1.2.0",
            "grid_template_areas": null,
            "object_position": null,
            "object_fit": null,
            "grid_auto_columns": null,
            "margin": null,
            "display": null,
            "left": null
          }
        },
        "52744d7cf57b4a66ab24efc1ea43e7af": {
          "model_module": "@jupyter-widgets/controls",
          "model_name": "ProgressStyleModel",
          "model_module_version": "1.5.0",
          "state": {
            "_view_name": "StyleView",
            "_model_name": "ProgressStyleModel",
            "description_width": "",
            "_view_module": "@jupyter-widgets/base",
            "_model_module_version": "1.5.0",
            "_view_count": null,
            "_view_module_version": "1.2.0",
            "bar_color": null,
            "_model_module": "@jupyter-widgets/controls"
          }
        },
        "50d1bbd62f9443998bfdac0db0d5db88": {
          "model_module": "@jupyter-widgets/base",
          "model_name": "LayoutModel",
          "model_module_version": "1.2.0",
          "state": {
            "_view_name": "LayoutView",
            "grid_template_rows": null,
            "right": null,
            "justify_content": null,
            "_view_module": "@jupyter-widgets/base",
            "overflow": null,
            "_model_module_version": "1.2.0",
            "_view_count": null,
            "flex_flow": null,
            "width": null,
            "min_width": null,
            "border": null,
            "align_items": null,
            "bottom": null,
            "_model_module": "@jupyter-widgets/base",
            "top": null,
            "grid_column": null,
            "overflow_y": null,
            "overflow_x": null,
            "grid_auto_flow": null,
            "grid_area": null,
            "grid_template_columns": null,
            "flex": null,
            "_model_name": "LayoutModel",
            "justify_items": null,
            "grid_row": null,
            "max_height": null,
            "align_content": null,
            "visibility": null,
            "align_self": null,
            "height": null,
            "min_height": null,
            "padding": null,
            "grid_auto_rows": null,
            "grid_gap": null,
            "max_width": null,
            "order": null,
            "_view_module_version": "1.2.0",
            "grid_template_areas": null,
            "object_position": null,
            "object_fit": null,
            "grid_auto_columns": null,
            "margin": null,
            "display": null,
            "left": null
          }
        },
        "127332e7e5ab407e9e1f66eadc21f9f0": {
          "model_module": "@jupyter-widgets/controls",
          "model_name": "DescriptionStyleModel",
          "model_module_version": "1.5.0",
          "state": {
            "_view_name": "StyleView",
            "_model_name": "DescriptionStyleModel",
            "description_width": "",
            "_view_module": "@jupyter-widgets/base",
            "_model_module_version": "1.5.0",
            "_view_count": null,
            "_view_module_version": "1.2.0",
            "_model_module": "@jupyter-widgets/controls"
          }
        },
        "1c607d6c83874e3ab2ef4a1698b96a5c": {
          "model_module": "@jupyter-widgets/base",
          "model_name": "LayoutModel",
          "model_module_version": "1.2.0",
          "state": {
            "_view_name": "LayoutView",
            "grid_template_rows": null,
            "right": null,
            "justify_content": null,
            "_view_module": "@jupyter-widgets/base",
            "overflow": null,
            "_model_module_version": "1.2.0",
            "_view_count": null,
            "flex_flow": null,
            "width": null,
            "min_width": null,
            "border": null,
            "align_items": null,
            "bottom": null,
            "_model_module": "@jupyter-widgets/base",
            "top": null,
            "grid_column": null,
            "overflow_y": null,
            "overflow_x": null,
            "grid_auto_flow": null,
            "grid_area": null,
            "grid_template_columns": null,
            "flex": null,
            "_model_name": "LayoutModel",
            "justify_items": null,
            "grid_row": null,
            "max_height": null,
            "align_content": null,
            "visibility": null,
            "align_self": null,
            "height": null,
            "min_height": null,
            "padding": null,
            "grid_auto_rows": null,
            "grid_gap": null,
            "max_width": null,
            "order": null,
            "_view_module_version": "1.2.0",
            "grid_template_areas": null,
            "object_position": null,
            "object_fit": null,
            "grid_auto_columns": null,
            "margin": null,
            "display": null,
            "left": null
          }
        }
      }
    }
  },
  "cells": [
    {
      "cell_type": "markdown",
      "source": [
        "#**Installation and Imports**"
      ],
      "metadata": {
        "id": "DEPuyCedLcjw"
      }
    },
    {
      "cell_type": "code",
      "source": [
        "import torch\n",
        "\n",
        "def format_pytorch_version(version):\n",
        "  return version.split('+')[0]\n",
        "\n",
        "TORCH_version = torch.__version__\n",
        "TORCH = format_pytorch_version(TORCH_version)\n",
        "\n",
        "def format_cuda_version(version):\n",
        "  return 'cu' + version.replace('.', '')\n",
        "\n",
        "CUDA_version = torch.version.cuda\n",
        "CUDA = format_cuda_version(CUDA_version)\n",
        "\n",
        "!pip install torch-scatter     -f https://pytorch-geometric.com/whl/torch-{TORCH}+{CUDA}.html\n",
        "!pip install torch-sparse      -f https://pytorch-geometric.com/whl/torch-{TORCH}+{CUDA}.html\n",
        "!pip install torch-cluster     -f https://pytorch-geometric.com/whl/torch-{TORCH}+{CUDA}.html\n",
        "!pip install torch-spline-conv -f https://pytorch-geometric.com/whl/torch-{TORCH}+{CUDA}.html\n",
        "!pip install torch-geometric "
      ],
      "metadata": {
        "id": "Dk43xy49ov5m",
        "colab": {
          "base_uri": "https://localhost:8080/"
        },
        "outputId": "87a6e03d-ea65-488c-d9e0-149770c0e46c"
      },
      "execution_count": 3,
      "outputs": [
        {
          "output_type": "stream",
          "name": "stdout",
          "text": [
            "Looking in links: https://pytorch-geometric.com/whl/torch-1.10.0+cu111.html\n",
            "Collecting torch-scatter\n",
            "  Downloading https://data.pyg.org/whl/torch-1.10.0%2Bcu113/torch_scatter-2.0.9-cp37-cp37m-linux_x86_64.whl (7.9 MB)\n",
            "\u001b[K     |████████████████████████████████| 7.9 MB 14.7 MB/s \n",
            "\u001b[?25hInstalling collected packages: torch-scatter\n",
            "Successfully installed torch-scatter-2.0.9\n",
            "Looking in links: https://pytorch-geometric.com/whl/torch-1.10.0+cu111.html\n",
            "Collecting torch-sparse\n",
            "  Downloading https://data.pyg.org/whl/torch-1.10.0%2Bcu113/torch_sparse-0.6.12-cp37-cp37m-linux_x86_64.whl (3.5 MB)\n",
            "\u001b[K     |████████████████████████████████| 3.5 MB 13.0 MB/s \n",
            "\u001b[?25hRequirement already satisfied: scipy in /usr/local/lib/python3.7/dist-packages (from torch-sparse) (1.4.1)\n",
            "Requirement already satisfied: numpy>=1.13.3 in /usr/local/lib/python3.7/dist-packages (from scipy->torch-sparse) (1.19.5)\n",
            "Installing collected packages: torch-sparse\n",
            "Successfully installed torch-sparse-0.6.12\n",
            "Looking in links: https://pytorch-geometric.com/whl/torch-1.10.0+cu111.html\n",
            "Collecting torch-cluster\n",
            "  Downloading https://data.pyg.org/whl/torch-1.10.0%2Bcu113/torch_cluster-1.5.9-cp37-cp37m-linux_x86_64.whl (2.3 MB)\n",
            "\u001b[K     |████████████████████████████████| 2.3 MB 12.8 MB/s \n",
            "\u001b[?25hInstalling collected packages: torch-cluster\n",
            "Successfully installed torch-cluster-1.5.9\n",
            "Looking in links: https://pytorch-geometric.com/whl/torch-1.10.0+cu111.html\n",
            "Collecting torch-spline-conv\n",
            "  Downloading https://data.pyg.org/whl/torch-1.10.0%2Bcu113/torch_spline_conv-1.2.1-cp37-cp37m-linux_x86_64.whl (747 kB)\n",
            "\u001b[K     |████████████████████████████████| 747 kB 14.1 MB/s \n",
            "\u001b[?25hInstalling collected packages: torch-spline-conv\n",
            "Successfully installed torch-spline-conv-1.2.1\n",
            "Collecting torch-geometric\n",
            "  Downloading torch_geometric-2.0.3.tar.gz (370 kB)\n",
            "\u001b[K     |████████████████████████████████| 370 kB 14.8 MB/s \n",
            "\u001b[?25hRequirement already satisfied: numpy in /usr/local/lib/python3.7/dist-packages (from torch-geometric) (1.19.5)\n",
            "Requirement already satisfied: tqdm in /usr/local/lib/python3.7/dist-packages (from torch-geometric) (4.62.3)\n",
            "Requirement already satisfied: scipy in /usr/local/lib/python3.7/dist-packages (from torch-geometric) (1.4.1)\n",
            "Requirement already satisfied: networkx in /usr/local/lib/python3.7/dist-packages (from torch-geometric) (2.6.3)\n",
            "Requirement already satisfied: scikit-learn in /usr/local/lib/python3.7/dist-packages (from torch-geometric) (1.0.1)\n",
            "Requirement already satisfied: requests in /usr/local/lib/python3.7/dist-packages (from torch-geometric) (2.23.0)\n",
            "Requirement already satisfied: pandas in /usr/local/lib/python3.7/dist-packages (from torch-geometric) (1.1.5)\n",
            "Collecting rdflib\n",
            "  Downloading rdflib-6.1.1-py3-none-any.whl (482 kB)\n",
            "\u001b[K     |████████████████████████████████| 482 kB 52.1 MB/s \n",
            "\u001b[?25hRequirement already satisfied: googledrivedownloader in /usr/local/lib/python3.7/dist-packages (from torch-geometric) (0.4)\n",
            "Requirement already satisfied: jinja2 in /usr/local/lib/python3.7/dist-packages (from torch-geometric) (2.11.3)\n",
            "Requirement already satisfied: pyparsing in /usr/local/lib/python3.7/dist-packages (from torch-geometric) (3.0.6)\n",
            "Collecting yacs\n",
            "  Downloading yacs-0.1.8-py3-none-any.whl (14 kB)\n",
            "Requirement already satisfied: PyYAML in /usr/local/lib/python3.7/dist-packages (from torch-geometric) (3.13)\n",
            "Requirement already satisfied: MarkupSafe>=0.23 in /usr/local/lib/python3.7/dist-packages (from jinja2->torch-geometric) (2.0.1)\n",
            "Requirement already satisfied: python-dateutil>=2.7.3 in /usr/local/lib/python3.7/dist-packages (from pandas->torch-geometric) (2.8.2)\n",
            "Requirement already satisfied: pytz>=2017.2 in /usr/local/lib/python3.7/dist-packages (from pandas->torch-geometric) (2018.9)\n",
            "Requirement already satisfied: six>=1.5 in /usr/local/lib/python3.7/dist-packages (from python-dateutil>=2.7.3->pandas->torch-geometric) (1.15.0)\n",
            "Collecting isodate\n",
            "  Downloading isodate-0.6.1-py2.py3-none-any.whl (41 kB)\n",
            "\u001b[K     |████████████████████████████████| 41 kB 467 kB/s \n",
            "\u001b[?25hRequirement already satisfied: setuptools in /usr/local/lib/python3.7/dist-packages (from rdflib->torch-geometric) (57.4.0)\n",
            "Requirement already satisfied: importlib-metadata in /usr/local/lib/python3.7/dist-packages (from rdflib->torch-geometric) (4.8.2)\n",
            "Requirement already satisfied: typing-extensions>=3.6.4 in /usr/local/lib/python3.7/dist-packages (from importlib-metadata->rdflib->torch-geometric) (3.10.0.2)\n",
            "Requirement already satisfied: zipp>=0.5 in /usr/local/lib/python3.7/dist-packages (from importlib-metadata->rdflib->torch-geometric) (3.6.0)\n",
            "Requirement already satisfied: urllib3!=1.25.0,!=1.25.1,<1.26,>=1.21.1 in /usr/local/lib/python3.7/dist-packages (from requests->torch-geometric) (1.24.3)\n",
            "Requirement already satisfied: chardet<4,>=3.0.2 in /usr/local/lib/python3.7/dist-packages (from requests->torch-geometric) (3.0.4)\n",
            "Requirement already satisfied: certifi>=2017.4.17 in /usr/local/lib/python3.7/dist-packages (from requests->torch-geometric) (2021.10.8)\n",
            "Requirement already satisfied: idna<3,>=2.5 in /usr/local/lib/python3.7/dist-packages (from requests->torch-geometric) (2.10)\n",
            "Requirement already satisfied: joblib>=0.11 in /usr/local/lib/python3.7/dist-packages (from scikit-learn->torch-geometric) (1.1.0)\n",
            "Requirement already satisfied: threadpoolctl>=2.0.0 in /usr/local/lib/python3.7/dist-packages (from scikit-learn->torch-geometric) (3.0.0)\n",
            "Building wheels for collected packages: torch-geometric\n",
            "  Building wheel for torch-geometric (setup.py) ... \u001b[?25l\u001b[?25hdone\n",
            "  Created wheel for torch-geometric: filename=torch_geometric-2.0.3-py3-none-any.whl size=581969 sha256=66d6639a0911db623b53bb70b74002955615183c95d7beaecc2d9d9987703266\n",
            "  Stored in directory: /root/.cache/pip/wheels/c3/2a/58/87ce0508964d4def1aafb92750c4f3ac77038efd1b9a89dcf5\n",
            "Successfully built torch-geometric\n",
            "Installing collected packages: isodate, yacs, rdflib, torch-geometric\n",
            "Successfully installed isodate-0.6.1 rdflib-6.1.1 torch-geometric-2.0.3 yacs-0.1.8\n"
          ]
        }
      ]
    },
    {
      "cell_type": "code",
      "source": [
        "import torch_geometric\n",
        "from torch_geometric.data import Data\n",
        "from torch_geometric.data import InMemoryDataset\n",
        "from torch_geometric.utils import to_networkx, from_networkx\n",
        "from torch_geometric.nn import Node2Vec\n",
        "import torch.nn as nn\n",
        "import torch_cluster\n",
        "import torch.nn.functional as F\n",
        "from torch_geometric.nn import GCNConv, GNNExplainer\n",
        "\n",
        "import networkx as nx\n",
        "\n",
        "from sklearn.preprocessing import StandardScaler\n",
        "from sklearn.model_selection import train_test_split, GridSearchCV\n",
        "from sklearn.decomposition import PCA\n",
        "from sklearn import svm\n",
        "from sklearn.neural_network import MLPClassifier\n",
        "from sklearn.metrics import accuracy_score, precision_score, recall_score, f1_score, ConfusionMatrixDisplay\n",
        "\n",
        "import numpy as np\n",
        "import pandas as pd\n",
        "\n",
        "from typing import Callable\n",
        "\n",
        "from tqdm.notebook import tqdm\n",
        "import time\n",
        "\n",
        "import os\n",
        "\n",
        "from pylab import rcParams\n",
        "\n",
        "from google.colab.patches import cv2_imshow\n",
        "import cv2\n",
        "\n",
        "import matplotlib.pyplot as plt\n",
        "\n",
        "%matplotlib inline"
      ],
      "metadata": {
        "id": "QkQEaVHmhTEN"
      },
      "execution_count": 4,
      "outputs": []
    },
    {
      "cell_type": "code",
      "execution_count": 5,
      "metadata": {
        "id": "n1-8qjtFXoYK",
        "colab": {
          "base_uri": "https://localhost:8080/"
        },
        "outputId": "39090afa-a073-432f-ba28-d0aa651b2f7b"
      },
      "outputs": [
        {
          "output_type": "stream",
          "name": "stdout",
          "text": [
            "Mounted at /content/drive\n"
          ]
        }
      ],
      "source": [
        "from google.colab import drive\n",
        "drive.mount('/content/drive')"
      ]
    },
    {
      "cell_type": "code",
      "source": [
        "#reproducing same results (report results are given for the current seed)\n",
        "SEED = 123\n",
        "\n",
        "#torch\n",
        "torch.manual_seed(SEED)\n",
        "\n",
        "#cuda algorithms\n",
        "torch.backends.cudnn.deterministic = True \n",
        "\n",
        "#numpy\n",
        "np.random.seed(SEED)"
      ],
      "metadata": {
        "id": "oW4Wq6XfgEH_"
      },
      "execution_count": 6,
      "outputs": []
    },
    {
      "cell_type": "code",
      "source": [
        "#defined once for all\n",
        "device = torch.device(\n",
        "    'cuda' if torch.cuda.is_available() \n",
        "     else 'cpu'\n",
        "    )\n",
        "print(device)"
      ],
      "metadata": {
        "id": "Y3drUWv7LmC5",
        "colab": {
          "base_uri": "https://localhost:8080/"
        },
        "outputId": "dfeaf74b-dda9-4ff9-d43a-a9daf81c1346"
      },
      "execution_count": 7,
      "outputs": [
        {
          "output_type": "stream",
          "name": "stdout",
          "text": [
            "cpu\n"
          ]
        }
      ]
    },
    {
      "cell_type": "code",
      "source": [
        "#replace with your path\n",
        "path = '/content/drive/MyDrive/dm_hw4_data/'"
      ],
      "metadata": {
        "id": "IL5b5i17EwLT"
      },
      "execution_count": 8,
      "outputs": []
    },
    {
      "cell_type": "markdown",
      "source": [
        "# **Data Inspection and Preparation**"
      ],
      "metadata": {
        "id": "zz_si4zCLnvi"
      }
    },
    {
      "cell_type": "markdown",
      "source": [
        "## **Datasets**"
      ],
      "metadata": {
        "id": "aXMGUpR08JE6"
      }
    },
    {
      "cell_type": "code",
      "source": [
        "#import gda dataset\n",
        "with open(os.path.join(path, 'all_gene_disease_associations.tsv'),'r') as f:\n",
        "    gda = pd.read_csv(f, delimiter = '\\t')"
      ],
      "metadata": {
        "id": "N6bTl6J5iJM7"
      },
      "execution_count": 9,
      "outputs": []
    },
    {
      "cell_type": "code",
      "source": [
        "print(gda.shape)\n",
        "gda.head()"
      ],
      "metadata": {
        "id": "4rdudvuAjvpP",
        "colab": {
          "base_uri": "https://localhost:8080/",
          "height": 305
        },
        "outputId": "f6d1ea5c-e6ea-41c1-faf0-087b83fb47ab"
      },
      "execution_count": 10,
      "outputs": [
        {
          "output_type": "stream",
          "name": "stdout",
          "text": [
            "(1134942, 16)\n"
          ]
        },
        {
          "output_type": "execute_result",
          "data": {
            "text/html": [
              "\n",
              "  <div id=\"df-6e568bce-d309-4f2e-942e-86b75fea1cf0\">\n",
              "    <div class=\"colab-df-container\">\n",
              "      <div>\n",
              "<style scoped>\n",
              "    .dataframe tbody tr th:only-of-type {\n",
              "        vertical-align: middle;\n",
              "    }\n",
              "\n",
              "    .dataframe tbody tr th {\n",
              "        vertical-align: top;\n",
              "    }\n",
              "\n",
              "    .dataframe thead th {\n",
              "        text-align: right;\n",
              "    }\n",
              "</style>\n",
              "<table border=\"1\" class=\"dataframe\">\n",
              "  <thead>\n",
              "    <tr style=\"text-align: right;\">\n",
              "      <th></th>\n",
              "      <th>geneId</th>\n",
              "      <th>geneSymbol</th>\n",
              "      <th>DSI</th>\n",
              "      <th>DPI</th>\n",
              "      <th>diseaseId</th>\n",
              "      <th>diseaseName</th>\n",
              "      <th>diseaseType</th>\n",
              "      <th>diseaseClass</th>\n",
              "      <th>diseaseSemanticType</th>\n",
              "      <th>score</th>\n",
              "      <th>EI</th>\n",
              "      <th>YearInitial</th>\n",
              "      <th>YearFinal</th>\n",
              "      <th>NofPmids</th>\n",
              "      <th>NofSnps</th>\n",
              "      <th>source</th>\n",
              "    </tr>\n",
              "  </thead>\n",
              "  <tbody>\n",
              "    <tr>\n",
              "      <th>0</th>\n",
              "      <td>1</td>\n",
              "      <td>A1BG</td>\n",
              "      <td>0.7</td>\n",
              "      <td>0.538</td>\n",
              "      <td>C0001418</td>\n",
              "      <td>Adenocarcinoma</td>\n",
              "      <td>group</td>\n",
              "      <td>C04</td>\n",
              "      <td>Neoplastic Process</td>\n",
              "      <td>0.01</td>\n",
              "      <td>1.0</td>\n",
              "      <td>2008.0</td>\n",
              "      <td>2008.0</td>\n",
              "      <td>1</td>\n",
              "      <td>0</td>\n",
              "      <td>LHGDN</td>\n",
              "    </tr>\n",
              "    <tr>\n",
              "      <th>1</th>\n",
              "      <td>1</td>\n",
              "      <td>A1BG</td>\n",
              "      <td>0.7</td>\n",
              "      <td>0.538</td>\n",
              "      <td>C0002736</td>\n",
              "      <td>Amyotrophic Lateral Sclerosis</td>\n",
              "      <td>disease</td>\n",
              "      <td>C18;C10</td>\n",
              "      <td>Disease or Syndrome</td>\n",
              "      <td>0.01</td>\n",
              "      <td>1.0</td>\n",
              "      <td>2008.0</td>\n",
              "      <td>2008.0</td>\n",
              "      <td>1</td>\n",
              "      <td>0</td>\n",
              "      <td>BEFREE</td>\n",
              "    </tr>\n",
              "    <tr>\n",
              "      <th>2</th>\n",
              "      <td>1</td>\n",
              "      <td>A1BG</td>\n",
              "      <td>0.7</td>\n",
              "      <td>0.538</td>\n",
              "      <td>C0003578</td>\n",
              "      <td>Apnea</td>\n",
              "      <td>phenotype</td>\n",
              "      <td>C23;C08</td>\n",
              "      <td>Sign or Symptom</td>\n",
              "      <td>0.01</td>\n",
              "      <td>1.0</td>\n",
              "      <td>2017.0</td>\n",
              "      <td>2017.0</td>\n",
              "      <td>1</td>\n",
              "      <td>0</td>\n",
              "      <td>BEFREE</td>\n",
              "    </tr>\n",
              "    <tr>\n",
              "      <th>3</th>\n",
              "      <td>1</td>\n",
              "      <td>A1BG</td>\n",
              "      <td>0.7</td>\n",
              "      <td>0.538</td>\n",
              "      <td>C0003864</td>\n",
              "      <td>Arthritis</td>\n",
              "      <td>disease</td>\n",
              "      <td>C05</td>\n",
              "      <td>Disease or Syndrome</td>\n",
              "      <td>0.01</td>\n",
              "      <td>1.0</td>\n",
              "      <td>2019.0</td>\n",
              "      <td>2019.0</td>\n",
              "      <td>1</td>\n",
              "      <td>0</td>\n",
              "      <td>BEFREE</td>\n",
              "    </tr>\n",
              "    <tr>\n",
              "      <th>4</th>\n",
              "      <td>1</td>\n",
              "      <td>A1BG</td>\n",
              "      <td>0.7</td>\n",
              "      <td>0.538</td>\n",
              "      <td>C0008373</td>\n",
              "      <td>Cholesteatoma</td>\n",
              "      <td>disease</td>\n",
              "      <td>C17</td>\n",
              "      <td>Disease or Syndrome</td>\n",
              "      <td>0.01</td>\n",
              "      <td>1.0</td>\n",
              "      <td>2020.0</td>\n",
              "      <td>2020.0</td>\n",
              "      <td>1</td>\n",
              "      <td>0</td>\n",
              "      <td>BEFREE</td>\n",
              "    </tr>\n",
              "  </tbody>\n",
              "</table>\n",
              "</div>\n",
              "      <button class=\"colab-df-convert\" onclick=\"convertToInteractive('df-6e568bce-d309-4f2e-942e-86b75fea1cf0')\"\n",
              "              title=\"Convert this dataframe to an interactive table.\"\n",
              "              style=\"display:none;\">\n",
              "        \n",
              "  <svg xmlns=\"http://www.w3.org/2000/svg\" height=\"24px\"viewBox=\"0 0 24 24\"\n",
              "       width=\"24px\">\n",
              "    <path d=\"M0 0h24v24H0V0z\" fill=\"none\"/>\n",
              "    <path d=\"M18.56 5.44l.94 2.06.94-2.06 2.06-.94-2.06-.94-.94-2.06-.94 2.06-2.06.94zm-11 1L8.5 8.5l.94-2.06 2.06-.94-2.06-.94L8.5 2.5l-.94 2.06-2.06.94zm10 10l.94 2.06.94-2.06 2.06-.94-2.06-.94-.94-2.06-.94 2.06-2.06.94z\"/><path d=\"M17.41 7.96l-1.37-1.37c-.4-.4-.92-.59-1.43-.59-.52 0-1.04.2-1.43.59L10.3 9.45l-7.72 7.72c-.78.78-.78 2.05 0 2.83L4 21.41c.39.39.9.59 1.41.59.51 0 1.02-.2 1.41-.59l7.78-7.78 2.81-2.81c.8-.78.8-2.07 0-2.86zM5.41 20L4 18.59l7.72-7.72 1.47 1.35L5.41 20z\"/>\n",
              "  </svg>\n",
              "      </button>\n",
              "      \n",
              "  <style>\n",
              "    .colab-df-container {\n",
              "      display:flex;\n",
              "      flex-wrap:wrap;\n",
              "      gap: 12px;\n",
              "    }\n",
              "\n",
              "    .colab-df-convert {\n",
              "      background-color: #E8F0FE;\n",
              "      border: none;\n",
              "      border-radius: 50%;\n",
              "      cursor: pointer;\n",
              "      display: none;\n",
              "      fill: #1967D2;\n",
              "      height: 32px;\n",
              "      padding: 0 0 0 0;\n",
              "      width: 32px;\n",
              "    }\n",
              "\n",
              "    .colab-df-convert:hover {\n",
              "      background-color: #E2EBFA;\n",
              "      box-shadow: 0px 1px 2px rgba(60, 64, 67, 0.3), 0px 1px 3px 1px rgba(60, 64, 67, 0.15);\n",
              "      fill: #174EA6;\n",
              "    }\n",
              "\n",
              "    [theme=dark] .colab-df-convert {\n",
              "      background-color: #3B4455;\n",
              "      fill: #D2E3FC;\n",
              "    }\n",
              "\n",
              "    [theme=dark] .colab-df-convert:hover {\n",
              "      background-color: #434B5C;\n",
              "      box-shadow: 0px 1px 3px 1px rgba(0, 0, 0, 0.15);\n",
              "      filter: drop-shadow(0px 1px 2px rgba(0, 0, 0, 0.3));\n",
              "      fill: #FFFFFF;\n",
              "    }\n",
              "  </style>\n",
              "\n",
              "      <script>\n",
              "        const buttonEl =\n",
              "          document.querySelector('#df-6e568bce-d309-4f2e-942e-86b75fea1cf0 button.colab-df-convert');\n",
              "        buttonEl.style.display =\n",
              "          google.colab.kernel.accessAllowed ? 'block' : 'none';\n",
              "\n",
              "        async function convertToInteractive(key) {\n",
              "          const element = document.querySelector('#df-6e568bce-d309-4f2e-942e-86b75fea1cf0');\n",
              "          const dataTable =\n",
              "            await google.colab.kernel.invokeFunction('convertToInteractive',\n",
              "                                                     [key], {});\n",
              "          if (!dataTable) return;\n",
              "\n",
              "          const docLinkHtml = 'Like what you see? Visit the ' +\n",
              "            '<a target=\"_blank\" href=https://colab.research.google.com/notebooks/data_table.ipynb>data table notebook</a>'\n",
              "            + ' to learn more about interactive tables.';\n",
              "          element.innerHTML = '';\n",
              "          dataTable['output_type'] = 'display_data';\n",
              "          await google.colab.output.renderOutput(dataTable, element);\n",
              "          const docLink = document.createElement('div');\n",
              "          docLink.innerHTML = docLinkHtml;\n",
              "          element.appendChild(docLink);\n",
              "        }\n",
              "      </script>\n",
              "    </div>\n",
              "  </div>\n",
              "  "
            ],
            "text/plain": [
              "   geneId geneSymbol  DSI    DPI  ... YearFinal NofPmids NofSnps  source\n",
              "0       1       A1BG  0.7  0.538  ...    2008.0        1       0   LHGDN\n",
              "1       1       A1BG  0.7  0.538  ...    2008.0        1       0  BEFREE\n",
              "2       1       A1BG  0.7  0.538  ...    2017.0        1       0  BEFREE\n",
              "3       1       A1BG  0.7  0.538  ...    2019.0        1       0  BEFREE\n",
              "4       1       A1BG  0.7  0.538  ...    2020.0        1       0  BEFREE\n",
              "\n",
              "[5 rows x 16 columns]"
            ]
          },
          "metadata": {},
          "execution_count": 10
        }
      ]
    },
    {
      "cell_type": "code",
      "source": [
        "#import ppi dataset\n",
        "with open(os.path.join(path, 'Biogrid_4.4.199_Hs.txt'),'r') as f:\n",
        "    ppi = pd.read_csv(f, delimiter = ' ', header = None)"
      ],
      "metadata": {
        "id": "F23v8LyDjyKH"
      },
      "execution_count": 11,
      "outputs": []
    },
    {
      "cell_type": "code",
      "source": [
        "ppi.head()"
      ],
      "metadata": {
        "id": "aWlqSz5rm7bu",
        "colab": {
          "base_uri": "https://localhost:8080/",
          "height": 206
        },
        "outputId": "8995d25d-db45-420e-dd05-cf77d55acd62"
      },
      "execution_count": 12,
      "outputs": [
        {
          "output_type": "execute_result",
          "data": {
            "text/html": [
              "\n",
              "  <div id=\"df-9042ce5c-2bc5-4c76-bfb6-5f788840ee78\">\n",
              "    <div class=\"colab-df-container\">\n",
              "      <div>\n",
              "<style scoped>\n",
              "    .dataframe tbody tr th:only-of-type {\n",
              "        vertical-align: middle;\n",
              "    }\n",
              "\n",
              "    .dataframe tbody tr th {\n",
              "        vertical-align: top;\n",
              "    }\n",
              "\n",
              "    .dataframe thead th {\n",
              "        text-align: right;\n",
              "    }\n",
              "</style>\n",
              "<table border=\"1\" class=\"dataframe\">\n",
              "  <thead>\n",
              "    <tr style=\"text-align: right;\">\n",
              "      <th></th>\n",
              "      <th>0</th>\n",
              "      <th>1</th>\n",
              "    </tr>\n",
              "  </thead>\n",
              "  <tbody>\n",
              "    <tr>\n",
              "      <th>0</th>\n",
              "      <td>MAP2K4</td>\n",
              "      <td>FLNC</td>\n",
              "    </tr>\n",
              "    <tr>\n",
              "      <th>1</th>\n",
              "      <td>MYPN</td>\n",
              "      <td>ACTN2</td>\n",
              "    </tr>\n",
              "    <tr>\n",
              "      <th>2</th>\n",
              "      <td>ACVR1</td>\n",
              "      <td>FNTA</td>\n",
              "    </tr>\n",
              "    <tr>\n",
              "      <th>3</th>\n",
              "      <td>GATA2</td>\n",
              "      <td>PML</td>\n",
              "    </tr>\n",
              "    <tr>\n",
              "      <th>4</th>\n",
              "      <td>RPA2</td>\n",
              "      <td>STAT3</td>\n",
              "    </tr>\n",
              "  </tbody>\n",
              "</table>\n",
              "</div>\n",
              "      <button class=\"colab-df-convert\" onclick=\"convertToInteractive('df-9042ce5c-2bc5-4c76-bfb6-5f788840ee78')\"\n",
              "              title=\"Convert this dataframe to an interactive table.\"\n",
              "              style=\"display:none;\">\n",
              "        \n",
              "  <svg xmlns=\"http://www.w3.org/2000/svg\" height=\"24px\"viewBox=\"0 0 24 24\"\n",
              "       width=\"24px\">\n",
              "    <path d=\"M0 0h24v24H0V0z\" fill=\"none\"/>\n",
              "    <path d=\"M18.56 5.44l.94 2.06.94-2.06 2.06-.94-2.06-.94-.94-2.06-.94 2.06-2.06.94zm-11 1L8.5 8.5l.94-2.06 2.06-.94-2.06-.94L8.5 2.5l-.94 2.06-2.06.94zm10 10l.94 2.06.94-2.06 2.06-.94-2.06-.94-.94-2.06-.94 2.06-2.06.94z\"/><path d=\"M17.41 7.96l-1.37-1.37c-.4-.4-.92-.59-1.43-.59-.52 0-1.04.2-1.43.59L10.3 9.45l-7.72 7.72c-.78.78-.78 2.05 0 2.83L4 21.41c.39.39.9.59 1.41.59.51 0 1.02-.2 1.41-.59l7.78-7.78 2.81-2.81c.8-.78.8-2.07 0-2.86zM5.41 20L4 18.59l7.72-7.72 1.47 1.35L5.41 20z\"/>\n",
              "  </svg>\n",
              "      </button>\n",
              "      \n",
              "  <style>\n",
              "    .colab-df-container {\n",
              "      display:flex;\n",
              "      flex-wrap:wrap;\n",
              "      gap: 12px;\n",
              "    }\n",
              "\n",
              "    .colab-df-convert {\n",
              "      background-color: #E8F0FE;\n",
              "      border: none;\n",
              "      border-radius: 50%;\n",
              "      cursor: pointer;\n",
              "      display: none;\n",
              "      fill: #1967D2;\n",
              "      height: 32px;\n",
              "      padding: 0 0 0 0;\n",
              "      width: 32px;\n",
              "    }\n",
              "\n",
              "    .colab-df-convert:hover {\n",
              "      background-color: #E2EBFA;\n",
              "      box-shadow: 0px 1px 2px rgba(60, 64, 67, 0.3), 0px 1px 3px 1px rgba(60, 64, 67, 0.15);\n",
              "      fill: #174EA6;\n",
              "    }\n",
              "\n",
              "    [theme=dark] .colab-df-convert {\n",
              "      background-color: #3B4455;\n",
              "      fill: #D2E3FC;\n",
              "    }\n",
              "\n",
              "    [theme=dark] .colab-df-convert:hover {\n",
              "      background-color: #434B5C;\n",
              "      box-shadow: 0px 1px 3px 1px rgba(0, 0, 0, 0.15);\n",
              "      filter: drop-shadow(0px 1px 2px rgba(0, 0, 0, 0.3));\n",
              "      fill: #FFFFFF;\n",
              "    }\n",
              "  </style>\n",
              "\n",
              "      <script>\n",
              "        const buttonEl =\n",
              "          document.querySelector('#df-9042ce5c-2bc5-4c76-bfb6-5f788840ee78 button.colab-df-convert');\n",
              "        buttonEl.style.display =\n",
              "          google.colab.kernel.accessAllowed ? 'block' : 'none';\n",
              "\n",
              "        async function convertToInteractive(key) {\n",
              "          const element = document.querySelector('#df-9042ce5c-2bc5-4c76-bfb6-5f788840ee78');\n",
              "          const dataTable =\n",
              "            await google.colab.kernel.invokeFunction('convertToInteractive',\n",
              "                                                     [key], {});\n",
              "          if (!dataTable) return;\n",
              "\n",
              "          const docLinkHtml = 'Like what you see? Visit the ' +\n",
              "            '<a target=\"_blank\" href=https://colab.research.google.com/notebooks/data_table.ipynb>data table notebook</a>'\n",
              "            + ' to learn more about interactive tables.';\n",
              "          element.innerHTML = '';\n",
              "          dataTable['output_type'] = 'display_data';\n",
              "          await google.colab.output.renderOutput(dataTable, element);\n",
              "          const docLink = document.createElement('div');\n",
              "          docLink.innerHTML = docLinkHtml;\n",
              "          element.appendChild(docLink);\n",
              "        }\n",
              "      </script>\n",
              "    </div>\n",
              "  </div>\n",
              "  "
            ],
            "text/plain": [
              "        0      1\n",
              "0  MAP2K4   FLNC\n",
              "1    MYPN  ACTN2\n",
              "2   ACVR1   FNTA\n",
              "3   GATA2    PML\n",
              "4    RPA2  STAT3"
            ]
          },
          "metadata": {},
          "execution_count": 12
        }
      ]
    },
    {
      "cell_type": "code",
      "source": [
        "#take top 10000 interactions from the dataset\n",
        "ppi_reduced = ppi.head(10000)\n",
        "ppi_reduced.shape"
      ],
      "metadata": {
        "id": "B15qCvKcnKE5",
        "colab": {
          "base_uri": "https://localhost:8080/"
        },
        "outputId": "4e6a6e2f-6d87-4e26-df12-ac3de51f79ad"
      },
      "execution_count": 13,
      "outputs": [
        {
          "output_type": "execute_result",
          "data": {
            "text/plain": [
              "(10000, 2)"
            ]
          },
          "metadata": {},
          "execution_count": 13
        }
      ]
    },
    {
      "cell_type": "code",
      "source": [
        "#set operation deletes duplicates\n",
        "unique_gene_names = list(set(ppi_reduced[0]).union(set(ppi_reduced[1])))\n",
        "len(unique_gene_names)"
      ],
      "metadata": {
        "id": "J2pj928LnVgF",
        "colab": {
          "base_uri": "https://localhost:8080/"
        },
        "outputId": "ec1fdd60-3cea-43ee-8f2d-4352d9217004"
      },
      "execution_count": 14,
      "outputs": [
        {
          "output_type": "execute_result",
          "data": {
            "text/plain": [
              "4263"
            ]
          },
          "metadata": {},
          "execution_count": 14
        }
      ]
    },
    {
      "cell_type": "code",
      "source": [
        "#iterate over gene names in gda and check if names falls into desired list\n",
        "gda_filtered = gda[gda['geneSymbol'].isin(unique_gene_names)]\n",
        "print(gda_filtered.shape)"
      ],
      "metadata": {
        "id": "NcvQ8rYxpYGM",
        "colab": {
          "base_uri": "https://localhost:8080/"
        },
        "outputId": "5306a59d-33d9-48c8-df5a-4504f2257f67"
      },
      "execution_count": 15,
      "outputs": [
        {
          "output_type": "stream",
          "name": "stdout",
          "text": [
            "(378594, 16)\n"
          ]
        }
      ]
    },
    {
      "cell_type": "code",
      "source": [
        "#group by the disease name, count number of associated genes sort and take the top value\n",
        "disease_of_interest_id = gda_filtered.groupby(['diseaseId'])['geneId'].count().sort_values(ascending=False).head(1).index[0]\n",
        "disease_of_interest_id"
      ],
      "metadata": {
        "id": "rZNTMJa1qV1_",
        "colab": {
          "base_uri": "https://localhost:8080/",
          "height": 35
        },
        "outputId": "8df67285-2c9f-4bc3-cb2b-c3ee64c42055"
      },
      "execution_count": 16,
      "outputs": [
        {
          "output_type": "execute_result",
          "data": {
            "application/vnd.google.colaboratory.intrinsic+json": {
              "type": "string"
            },
            "text/plain": [
              "'C0027651'"
            ]
          },
          "metadata": {},
          "execution_count": 16
        }
      ]
    },
    {
      "cell_type": "code",
      "source": [
        "#take only gene names from gda which corrrspond to the id of the chosen disease\n",
        "gda_reduced = gda_filtered[gda_filtered['diseaseId']==disease_of_interest_id][['geneSymbol']]\n",
        "print(gda_reduced.shape)\n",
        "gda_reduced.head()"
      ],
      "metadata": {
        "id": "6Sk2YW6crzRl",
        "colab": {
          "base_uri": "https://localhost:8080/",
          "height": 224
        },
        "outputId": "fcd33300-9162-4f65-8a9f-6db3e4bb3053"
      },
      "execution_count": 17,
      "outputs": [
        {
          "output_type": "stream",
          "name": "stdout",
          "text": [
            "(2621, 1)\n"
          ]
        },
        {
          "output_type": "execute_result",
          "data": {
            "text/html": [
              "\n",
              "  <div id=\"df-9289109e-cac8-44d9-ba5e-2b41f1b0c2c5\">\n",
              "    <div class=\"colab-df-container\">\n",
              "      <div>\n",
              "<style scoped>\n",
              "    .dataframe tbody tr th:only-of-type {\n",
              "        vertical-align: middle;\n",
              "    }\n",
              "\n",
              "    .dataframe tbody tr th {\n",
              "        vertical-align: top;\n",
              "    }\n",
              "\n",
              "    .dataframe thead th {\n",
              "        text-align: right;\n",
              "    }\n",
              "</style>\n",
              "<table border=\"1\" class=\"dataframe\">\n",
              "  <thead>\n",
              "    <tr style=\"text-align: right;\">\n",
              "      <th></th>\n",
              "      <th>geneSymbol</th>\n",
              "    </tr>\n",
              "  </thead>\n",
              "  <tbody>\n",
              "    <tr>\n",
              "      <th>79</th>\n",
              "      <td>A2M</td>\n",
              "    </tr>\n",
              "    <tr>\n",
              "      <th>697</th>\n",
              "      <td>SERPINA3</td>\n",
              "    </tr>\n",
              "    <tr>\n",
              "      <th>1335</th>\n",
              "      <td>ABCA1</td>\n",
              "    </tr>\n",
              "    <tr>\n",
              "      <th>2069</th>\n",
              "      <td>ABL1</td>\n",
              "    </tr>\n",
              "    <tr>\n",
              "      <th>2432</th>\n",
              "      <td>ABL2</td>\n",
              "    </tr>\n",
              "  </tbody>\n",
              "</table>\n",
              "</div>\n",
              "      <button class=\"colab-df-convert\" onclick=\"convertToInteractive('df-9289109e-cac8-44d9-ba5e-2b41f1b0c2c5')\"\n",
              "              title=\"Convert this dataframe to an interactive table.\"\n",
              "              style=\"display:none;\">\n",
              "        \n",
              "  <svg xmlns=\"http://www.w3.org/2000/svg\" height=\"24px\"viewBox=\"0 0 24 24\"\n",
              "       width=\"24px\">\n",
              "    <path d=\"M0 0h24v24H0V0z\" fill=\"none\"/>\n",
              "    <path d=\"M18.56 5.44l.94 2.06.94-2.06 2.06-.94-2.06-.94-.94-2.06-.94 2.06-2.06.94zm-11 1L8.5 8.5l.94-2.06 2.06-.94-2.06-.94L8.5 2.5l-.94 2.06-2.06.94zm10 10l.94 2.06.94-2.06 2.06-.94-2.06-.94-.94-2.06-.94 2.06-2.06.94z\"/><path d=\"M17.41 7.96l-1.37-1.37c-.4-.4-.92-.59-1.43-.59-.52 0-1.04.2-1.43.59L10.3 9.45l-7.72 7.72c-.78.78-.78 2.05 0 2.83L4 21.41c.39.39.9.59 1.41.59.51 0 1.02-.2 1.41-.59l7.78-7.78 2.81-2.81c.8-.78.8-2.07 0-2.86zM5.41 20L4 18.59l7.72-7.72 1.47 1.35L5.41 20z\"/>\n",
              "  </svg>\n",
              "      </button>\n",
              "      \n",
              "  <style>\n",
              "    .colab-df-container {\n",
              "      display:flex;\n",
              "      flex-wrap:wrap;\n",
              "      gap: 12px;\n",
              "    }\n",
              "\n",
              "    .colab-df-convert {\n",
              "      background-color: #E8F0FE;\n",
              "      border: none;\n",
              "      border-radius: 50%;\n",
              "      cursor: pointer;\n",
              "      display: none;\n",
              "      fill: #1967D2;\n",
              "      height: 32px;\n",
              "      padding: 0 0 0 0;\n",
              "      width: 32px;\n",
              "    }\n",
              "\n",
              "    .colab-df-convert:hover {\n",
              "      background-color: #E2EBFA;\n",
              "      box-shadow: 0px 1px 2px rgba(60, 64, 67, 0.3), 0px 1px 3px 1px rgba(60, 64, 67, 0.15);\n",
              "      fill: #174EA6;\n",
              "    }\n",
              "\n",
              "    [theme=dark] .colab-df-convert {\n",
              "      background-color: #3B4455;\n",
              "      fill: #D2E3FC;\n",
              "    }\n",
              "\n",
              "    [theme=dark] .colab-df-convert:hover {\n",
              "      background-color: #434B5C;\n",
              "      box-shadow: 0px 1px 3px 1px rgba(0, 0, 0, 0.15);\n",
              "      filter: drop-shadow(0px 1px 2px rgba(0, 0, 0, 0.3));\n",
              "      fill: #FFFFFF;\n",
              "    }\n",
              "  </style>\n",
              "\n",
              "      <script>\n",
              "        const buttonEl =\n",
              "          document.querySelector('#df-9289109e-cac8-44d9-ba5e-2b41f1b0c2c5 button.colab-df-convert');\n",
              "        buttonEl.style.display =\n",
              "          google.colab.kernel.accessAllowed ? 'block' : 'none';\n",
              "\n",
              "        async function convertToInteractive(key) {\n",
              "          const element = document.querySelector('#df-9289109e-cac8-44d9-ba5e-2b41f1b0c2c5');\n",
              "          const dataTable =\n",
              "            await google.colab.kernel.invokeFunction('convertToInteractive',\n",
              "                                                     [key], {});\n",
              "          if (!dataTable) return;\n",
              "\n",
              "          const docLinkHtml = 'Like what you see? Visit the ' +\n",
              "            '<a target=\"_blank\" href=https://colab.research.google.com/notebooks/data_table.ipynb>data table notebook</a>'\n",
              "            + ' to learn more about interactive tables.';\n",
              "          element.innerHTML = '';\n",
              "          dataTable['output_type'] = 'display_data';\n",
              "          await google.colab.output.renderOutput(dataTable, element);\n",
              "          const docLink = document.createElement('div');\n",
              "          docLink.innerHTML = docLinkHtml;\n",
              "          element.appendChild(docLink);\n",
              "        }\n",
              "      </script>\n",
              "    </div>\n",
              "  </div>\n",
              "  "
            ],
            "text/plain": [
              "     geneSymbol\n",
              "79          A2M\n",
              "697    SERPINA3\n",
              "1335      ABCA1\n",
              "2069       ABL1\n",
              "2432       ABL2"
            ]
          },
          "metadata": {},
          "execution_count": 17
        }
      ]
    },
    {
      "cell_type": "markdown",
      "source": [
        "## **Graph**"
      ],
      "metadata": {
        "id": "Xdz7yHZ9d4He"
      }
    },
    {
      "cell_type": "markdown",
      "source": [
        "### **Networkx Graph**"
      ],
      "metadata": {
        "id": "mFHnRwEo8dCb"
      }
    },
    {
      "cell_type": "code",
      "source": [
        "#indexed vocabulary gene name -> index\n",
        "word_index = dict()\n",
        "\n",
        "for index, word, in enumerate(unique_gene_names):\n",
        "  word_index[word] = index"
      ],
      "metadata": {
        "id": "tlXabTCFujHi"
      },
      "execution_count": 18,
      "outputs": []
    },
    {
      "cell_type": "code",
      "source": [
        "#take all indices from vocabulary and convert into tensor input\n",
        "x = torch.tensor(list(word_index.values()), dtype = torch.float)\n",
        "x"
      ],
      "metadata": {
        "id": "L3m9s4VexA3K",
        "colab": {
          "base_uri": "https://localhost:8080/"
        },
        "outputId": "960915f4-ae3a-4eb5-ab9b-77bf83388c2d"
      },
      "execution_count": 19,
      "outputs": [
        {
          "output_type": "execute_result",
          "data": {
            "text/plain": [
              "tensor([0.0000e+00, 1.0000e+00, 2.0000e+00,  ..., 4.2600e+03, 4.2610e+03,\n",
              "        4.2620e+03])"
            ]
          },
          "metadata": {},
          "execution_count": 19
        }
      ]
    },
    {
      "cell_type": "code",
      "source": [
        "#creates tensor of 0/1 values, where gene indices associated with disease are mapped to 1\n",
        "y = torch.tensor([1 if gene_name in list(gda_reduced['geneSymbol']) else 0 \n",
        "                  for gene_name in list(word_index.keys())], dtype = torch.float)\n",
        "y"
      ],
      "metadata": {
        "id": "aVedY-72yZS-",
        "colab": {
          "base_uri": "https://localhost:8080/"
        },
        "outputId": "faaf9d34-9125-444d-894a-84b5d14ed3a1"
      },
      "execution_count": 20,
      "outputs": [
        {
          "output_type": "execute_result",
          "data": {
            "text/plain": [
              "tensor([1., 1., 1.,  ..., 0., 0., 1.])"
            ]
          },
          "metadata": {},
          "execution_count": 20
        }
      ]
    },
    {
      "cell_type": "code",
      "source": [
        "#fulfills two lists iterating over PPI data\n",
        "gene1_l = []\n",
        "gene2_l = []\n",
        "for gene1, gene2 in ppi_reduced.values:\n",
        "  gene1_l.append(word_index[gene1])\n",
        "  gene2_l.append(word_index[gene2])"
      ],
      "metadata": {
        "id": "8xD7zhRtzDiq"
      },
      "execution_count": 21,
      "outputs": []
    },
    {
      "cell_type": "code",
      "source": [
        "#lists are stacked into a single tensor\n",
        "edge_index = torch.stack((torch.tensor(gene1_l, dtype=torch.long),torch.tensor(gene2_l, dtype=torch.long)))\n",
        "edge_index"
      ],
      "metadata": {
        "id": "wUoJ5mYr4QJB",
        "colab": {
          "base_uri": "https://localhost:8080/"
        },
        "outputId": "e61a8a28-ffab-4369-c80f-4381f5d85534"
      },
      "execution_count": 22,
      "outputs": [
        {
          "output_type": "execute_result",
          "data": {
            "text/plain": [
              "tensor([[ 530, 1362, 2956,  ..., 3156, 4239, 4239],\n",
              "        [ 989, 1905, 3469,  ...,  753, 3818, 3567]])"
            ]
          },
          "metadata": {},
          "execution_count": 22
        }
      ]
    },
    {
      "cell_type": "code",
      "source": [
        "#data object\n",
        "data = Data(x = x, y = y, edge_index = edge_index)"
      ],
      "metadata": {
        "id": "6xRwpTn90_17"
      },
      "execution_count": 23,
      "outputs": []
    },
    {
      "cell_type": "code",
      "source": [
        "data"
      ],
      "metadata": {
        "id": "MoGHp7wA5M2Q",
        "colab": {
          "base_uri": "https://localhost:8080/"
        },
        "outputId": "17c50427-9659-4b8e-fa65-ab8afbc1eefe"
      },
      "execution_count": 24,
      "outputs": [
        {
          "output_type": "execute_result",
          "data": {
            "text/plain": [
              "Data(x=[4263], edge_index=[2, 10000], y=[4263])"
            ]
          },
          "metadata": {},
          "execution_count": 24
        }
      ]
    },
    {
      "cell_type": "code",
      "source": [
        "#form Networkx graph as undirected and with self-loops removal\n",
        "G = to_networkx(data, to_undirected = True, remove_self_loops = True)\n",
        "print(\"Graph G with {} nodes and {} edges has been constructed.\".format(G.number_of_nodes(), G.number_of_edges()))"
      ],
      "metadata": {
        "id": "irouqI5D5Ngp",
        "colab": {
          "base_uri": "https://localhost:8080/"
        },
        "outputId": "0b09a4c5-1d56-4942-8489-ef9a56b465f4"
      },
      "execution_count": 25,
      "outputs": [
        {
          "output_type": "stream",
          "name": "stdout",
          "text": [
            "Graph G with 4263 nodes and 4290 edges has been constructed.\n"
          ]
        }
      ]
    },
    {
      "cell_type": "code",
      "source": [
        "#drawing of the full graph with Networkx\n",
        "start_time = time.time()\n",
        "colors = [['pink', 'lightgreen'][list(word_index.keys())[list(word_index.values()).index(node)]\n",
        "                                          in list(gda_reduced['geneSymbol'])] for node in G.nodes()]\n",
        "nx.draw_spring(G, node_size = 15, node_color = colors)\n",
        "plt.savefig(\"graph.png\", format = \"PNG\")\n",
        "print(\"Graph visualization with Networkx took {} seconds.\\n\".format(time.time() - start_time))"
      ],
      "metadata": {
        "id": "5w6Y0psX4xCJ",
        "colab": {
          "base_uri": "https://localhost:8080/",
          "height": 354
        },
        "outputId": "a47fe0ae-0fd3-407d-e12f-4809d19cedea"
      },
      "execution_count": 26,
      "outputs": [
        {
          "output_type": "stream",
          "name": "stdout",
          "text": [
            "Graph visualization with Networkx took 78.8665177822113 seconds.\n",
            "\n"
          ]
        },
        {
          "output_type": "display_data",
          "data": {
            "image/png": "[encoded data removed]",
            "text/plain": [
              "<Figure size 432x288 with 1 Axes>"
            ]
          },
          "metadata": {}
        }
      ]
    },
    {
      "cell_type": "markdown",
      "source": [
        "### **Cytoscape**"
      ],
      "metadata": {
        "id": "qPA_Fw0b8ljO"
      }
    },
    {
      "cell_type": "code",
      "source": [
        "#save the graph to be imported to the Cytoscape\n",
        "nx.write_graphml(G,'g.xml')"
      ],
      "metadata": {
        "id": "tOHgady5nPwC"
      },
      "execution_count": 27,
      "outputs": []
    },
    {
      "cell_type": "code",
      "source": [
        "#print out the screenshoted Cytoscape interface for the full graph representation\n",
        "demo_graph = cv2.imread(os.path.join(path, 'demo_graph.png'))\n",
        "demo_graph_r = cv2.resize(demo_graph, (1060, 540))  \n",
        "cv2_imshow(demo_graph_r)"
      ],
      "metadata": {
        "colab": {
          "base_uri": "https://localhost:8080/",
          "height": 557
        },
        "id": "BKm3RlhxCYWP",
        "outputId": "cbe5b3cc-556d-4402-b2dd-782e40195662"
      },
      "execution_count": 28,
      "outputs": [
        {
          "output_type": "display_data",
          "data": {
            "image/png": "[encoded data removed]",
            "text/plain": [
              "<PIL.Image.Image image mode=RGB size=1060x540 at 0x7F35EC2D7C10>"
            ]
          },
          "metadata": {}
        }
      ]
    },
    {
      "cell_type": "code",
      "source": [
        "#print out the selected Cytoscape sungraph of nodes with degree higher than 10\n",
        "demo_subgraph = cv2.imread(os.path.join(path, 'demo_subgraph.png'))\n",
        "cv2_imshow(demo_subgraph)"
      ],
      "metadata": {
        "colab": {
          "base_uri": "https://localhost:8080/",
          "height": 383
        },
        "id": "8yrOJZww_uY2",
        "outputId": "a4e6888e-35a0-4c18-b06f-2d7e07f4a0e6"
      },
      "execution_count": 29,
      "outputs": [
        {
          "output_type": "display_data",
          "data": {
            "image/png": "[encoded data removed]",
            "text/plain": [
              "<PIL.Image.Image image mode=RGB size=1074x366 at 0x7F35E0957C90>"
            ]
          },
          "metadata": {}
        }
      ]
    },
    {
      "cell_type": "code",
      "source": [
        "#import the table build by Cytoscape in correspondence with the afrementioned subgraph\n",
        "with open(os.path.join(path, 'large_degree_nodes.csv'),'r') as f:\n",
        "    large_degree_nodes = pd.read_csv(f, delimiter = ',')\n",
        "large_degree_nodes.head()"
      ],
      "metadata": {
        "colab": {
          "base_uri": "https://localhost:8080/",
          "height": 206
        },
        "id": "Xr7D-NziOMUT",
        "outputId": "18cc9a11-1539-4e38-f193-6f64db91e8c6"
      },
      "execution_count": 30,
      "outputs": [
        {
          "output_type": "execute_result",
          "data": {
            "text/html": [
              "\n",
              "  <div id=\"df-95dafdcb-e581-49a5-b2e3-73fbd6ce7c60\">\n",
              "    <div class=\"colab-df-container\">\n",
              "      <div>\n",
              "<style scoped>\n",
              "    .dataframe tbody tr th:only-of-type {\n",
              "        vertical-align: middle;\n",
              "    }\n",
              "\n",
              "    .dataframe tbody tr th {\n",
              "        vertical-align: top;\n",
              "    }\n",
              "\n",
              "    .dataframe thead th {\n",
              "        text-align: right;\n",
              "    }\n",
              "</style>\n",
              "<table border=\"1\" class=\"dataframe\">\n",
              "  <thead>\n",
              "    <tr style=\"text-align: right;\">\n",
              "      <th></th>\n",
              "      <th>diffusion_input</th>\n",
              "      <th>diffusion_output_heat</th>\n",
              "      <th>diffusion_output_rank</th>\n",
              "      <th>name</th>\n",
              "      <th>selected</th>\n",
              "      <th>shared name</th>\n",
              "    </tr>\n",
              "  </thead>\n",
              "  <tbody>\n",
              "    <tr>\n",
              "      <th>0</th>\n",
              "      <td>1.0</td>\n",
              "      <td>1.0</td>\n",
              "      <td>0</td>\n",
              "      <td>2867</td>\n",
              "      <td>False</td>\n",
              "      <td>2867</td>\n",
              "    </tr>\n",
              "    <tr>\n",
              "      <th>1</th>\n",
              "      <td>1.0</td>\n",
              "      <td>1.0</td>\n",
              "      <td>1</td>\n",
              "      <td>333</td>\n",
              "      <td>False</td>\n",
              "      <td>333</td>\n",
              "    </tr>\n",
              "    <tr>\n",
              "      <th>2</th>\n",
              "      <td>1.0</td>\n",
              "      <td>1.0</td>\n",
              "      <td>2</td>\n",
              "      <td>3677</td>\n",
              "      <td>False</td>\n",
              "      <td>3677</td>\n",
              "    </tr>\n",
              "    <tr>\n",
              "      <th>3</th>\n",
              "      <td>1.0</td>\n",
              "      <td>1.0</td>\n",
              "      <td>3</td>\n",
              "      <td>2593</td>\n",
              "      <td>False</td>\n",
              "      <td>2593</td>\n",
              "    </tr>\n",
              "    <tr>\n",
              "      <th>4</th>\n",
              "      <td>1.0</td>\n",
              "      <td>1.0</td>\n",
              "      <td>4</td>\n",
              "      <td>3336</td>\n",
              "      <td>False</td>\n",
              "      <td>3336</td>\n",
              "    </tr>\n",
              "  </tbody>\n",
              "</table>\n",
              "</div>\n",
              "      <button class=\"colab-df-convert\" onclick=\"convertToInteractive('df-95dafdcb-e581-49a5-b2e3-73fbd6ce7c60')\"\n",
              "              title=\"Convert this dataframe to an interactive table.\"\n",
              "              style=\"display:none;\">\n",
              "        \n",
              "  <svg xmlns=\"http://www.w3.org/2000/svg\" height=\"24px\"viewBox=\"0 0 24 24\"\n",
              "       width=\"24px\">\n",
              "    <path d=\"M0 0h24v24H0V0z\" fill=\"none\"/>\n",
              "    <path d=\"M18.56 5.44l.94 2.06.94-2.06 2.06-.94-2.06-.94-.94-2.06-.94 2.06-2.06.94zm-11 1L8.5 8.5l.94-2.06 2.06-.94-2.06-.94L8.5 2.5l-.94 2.06-2.06.94zm10 10l.94 2.06.94-2.06 2.06-.94-2.06-.94-.94-2.06-.94 2.06-2.06.94z\"/><path d=\"M17.41 7.96l-1.37-1.37c-.4-.4-.92-.59-1.43-.59-.52 0-1.04.2-1.43.59L10.3 9.45l-7.72 7.72c-.78.78-.78 2.05 0 2.83L4 21.41c.39.39.9.59 1.41.59.51 0 1.02-.2 1.41-.59l7.78-7.78 2.81-2.81c.8-.78.8-2.07 0-2.86zM5.41 20L4 18.59l7.72-7.72 1.47 1.35L5.41 20z\"/>\n",
              "  </svg>\n",
              "      </button>\n",
              "      \n",
              "  <style>\n",
              "    .colab-df-container {\n",
              "      display:flex;\n",
              "      flex-wrap:wrap;\n",
              "      gap: 12px;\n",
              "    }\n",
              "\n",
              "    .colab-df-convert {\n",
              "      background-color: #E8F0FE;\n",
              "      border: none;\n",
              "      border-radius: 50%;\n",
              "      cursor: pointer;\n",
              "      display: none;\n",
              "      fill: #1967D2;\n",
              "      height: 32px;\n",
              "      padding: 0 0 0 0;\n",
              "      width: 32px;\n",
              "    }\n",
              "\n",
              "    .colab-df-convert:hover {\n",
              "      background-color: #E2EBFA;\n",
              "      box-shadow: 0px 1px 2px rgba(60, 64, 67, 0.3), 0px 1px 3px 1px rgba(60, 64, 67, 0.15);\n",
              "      fill: #174EA6;\n",
              "    }\n",
              "\n",
              "    [theme=dark] .colab-df-convert {\n",
              "      background-color: #3B4455;\n",
              "      fill: #D2E3FC;\n",
              "    }\n",
              "\n",
              "    [theme=dark] .colab-df-convert:hover {\n",
              "      background-color: #434B5C;\n",
              "      box-shadow: 0px 1px 3px 1px rgba(0, 0, 0, 0.15);\n",
              "      filter: drop-shadow(0px 1px 2px rgba(0, 0, 0, 0.3));\n",
              "      fill: #FFFFFF;\n",
              "    }\n",
              "  </style>\n",
              "\n",
              "      <script>\n",
              "        const buttonEl =\n",
              "          document.querySelector('#df-95dafdcb-e581-49a5-b2e3-73fbd6ce7c60 button.colab-df-convert');\n",
              "        buttonEl.style.display =\n",
              "          google.colab.kernel.accessAllowed ? 'block' : 'none';\n",
              "\n",
              "        async function convertToInteractive(key) {\n",
              "          const element = document.querySelector('#df-95dafdcb-e581-49a5-b2e3-73fbd6ce7c60');\n",
              "          const dataTable =\n",
              "            await google.colab.kernel.invokeFunction('convertToInteractive',\n",
              "                                                     [key], {});\n",
              "          if (!dataTable) return;\n",
              "\n",
              "          const docLinkHtml = 'Like what you see? Visit the ' +\n",
              "            '<a target=\"_blank\" href=https://colab.research.google.com/notebooks/data_table.ipynb>data table notebook</a>'\n",
              "            + ' to learn more about interactive tables.';\n",
              "          element.innerHTML = '';\n",
              "          dataTable['output_type'] = 'display_data';\n",
              "          await google.colab.output.renderOutput(dataTable, element);\n",
              "          const docLink = document.createElement('div');\n",
              "          docLink.innerHTML = docLinkHtml;\n",
              "          element.appendChild(docLink);\n",
              "        }\n",
              "      </script>\n",
              "    </div>\n",
              "  </div>\n",
              "  "
            ],
            "text/plain": [
              "   diffusion_input  diffusion_output_heat  ...  selected  shared name\n",
              "0              1.0                    1.0  ...     False         2867\n",
              "1              1.0                    1.0  ...     False          333\n",
              "2              1.0                    1.0  ...     False         3677\n",
              "3              1.0                    1.0  ...     False         2593\n",
              "4              1.0                    1.0  ...     False         3336\n",
              "\n",
              "[5 rows x 6 columns]"
            ]
          },
          "metadata": {},
          "execution_count": 30
        }
      ]
    },
    {
      "cell_type": "markdown",
      "source": [
        "### **Subgraph Extraction**"
      ],
      "metadata": {
        "id": "DWemmgyD8sV5"
      }
    },
    {
      "cell_type": "markdown",
      "source": [
        "Extracted **subgraph will be a lot smaller** than the one on the screenshot of the Cytoscape due to the undirectionality and self-loops and isolated nodes removal."
      ],
      "metadata": {
        "id": "Fq9rKwVhwenw"
      }
    },
    {
      "cell_type": "code",
      "source": [
        "#custom utilities for the subgraph extraction and plotting\n",
        "#NOTE: not all stochastic components are eliminated => through the reset of the environment different graphs will be obtained\n",
        "np.random.seed(SEED)\n",
        "torch.manual_seed(SEED)\n",
        "\n",
        "#filters gene name to index dictionary leaving only the nodes of interest (i.e. nodes belonging to the subgraph)\n",
        "#then creates Networkx graph through the same sequence of steps as before\n",
        "def extract_subgraph(selected_nodes, full_dict, remove_isolated = True):\n",
        "\n",
        "    subdict = dict()\n",
        "\n",
        "    for (key, value) in full_dict.items():\n",
        "      if value in selected_nodes:\n",
        "          subdict[key] = value\n",
        "\n",
        "    x = torch.tensor(list(subdict.values()), dtype = torch.float)\n",
        "\n",
        "    y = torch.tensor([1 if gene_name in list(gda_reduced['geneSymbol']) else 0 \n",
        "                  for gene_name in list(subdict.keys())], dtype = torch.float)\n",
        "    \n",
        "    gene1_l = []\n",
        "    gene2_l = []\n",
        "    for gene1, gene2 in ppi_reduced.values:\n",
        "      if (gene1 in list(subdict.keys())) and (gene2 in list(subdict.keys())):\n",
        "        gene1_l.append(subdict[gene1])\n",
        "        gene2_l.append(subdict[gene2])\n",
        "\n",
        "    edge_index = torch.stack((torch.tensor(gene1_l, dtype=torch.long),torch.tensor(gene2_l, dtype=torch.long)))\n",
        "\n",
        "    data = Data(x = x, y =y, edge_index = edge_index)\n",
        "    print(\"\\nSubgraph Data (including isolated nodes):\\n\\n\", data)\n",
        "\n",
        "    G = to_networkx(data, to_undirected = True, remove_self_loops = True)\n",
        "\n",
        "    if remove_isolated:\n",
        "      G.remove_nodes_from(list(nx.isolates(G)))\n",
        "\n",
        "    return G, subdict\n",
        "\n",
        "#lates the nodes of subgraph can be explained with GNNExplainer\n",
        "sG, subdict = extract_subgraph(large_degree_nodes['name'].values, word_index, remove_isolated = True)\n",
        "\n",
        "#sets up and applies nx.draw for the just created graph\n",
        "def plot_subgraph(sG, subdict,\n",
        "                  figsize_w, figsize_h,\n",
        "                  k_factor,\n",
        "                  color_list,\n",
        "                  node_size_factor):    \n",
        "    \n",
        "    rcParams['figure.figsize'] = figsize_w, figsize_h\n",
        "\n",
        "    pos = nx.spring_layout(sG, k = k_factor / np.sqrt(sG.order()), seed = SEED)\n",
        "\n",
        "    labeldict = {}\n",
        "    for node in sG.nodes():\n",
        "        labeldict[node] = list(subdict.keys())[list(subdict.values()).index(node)]\n",
        "\n",
        "    colors = [color_list[list(subdict.keys())[list(subdict.values()).index(node)]\n",
        "                                          in list(gda_reduced['geneSymbol'])] for node in sG.nodes()]\n",
        "\n",
        "    degree = dict(sG.degree())\n",
        "\n",
        "    nx.draw(sG, \n",
        "            pos, \n",
        "            labels = labeldict, \n",
        "            with_labels = True, \n",
        "            nodelist = degree, \n",
        "            node_size = [degree[key] * node_size_factor for key in degree], \n",
        "            node_color = colors)\n",
        "    \n",
        "    plt.savefig(\"subgraph.png\", format = \"PNG\")\n",
        "\n",
        "#other drawing parameters could be used \n",
        "plot_subgraph(sG, subdict, 7, 7, 5, ['pink', 'lightgreen'], 3500)"
      ],
      "metadata": {
        "colab": {
          "base_uri": "https://localhost:8080/",
          "height": 604
        },
        "id": "9pU0UAY-s-ct",
        "outputId": "921d3961-179b-461d-e654-bef5eaf1f11e"
      },
      "execution_count": 31,
      "outputs": [
        {
          "output_type": "stream",
          "name": "stdout",
          "text": [
            "\n",
            "Subgraph Data (including isolated nodes):\n",
            "\n",
            " Data(x=[127], edge_index=[2, 16], y=[127])\n"
          ]
        },
        {
          "output_type": "display_data",
          "data": {
            "image/png": "[encoded data removed]",
            "text/plain": [
              "<Figure size 504x504 with 1 Axes>"
            ]
          },
          "metadata": {}
        }
      ]
    },
    {
      "cell_type": "markdown",
      "source": [
        "## **Feature Vectors**"
      ],
      "metadata": {
        "id": "OZ2F78Ii8021"
      }
    },
    {
      "cell_type": "code",
      "source": [
        "#standard scaler is needed, because due to the graph properties 'normalized = True' is not enough to achieve values between 0 and 1\n",
        "scale = StandardScaler()\n",
        "def make_feature(G, mode='degree'):\n",
        "\n",
        "  if mode == 'degree':\n",
        "    feature = nx.degree_centrality(G)\n",
        "  elif mode == 'betweenness':\n",
        "    feature = nx.betweenness_centrality(G, normalized = True)\n",
        "  elif mode == 'load':\n",
        "    feature = nx.load_centrality(G, normalized = True)\n",
        "  elif mode == 'eigenvector':\n",
        "    feature = nx.eigenvector_centrality(G, max_iter = 1000)\n",
        "  else:\n",
        "    feature = nx.closeness_centrality(G)\n",
        "\n",
        "  #np.array(list(feature.values())).sum()\n",
        "\n",
        "  feature = np.array(list(feature.values()))\n",
        "  feature = scale.fit_transform(feature.reshape(-1, 1))\n",
        "  feature = torch.from_numpy(feature).type(torch.float32).squeeze(1)\n",
        "\n",
        "  return feature"
      ],
      "metadata": {
        "id": "x4n-6_w6rlBe"
      },
      "execution_count": 32,
      "outputs": []
    },
    {
      "cell_type": "code",
      "source": [
        "#execution for the PPI reduced takes around 2.5 mins\n",
        "#the longest computation time corresponds to the betweenness_centrality\n",
        "start_time = time.time()\n",
        "feature_vectors = torch.stack((make_feature(G, 'degree'), \n",
        "                               make_feature(G, 'betweenness'), \n",
        "                               make_feature(G, 'load'), \n",
        "                               make_feature(G, 'eigenvector'), \n",
        "                               make_feature(G, 'closeness')), dim = 1)\n",
        "print('Computation of the feature vectors took {} seconds.\\n'.format(time.time() - start_time))\n",
        "print('The obtained feature matrix is:\\n\\n', feature_vectors)"
      ],
      "metadata": {
        "colab": {
          "base_uri": "https://localhost:8080/"
        },
        "id": "GRkdcz0Qs9HB",
        "outputId": "ba4abb84-37cb-4b30-e353-1a87f82c7a6b"
      },
      "execution_count": 33,
      "outputs": [
        {
          "output_type": "stream",
          "name": "stdout",
          "text": [
            "Computation of the feature vectors took 89.96654939651489 seconds.\n",
            "\n",
            "The obtained feature matrix is:\n",
            "\n",
            " tensor([[-0.2722, -0.2511, -0.2558, -0.0931, -1.1467],\n",
            "        [-0.2722, -0.2511, -0.2558, -0.0916,  0.8807],\n",
            "        [-0.2722, -0.2511, -0.2558, -0.0931, -1.1467],\n",
            "        ...,\n",
            "        [-0.2722, -0.2511, -0.2558, -0.0909,  0.5714],\n",
            "        [-0.5409, -0.2511, -0.2558, -0.0931, -1.1515],\n",
            "        [ 0.5341,  0.3405,  0.3652, -0.0926,  0.8418]])\n"
          ]
        }
      ]
    },
    {
      "cell_type": "code",
      "source": [
        "#dataset class for the input to Node2Vec and GCN models (could be applied to any other if desired)\n",
        "#creates split into train and test using masks\n",
        "class InputDataset(InMemoryDataset):\n",
        "\n",
        "    def __init__(self, \n",
        "                 x: torch.Tensor, \n",
        "                 y: torch.Tensor, \n",
        "                 edge_index: torch.Tensor,\n",
        "                 G: nx.classes.graph.Graph,\n",
        "                 embedding_dim = 128,\n",
        "                 test_size = 0.3, \n",
        "                 transform = None):\n",
        "      super(InputDataset, self).__init__(\".\", transform, None, None)\n",
        "\n",
        "      data = Data(edge_index = edge_index)\n",
        "\n",
        "      data.x = x\n",
        "\n",
        "      labels = y.type(torch.long)\n",
        "\n",
        "      data.y = labels.clone().detach()\n",
        "\n",
        "      data.num_nodes = G.number_of_nodes()\n",
        "\n",
        "      data.embedding_dim = embedding_dim\n",
        "\n",
        "      X_train, X_test, y_train, y_test = train_test_split(pd.Series(G.nodes()), \n",
        "                                                          pd.Series(y.numpy()), \n",
        "                                                          test_size = test_size, \n",
        "                                                          random_state = SEED)\n",
        "      \n",
        "      train_mask = torch.zeros(data.num_nodes, dtype = torch.bool)\n",
        "      test_mask = torch.zeros(data.num_nodes, dtype = torch.bool)\n",
        "\n",
        "      train_mask[X_train.index] = True\n",
        "      test_mask[X_test.index] = True\n",
        "\n",
        "      data['train_mask'] = train_mask\n",
        "      data['test_mask'] = test_mask\n",
        "\n",
        "      self.data, self.slices = self.collate([data])"
      ],
      "metadata": {
        "id": "zQgc6jQyMPm_"
      },
      "execution_count": 34,
      "outputs": []
    },
    {
      "cell_type": "code",
      "source": [
        "input_dataset = InputDataset(feature_vectors, \n",
        "                             y, \n",
        "                             edge_index, \n",
        "                             G)"
      ],
      "metadata": {
        "id": "RYpn7oqQRc01"
      },
      "execution_count": 35,
      "outputs": []
    },
    {
      "cell_type": "code",
      "source": [
        "input_data = input_dataset[0]\n",
        "print(input_data)\n",
        "\n",
        "print(\"\\nX_train: \", input_data.x[input_data['train_mask']].shape)\n",
        "print(\"y_train: \", input_data.y[input_data['train_mask']].shape)\n",
        "\n",
        "print(\"\\nX_test: \", input_data.x[input_data['test_mask']].shape)\n",
        "print(\"y_test: \", input_data.y[input_data['test_mask']].shape)"
      ],
      "metadata": {
        "colab": {
          "base_uri": "https://localhost:8080/"
        },
        "id": "1gvArFC6R4Hw",
        "outputId": "abf8d738-239e-4137-c99c-ebc387d9826b"
      },
      "execution_count": 36,
      "outputs": [
        {
          "output_type": "stream",
          "name": "stdout",
          "text": [
            "Data(edge_index=[2, 10000], x=[4263, 5], y=[4263], num_nodes=4263, embedding_dim=128, train_mask=[4263], test_mask=[4263])\n",
            "\n",
            "X_train:  torch.Size([2984, 5])\n",
            "y_train:  torch.Size([2984])\n",
            "\n",
            "X_test:  torch.Size([1279, 5])\n",
            "y_test:  torch.Size([1279])\n"
          ]
        }
      ]
    },
    {
      "cell_type": "markdown",
      "source": [
        "#**Models**"
      ],
      "metadata": {
        "id": "Eb5VeX5KeHNU"
      }
    },
    {
      "cell_type": "markdown",
      "source": [
        "## **Approach 1 (Node2Vec Embedding)**"
      ],
      "metadata": {
        "id": "iptRa9nf9lo7"
      }
    },
    {
      "cell_type": "markdown",
      "source": [
        "### **Node2Vec (N2V)**"
      ],
      "metadata": {
        "id": "a02Y9Qf69w6-"
      }
    },
    {
      "cell_type": "code",
      "source": [
        "#implements custom train method adapted for the Node2Vec inported from the torch_geometric.nn\n",
        "#uses loader iterating over positive and negative random walks\n",
        "#monitors and accumulates training loss\n",
        "class N2VTrainer():\n",
        "\n",
        "    def __init__(self, \n",
        "                 model: torch_geometric.nn.models.node2vec.Node2Vec,\n",
        "                 optimizer: torch.optim,\n",
        "                 device = 'cpu',\n",
        "                 epochs = 100):\n",
        "      super(N2VTrainer, self).__init__()\n",
        "      \n",
        "      self.device = device\n",
        "      self.model = model\n",
        "      self.optimizer = optimizer\n",
        "      self.epochs = epochs\n",
        "\n",
        "    def train(self,\n",
        "              loader: torch.utils.data.dataloader.DataLoader,\n",
        "              verbose = True):\n",
        "      \n",
        "      train_loss = []\n",
        "\n",
        "      for epoch in tqdm(range(1, self.epochs + 1)):\n",
        "\n",
        "          self.model.train()\n",
        "\n",
        "          epoch_loss = 0\n",
        "\n",
        "          for pos_rw, neg_rw in loader:\n",
        "\n",
        "              pos_rw = pos_rw.to(self.device)\n",
        "              neg_rw = neg_rw.to(self.device)\n",
        "\n",
        "              self.optimizer.zero_grad()\n",
        "\n",
        "              loss = self.model.loss(pos_rw, neg_rw)\n",
        "\n",
        "              loss.backward()\n",
        "\n",
        "              self.optimizer.step()\n",
        "\n",
        "              epoch_loss += loss.item()\n",
        "\n",
        "          train_loss.append(epoch_loss / len(loader))\n",
        "\n",
        "          if (verbose and epoch % 10 == 0) or (epoch == self.epochs):\n",
        "\n",
        "              print(f'  Epoch {epoch:3d} => Loss: {epoch_loss / len(loader)}')\n",
        "\n",
        "      return {\n",
        "          'train_history': train_loss\n",
        "          }"
      ],
      "metadata": {
        "id": "uxUhrZKLj66R"
      },
      "execution_count": 37,
      "outputs": []
    },
    {
      "cell_type": "markdown",
      "source": [
        "**Dashboard** to control model training and all the pipeline of Node2Vec training.\n",
        "\n",
        "Currently set up hyperparameters correspond to the reported ones."
      ],
      "metadata": {
        "id": "xVB90CsXyvYb"
      }
    },
    {
      "cell_type": "code",
      "source": [
        "torch.manual_seed(SEED)\n",
        "\n",
        "#@title Node2Vec Hyperparameters \n",
        "\n",
        "class N2VHparams():\n",
        "  #@markdown Dataset\n",
        "  test_size = 0.2 #@param {type: \"slider\", min:0.1, max:0.5, step:0.1}\n",
        "  embedding_dim = 64 #@param {type:\"number\"}\n",
        "  #@markdown Model\n",
        "  walk_length = 20 #@param {type:\"slider\", min:10, max:100, step:10}\n",
        "  context_size = 10 #@param {type:\"integer\"}\n",
        "  walks_per_node = 10 #@param {type:\"integer\"}\n",
        "  num_negative_samples = 1 #@param {type:\"integer\"}\n",
        "  p = 0.5 #@param {type:\"slider\", min:0, max:2, step:0.1}\n",
        "  q = 2 #@param {type:\"slider\", min:0, max:2, step:0.1}\n",
        "  #@markdown Loader\n",
        "  batch_size = 128 #@param {type:\"integer\"}\n",
        "  num_workers = 2 #@param {type:\"slider\", min:1, max:4, step:1}\n",
        "  #@markdown Optimizer\n",
        "  lr = 0.01 #@param {type:\"number\"}\n",
        "  #@markdown Trainer\n",
        "  epochs = 100 #@param {type:\"slider\", min:100, max:1000, step:100}\n",
        "  \n",
        "n2v_hparams = N2VHparams()\n",
        "\n",
        "n2v_input_dataset = InputDataset(\n",
        "    feature_vectors, \n",
        "    y, \n",
        "    edge_index, \n",
        "    G, \n",
        "    n2v_hparams.embedding_dim, \n",
        "    n2v_hparams.test_size\n",
        "    )\n",
        "\n",
        "n2v_input_data = n2v_input_dataset[0]\n",
        "n2v_input_data = n2v_input_data.to(device)\n",
        "\n",
        "\n",
        "n2v = Node2Vec(\n",
        "    n2v_input_data.edge_index, \n",
        "    embedding_dim = n2v_hparams.embedding_dim, \n",
        "    walk_length = n2v_hparams.walk_length,\n",
        "    context_size = n2v_hparams.context_size, \n",
        "    walks_per_node = n2v_hparams.walks_per_node,\n",
        "    num_negative_samples = n2v_hparams.num_negative_samples,\n",
        "    p = n2v_hparams.p,\n",
        "    q = n2v_hparams.q,\n",
        "    sparse = True\n",
        "    ).to(device)\n",
        "\n",
        "n2v_loader = n2v.loader(\n",
        "    batch_size = n2v_hparams.batch_size, \n",
        "    shuffle = True, \n",
        "    num_workers = n2v_hparams.num_workers)\n",
        "\n",
        "n2v_optimizer = torch.optim.SparseAdam(\n",
        "    list(n2v.parameters()), \n",
        "    lr = n2v_hparams.lr)\n",
        "\n",
        "n2v_trainer = N2VTrainer(\n",
        "    n2v,\n",
        "    n2v_optimizer,\n",
        "    device,\n",
        "    epochs = n2v_hparams.epochs\n",
        ")\n",
        "\n",
        "#set verbose = False, if don't want to monitor loss\n",
        "n2v_train_loss = n2v_trainer.train(\n",
        "    n2v_loader,\n",
        "    verbose = True\n",
        ")"
      ],
      "metadata": {
        "colab": {
          "base_uri": "https://localhost:8080/",
          "height": 223,
          "referenced_widgets": [
            "407f3b335d17457b93da1d23602ac9ea",
            "b321b3c6f969442e840f71352249bde5",
            "73aa974760ec427cb427a3d06b7565b2",
            "c9ada91df027417c8eaa9cd1e6384f95",
            "c45f0e6352e3422eae21c75c4e69cbe4",
            "be191718e7ab46e89e628b8081ae5a9b",
            "72f73060dff143cea5ed8fa4d5f5f3cd",
            "5ddf491a43b4462f9f6586631524128d",
            "b4ca5038a9424d1286833a80457bd9c6",
            "c87f8f2ff2d949bc83ab9e7c94a81f66",
            "88f9c5c0bd1341c3a7c61e90acb5afc8"
          ]
        },
        "id": "pJhRsnSHRNIJ",
        "outputId": "a9bcebde-0c29-47e1-a060-9b9054c52935"
      },
      "execution_count": 38,
      "outputs": [
        {
          "output_type": "display_data",
          "data": {
            "application/vnd.jupyter.widget-view+json": {
              "model_id": "407f3b335d17457b93da1d23602ac9ea",
              "version_minor": 0,
              "version_major": 2
            },
            "text/plain": [
              "  0%|          | 0/100 [00:00<?, ?it/s]"
            ]
          },
          "metadata": {}
        },
        {
          "output_type": "stream",
          "name": "stdout",
          "text": [
            "  Epoch  10 => Loss: 0.846502645927317\n",
            "  Epoch  20 => Loss: 0.757118878995671\n",
            "  Epoch  30 => Loss: 0.7431391249684727\n",
            "  Epoch  40 => Loss: 0.7392856355975655\n",
            "  Epoch  50 => Loss: 0.7377918678171494\n",
            "  Epoch  60 => Loss: 0.7373626091900993\n",
            "  Epoch  70 => Loss: 0.7371798192753511\n",
            "  Epoch  80 => Loss: 0.7365253900780397\n",
            "  Epoch  90 => Loss: 0.7370471253114588\n",
            "  Epoch 100 => Loss: 0.7369322987163768\n"
          ]
        }
      ]
    },
    {
      "cell_type": "code",
      "source": [
        "#simple utility for testing: computes only accuracy metrics\n",
        "@torch.no_grad()\n",
        "def n2v_test(model, input_data, max_iter = 100):\n",
        "\n",
        "    model.eval()\n",
        "\n",
        "    z = model()\n",
        "\n",
        "    test_acc = model.test(z[input_data.train_mask], input_data.y[input_data.train_mask],\n",
        "                          z[input_data.test_mask], input_data.y[input_data.test_mask],\n",
        "                          max_iter = max_iter)\n",
        "    \n",
        "    return {\n",
        "        'test_accuracy': test_acc\n",
        "        }\n",
        "\n",
        "n2v_test_acc = n2v_test(\n",
        "    n2v,\n",
        "    n2v_input_data,\n",
        "    100)\n",
        "print(\"Node2Vec Test acc: \", n2v_test_acc['test_accuracy'])"
      ],
      "metadata": {
        "id": "mykwP3OG5N5v",
        "colab": {
          "base_uri": "https://localhost:8080/"
        },
        "outputId": "2c5f197a-8d6a-4030-a42b-b67fa667b5e0"
      },
      "execution_count": 39,
      "outputs": [
        {
          "output_type": "stream",
          "name": "stdout",
          "text": [
            "Node2Vec Test acc:  0.5885111371629543\n"
          ]
        }
      ]
    },
    {
      "cell_type": "code",
      "source": [
        "#print latent vectors: learnt embeddings\n",
        "z = n2v()\n",
        "embedding = z.detach().cpu().numpy()\n",
        "print('Node embedding shape: ', embedding.shape)\n",
        "print('\\nNode embedding: ')\n",
        "print(embedding)"
      ],
      "metadata": {
        "id": "gfPfrQEriSfe",
        "colab": {
          "base_uri": "https://localhost:8080/"
        },
        "outputId": "0d11180b-52b3-4bd3-cf1d-eca4372a2a17"
      },
      "execution_count": 40,
      "outputs": [
        {
          "output_type": "stream",
          "name": "stdout",
          "text": [
            "Node embedding shape:  (4263, 64)\n",
            "\n",
            "Node embedding: \n",
            "[[-0.0812532   0.24991445  0.05669295 ...  0.46988207  0.03834597\n",
            "  -0.15319766]\n",
            " [-0.5706281  -0.0553323   0.30843005 ...  0.28649414 -0.14522901\n",
            "   0.36692742]\n",
            " [ 0.14407495  0.11257844  0.02214711 ... -0.29980642  0.07015201\n",
            "  -0.16840577]\n",
            " ...\n",
            " [ 0.1395721   0.02846934  0.06683729 ...  0.1804833   0.31401956\n",
            "  -0.26035127]\n",
            " [-0.04120056 -0.31284368 -0.16002335 ...  0.13368382 -0.33950073\n",
            "  -0.14335509]\n",
            " [ 0.09872992 -0.1454618  -0.11948112 ... -0.21318504 -0.22094668\n",
            "  -0.40845987]]\n"
          ]
        }
      ]
    },
    {
      "cell_type": "code",
      "source": [
        "#project z to the 2D with PCA and plot with Pyplot\n",
        "def plot_embedding(embedding, input_data):\n",
        "\n",
        "    pca = PCA(n_components = 2)\n",
        "    embedding_2d = pca.fit_transform(embedding)\n",
        "\n",
        "    label_map = {l: i for i, l in enumerate(np.unique(input_data.y.cpu().numpy()))}\n",
        "    node_colours = [label_map[target] for target in input_data.y.cpu().numpy()]\n",
        "\n",
        "    plt.figure(figsize=(12, 10))\n",
        "    plt.scatter(\n",
        "        embedding_2d[:, 0],\n",
        "        embedding_2d[:, 1],\n",
        "        c = node_colours,\n",
        "        cmap = 'Accent',\n",
        "        alpha = 0.7,\n",
        "    )\n",
        "    plt.title('Embedding vectors projected to 2D')\n",
        "    plt.savefig('embeddings.png')\n",
        "    plt.show()\n",
        "\n",
        "plot_embedding(embedding, n2v_input_data)"
      ],
      "metadata": {
        "id": "QvFk--R49NKG",
        "colab": {
          "base_uri": "https://localhost:8080/",
          "height": 607
        },
        "outputId": "ee0958ae-af4d-4131-f445-f7c9c099aead"
      },
      "execution_count": 41,
      "outputs": [
        {
          "output_type": "display_data",
          "data": {
            "image/png": "[encoded data removed]",
            "text/plain": [
              "<Figure size 864x720 with 1 Axes>"
            ]
          },
          "metadata": {
            "needs_background": "light"
          }
        }
      ]
    },
    {
      "cell_type": "markdown",
      "source": [
        "### **Classifiers**"
      ],
      "metadata": {
        "id": "BHIg9aKq93wO"
      }
    },
    {
      "cell_type": "markdown",
      "source": [
        "**ClfDataset is not conceptually different from the InputDataset**. The only differences are: it creates split into train, test and validation and doesn't have embedding dimension parameter, but has the number of classes, preset for the binary classification. This could have been easily implemented just inside the InputDataset class, but the decision to implement separate dataset class has been taken for the sake of better code readability."
      ],
      "metadata": {
        "id": "2G8RolghzwP0"
      }
    },
    {
      "cell_type": "code",
      "source": [
        "class ClfDataset(InMemoryDataset):\n",
        "\n",
        "    def __init__(self, \n",
        "                 x: torch.Tensor, \n",
        "                 y: torch.Tensor, \n",
        "                 edge_index: torch.Tensor,\n",
        "                 G: nx.classes.graph.Graph,\n",
        "                 test_size = 0.2,\n",
        "                 val_size = 0.25, \n",
        "                 transform = None):\n",
        "      super(ClfDataset, self).__init__(\".\", transform, None, None)\n",
        "\n",
        "      data = Data(edge_index = edge_index)\n",
        "\n",
        "      data.x = x\n",
        "\n",
        "      labels = y.type(torch.long)\n",
        "\n",
        "      data.y = labels.clone().detach()\n",
        "\n",
        "      data.num_nodes = G.number_of_nodes()\n",
        "\n",
        "      data.num_classes = 2\n",
        "\n",
        "      X_train, X_test, y_train, y_test = train_test_split(pd.Series(G.nodes()), \n",
        "                                                          pd.Series(y.numpy()), \n",
        "                                                          test_size = test_size, \n",
        "                                                          random_state = SEED)\n",
        "      X_train, X_val, y_train, y_val = train_test_split(X_train, \n",
        "                                                        y_train, \n",
        "                                                        test_size = val_size, \n",
        "                                                        random_state = SEED)\n",
        "      \n",
        "      train_mask = torch.zeros(data.num_nodes, dtype = torch.bool)\n",
        "      test_mask = torch.zeros(data.num_nodes, dtype = torch.bool)\n",
        "      val_mask = torch.zeros(data.num_nodes, dtype = torch.bool)\n",
        "\n",
        "      train_mask[X_train.index] = True\n",
        "      test_mask[X_test.index] = True\n",
        "      val_mask[X_val.index] = True\n",
        "\n",
        "      data['train_mask'] = train_mask\n",
        "      data['test_mask'] = test_mask\n",
        "      data['val_mask'] = val_mask\n",
        "\n",
        "      self.data, self.slices = self.collate([data])"
      ],
      "metadata": {
        "id": "xGkwUal2JSd1"
      },
      "execution_count": 42,
      "outputs": []
    },
    {
      "cell_type": "markdown",
      "source": [
        "The Classifier is a class that can perform **classification with SVM or MLP**, where both are imported from the `sklearn`.\n",
        "\n",
        "Branching is provided by the `mode` parameter: `mode = 'svm'` or `mode = 'mlp'` for SVM or MLP, respectively."
      ],
      "metadata": {
        "id": "byfA0oT-0pRB"
      }
    },
    {
      "cell_type": "markdown",
      "source": [
        "The class contains three custom methods: \n",
        "\n",
        "1.   `validate` $-$ **grid search** on the validation dataset to find the hyperparameters,\n",
        "2.   `train` $-$ sets up the found hyperparameters and **fits the classifier** of choice with the training data,\n",
        "3.   `test` $-$ computes test **accuracy, precision, recall and F1-score** as well as plots the **confusion matrices**."
      ],
      "metadata": {
        "id": "vhKRB9a-1hjQ"
      }
    },
    {
      "cell_type": "markdown",
      "source": [
        "*NOTE:* execution of the grid search can take a while, in order to see how does it proceed, set `val_verbose` equal to `1, 2` or `3` (depending on the desired level of details)."
      ],
      "metadata": {
        "id": "grqctGsG28z7"
      }
    },
    {
      "cell_type": "code",
      "source": [
        "class Classifier():\n",
        "\n",
        "    def __init__(self,\n",
        "                 clf_input_data,\n",
        "                 clf_hparams,\n",
        "                 print_data_info = False,\n",
        "                 val_verbose = 0):\n",
        "      super(Classifier, self).__init__()\n",
        "\n",
        "      self.X_train = clf_input_data.x[clf_input_data['train_mask']]\n",
        "      self.y_train = clf_input_data.y[clf_input_data['train_mask']]\n",
        "\n",
        "      self.X_test = clf_input_data.x[clf_input_data['test_mask']]\n",
        "      self.y_test = clf_input_data.y[clf_input_data['test_mask']]\n",
        "\n",
        "      self.X_val = clf_input_data.x[clf_input_data['val_mask']]\n",
        "      self.y_val = clf_input_data.y[clf_input_data['val_mask']]\n",
        "\n",
        "      if print_data_info:\n",
        "\n",
        "          print(clf_input_data)\n",
        "\n",
        "          print(\"\\nX_train: \", self.X_train.shape)\n",
        "          print(\"y_train: \", self.y_train.shape)\n",
        "\n",
        "          print(\"\\nX_test: \", self.X_test.shape)\n",
        "          print(\"y_test: \", self.y_test.shape)\n",
        "\n",
        "          print(\"\\nX_val: \", self.X_val.shape)\n",
        "          print(\"y_val: \", self.y_val.shape)\n",
        "\n",
        "      self.hparams = clf_hparams\n",
        "      self.val_verbose = val_verbose\n",
        "\n",
        "    def train(self, mode):\n",
        "\n",
        "      self.validate(mode)\n",
        "\n",
        "      if mode == 'svm':\n",
        "        self.clf = svm.SVC(C = self.best_params['C'], \n",
        "                          degree = self.best_params['degree'], \n",
        "                          kernel = self.best_params['kernel'],\n",
        "                          random_state = SEED)\n",
        "      else:\n",
        "        self.clf = MLPClassifier(hidden_layer_sizes = self.best_params['hidden_layer_sizes'], \n",
        "                        activation = self.best_params['activation'], \n",
        "                        solver = 'adam',\n",
        "                        alpha = self.best_params['alpha'],\n",
        "                        random_state = SEED)\n",
        "          \n",
        "      self.clf.fit(self.X_train, self.y_train)\n",
        "      print(\"\\nTraining has been executed successfully. Classifier: \", self.clf)\n",
        "\n",
        "    def test(self, mode):\n",
        "\n",
        "      print(\"\\nChosen mode: \", mode)\n",
        "      self.train(mode)\n",
        "\n",
        "      y_pred = self.clf.predict(self.X_test)\n",
        "\n",
        "      accuracy = accuracy_score(self.y_test, y_pred)\n",
        "      precision = precision_score(self.y_test, y_pred)\n",
        "      recall = recall_score(self.y_test, y_pred)\n",
        "      f1 = f1_score(self.y_test, y_pred)\n",
        "\n",
        "      print(\"\\nTesting has been executed successfully. Results:\\n\")\n",
        "      print(\"Accuracy: \", accuracy)\n",
        "      print(\"Precision: \", precision)\n",
        "      print(\"Recall: \", recall)\n",
        "      print(\"F1 score: \", f1)\n",
        "\n",
        "      print(\"\\nConfusion matrix with and without normalization:\\n\")\n",
        "      self.plot_confusion_matrix(mode)\n",
        "\n",
        "      return {\n",
        "          'test_accuracy': accuracy,\n",
        "          'test_precision': precision,\n",
        "          'test_recall': recall,\n",
        "          'test_f1': f1_score\n",
        "          }\n",
        "\n",
        "    def validate(self, mode):\n",
        "      \n",
        "      if mode == 'svm':\n",
        "        model = svm.SVC(random_state = SEED)\n",
        "      else:\n",
        "        model = MLPClassifier(random_state = SEED, max_iter = 10000)\n",
        "\n",
        "      gs = GridSearchCV(model, \n",
        "                        self.hparams.grid_search_parameters, \n",
        "                        verbose = self.val_verbose)\n",
        "      \n",
        "      start_time = time.time()\n",
        "      gs.fit(self.X_val, self.y_val)\n",
        "\n",
        "      self.best_params = gs.best_params_\n",
        "      print('\\nValidation has been executed successfully. Found model parameters: ', self.best_params)\n",
        "      print('Grid Search execution time is {} sec.'.format(time.time() - start_time))\n",
        "\n",
        "    def plot_confusion_matrix(self, mode):\n",
        "      \n",
        "      f, axes = plt.subplots(1, 2, figsize=(10, 5), sharey = 'row')\n",
        "\n",
        "      disp_norm = ConfusionMatrixDisplay.from_estimator(self.clf, \n",
        "                                                  self.X_test, \n",
        "                                                  self.y_test,\n",
        "                                                  display_labels = self.clf.classes_,\n",
        "                                                  normalize = 'all',\n",
        "                                                  ax = axes[0],\n",
        "                                                  colorbar = True\n",
        "                                                  )\n",
        "      disp_norm.ax_.set_title(\"Normalized\")\n",
        "\n",
        "      disp = ConfusionMatrixDisplay.from_estimator(self.clf, \n",
        "                                                    self.X_test, \n",
        "                                                    self.y_test,\n",
        "                                                    display_labels = self.clf.classes_,\n",
        "                                                    ax = axes[1],\n",
        "                                                    colorbar = True)\n",
        "\n",
        "      disp.ax_.set_title(\"Not normalized\")\n",
        "\n",
        "      plt.subplots_adjust(wspace = 0.3)\n",
        "      plt.savefig(f'confusion_{mode}.png')\n",
        "      plt.show()\n"
      ],
      "metadata": {
        "id": "SsibgyM_anTq"
      },
      "execution_count": 43,
      "outputs": []
    },
    {
      "cell_type": "markdown",
      "source": [
        "**Dashboard** to control model training and all the pipeline of SVM training.\n",
        "\n",
        "Currently set up hyperparameters correspond to the reported ones."
      ],
      "metadata": {
        "id": "_j2JtM_O3mHW"
      }
    },
    {
      "cell_type": "code",
      "source": [
        "torch.manual_seed(SEED)\n",
        "#@title SVM Hyperparameters \n",
        "\n",
        "class SVMClfHparams():\n",
        "  #@markdown Dataset\n",
        "  test_size = 0.2 #@param {type: \"slider\", min:0.1, max:0.3, step:0.05}\n",
        "  val_size = 0.25 #@param {type: \"slider\", min:0.1, max:0.3, step:0.05}\n",
        "  grid_search_parameters = {\n",
        "    'kernel': ('linear', 'poly', 'rbf', 'sigmoid'), \n",
        "    'C': [1e-4, 1e-3, 1e-2, 1e-1, 1, 10, 1e2],\n",
        "    'degree': [2, 3, 4, 5]\n",
        "              }\n",
        "svm_clf_hparams = SVMClfHparams()\n",
        "\n",
        "svm_clf_input_dataset = ClfDataset(z.detach().cpu(),\n",
        "                                   y,\n",
        "                                   edge_index,\n",
        "                                   G,\n",
        "                                   test_size = svm_clf_hparams.test_size,\n",
        "                                   val_size = svm_clf_hparams.val_size)\n",
        "svm_clf_input_data = svm_clf_input_dataset[0]\n",
        "\n",
        "\n",
        "svm_clf = Classifier(svm_clf_input_data,\n",
        "                     svm_clf_hparams,\n",
        "                     print_data_info = True,\n",
        "                     val_verbose = 0)\n",
        "\n",
        "svm_test_logs = svm_clf.test('svm')"
      ],
      "metadata": {
        "id": "CGX_hMcjMkZ6",
        "colab": {
          "base_uri": "https://localhost:8080/",
          "height": 772
        },
        "outputId": "2abb8024-9ed1-4140-8e7b-937a3e2cbf05"
      },
      "execution_count": 44,
      "outputs": [
        {
          "output_type": "stream",
          "name": "stdout",
          "text": [
            "Data(edge_index=[2, 10000], x=[4263, 64], y=[4263], num_nodes=4263, num_classes=2, train_mask=[4263], test_mask=[4263], val_mask=[4263])\n",
            "\n",
            "X_train:  torch.Size([2557, 64])\n",
            "y_train:  torch.Size([2557])\n",
            "\n",
            "X_test:  torch.Size([853, 64])\n",
            "y_test:  torch.Size([853])\n",
            "\n",
            "X_val:  torch.Size([853, 64])\n",
            "y_val:  torch.Size([853])\n",
            "\n",
            "Chosen mode:  svm\n",
            "\n",
            "Validation has been executed successfully. Found model parameters:  {'C': 0.1, 'degree': 3, 'kernel': 'poly'}\n",
            "Grid Search execution time is 54.045536518096924 sec.\n",
            "\n",
            "Training has been executed successfully. Classifier:  SVC(C=0.1, kernel='poly', random_state=123)\n",
            "\n",
            "Testing has been executed successfully. Results:\n",
            "\n",
            "Accuracy:  0.6131301289566237\n",
            "Precision:  0.6122931442080378\n",
            "Recall:  0.9961538461538462\n",
            "F1 score:  0.7584187408491948\n",
            "\n",
            "Confusion matrix with and without normalization:\n",
            "\n"
          ]
        },
        {
          "output_type": "display_data",
          "data": {
            "image/png": "[encoded data removed]",
            "text/plain": [
              "<Figure size 720x360 with 4 Axes>"
            ]
          },
          "metadata": {
            "needs_background": "light"
          }
        }
      ]
    },
    {
      "cell_type": "markdown",
      "source": [
        "**Dashboard** to control model training and all the pipeline of MLP training.\n",
        "\n",
        "Currently set up hyperparameters correspond to the reported ones."
      ],
      "metadata": {
        "id": "lS6rTrjL3vh9"
      }
    },
    {
      "cell_type": "code",
      "source": [
        "torch.manual_seed(SEED)\n",
        "#@title MLP Hyperparameters \n",
        "\n",
        "class MLPClfHparams():\n",
        "  #@markdown Dataset\n",
        "  test_size = 0.2 #@param {type: \"slider\", min:0.1, max:0.3, step:0.05}\n",
        "  val_size = 0.25 #@param {type: \"slider\", min:0.1, max:0.3, step:0.05}\n",
        "  grid_search_parameters = {\n",
        "    'hidden_layer_sizes': [(8, 8), (16, 16), (32, 32), (64, 64)],\n",
        "    'activation': ('logistic', 'tanh', 'relu'),\n",
        "    'alpha': [1e-5, 1e-4, 1e-3]\n",
        "    }\n",
        "mlp_clf_hparams = MLPClfHparams()\n",
        "\n",
        "mlp_clf_input_dataset = ClfDataset(z.detach().cpu(),\n",
        "                                   y,\n",
        "                                   edge_index,\n",
        "                                   G,\n",
        "                                   test_size = mlp_clf_hparams.test_size,\n",
        "                                   val_size = mlp_clf_hparams.val_size)\n",
        "mlp_clf_input_data = mlp_clf_input_dataset[0]\n",
        "\n",
        "\n",
        "mlp_clf = Classifier(mlp_clf_input_data,\n",
        "                     mlp_clf_hparams,\n",
        "                     print_data_info = True,\n",
        "                     val_verbose = 0)\n",
        "\n",
        "mlp_test_logs = mlp_clf.test('mlp')"
      ],
      "metadata": {
        "colab": {
          "base_uri": "https://localhost:8080/",
          "height": 789
        },
        "id": "AyRIYwNmym1o",
        "outputId": "22d44b47-7b25-4c5d-fdaa-3f14220c8522"
      },
      "execution_count": 45,
      "outputs": [
        {
          "output_type": "stream",
          "name": "stdout",
          "text": [
            "Data(edge_index=[2, 10000], x=[4263, 64], y=[4263], num_nodes=4263, num_classes=2, train_mask=[4263], test_mask=[4263], val_mask=[4263])\n",
            "\n",
            "X_train:  torch.Size([2557, 64])\n",
            "y_train:  torch.Size([2557])\n",
            "\n",
            "X_test:  torch.Size([853, 64])\n",
            "y_test:  torch.Size([853])\n",
            "\n",
            "X_val:  torch.Size([853, 64])\n",
            "y_val:  torch.Size([853])\n",
            "\n",
            "Chosen mode:  mlp\n",
            "\n",
            "Validation has been executed successfully. Found model parameters:  {'activation': 'logistic', 'alpha': 0.001, 'hidden_layer_sizes': (8, 8)}\n",
            "Grid Search execution time is 591.5096306800842 sec.\n",
            "\n",
            "Training has been executed successfully. Classifier:  MLPClassifier(activation='logistic', alpha=0.001, hidden_layer_sizes=(8, 8),\n",
            "              random_state=123)\n",
            "\n",
            "Testing has been executed successfully. Results:\n",
            "\n",
            "Accuracy:  0.5826494724501758\n",
            "Precision:  0.6168091168091168\n",
            "Recall:  0.8326923076923077\n",
            "F1 score:  0.7086743044189853\n",
            "\n",
            "Confusion matrix with and without normalization:\n",
            "\n"
          ]
        },
        {
          "output_type": "display_data",
          "data": {
            "image/png": "[encoded data removed]",
            "text/plain": [
              "<Figure size 720x360 with 4 Axes>"
            ]
          },
          "metadata": {
            "needs_background": "light"
          }
        }
      ]
    },
    {
      "cell_type": "markdown",
      "source": [
        "## **Approach 2 (Graph Neural Network)**"
      ],
      "metadata": {
        "id": "glwW2XA9O8RL"
      }
    },
    {
      "cell_type": "markdown",
      "source": [
        "Custom class to create **GCN model with 3 GCNConv layers**, ReLU activation and dropout support."
      ],
      "metadata": {
        "id": "Oy_Q0KHJ39OR"
      }
    },
    {
      "cell_type": "markdown",
      "source": [
        "*NOTE:* `edge_weight` parameter has been set equal to `None` during all the executions and is only needed to provide the correct execution of the GNNExplainer."
      ],
      "metadata": {
        "id": "0kKVyPXA4T-R"
      }
    },
    {
      "cell_type": "code",
      "source": [
        "class GCN(nn.Module):\n",
        "\n",
        "    def __init__(self,\n",
        "                 gcn_num_features: int,\n",
        "                 gcn_hparams):\n",
        "      super(GCN, self).__init__()\n",
        "\n",
        "      self.conv1 = GCNConv(gcn_num_features, gcn_hparams.hidden_dim, normalize = False)\n",
        "      self.conv2 = GCNConv(gcn_hparams.hidden_dim, gcn_hparams.hidden_dim, normalize = False)\n",
        "      self.conv3 = GCNConv(gcn_hparams.hidden_dim, 2, normalize = False)\n",
        "\n",
        "      self.p = gcn_hparams.p\n",
        "\n",
        "    def forward(self, x, edge_index, edge_weight):\n",
        "\n",
        "      x = F.relu(self.conv1(x, edge_index, edge_weight))\n",
        "      x = F.dropout(x, self.p, training = self.training)\n",
        "\n",
        "      x = F.relu(self.conv2(x, edge_index, edge_weight))\n",
        "      x = F.dropout(x, self.p, training = self.training)\n",
        "\n",
        "      x = self.conv3(x, edge_index, edge_weight)\n",
        "\n",
        "      return F.log_softmax(x, dim = 1)"
      ],
      "metadata": {
        "id": "5WrPVURKjcD0"
      },
      "execution_count": 46,
      "outputs": []
    },
    {
      "cell_type": "markdown",
      "source": [
        "Custom GCN model trainer with `train` and `test` methods, which **monitor, compute and collect the history **of all the results of interest.\n",
        "\n",
        "1.   `train` output $-$ dictionary of **loss, accuracy, precision, recall** and **F1-score histories**, collected over epochs, and train **predictions**,\n",
        "2.   `test` output $-$ dictionary of **accuracy, precision, recall** and **F1-score histories**, collected over epochs, test **logits** and **predictions**.\n",
        "\n"
      ],
      "metadata": {
        "id": "zfk4Z6zX4y3b"
      }
    },
    {
      "cell_type": "code",
      "source": [
        "class GCNTrainer():\n",
        "\n",
        "    def __init__(self,\n",
        "                 model: nn.Module,\n",
        "                 optimizer: torch.optim,\n",
        "                 epochs = 100):\n",
        "      super(GCNTrainer, self).__init__()\n",
        "\n",
        "      self.model = model\n",
        "      self.optimizer = optimizer\n",
        "      self.epochs = epochs\n",
        "\n",
        "    def train(self,\n",
        "              gcn_input_data: torch_geometric.data.data.Data,\n",
        "              test_fn: Callable = None,\n",
        "              verbose = True,\n",
        "              print_interval: int = 10):\n",
        "      \n",
        "        train_loss = []\n",
        "\n",
        "        train_accuracy = []\n",
        "        train_precision = []\n",
        "        train_recall = []\n",
        "        train_f1 = []\n",
        "\n",
        "        for epoch in tqdm(range(1, self.epochs + 1)):\n",
        "\n",
        "            self.model.train()\n",
        "            train_mask = gcn_input_data.train_mask\n",
        "\n",
        "            self.optimizer.zero_grad()\n",
        "\n",
        "            epoch_loss = F.nll_loss(self.model(gcn_input_data.x, \n",
        "                                               gcn_input_data.edge_index, \n",
        "                                               None)[train_mask], \n",
        "                                    gcn_input_data.y[train_mask])\n",
        "\n",
        "            epoch_loss.backward()\n",
        "\n",
        "            self.optimizer.step()\n",
        "\n",
        "            train_loss.append(epoch_loss.item())\n",
        "            train_score, _, train_pred = test_fn(self.model, gcn_input_data, 'train_mask', 'cpu', False)\n",
        "            train_accuracy.append(train_score['Accuracy'])\n",
        "            train_precision.append(train_score['Precision'])\n",
        "            train_recall.append(train_score['Recall'])\n",
        "            train_f1.append(train_score['F1'])\n",
        "\n",
        "            if (verbose and epoch % print_interval == 0) or (epoch == self.epochs):\n",
        "\n",
        "              print(f'  Epoch {epoch:3d} => Loss: {epoch_loss}')\n",
        "              for (key, value) in train_score.items():\n",
        "                  print(f'    {key}: {value:0.6f}')\n",
        "\n",
        "\n",
        "        return {\n",
        "              'train_loss': train_loss,\n",
        "              'train_accuracy': train_accuracy,\n",
        "              'train_precision': train_precision,\n",
        "              'train_recall': train_recall,\n",
        "              'train_f1': train_f1\n",
        "              }, train_pred\n",
        "\n",
        "    def test(self,\n",
        "             gcn_input_data: torch_geometric.data.data.Data,\n",
        "             plot_confusion: bool,\n",
        "             test_fn: Callable = None):\n",
        "\n",
        "        test_score, logits, test_pred = test_fn(self.model, \n",
        "                                                gcn_input_data, \n",
        "                                                'test_mask', \n",
        "                                                'cpu', \n",
        "                                                plot_confusion)\n",
        "\n",
        "        return {\n",
        "              'test_accuracy': test_score['Accuracy'],\n",
        "              'test_precision': test_score['Precision'],\n",
        "              'test_recall': test_score['Recall'],\n",
        "              'test_f1': test_score['F1']\n",
        "              }, logits, test_pred "
      ],
      "metadata": {
        "id": "Cdz3fhowtxkR"
      },
      "execution_count": 47,
      "outputs": []
    },
    {
      "cell_type": "code",
      "source": [
        "#is exploited as Callable inside test methof in the trainer class\n",
        "@torch.no_grad()\n",
        "def gcn_test(model: nn.Module, \n",
        "             gcn_input_data,\n",
        "             mask = 'test_mask', \n",
        "             device = 'cpu',\n",
        "             plot_confusion = False):\n",
        "\n",
        "    model.eval()\n",
        "\n",
        "    logits = model(gcn_input_data.x, \n",
        "                   gcn_input_data.edge_index, \n",
        "                   None)\n",
        "\n",
        "    mask = gcn_input_data[mask]\n",
        "    pred = logits[mask].max(1)[1]\n",
        "\n",
        "    accuracy = pred.eq(gcn_input_data.y[mask]).sum().item() / mask.sum().item()\n",
        "\n",
        "    y = gcn_input_data.y[mask].to(device)\n",
        "    pred = pred.to(device)\n",
        "\n",
        "    precision = precision_score(y, pred, zero_division = 0)\n",
        "    recall = recall_score(y, pred)\n",
        "    f1 = f1_score(y, pred)\n",
        "\n",
        "    if plot_confusion:\n",
        "        plot_confusion_matrix(y, pred)\n",
        "\n",
        "    return {\n",
        "          'Accuracy': accuracy,\n",
        "          'Precision': precision,\n",
        "          'Recall': recall,\n",
        "          'F1': f1\n",
        "          }, logits, pred"
      ],
      "metadata": {
        "id": "FALHdqkS0p5X"
      },
      "execution_count": 48,
      "outputs": []
    },
    {
      "cell_type": "code",
      "source": [
        "def plot_confusion_matrix(y, pred):\n",
        "      \n",
        "      f, axes = plt.subplots(1, 2, figsize=(10, 5), sharey = 'row')\n",
        "\n",
        "      disp_norm = ConfusionMatrixDisplay.from_predictions(y,\n",
        "                                                          pred,\n",
        "                                                          normalize = 'all',\n",
        "                                                          ax = axes[0],\n",
        "                                                          colorbar = True\n",
        "                                                          )\n",
        "      disp_norm.ax_.set_title(\"Normalized\")\n",
        "\n",
        "      disp = ConfusionMatrixDisplay.from_predictions(y,\n",
        "                                                     pred,\n",
        "                                                     ax = axes[1],\n",
        "                                                     colorbar = True)\n",
        "\n",
        "      disp.ax_.set_title(\"Not normalized\")\n",
        "\n",
        "      plt.subplots_adjust(wspace = 0.3)\n",
        "      plt.savefig('confusion_gcn.png')\n",
        "      plt.show()"
      ],
      "metadata": {
        "id": "aseSLoM3LCsA"
      },
      "execution_count": 49,
      "outputs": []
    },
    {
      "cell_type": "markdown",
      "source": [
        "**Dashboard** to control model training and all the pipeline of GCN training.\n",
        "\n",
        "Currently set up hyperparameters correspond to the reported ones."
      ],
      "metadata": {
        "id": "76UkDnv46Szt"
      }
    },
    {
      "cell_type": "code",
      "source": [
        "torch.manual_seed(SEED)\n",
        "\n",
        "#@title GCN Hyperparameters \n",
        "\n",
        "class GCNHparams():\n",
        "  #@markdown Dataset\n",
        "  test_size = 0.2 #@param {type: \"slider\", min:0.1, max:0.5, step:0.1}\n",
        "  #@markdown Model\n",
        "  hidden_dim = 16 #@param {type:\"integer\"}\n",
        "  p = 0.2 #@param {type:\"slider\", min:0, max:1, step:0.05}\n",
        "  #@markdown Optimizer\n",
        "  lr = 0.0001 #@param {type:\"number\"}\n",
        "  #@markdown Trainer\n",
        "  epochs = 1000 #@param {type:\"slider\", min:100, max:1000, step:100}\n",
        "  print_interval = 100 #@param {type:\"slider\", min:10, max:100, step:10}\n",
        "\n",
        "gcn_hparams = GCNHparams()\n",
        "\n",
        "gcn_input_dataset = InputDataset(\n",
        "    feature_vectors, \n",
        "    y, \n",
        "    edge_index, \n",
        "    G,  \n",
        "    test_size = gcn_hparams.test_size\n",
        "    )\n",
        "\n",
        "gcn_input_data = gcn_input_dataset[0]\n",
        "gcn_input_data = gcn_input_data.to(device)\n",
        "\n",
        "gcn = GCN(\n",
        "    gcn_input_data.num_features,\n",
        "    gcn_hparams\n",
        "    ).to(device)\n",
        "\n",
        "\n",
        "gcn_optimizer = torch.optim.Adam(\n",
        "    list(gcn.parameters()), \n",
        "    lr = gcn_hparams.lr)\n",
        "\n",
        "\n",
        "gcn_trainer = GCNTrainer(\n",
        "    gcn,\n",
        "    gcn_optimizer,\n",
        "    epochs = gcn_hparams.epochs\n",
        ")\n",
        "\n",
        "#set up printing interval of interest or verbose = False\n",
        "gcn_train_history, gcn_train_pred = gcn_trainer.train(\n",
        "    gcn_input_data,\n",
        "    test_fn = gcn_test,\n",
        "    verbose = True,\n",
        "    print_interval = gcn_hparams.print_interval\n",
        ")\n",
        "#hist_list.append(gcn_train_history)"
      ],
      "metadata": {
        "id": "ty7B1ANLbaAM",
        "colab": {
          "base_uri": "https://localhost:8080/",
          "height": 917,
          "referenced_widgets": [
            "8475923c64f6437a95010caef240d292",
            "f10d505116ad498187ab5d9d646d268b",
            "b011d2cd7e0d4895b587aab335144789",
            "5dfac3883fe14bfeaf33c67127870197",
            "90f4ac03c9b74528ac9345a91ccc8b5a",
            "4ad4ff5e535e41228133ae05dd7564d3",
            "fb4bced011e04bafb9478a1104ab4ea7",
            "52744d7cf57b4a66ab24efc1ea43e7af",
            "50d1bbd62f9443998bfdac0db0d5db88",
            "127332e7e5ab407e9e1f66eadc21f9f0",
            "1c607d6c83874e3ab2ef4a1698b96a5c"
          ]
        },
        "outputId": "78f1f12f-d718-404b-dd0c-180470e40dd7"
      },
      "execution_count": 50,
      "outputs": [
        {
          "output_type": "display_data",
          "data": {
            "application/vnd.jupyter.widget-view+json": {
              "model_id": "8475923c64f6437a95010caef240d292",
              "version_minor": 0,
              "version_major": 2
            },
            "text/plain": [
              "  0%|          | 0/1000 [00:00<?, ?it/s]"
            ]
          },
          "metadata": {}
        },
        {
          "output_type": "stream",
          "name": "stdout",
          "text": [
            "  Epoch 100 => Loss: 26.25101661682129\n",
            "    Accuracy: 0.532258\n",
            "    Precision: 0.613657\n",
            "    Recall: 0.650167\n",
            "    F1: 0.631384\n",
            "  Epoch 200 => Loss: 38.87862014770508\n",
            "    Accuracy: 0.558065\n",
            "    Precision: 0.616016\n",
            "    Recall: 0.750595\n",
            "    F1: 0.676679\n",
            "  Epoch 300 => Loss: 24.536846160888672\n",
            "    Accuracy: 0.568622\n",
            "    Precision: 0.618332\n",
            "    Recall: 0.783436\n",
            "    F1: 0.691161\n",
            "  Epoch 400 => Loss: 23.115524291992188\n",
            "    Accuracy: 0.572141\n",
            "    Precision: 0.618625\n",
            "    Recall: 0.796763\n",
            "    F1: 0.696484\n",
            "  Epoch 500 => Loss: 16.8813419342041\n",
            "    Accuracy: 0.579179\n",
            "    Precision: 0.620303\n",
            "    Recall: 0.817230\n",
            "    F1: 0.705278\n",
            "  Epoch 600 => Loss: 16.251766204833984\n",
            "    Accuracy: 0.580645\n",
            "    Precision: 0.619693\n",
            "    Recall: 0.826749\n",
            "    F1: 0.708401\n",
            "  Epoch 700 => Loss: 13.289311408996582\n",
            "    Accuracy: 0.585044\n",
            "    Precision: 0.620351\n",
            "    Recall: 0.841504\n",
            "    F1: 0.714199\n",
            "  Epoch 800 => Loss: 18.41579818725586\n",
            "    Accuracy: 0.587977\n",
            "    Precision: 0.620582\n",
            "    Recall: 0.852451\n",
            "    F1: 0.718267\n",
            "  Epoch 900 => Loss: 15.903613090515137\n",
            "    Accuracy: 0.588856\n",
            "    Precision: 0.620892\n",
            "    Recall: 0.854355\n",
            "    F1: 0.719151\n",
            "  Epoch 1000 => Loss: 11.192780494689941\n",
            "    Accuracy: 0.589150\n",
            "    Precision: 0.619945\n",
            "    Recall: 0.861019\n",
            "    F1: 0.720861\n"
          ]
        }
      ]
    },
    {
      "cell_type": "code",
      "source": [
        "torch.manual_seed(SEED)\n",
        "\n",
        "#only the last results in the history\n",
        "print(\"\\nTraining Results:\\n\")\n",
        "print(\"Accuracy: \", gcn_train_history['train_accuracy'][-1])\n",
        "print(\"Precision: \", gcn_train_history['train_precision'][-1])\n",
        "print(\"Recall: \", gcn_train_history['train_recall'][-1])\n",
        "print(\"F1 score: \", gcn_train_history['train_f1'][-1])\n",
        "\n",
        "gcn_test_score, _, _ = gcn_trainer.test(\n",
        "    gcn_input_data,\n",
        "    plot_confusion = False,\n",
        "    test_fn = gcn_test\n",
        ")\n",
        "\n",
        "print(\"\\nTesting Results:\\n\")\n",
        "print(\"Accuracy: \", gcn_test_score['test_accuracy'])\n",
        "print(\"Precision: \", gcn_test_score['test_precision'])\n",
        "print(\"Recall: \", gcn_test_score['test_recall'])\n",
        "print(\"F1 score: \", gcn_test_score['test_f1'])\n",
        "\n",
        "print(\"\\nConfusion matrix with and without normalization:\\n\")\n",
        "gcn_test_score, gcn_logits, gcn_test_pred = gcn_trainer.test(gcn_input_data, \n",
        "                                                             plot_confusion = True, \n",
        "                                                             test_fn = gcn_test)"
      ],
      "metadata": {
        "id": "DYtQhoqGFw-3",
        "colab": {
          "base_uri": "https://localhost:8080/",
          "height": 605
        },
        "outputId": "e483d75c-adcb-4139-e876-b1a272972783"
      },
      "execution_count": 51,
      "outputs": [
        {
          "output_type": "stream",
          "name": "stdout",
          "text": [
            "\n",
            "Training Results:\n",
            "\n",
            "Accuracy:  0.589149560117302\n",
            "Precision:  0.6199451679232351\n",
            "Recall:  0.8610185625892433\n",
            "F1 score:  0.7208607292289301\n",
            "\n",
            "Testing Results:\n",
            "\n",
            "Accuracy:  0.5814771395076201\n",
            "Precision:  0.6105834464043419\n",
            "Recall:  0.8653846153846154\n",
            "F1 score:  0.7159904534606204\n",
            "\n",
            "Confusion matrix with and without normalization:\n",
            "\n"
          ]
        },
        {
          "output_type": "display_data",
          "data": {
            "image/png": "[encoded data removed]",
            "text/plain": [
              "<Figure size 720x360 with 4 Axes>"
            ]
          },
          "metadata": {
            "needs_background": "light"
          }
        }
      ]
    },
    {
      "cell_type": "markdown",
      "source": [
        "# **Explainability**"
      ],
      "metadata": {
        "id": "LtYKSNxNf_hl"
      }
    },
    {
      "cell_type": "code",
      "source": [
        "# this is why saving logits was implemented in the test method of the trainer class\n",
        "pred = gcn_logits.max(1)[1]"
      ],
      "metadata": {
        "id": "mw_TmGo3_6t8"
      },
      "execution_count": 52,
      "outputs": []
    },
    {
      "cell_type": "code",
      "source": [
        "def plot_node_info(node_idx):\n",
        "\n",
        "    print(\"Information about the node:\\n\")\n",
        "    print(\"Name: \", list(word_index.keys())[list(word_index.values()).index(node_idx)])\n",
        "    print(\"Index: \", node_idx)\n",
        "    print(\"Predicted class: \", pred[node_idx].item())\n",
        "    print(\"True class: \", gcn_input_data.y[node_idx].item())\n",
        "    print(\"\\n\")"
      ],
      "metadata": {
        "id": "5DcWkkZYaEeH"
      },
      "execution_count": 53,
      "outputs": []
    },
    {
      "cell_type": "code",
      "source": [
        "np.random.seed(SEED)\n",
        "\n",
        "#different approaches to find the node of interest could be used\n",
        "#for alternative one of sG nodes can be extracted for explanation\n",
        "node_idx = list(pred).index(0)\n",
        "plot_node_info(node_idx)\n",
        "\n",
        "edge_masks = []\n",
        "N = 10 #number of runs for the edge mask averaging\n",
        "\n",
        "for i in range(N):\n",
        "    explainer = GNNExplainer(gcn_trainer.model, \n",
        "                             epochs = gcn_hparams.epochs, \n",
        "                             return_type = 'log_prob',\n",
        "                             num_hops = 2)\n",
        "    \n",
        "    node_feat_mask, edge_mask = explainer.explain_node(node_idx, \n",
        "                                                  gcn_input_data.x, \n",
        "                                                  gcn_input_data.edge_index, \n",
        "                                                  edge_weight = None)\n",
        "    edge_masks.append(edge_mask)\n",
        "\n",
        "avg_edge_mask = torch.mean(torch.stack(edge_masks), dim = 0)\n",
        "\n",
        "print(\"\\n\")\n",
        "rcParams['figure.figsize'] = 9, 8\n",
        "ax, G = explainer.visualize_subgraph(node_idx, \n",
        "                                     gcn_input_data.edge_index,\n",
        "                                     edge_mask = avg_edge_mask,\n",
        "                                     y = gcn_input_data.y,\n",
        "                                     seed = SEED,\n",
        "                                     threshold = None)\n",
        "plt.savefig(f\"explain_node_{node_idx}.png\", format = \"PNG\")"
      ],
      "metadata": {
        "colab": {
          "base_uri": "https://localhost:8080/",
          "height": 813
        },
        "id": "yZEMYvn1PJLj",
        "outputId": "9b63e422-eac1-4e8b-a458-ef12cadc9ad5"
      },
      "execution_count": 54,
      "outputs": [
        {
          "output_type": "stream",
          "name": "stdout",
          "text": [
            "Information about the node:\n",
            "\n",
            "Name:  PBLD\n",
            "Index:  8\n",
            "Predicted class:  0\n",
            "True class:  1\n",
            "\n",
            "\n"
          ]
        },
        {
          "output_type": "stream",
          "name": "stderr",
          "text": [
            "Explain node 8: 100%|██████████| 1000/1000 [00:01<00:00, 502.44it/s]\n",
            "Explain node 8: 100%|██████████| 1000/1000 [00:01<00:00, 509.89it/s]\n",
            "Explain node 8: 100%|██████████| 1000/1000 [00:01<00:00, 509.91it/s]\n",
            "Explain node 8: 100%|██████████| 1000/1000 [00:01<00:00, 515.96it/s]\n",
            "Explain node 8: 100%|██████████| 1000/1000 [00:01<00:00, 507.79it/s]\n",
            "Explain node 8: 100%|██████████| 1000/1000 [00:01<00:00, 517.31it/s]\n",
            "Explain node 8: 100%|██████████| 1000/1000 [00:01<00:00, 516.90it/s]\n",
            "Explain node 8: 100%|██████████| 1000/1000 [00:01<00:00, 515.37it/s]\n",
            "Explain node 8: 100%|██████████| 1000/1000 [00:01<00:00, 509.36it/s]\n",
            "Explain node 8: 100%|██████████| 1000/1000 [00:01<00:00, 508.38it/s]\n"
          ]
        },
        {
          "output_type": "stream",
          "name": "stdout",
          "text": [
            "\n",
            "\n"
          ]
        },
        {
          "output_type": "display_data",
          "data": {
            "image/png": "[encoded data removed]",
            "text/plain": [
              "<Figure size 648x576 with 1 Axes>"
            ]
          },
          "metadata": {}
        }
      ]
    },
    {
      "cell_type": "markdown",
      "source": [
        "Please, **refer to the report for the detailed information** about the reasoning behind the choices."
      ],
      "metadata": {
        "id": "0xsYx80I7XWA"
      }
    },
    {
      "cell_type": "markdown",
      "source": [
        "*NOTE:* Thank you for attention! :)"
      ],
      "metadata": {
        "id": "zr4YC6Uu7vpO"
      }
    }
  ]
}
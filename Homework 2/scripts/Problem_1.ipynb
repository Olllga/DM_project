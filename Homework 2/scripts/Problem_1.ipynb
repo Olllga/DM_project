{
  "nbformat": 4,
  "nbformat_minor": 0,
  "metadata": {
    "colab": {
      "name": "DM_Homework_2__Problem_1__1937430_Olga_Sorokoletova.ipynb",
      "provenance": [],
      "collapsed_sections": [
        "mWKOuP4bDsmj",
        "Lvbp1pppESyT",
        "y6Vin68oFxqM",
        "NaNemWnmIRjx",
        "KXr_V8r7lmSN",
        "FAy-ZgDS1ghx",
        "swHbg4x9LYNo",
        "lALWpzfNtK7B",
        "LKMFOuNPvYuw",
        "gzTygCDW1T02"
      ]
    },
    "kernelspec": {
      "name": "python3",
      "display_name": "Python 3"
    },
    "language_info": {
      "name": "python"
    }
  },
  "cells": [
    {
      "cell_type": "markdown",
      "metadata": {
        "id": "mWKOuP4bDsmj"
      },
      "source": [
        "#**Imports**#"
      ]
    },
    {
      "cell_type": "code",
      "metadata": {
        "colab": {
          "base_uri": "https://localhost:8080/"
        },
        "id": "mBO9QuSC1jiu",
        "outputId": "892aece7-e69c-476b-93ba-a6c3d8043f6e"
      },
      "source": [
        "import requests\n",
        "from bs4 import BeautifulSoup\n",
        "import csv\n",
        "from tqdm import tqdm\n",
        "import time\n",
        "import pandas as pd\n",
        "import re\n",
        "import string\n",
        "import numpy as np\n",
        "from collections import Counter\n",
        "import math\n",
        "import nltk\n",
        "from nltk.tokenize import word_tokenize\n",
        "from nltk.corpus import stopwords\n",
        "from nltk.stem import WordNetLemmatizer\n",
        "nltk.download('punkt')\n",
        "nltk.download('stopwords')\n",
        "nltk.download('wordnet')"
      ],
      "execution_count": 1,
      "outputs": [
        {
          "output_type": "stream",
          "name": "stdout",
          "text": [
            "[nltk_data] Downloading package punkt to /root/nltk_data...\n",
            "[nltk_data]   Unzipping tokenizers/punkt.zip.\n",
            "[nltk_data] Downloading package stopwords to /root/nltk_data...\n",
            "[nltk_data]   Unzipping corpora/stopwords.zip.\n",
            "[nltk_data] Downloading package wordnet to /root/nltk_data...\n",
            "[nltk_data]   Unzipping corpora/wordnet.zip.\n"
          ]
        },
        {
          "output_type": "execute_result",
          "data": {
            "text/plain": [
              "True"
            ]
          },
          "metadata": {},
          "execution_count": 1
        }
      ]
    },
    {
      "cell_type": "markdown",
      "metadata": {
        "id": "iYguqyxkD0bK"
      },
      "source": [
        "TreeTagger is used to perform lemmatization in **Italian language**."
      ]
    },
    {
      "cell_type": "code",
      "metadata": {
        "colab": {
          "base_uri": "https://localhost:8080/"
        },
        "id": "0zPbKSqCa2gB",
        "outputId": "cc39c270-1cb9-4738-aa01-4012f0d3d836"
      },
      "source": [
        "%%bash\n",
        "mkdir treetagger\n",
        "cd treetagger\n",
        "# Download the tagger package for your system (PC-Linux, Mac OS-X, ARM64, ARMHF, ARM-Android, PPC64le-Linux).\n",
        "wget https://cis.lmu.de/~schmid/tools/TreeTagger/data/tree-tagger-linux-3.2.4.tar.gz\n",
        "tar -xzvf tree-tagger-linux-3.2.4.tar.gz\n",
        "# Download the tagging scripts into the same directory.\n",
        "wget https://cis.lmu.de/~schmid/tools/TreeTagger/data/tagger-scripts.tar.gz\n",
        "gunzip tagger-scripts.tar.gz\n",
        "# Download the installation script install-tagger.sh.\n",
        "wget https://cis.lmu.de/~schmid/tools/TreeTagger/data/install-tagger.sh\n",
        "# Download the parameter files for the languages you want to process.\n",
        "# list of all files (parameter files) https://cis.lmu.de/~schmid/tools/TreeTagger/#parfiles\n",
        "wget https://cis.lmu.de/~schmid/tools/TreeTagger/data/italian.par.gz\n",
        "sh install-tagger.sh\n",
        "cd ..\n",
        "sudo pip install treetaggerwrapper"
      ],
      "execution_count": 48,
      "outputs": [
        {
          "output_type": "stream",
          "name": "stdout",
          "text": [
            "bin/\n",
            "bin/train-tree-tagger\n",
            "bin/separate-punctuation\n",
            "bin/tree-tagger\n",
            "bin/tree-tagger-flush\n",
            "cmd/\n",
            "cmd/lookup.perl\n",
            "COPYRIGHT\n",
            "doc/\n",
            "doc/sigdat95.pdf\n",
            "doc/nemlap94.pdf\n",
            "FILES\n",
            "README\n",
            "Release-Notes\n",
            "\n",
            "TreeTagger version for PC-Linux installed.\n",
            "Tagging scripts installed.\n",
            "Italian parameter file installed.\n",
            "Tagging scripts installed.\n",
            "Path variables modified in tagging scripts.\n",
            "\n",
            "You might want to add /content/treetagger/cmd and /content/treetagger/bin to the PATH variable so that you do not need to specify the full path to run the tagging scripts.\n",
            "\n",
            "Requirement already satisfied: treetaggerwrapper in /usr/local/lib/python3.7/dist-packages (2.3)\n"
          ]
        },
        {
          "output_type": "stream",
          "name": "stderr",
          "text": [
            "mkdir: cannot create directory ‘treetagger’: File exists\n",
            "--2021-10-31 18:00:40--  https://cis.lmu.de/~schmid/tools/TreeTagger/data/tree-tagger-linux-3.2.4.tar.gz\n",
            "Resolving cis.lmu.de (cis.lmu.de)... 129.187.148.72, 2001:4ca0:4f01::5\n",
            "Connecting to cis.lmu.de (cis.lmu.de)|129.187.148.72|:443... connected.\n",
            "HTTP request sent, awaiting response... 200 OK\n",
            "Length: 1889240 (1.8M) [application/x-gzip]\n",
            "Saving to: ‘tree-tagger-linux-3.2.4.tar.gz.1’\n",
            "\n",
            "     0K .......... .......... .......... .......... ..........  2%  251K 7s\n",
            "    50K .......... .......... .......... .......... ..........  5%  505K 5s\n",
            "   100K .......... .......... .......... .......... ..........  8% 34.3M 3s\n",
            "   150K .......... .......... .......... .......... .......... 10% 28.8M 2s\n",
            "   200K .......... .......... .......... .......... .......... 13%  513K 3s\n",
            "   250K .......... .......... .......... .......... .......... 16% 29.1M 2s\n",
            "   300K .......... .......... .......... .......... .......... 18% 45.9M 2s\n",
            "   350K .......... .......... .......... .......... .......... 21% 47.5M 1s\n",
            "   400K .......... .......... .......... .......... .......... 24%  527K 2s\n",
            "   450K .......... .......... .......... .......... .......... 27% 49.9M 1s\n",
            "   500K .......... .......... .......... .......... .......... 29% 45.5M 1s\n",
            "   550K .......... .......... .......... .......... .......... 32% 40.5M 1s\n",
            "   600K .......... .......... .......... .......... .......... 35% 26.2M 1s\n",
            "   650K .......... .......... .......... .......... .......... 37% 31.6M 1s\n",
            "   700K .......... .......... .......... .......... .......... 40%  105M 1s\n",
            "   750K .......... .......... .......... .......... .......... 43% 68.2M 1s\n",
            "   800K .......... .......... .......... .......... .......... 46% 89.7M 1s\n",
            "   850K .......... .......... .......... .......... .......... 48%  551K 1s\n",
            "   900K .......... .......... .......... .......... .......... 51% 16.4M 1s\n",
            "   950K .......... .......... .......... .......... .......... 54% 84.4M 1s\n",
            "  1000K .......... .......... .......... .......... .......... 56%  124M 0s\n",
            "  1050K .......... .......... .......... .......... .......... 59%  137M 0s\n",
            "  1100K .......... .......... .......... .......... .......... 62%  123M 0s\n",
            "  1150K .......... .......... .......... .......... .......... 65%  101M 0s\n",
            "  1200K .......... .......... .......... .......... .......... 67%  136M 0s\n",
            "  1250K .......... .......... .......... .......... .......... 70%  113M 0s\n",
            "  1300K .......... .......... .......... .......... .......... 73%  184M 0s\n",
            "  1350K .......... .......... .......... .......... .......... 75%  187M 0s\n",
            "  1400K .......... .......... .......... .......... .......... 78%  141M 0s\n",
            "  1450K .......... .......... .......... .......... .......... 81%  221M 0s\n",
            "  1500K .......... .......... .......... .......... .......... 84%  204M 0s\n",
            "  1550K .......... .......... .......... .......... .......... 86%  194M 0s\n",
            "  1600K .......... .......... .......... .......... .......... 89%  149M 0s\n",
            "  1650K .......... .......... .......... .......... .......... 92%  346M 0s\n",
            "  1700K .......... .......... .......... .......... .......... 94%  380M 0s\n",
            "  1750K .......... .......... .......... .......... .......... 97%  549K 0s\n",
            "  1800K .......... .......... .......... .......... ....      100% 49.9M=0.7s\n",
            "\n",
            "2021-10-31 18:00:41 (2.59 MB/s) - ‘tree-tagger-linux-3.2.4.tar.gz.1’ saved [1889240/1889240]\n",
            "\n",
            "--2021-10-31 18:00:41--  https://cis.lmu.de/~schmid/tools/TreeTagger/data/tagger-scripts.tar.gz\n",
            "Resolving cis.lmu.de (cis.lmu.de)... 129.187.148.72, 2001:4ca0:4f01::5\n",
            "Connecting to cis.lmu.de (cis.lmu.de)|129.187.148.72|:443... connected.\n",
            "HTTP request sent, awaiting response... 200 OK\n",
            "Length: 107396 (105K) [application/x-gzip]\n",
            "Saving to: ‘tagger-scripts.tar.gz’\n",
            "\n",
            "     0K .......... .......... .......... .......... .......... 47%  255K 0s\n",
            "    50K .......... .......... .......... .......... .......... 95%  512K 0s\n",
            "   100K ....                                                  100% 58.1M=0.3s\n",
            "\n",
            "2021-10-31 18:00:42 (356 KB/s) - ‘tagger-scripts.tar.gz’ saved [107396/107396]\n",
            "\n",
            "gzip: tagger-scripts.tar already exists;\tnot overwritten\n",
            "--2021-10-31 18:00:42--  https://cis.lmu.de/~schmid/tools/TreeTagger/data/install-tagger.sh\n",
            "Resolving cis.lmu.de (cis.lmu.de)... 129.187.148.72, 2001:4ca0:4f01::5\n",
            "Connecting to cis.lmu.de (cis.lmu.de)|129.187.148.72|:443... connected.\n",
            "HTTP request sent, awaiting response... 200 OK\n",
            "Length: 14315 (14K) [application/x-shellscript]\n",
            "Saving to: ‘install-tagger.sh.1’\n",
            "\n",
            "     0K .......... ...                                        100%  142K=0.1s\n",
            "\n",
            "2021-10-31 18:00:43 (142 KB/s) - ‘install-tagger.sh.1’ saved [14315/14315]\n",
            "\n",
            "--2021-10-31 18:00:43--  https://cis.lmu.de/~schmid/tools/TreeTagger/data/italian.par.gz\n",
            "Resolving cis.lmu.de (cis.lmu.de)... 129.187.148.72, 2001:4ca0:4f01::5\n",
            "Connecting to cis.lmu.de (cis.lmu.de)|129.187.148.72|:443... connected.\n",
            "HTTP request sent, awaiting response... 200 OK\n",
            "Length: 6135113 (5.9M) [application/x-gzip]\n",
            "Saving to: ‘italian.par.gz.1’\n",
            "\n",
            "     0K .......... .......... .......... .......... ..........  0%  254K 23s\n",
            "    50K .......... .......... .......... .......... ..........  1%  508K 17s\n",
            "   100K .......... .......... .......... .......... ..........  2% 32.8M 12s\n",
            "   150K .......... .......... .......... .......... ..........  3% 29.5M 9s\n",
            "   200K .......... .......... .......... .......... ..........  4%  520K 9s\n",
            "   250K .......... .......... .......... .......... ..........  5% 28.3M 8s\n",
            "   300K .......... .......... .......... .......... ..........  5% 49.4M 6s\n",
            "   350K .......... .......... .......... .......... ..........  6% 42.7M 6s\n",
            "   400K .......... .......... .......... .......... ..........  7%  533K 6s\n",
            "   450K .......... .......... .......... .......... ..........  8% 55.6M 5s\n",
            "   500K .......... .......... .......... .......... ..........  9% 56.5M 5s\n",
            "   550K .......... .......... .......... .......... .......... 10% 64.0M 4s\n",
            "   600K .......... .......... .......... .......... .......... 10% 61.0M 4s\n",
            "   650K .......... .......... .......... .......... .......... 11% 77.3M 4s\n",
            "   700K .......... .......... .......... .......... .......... 12% 73.6M 3s\n",
            "   750K .......... .......... .......... .......... .......... 13% 74.3M 3s\n",
            "   800K .......... .......... .......... .......... .......... 14% 97.5M 3s\n",
            "   850K .......... .......... .......... .......... .......... 15%  538K 3s\n",
            "   900K .......... .......... .......... .......... .......... 15% 42.9M 3s\n",
            "   950K .......... .......... .......... .......... .......... 16% 59.0M 3s\n",
            "  1000K .......... .......... .......... .......... .......... 17% 45.3M 3s\n",
            "  1050K .......... .......... .......... .......... .......... 18% 40.3M 3s\n",
            "  1100K .......... .......... .......... .......... .......... 19%  172M 3s\n",
            "  1150K .......... .......... .......... .......... .......... 20%  250M 2s\n",
            "  1200K .......... .......... .......... .......... .......... 20%  145M 2s\n",
            "  1250K .......... .......... .......... .......... .......... 21%  170M 2s\n",
            "  1300K .......... .......... .......... .......... .......... 22%  191M 2s\n",
            "  1350K .......... .......... .......... .......... .......... 23%  228M 2s\n",
            "  1400K .......... .......... .......... .......... .......... 24%  173M 2s\n",
            "  1450K .......... .......... .......... .......... .......... 25%  174M 2s\n",
            "  1500K .......... .......... .......... .......... .......... 25%  211M 2s\n",
            "  1550K .......... .......... .......... .......... .......... 26%  212M 2s\n",
            "  1600K .......... .......... .......... .......... .......... 27%  163M 2s\n",
            "  1650K .......... .......... .......... .......... .......... 28% 70.0M 2s\n",
            "  1700K .......... .......... .......... .......... .......... 29% 79.7M 1s\n",
            "  1750K .......... .......... .......... .......... .......... 30%  559K 2s\n",
            "  1800K .......... .......... .......... .......... .......... 30% 44.1M 2s\n",
            "  1850K .......... .......... .......... .......... .......... 31%  155M 1s\n",
            "  1900K .......... .......... .......... .......... .......... 32% 92.0M 1s\n",
            "  1950K .......... .......... .......... .......... .......... 33% 90.8M 1s\n",
            "  2000K .......... .......... .......... .......... .......... 34%  181M 1s\n",
            "  2050K .......... .......... .......... .......... .......... 35%  217M 1s\n",
            "  2100K .......... .......... .......... .......... .......... 35%  156M 1s\n",
            "  2150K .......... .......... .......... .......... .......... 36%  225M 1s\n",
            "  2200K .......... .......... .......... .......... .......... 37%  178M 1s\n",
            "  2250K .......... .......... .......... .......... .......... 38% 81.1M 1s\n",
            "  2300K .......... .......... .......... .......... .......... 39% 45.1M 1s\n",
            "  2350K .......... .......... .......... .......... .......... 40% 45.8M 1s\n",
            "  2400K .......... .......... .......... .......... .......... 40% 39.7M 1s\n",
            "  2450K .......... .......... .......... .......... .......... 41% 48.4M 1s\n",
            "  2500K .......... .......... .......... .......... .......... 42% 65.3M 1s\n",
            "  2550K .......... .......... .......... .......... .......... 43%  190M 1s\n",
            "  2600K .......... .......... .......... .......... .......... 44%  199M 1s\n",
            "  2650K .......... .......... .......... .......... .......... 45%  196M 1s\n",
            "  2700K .......... .......... .......... .......... .......... 45%  220M 1s\n",
            "  2750K .......... .......... .......... .......... .......... 46%  189M 1s\n",
            "  2800K .......... .......... .......... .......... .......... 47%  189M 1s\n",
            "  2850K .......... .......... .......... .......... .......... 48%  318M 1s\n",
            "  2900K .......... .......... .......... .......... .......... 49%  154M 1s\n",
            "  2950K .......... .......... .......... .......... .......... 50%  210M 1s\n",
            "  3000K .......... .......... .......... .......... .......... 50%  191M 1s\n",
            "  3050K .......... .......... .......... .......... .......... 51%  200M 1s\n",
            "  3100K .......... .......... .......... .......... .......... 52%  197M 1s\n",
            "  3150K .......... .......... .......... .......... .......... 53%  236M 1s\n",
            "  3200K .......... .......... .......... .......... .......... 54%  178M 1s\n",
            "  3250K .......... .......... .......... .......... .......... 55%  246M 1s\n",
            "  3300K .......... .......... .......... .......... .......... 55%  199M 1s\n",
            "  3350K .......... .......... .......... .......... .......... 56% 89.2M 1s\n",
            "  3400K .......... .......... .......... .......... .......... 57% 42.5M 1s\n",
            "  3450K .......... .......... .......... .......... .......... 58% 59.2M 1s\n",
            "  3500K .......... .......... .......... .......... .......... 59% 89.2M 0s\n",
            "  3550K .......... .......... .......... .......... .......... 60% 72.3M 0s\n",
            "  3600K .......... .......... .......... .......... .......... 60%  606K 1s\n",
            "  3650K .......... .......... .......... .......... .......... 61% 48.6M 0s\n",
            "  3700K .......... .......... .......... .......... .......... 62% 44.2M 0s\n",
            "  3750K .......... .......... .......... .......... .......... 63% 48.2M 0s\n",
            "  3800K .......... .......... .......... .......... .......... 64% 41.3M 0s\n",
            "  3850K .......... .......... .......... .......... .......... 65% 47.5M 0s\n",
            "  3900K .......... .......... .......... .......... .......... 65% 47.2M 0s\n",
            "  3950K .......... .......... .......... .......... .......... 66% 46.8M 0s\n",
            "  4000K .......... .......... .......... .......... .......... 67% 36.7M 0s\n",
            "  4050K .......... .......... .......... .......... .......... 68% 45.9M 0s\n",
            "  4100K .......... .......... .......... .......... .......... 69% 46.0M 0s\n",
            "  4150K .......... .......... .......... .......... .......... 70% 48.2M 0s\n",
            "  4200K .......... .......... .......... .......... .......... 70% 43.5M 0s\n",
            "  4250K .......... .......... .......... .......... .......... 71% 46.4M 0s\n",
            "  4300K .......... .......... .......... .......... .......... 72%  120M 0s\n",
            "  4350K .......... .......... .......... .......... .......... 73%  162M 0s\n",
            "  4400K .......... .......... .......... .......... .......... 74%  174M 0s\n",
            "  4450K .......... .......... .......... .......... .......... 75%  247M 0s\n",
            "  4500K .......... .......... .......... .......... .......... 75%  199M 0s\n",
            "  4550K .......... .......... .......... .......... .......... 76%  159M 0s\n",
            "  4600K .......... .......... .......... .......... .......... 77%  196M 0s\n",
            "  4650K .......... .......... .......... .......... .......... 78%  235M 0s\n",
            "  4700K .......... .......... .......... .......... .......... 79%  238M 0s\n",
            "  4750K .......... .......... .......... .......... .......... 80%  175M 0s\n",
            "  4800K .......... .......... .......... .......... .......... 80%  164M 0s\n",
            "  4850K .......... .......... .......... .......... .......... 81%  248M 0s\n",
            "  4900K .......... .......... .......... .......... .......... 82%  184M 0s\n",
            "  4950K .......... .......... .......... .......... .......... 83%  195M 0s\n",
            "  5000K .......... .......... .......... .......... .......... 84%  193M 0s\n",
            "  5050K .......... .......... .......... .......... .......... 85%  224M 0s\n",
            "  5100K .......... .......... .......... .......... .......... 85%  190M 0s\n",
            "  5150K .......... .......... .......... .......... .......... 86% 67.7M 0s\n",
            "  5200K .......... .......... .......... .......... .......... 87% 65.9M 0s\n",
            "  5250K .......... .......... .......... .......... .......... 88%  208M 0s\n",
            "  5300K .......... .......... .......... .......... .......... 89%  201M 0s\n",
            "  5350K .......... .......... .......... .......... .......... 90%  198M 0s\n",
            "  5400K .......... .......... .......... .......... .......... 90%  179M 0s\n",
            "  5450K .......... .......... .......... .......... .......... 91%  222M 0s\n",
            "  5500K .......... .......... .......... .......... .......... 92%  204M 0s\n",
            "  5550K .......... .......... .......... .......... .......... 93%  203M 0s\n",
            "  5600K .......... .......... .......... .......... .......... 94%  172M 0s\n",
            "  5650K .......... .......... .......... .......... .......... 95%  210M 0s\n",
            "  5700K .......... .......... .......... .......... .......... 95%  198M 0s\n",
            "  5750K .......... .......... .......... .......... .......... 96%  193M 0s\n",
            "  5800K .......... .......... .......... .......... .......... 97%  194M 0s\n",
            "  5850K .......... .......... .......... .......... .......... 98%  210M 0s\n",
            "  5900K .......... .......... .......... .......... .......... 99%  202M 0s\n",
            "  5950K .......... .......... .......... .......... .         100%  169M=0.8s\n",
            "\n",
            "2021-10-31 18:00:44 (7.20 MB/s) - ‘italian.par.gz.1’ saved [6135113/6135113]\n",
            "\n",
            "mkdir: cannot create directory ‘cmd’: File exists\n",
            "mkdir: cannot create directory ‘lib’: File exists\n",
            "mkdir: cannot create directory ‘bin’: File exists\n",
            "mkdir: cannot create directory ‘doc’: File exists\n"
          ]
        }
      ]
    },
    {
      "cell_type": "code",
      "metadata": {
        "id": "NWuNqeNLbAw6"
      },
      "source": [
        "import treetaggerwrapper "
      ],
      "execution_count": 49,
      "outputs": []
    },
    {
      "cell_type": "markdown",
      "metadata": {
        "id": "Lvbp1pppESyT"
      },
      "source": [
        "#**Load Data**#"
      ]
    },
    {
      "cell_type": "markdown",
      "metadata": {
        "id": "kdU1Id3jEqbc"
      },
      "source": [
        "Downloading of the `kijiji` announcements: Homework 1 Exercise 6."
      ]
    },
    {
      "cell_type": "code",
      "metadata": {
        "id": "TRY-AJ4I0Ssa"
      },
      "source": [
        "url = 'https://www.kijiji.it/offerte-di-lavoro/offerta/informatica-e-web/'"
      ],
      "execution_count": 50,
      "outputs": []
    },
    {
      "cell_type": "code",
      "metadata": {
        "colab": {
          "base_uri": "https://localhost:8080/"
        },
        "id": "g9ttHNAm1bkE",
        "outputId": "51df5792-c8b7-4b1c-b54c-96151dec8957"
      },
      "source": [
        "def get_data_from_url(url, num_pages):\n",
        "\n",
        "  new_url = url\n",
        "\n",
        "  with open('/tmp/output.tsv', 'wt') as out_file:\n",
        "    tsv_writer = csv.writer(out_file, delimiter='\\t')\n",
        "    tsv_writer.writerow(['Title', 'Description', 'Location', 'Publication Date', 'URL'])\n",
        "\n",
        "    for i in tqdm(range(1, num_pages+1)):\n",
        "      if i > 1:\n",
        "        new_url = url + \"?p=\" + str(i)\n",
        "\n",
        "      r = requests.get(new_url)\n",
        "      soup = BeautifulSoup(r.content)\n",
        "      g_data = soup.find_all(\"div\", {\"class\": \"item-content\"})\n",
        "      for item in g_data:\n",
        "        tsv_writer.writerow([item.contents[1].find_all(\"a\", {\"class\": \"cta\"})[0].text.strip(),\n",
        "                             item.contents[3].text, \n",
        "                             item.contents[7].text, item.contents[9].text,\n",
        "                             item.contents[1].find_all(\"a\", {\"class\": \"cta\"})[0].get('href')])\n",
        "      time.sleep(0.75)\n",
        "\n",
        "#152 is the number of pages with job announcements on the kijiji web page in the Informatica/Grafica/Web sector     \n",
        "get_data_from_url(url, 152)"
      ],
      "execution_count": 51,
      "outputs": [
        {
          "output_type": "stream",
          "name": "stderr",
          "text": [
            "100%|██████████| 152/152 [04:45<00:00,  1.88s/it]\n"
          ]
        }
      ]
    },
    {
      "cell_type": "code",
      "metadata": {
        "colab": {
          "base_uri": "https://localhost:8080/"
        },
        "id": "FDKymTVd2K3Z",
        "outputId": "a27929f0-77ec-44f0-8715-070609e2241c"
      },
      "source": [
        "tsv_file = open(\"/tmp/output.tsv\")\n",
        "read_tsv = csv.reader(tsv_file, delimiter=\"\\t\")\n",
        "\n",
        "for i, row in enumerate(read_tsv):\n",
        "  print(row)\n",
        "  if i == 5:\n",
        "    break"
      ],
      "execution_count": 52,
      "outputs": [
        {
          "output_type": "stream",
          "name": "stdout",
          "text": [
            "['Title', 'Description', 'Location', 'Publication Date', 'URL']\n",
            "['Editor Premiere - videografico-a After Effects', 'Editor video con con approfondita e documentata esperienza si ricerca per posizione interna alla struttura; si richiede 1) conoscenza approfondita di Premiere e After Effects, basilare conoscenza di Davinci, residenza entro 15 km da Novara\\nSe interessati e in possesso di tutti i requisiti inviare un curriculum a Job AT giuseppegalliano.it e link a proprio show reel.', 'Novara', '31 agosto, 19:02', 'https://www.kijiji.it/annunci/offerta/messina-annunci-novara-di-sicilia/editor-premiere-videografico-a-after-effects/159299183']\n",
            "['Ricerca nuovi collaboratori', 'Stiamo selezionando nuovi collaboratori per un\\'opportunità lavorativa molto profittevole nel mondo digitale\\n\\nSiamo una community di oltre 14.000 persone che stanno cambiando radicalmente la propria vita sociale personale?\\n\\nGrazie al \"DIRITTO DI LIBERO SCAMBIO\" che sta RIVOLUZIONANDO il modello economico, potrai veramente ottenere ciò che cerchi e desideri in modo semplice e concreto. \\n\\nCandidandoti potrai accedere a molti esclusivi vantaggi ed informazioni riservate SOLO ai membri di questa PRESTIGIOSA community di cui tutti vogliono fare parte.\\n\\nScopri SUBITO come usufruire dei vantaggi ed opportunità grazie al \"DIRITTO DI LIBERO SCAMBIO\".\\nPotrai così realizzare concretamente il sogno di iniziare una nuova professione profittevole.\\n\\n\\n\\n\\n', 'Milano', 'Oggi, 18:55', 'https://www.kijiji.it/annunci/offerta/milano-annunci-milano/ricerca-nuovi-collaboratori/167630863']\n",
            "['Tecnico Informatico', 'Tecnico informatico o simile, munito di auto, per facile lavoro di installazione terminali pc da gioco sisal con superenalotto, in Milano e provincia. Possibilità di ulteriori incarichi.\\nPregasi allegare CV aggiornato.\\n', 'Milano', 'Oggi, 18:07', 'https://www.kijiji.it/annunci/offerta/milano-annunci-milano/tecnico-informatico/167325840']\n",
            "['Cercarsi tecnico informatico, sistemista, help desk', \"Ricerchiamo n. 1 Tecnico Sistemista ed Helpdesk. \\nLa risorsa verrà inserita all'interno dell'ufficio IT e CED a diretto supporto del Responsabile nel mantenimento generale dell'infrastruttura IT: HW e SW; Server e client anche presso clienti esterni.\\n\\nPrincipali attività richieste: \\no Assistenza e supporto tecnico sia HW che SW agli utenti delle varie sedi in cui l'Associazione opera \\no Informazione e formazione di base verso gli operatori.\\no Supporto e preparazione macchine desktop e server Windows (S.O., applicazioni e servizi di tipo Office automation)\\no Configurazione di SW Antivirus e di backup\\no Installazione e configurazione stampanti \\n\\nConoscenze specifiche:\\no Tematiche sistemistiche e di networking in ambiente Windows\\no Remote Desktop Services\\no Conoscenza applicativa e funzionale di base su router, switch, firewall, Wi-Fi e delle reti informatiche in generale.\\no Ottima Conoscenza dei sistemi operativi Windows (client e server)\\no Buona Conoscenza della suite Office\\no Esperienza di sistemista in ambito LAN/WAN, preferibilmente su Infrastrutture Microsoft/VMware \\n\\nLa figura ideale ha buone doti organizzative e ottime capacità relazionali, propensione al lavoro in team, autonomia, proattività e attitudine al problem solving e alla soddisfazione del cliente interno.\\n\\nSi valuta l'inserimento a tempo indeterminato/tempo determinato con scopo assuntivo in base alle esperienze pregresse (CCNL Commercio/terziario). Orario di lavoro: 38 ore settimanali dal lunedì al venerdì. Sede di lavoro, Milano.\", 'Città Studi / Lambrate', 'Oggi, 09:11', 'https://www.kijiji.it/annunci/offerta/milano-annunci-citta-studi-lambrate/cercarsi-tecnico-informatico-sistemista-help-desk/166051751']\n",
            "['Operatori telefonici part-time fisso 650,00', '\\n\\nClicca sul link sottostante \"sito web\" per inviarci la tua candidatura.', 'Caserta', 'Oggi, 04:06', 'https://www.kijiji.it/annunci/offerta/caserta-annunci-caserta/operatori-telefonici-part-time-fisso-650-00/167618823']\n"
          ]
        }
      ]
    },
    {
      "cell_type": "markdown",
      "metadata": {
        "id": "M_TjVQh6uR9h"
      },
      "source": [
        "We **drop the duplicates** in order to not propose to users copies of the same announcement published several times, but alternative announcements instead."
      ]
    },
    {
      "cell_type": "code",
      "metadata": {
        "colab": {
          "base_uri": "https://localhost:8080/"
        },
        "id": "ERlFvUFp2TkV",
        "outputId": "239da714-7cba-474c-9389-136a5e8aae58"
      },
      "source": [
        "df = pd.read_csv('/tmp/output.tsv', delimiter = '\\t')\n",
        "df = df.drop_duplicates()\n",
        "df.count()"
      ],
      "execution_count": 135,
      "outputs": [
        {
          "output_type": "execute_result",
          "data": {
            "text/plain": [
              "Title               2847\n",
              "Description         2847\n",
              "Location            2847\n",
              "Publication Date    2847\n",
              "URL                 2847\n",
              "dtype: int64"
            ]
          },
          "metadata": {},
          "execution_count": 135
        }
      ]
    },
    {
      "cell_type": "code",
      "metadata": {
        "colab": {
          "base_uri": "https://localhost:8080/",
          "height": 663
        },
        "id": "xPF3DHAq2WqU",
        "outputId": "7d65663d-f3d4-4038-c1a9-ad5291ee2c5f"
      },
      "source": [
        "df.head()"
      ],
      "execution_count": 137,
      "outputs": [
        {
          "output_type": "execute_result",
          "data": {
            "text/html": [
              "<div>\n",
              "<style scoped>\n",
              "    .dataframe tbody tr th:only-of-type {\n",
              "        vertical-align: middle;\n",
              "    }\n",
              "\n",
              "    .dataframe tbody tr th {\n",
              "        vertical-align: top;\n",
              "    }\n",
              "\n",
              "    .dataframe thead th {\n",
              "        text-align: right;\n",
              "    }\n",
              "</style>\n",
              "<table border=\"1\" class=\"dataframe\">\n",
              "  <thead>\n",
              "    <tr style=\"text-align: right;\">\n",
              "      <th></th>\n",
              "      <th>Title</th>\n",
              "      <th>Description</th>\n",
              "      <th>Location</th>\n",
              "      <th>Publication Date</th>\n",
              "      <th>URL</th>\n",
              "    </tr>\n",
              "  </thead>\n",
              "  <tbody>\n",
              "    <tr>\n",
              "      <th>0</th>\n",
              "      <td>Editor Premiere - videografico-a After Effects</td>\n",
              "      <td>Editor video con con approfondita e documentata esperienza si ricerca per posizione interna alla struttura; si richiede 1) conoscenza approfondita di Premiere e After Effects, basilare conoscenza di Davinci, residenza entro 15 km da Novara\\nSe interessati e in possesso di tutti i requisiti inviare un curriculum a Job AT giuseppegalliano.it e link a proprio show reel.</td>\n",
              "      <td>Novara</td>\n",
              "      <td>31 agosto, 19:02</td>\n",
              "      <td>https://www.kijiji.it/annunci/offerta/messina-annunci-novara-di-sicilia/editor-premiere-videografico-a-after-effects/159299183</td>\n",
              "    </tr>\n",
              "    <tr>\n",
              "      <th>1</th>\n",
              "      <td>Ricerca nuovi collaboratori</td>\n",
              "      <td>Stiamo selezionando nuovi collaboratori per un'opportunità lavorativa molto profittevole nel mondo digitale\\n\\nSiamo una community di oltre 14.000 persone che stanno cambiando radicalmente la propria vita sociale personale?\\n\\nGrazie al \"DIRITTO DI LIBERO SCAMBIO\" che sta RIVOLUZIONANDO il modello economico, potrai veramente ottenere ciò che cerchi e desideri in modo semplice e concreto. \\n\\nCandidandoti potrai accedere a molti esclusivi vantaggi ed informazioni riservate SOLO ai membri di questa PRESTIGIOSA community di cui tutti vogliono fare parte.\\n\\nScopri SUBITO come usufruire dei vantaggi ed opportunità grazie al \"DIRITTO DI LIBERO SCAMBIO\".\\nPotrai così realizzare concretamente il sogno di iniziare una nuova professione profittevole.\\n\\n\\n\\n\\n</td>\n",
              "      <td>Milano</td>\n",
              "      <td>Oggi, 18:55</td>\n",
              "      <td>https://www.kijiji.it/annunci/offerta/milano-annunci-milano/ricerca-nuovi-collaboratori/167630863</td>\n",
              "    </tr>\n",
              "    <tr>\n",
              "      <th>2</th>\n",
              "      <td>Tecnico Informatico</td>\n",
              "      <td>Tecnico informatico o simile, munito di auto, per facile lavoro di installazione terminali pc da gioco sisal con superenalotto, in Milano e provincia. Possibilità di ulteriori incarichi.\\nPregasi allegare CV aggiornato.\\n</td>\n",
              "      <td>Milano</td>\n",
              "      <td>Oggi, 18:07</td>\n",
              "      <td>https://www.kijiji.it/annunci/offerta/milano-annunci-milano/tecnico-informatico/167325840</td>\n",
              "    </tr>\n",
              "    <tr>\n",
              "      <th>3</th>\n",
              "      <td>Cercarsi tecnico informatico, sistemista, help desk</td>\n",
              "      <td>Ricerchiamo n. 1 Tecnico Sistemista ed Helpdesk. \\nLa risorsa verrà inserita all'interno dell'ufficio IT e CED a diretto supporto del Responsabile nel mantenimento generale dell'infrastruttura IT: HW e SW; Server e client anche presso clienti esterni.\\n\\nPrincipali attività richieste: \\no Assistenza e supporto tecnico sia HW che SW agli utenti delle varie sedi in cui l'Associazione opera \\no Informazione e formazione di base verso gli operatori.\\no Supporto e preparazione macchine desktop e server Windows (S.O., applicazioni e servizi di tipo Office automation)\\no Configurazione di SW Antivirus e di backup\\no Installazione e configurazione stampanti \\n\\nConoscenze specifiche:\\no Tematiche sistemistiche e di networking in ambiente Windows\\no Remote Desktop Services\\no Conoscenza applicativa e funzionale di base su router, switch, firewall, Wi-Fi e delle reti informatiche in generale.\\no Ottima Conoscenza dei sistemi operativi Windows (client e server)\\no Buona Conoscenza della suite...</td>\n",
              "      <td>Città Studi / Lambrate</td>\n",
              "      <td>Oggi, 09:11</td>\n",
              "      <td>https://www.kijiji.it/annunci/offerta/milano-annunci-citta-studi-lambrate/cercarsi-tecnico-informatico-sistemista-help-desk/166051751</td>\n",
              "    </tr>\n",
              "    <tr>\n",
              "      <th>4</th>\n",
              "      <td>Operatori telefonici part-time fisso 650,00</td>\n",
              "      <td>\\n\\nClicca sul link sottostante \"sito web\" per inviarci la tua candidatura.</td>\n",
              "      <td>Caserta</td>\n",
              "      <td>Oggi, 04:06</td>\n",
              "      <td>https://www.kijiji.it/annunci/offerta/caserta-annunci-caserta/operatori-telefonici-part-time-fisso-650-00/167618823</td>\n",
              "    </tr>\n",
              "  </tbody>\n",
              "</table>\n",
              "</div>"
            ],
            "text/plain": [
              "                                                 Title  ...                                                                                                                                    URL\n",
              "0       Editor Premiere - videografico-a After Effects  ...         https://www.kijiji.it/annunci/offerta/messina-annunci-novara-di-sicilia/editor-premiere-videografico-a-after-effects/159299183\n",
              "1                          Ricerca nuovi collaboratori  ...                                      https://www.kijiji.it/annunci/offerta/milano-annunci-milano/ricerca-nuovi-collaboratori/167630863\n",
              "2                                  Tecnico Informatico  ...                                              https://www.kijiji.it/annunci/offerta/milano-annunci-milano/tecnico-informatico/167325840\n",
              "3  Cercarsi tecnico informatico, sistemista, help desk  ...  https://www.kijiji.it/annunci/offerta/milano-annunci-citta-studi-lambrate/cercarsi-tecnico-informatico-sistemista-help-desk/166051751\n",
              "4          Operatori telefonici part-time fisso 650,00  ...                    https://www.kijiji.it/annunci/offerta/caserta-annunci-caserta/operatori-telefonici-part-time-fisso-650-00/167618823\n",
              "\n",
              "[5 rows x 5 columns]"
            ]
          },
          "metadata": {},
          "execution_count": 137
        }
      ]
    },
    {
      "cell_type": "markdown",
      "metadata": {
        "id": "y6Vin68oFxqM"
      },
      "source": [
        "#**Preprocessing**#"
      ]
    },
    {
      "cell_type": "markdown",
      "metadata": {
        "id": "hO6dpU1VF8k7"
      },
      "source": [
        "The main **preprocessing function** (to be applied to the columns of the Pandas DataFrame) can be found in a cell below. It contains:\n",
        "\n",
        "*   Lowercasing;\n",
        "*   Punctuation removal;\n",
        "*   Processing of the special cases;\n",
        "*   Tokenization;\n",
        "*   Stop-words removal;\n",
        "*   Lemmatization.\n"
      ]
    },
    {
      "cell_type": "markdown",
      "metadata": {
        "id": "NaNemWnmIRjx"
      },
      "source": [
        "### 1. Normalization\n",
        "\n",
        "Performed **before tokenization and stop-words removal** in order to control a way of tokenization better (manual correction of tokenization).\n",
        "\n",
        "1.1 LOWERCASING;\n",
        "\n",
        "1.2 PROCESSING OF THE **SPECIAL CASES**:\n",
        "\n",
        "Examples below represent motivation to perform special cases processing. They are built according to the following **scheme**:\n",
        "\n",
        "`source sentence` $=>$ \n",
        "\n",
        "`output of preprocessing without processing of this special case` $=>$ \n",
        "\n",
        "`output of preprocessing with this pecial case handling`."
      ]
    },
    {
      "cell_type": "markdown",
      "metadata": {
        "id": "hfXDOHo07sBt"
      },
      "source": [
        "**1.2.1 Hyphen:** replaced with space.\n",
        "\n",
        "`Editor Premiere - videografico-a After Effects` $=>$ \n",
        "\n",
        "`editor premiere  videograficoa after effects` $=>$ \n",
        "\n",
        "`editor premiere  videografico a after effects`;\n",
        "\n",
        "**1.2.2 Slash:** replaced with space.\n",
        "\n",
        "`Modellatore 3d cad/cam` $=>$ \n",
        "\n",
        "`modellatore 3d cadcam` $=>$ \n",
        "\n",
        "`modellatore 3d cad cam`;\n",
        "\n",
        "**1.2.3 Plus:** replaced with the word \"plus\", because we are interested to keep this information. \n",
        "\n",
        "*Assumption:* \"+\" could be a part of a query.\n",
        "\n",
        "`Call center 700 euro+bonus` $=>$ \n",
        "\n",
        "`call center 700 eurobonus` $=>$ \n",
        "\n",
        "`call center 700 euro plus bonus`;\n",
        "\n",
        "**1.2.4 Punctuation inside numeric entities:** removed while keeping the part before delimeter.\n",
        "\n",
        "**1.2.4.1 Comma delimeter** (mostly found in monetary entities).\n",
        "\n",
        "*Assumption:* users query may include salary specifications.\n",
        "\n",
        "`Operatore telefonico fisso mensile 650,00 euro` $=>$ \n",
        "\n",
        "`operatore telefonico fisso mensile 65000 euro` $=>$ \n",
        "\n",
        "`operatore telefonico fisso mensile 650 euro`;\n",
        "\n",
        "**1.2.4.2 Dot delimeter** (mostly found in time entities).\n",
        "\n",
        "*Assumption:* users query may include workload specifications.\n",
        "\n",
        "`Turno 14.00/ 18.15-15.45/ 20.05 .garibaldi` $=>$ \n",
        "\n",
        "`turno 1400 1815 1545 2005 garibaldi` $=>$ \n",
        "\n",
        "`turno 14 18 15 20 garibaldi`;\n",
        "\n",
        "**1.2.5 Hashtag:** if follows after \"c\" replaced with the word \"sharp\".\n",
        "\n",
        "*Assumption:* we would loose relevant information otherwise (i.e. aim to satisfy users requests coming from the C# developers for which specification of C# is relevant and should not be confused with just C).\n",
        "\n",
        "*Note:* \"C++\" case could be handled in the same way, but we have already implicitly considered it in a satisfactory way while handling \"+\" sign.\n",
        "\n",
        "`Software developer PHP Yii2 / C# / Angular JS` $=>$\n",
        "\n",
        " `software developer php yii2 c angular js` $=>$\n",
        " \n",
        "  `software developer php yii2 csharp angular js`;\n",
        "\n",
        "**1.2.6 Backslash n:** replaced with space. Inclusion of a \"\\n\" sign is a specific property of the \"Description\" field of the dataset, because sometimes it contains reference to the web-page instead of actual description of the position.\n",
        "\n",
        "`\\n\\nClicca sul link sottostante \"sito web\" per inviarci la tua candidatura.` $=>$ \n",
        "\n",
        "`\\n\\nclicca sul link sottostante sito web per inviarci la tua candidatura` $=>$\n",
        "\n",
        " `clicca sul link sottostante sito web per inviarci la tua candidatura`.\n",
        "\n",
        " **1.2.7 Spaces:** all the additional spaces created in the result of the special cases processing procedure are then removed."
      ]
    },
    {
      "cell_type": "markdown",
      "metadata": {
        "id": "8ZJzJrZkQQsV"
      },
      "source": [
        "1.3 PUNCTUATION REMOVAL:\n",
        "\n",
        "All the punctuation going beyond special cases processing is removed because it's auxuliary for the search engine.\n",
        "\n",
        "1.4 OTHER:\n",
        "\n",
        "**1.4.1 Named entities.**\n",
        "\n",
        "**1.4.1.1 Not appreviations:** are lowercased and therefore equalized with not named entities;\n",
        "\n",
        "**1.4.1.2 Appreviations:** are lowercased and experienced delimeters removal, and therefore joined in a single word and equalized with not named entities.\n",
        "\n",
        "*Assumption:* typical query contains them in this form.\n",
        "\n",
        "**1.4.2 Language specifics:** left without processing (but later lemmatized).\n",
        "\n",
        "*Assumption:* users are mostly language representatives."
      ]
    },
    {
      "cell_type": "markdown",
      "metadata": {
        "id": "BZYVYwYyTtEb"
      },
      "source": [
        "### 2. Tokenization\n",
        "\n",
        "Is performed implicitly by the **TreeTagger**."
      ]
    },
    {
      "cell_type": "markdown",
      "metadata": {
        "id": "Wi_D12g6T0xF"
      },
      "source": [
        "### 3. Lemmatization\n",
        "\n",
        "As it suggested by the web-sources:\n",
        "\n",
        "    Lemmatization is the process of grouping together the different inflected forms of a word so they can be analyzed as a single item. Lemmatization is similar to stemming but it brings context to the words. So it links words with similar meanings to one word. \n",
        "    Text preprocessing includes both Stemming as well as Lemmatization. Many times people find these two terms confusing. Some treat these two as the same. Actually, lemmatization is preferred over Stemming because lemmatization does morphological analysis of the words.\n",
        "\n",
        "    Applications of lemmatization are: \n",
        "    Used in comprehensive retrieval systems like search engines.\n",
        "    Used in compact indexing.\n",
        "\n",
        "So, decision to use **lemmatization rather than stemming** has been taken, and then lemmatization has been performed within **two stages.**"
      ]
    },
    {
      "cell_type": "markdown",
      "metadata": {
        "id": "RTPGNrUeUxhe"
      },
      "source": [
        "3.1 FOR ITALIAN TOKENS:\n",
        "\n",
        "As it have already been mentioned before, lemmatization of Italian tokens is performed using **tagging** with treetaggerwrapper, which converts the string into a list of three-item elements divided by \"\\t\" delimeter: `original token\\ttag\\tlemma`. We derive from this triple the last item, i.e. **lemma** and replace original token with it. But thereare two special cases that arise during the tagging:\n",
        "\n",
        "**3.1.1 Numbers:** all numerical tokens are mapped by tagger to the same lemma: `@card@`, which is not a reasonable replacement within an *assumption* that numerical tokens are relevant part of users queries. Therefore, `tag` item of a triple (which is fixed to be `NUM`) is used to keep numerical tokens as originally.\n",
        "\n",
        "**3.1.2 Vertical delimeters:** are used by tagger in the lemma part of triple to provide an alternative lemmatization for ambiguous original tokens. Since, disambiguation is not of a focus of a current task, we simply keep only the first of the proposed alternatives.\n",
        "\n",
        "3.2 FOR ENGLISH TOKENS: \n",
        "\n",
        "**WordNet Lemmatizer** provided by **NLTK** is known to work fine."
      ]
    },
    {
      "cell_type": "markdown",
      "metadata": {
        "id": "bJlBxOQbbEwQ"
      },
      "source": [
        "### 4. Stop-Words Removal\n",
        "\n",
        "Is an important step of preprocessing for the search engines which are built upon term frequency counting and therefore would be **shifted** by the stop-words (which are frequent and at the same time not relevant) if they are present.\n",
        "\n",
        "Here we delete both **Italian and English** stop-words using **NLTK** database."
      ]
    },
    {
      "cell_type": "code",
      "metadata": {
        "colab": {
          "base_uri": "https://localhost:8080/"
        },
        "id": "QqEg-XRe1h_D",
        "outputId": "c63d6981-5f53-4cad-e45c-27a5150e44ae"
      },
      "source": [
        "stop_words = set.union(set(stopwords.words('italian')),set(stopwords.words('english')))\n",
        "lemmatizer = WordNetLemmatizer()\n",
        "tagger = treetaggerwrapper.TreeTagger(TAGLANG=\"it\", TAGDIR='treetagger/')\n",
        "\n",
        "def column_preprocessing(col):\n",
        "  #print(col)\n",
        "  col = col.apply(lambda x: x.lower()) #1.1\n",
        "  col = col.apply(lambda x: re.sub('-', ' ', x)) #1.2.1\n",
        "  col = col.apply(lambda x: re.sub('/', ' ', x)) #1.2.2\n",
        "  col = col.apply(lambda x: re.sub('\\+', ' plus ', x)) #1.2.3\n",
        "  col = col.apply(lambda x: re.sub(r',\\d+', '', x)) #1.2.4.1\n",
        "  col = col.apply(lambda x: re.sub(r'\\.\\d+', '', x)) #1.2.4.2\n",
        "  col = col.apply(lambda x: re.sub(r'c#', 'csharp', x)) #1.2.5\n",
        "  col = col.apply(lambda x: x.translate(str.maketrans(' ', ' ', string.punctuation))) #1.3\n",
        "  col = col.apply(lambda x: re.sub('\\n', ' ', x)) #1.2.6\n",
        "  col = col.apply(lambda x: re.sub(' +', ' ', x)) #1.2.7\n",
        "  #print(\"\\nNORMALIZATION\\n\", col)\n",
        "  col = col.apply(lambda x: tagger.tag_text(x)) #2, 3\n",
        "  #print(\"\\nTAGGER\\n\", col)\n",
        "  col = col.apply(lambda x: [token.split('\\t')[0] if (token.split('\\t')[1] == 'NUM' or token.split('\\t')[1] == 'PON') \n",
        "                                                  else token.split('\\t')[2].split('|')[0] for token in x]) #3.1\n",
        "  col = col.apply(lambda x: [lemmatizer.lemmatize(token) for token in x]) #3.2\n",
        "  col = col.apply(lambda x: [token for token in x if not token in stop_words]) #4\n",
        "  #print(\"\\nOUTPUT\\n\")\n",
        "  return col\n",
        "#example output\n",
        "pd.set_option('display.max_colwidth', 150)\n",
        "#print(\"INPUT\\n\")\n",
        "column_preprocessing(df['Title'].head())"
      ],
      "execution_count": 138,
      "outputs": [
        {
          "output_type": "execute_result",
          "data": {
            "text/plain": [
              "0                   [editor, premiere, videografico, effect]\n",
              "1                            [ricerca, nuovo, collaboratore]\n",
              "2                                     [tecnico, informatico]\n",
              "3    [cercare, tecnico, informatico, sistemista, help, desk]\n",
              "4            [operatore, telefonico, part, time, fisso, 650]\n",
              "Name: Title, dtype: object"
            ]
          },
          "metadata": {},
          "execution_count": 138
        }
      ]
    },
    {
      "cell_type": "markdown",
      "metadata": {
        "id": "5KzPatbNJA7r"
      },
      "source": [
        "*Assumption:* users **query** consists of key words that don't include request about **Publication Date** of an annocuncement or it's **URL** (reasoning behind: this information users would rather retrieve already after being proposed with relevant announcements). Therefore, for the search-engine we are mainly interested in a similarity of a query and information which is currently stored in the first three textual fields of a DataFrame: **Title, Description, Location**. \n",
        "\n",
        "So, in order to prepare data to the **index** construction, we will create new DataFrame in two steps:\n",
        "\n",
        "**Step 1** (`df_search`)**:** drop auxiliary columns, and apply preprocessing function to the kept columns.\n",
        "\n",
        "**Step 2** (`df_search_merged`)**:** merge all information regarding announcement in one field -- represent DataFrame as a collection of Documents, where each row is adocument/announcement and has an index."
      ]
    },
    {
      "cell_type": "code",
      "metadata": {
        "colab": {
          "base_uri": "https://localhost:8080/",
          "height": 272
        },
        "id": "EUShx_oP4_FJ",
        "outputId": "e5961c18-eb59-4e2a-b7cf-a2ab8889dcb0"
      },
      "source": [
        "#Step 1\n",
        "df_search = df.copy()\n",
        "df_search = df_search.drop(['Publication Date', 'URL'], axis=1)\n",
        "df_search = df_search.apply(column_preprocessing)\n",
        "df_search.head()"
      ],
      "execution_count": 139,
      "outputs": [
        {
          "output_type": "execute_result",
          "data": {
            "text/html": [
              "<div>\n",
              "<style scoped>\n",
              "    .dataframe tbody tr th:only-of-type {\n",
              "        vertical-align: middle;\n",
              "    }\n",
              "\n",
              "    .dataframe tbody tr th {\n",
              "        vertical-align: top;\n",
              "    }\n",
              "\n",
              "    .dataframe thead th {\n",
              "        text-align: right;\n",
              "    }\n",
              "</style>\n",
              "<table border=\"1\" class=\"dataframe\">\n",
              "  <thead>\n",
              "    <tr style=\"text-align: right;\">\n",
              "      <th></th>\n",
              "      <th>Title</th>\n",
              "      <th>Description</th>\n",
              "      <th>Location</th>\n",
              "    </tr>\n",
              "  </thead>\n",
              "  <tbody>\n",
              "    <tr>\n",
              "      <th>0</th>\n",
              "      <td>[editor, premiere, videografico, effect]</td>\n",
              "      <td>[editor, video, approfondito, documentato, esperienza, ricerca, posizione, interno, struttura, richiedere, 1, conoscenza, approfondire, premiere, ...</td>\n",
              "      <td>[novara]</td>\n",
              "    </tr>\n",
              "    <tr>\n",
              "      <th>1</th>\n",
              "      <td>[ricerca, nuovo, collaboratore]</td>\n",
              "      <td>[stare, selezionare, nuovo, collaboratore, unopportunità, lavorativo, molto, profittevole, mondo, digitale, essere, community, oltre, 14, persona,...</td>\n",
              "      <td>[milano]</td>\n",
              "    </tr>\n",
              "    <tr>\n",
              "      <th>2</th>\n",
              "      <td>[tecnico, informatico]</td>\n",
              "      <td>[tecnico, informatico, simile, munire, auto, facile, lavoro, installazione, terminale, pc, gioco, sisal, superenalotto, milano, provincia, possibi...</td>\n",
              "      <td>[milano]</td>\n",
              "    </tr>\n",
              "    <tr>\n",
              "      <th>3</th>\n",
              "      <td>[cercare, tecnico, informatico, sistemista, help, desk]</td>\n",
              "      <td>[ricercare, n, 1, tecnico, sistemista, helpdesk, risorsa, venire, inserito, allinternare, dellufficio, ced, diretto, supporto, responsabile, mante...</td>\n",
              "      <td>[città, studio, lambrate]</td>\n",
              "    </tr>\n",
              "    <tr>\n",
              "      <th>4</th>\n",
              "      <td>[operatore, telefonico, part, time, fisso, 650]</td>\n",
              "      <td>[cliccare, link, sottostante, sito, web, inviare, candidatura]</td>\n",
              "      <td>[caserta]</td>\n",
              "    </tr>\n",
              "  </tbody>\n",
              "</table>\n",
              "</div>"
            ],
            "text/plain": [
              "                                                     Title  ...                   Location\n",
              "0                 [editor, premiere, videografico, effect]  ...                   [novara]\n",
              "1                          [ricerca, nuovo, collaboratore]  ...                   [milano]\n",
              "2                                   [tecnico, informatico]  ...                   [milano]\n",
              "3  [cercare, tecnico, informatico, sistemista, help, desk]  ...  [città, studio, lambrate]\n",
              "4          [operatore, telefonico, part, time, fisso, 650]  ...                  [caserta]\n",
              "\n",
              "[5 rows x 3 columns]"
            ]
          },
          "metadata": {},
          "execution_count": 139
        }
      ]
    },
    {
      "cell_type": "code",
      "metadata": {
        "colab": {
          "base_uri": "https://localhost:8080/",
          "height": 204
        },
        "id": "bpWQxBoqLJKI",
        "outputId": "355d8c8e-dbce-4f3d-8436-df11ba278b32"
      },
      "source": [
        "#Step 2\n",
        "df_search_merged = df_search.copy()\n",
        "df_search_merged['Announcement'] = df_search_merged['Title'] + df_search_merged['Description'] + df_search_merged['Location']\n",
        "df_search_merged = df_search_merged.drop(df_search_merged.columns[:-1], axis=1)\n",
        "pd.set_option('display.max_colwidth', 150)\n",
        "df_search_merged.head()"
      ],
      "execution_count": 140,
      "outputs": [
        {
          "output_type": "execute_result",
          "data": {
            "text/html": [
              "<div>\n",
              "<style scoped>\n",
              "    .dataframe tbody tr th:only-of-type {\n",
              "        vertical-align: middle;\n",
              "    }\n",
              "\n",
              "    .dataframe tbody tr th {\n",
              "        vertical-align: top;\n",
              "    }\n",
              "\n",
              "    .dataframe thead th {\n",
              "        text-align: right;\n",
              "    }\n",
              "</style>\n",
              "<table border=\"1\" class=\"dataframe\">\n",
              "  <thead>\n",
              "    <tr style=\"text-align: right;\">\n",
              "      <th></th>\n",
              "      <th>Announcement</th>\n",
              "    </tr>\n",
              "  </thead>\n",
              "  <tbody>\n",
              "    <tr>\n",
              "      <th>0</th>\n",
              "      <td>[editor, premiere, videografico, effect, editor, video, approfondito, documentato, esperienza, ricerca, posizione, interno, struttura, richiedere,...</td>\n",
              "    </tr>\n",
              "    <tr>\n",
              "      <th>1</th>\n",
              "      <td>[ricerca, nuovo, collaboratore, stare, selezionare, nuovo, collaboratore, unopportunità, lavorativo, molto, profittevole, mondo, digitale, essere,...</td>\n",
              "    </tr>\n",
              "    <tr>\n",
              "      <th>2</th>\n",
              "      <td>[tecnico, informatico, tecnico, informatico, simile, munire, auto, facile, lavoro, installazione, terminale, pc, gioco, sisal, superenalotto, mila...</td>\n",
              "    </tr>\n",
              "    <tr>\n",
              "      <th>3</th>\n",
              "      <td>[cercare, tecnico, informatico, sistemista, help, desk, ricercare, n, 1, tecnico, sistemista, helpdesk, risorsa, venire, inserito, allinternare, d...</td>\n",
              "    </tr>\n",
              "    <tr>\n",
              "      <th>4</th>\n",
              "      <td>[operatore, telefonico, part, time, fisso, 650, cliccare, link, sottostante, sito, web, inviare, candidatura, caserta]</td>\n",
              "    </tr>\n",
              "  </tbody>\n",
              "</table>\n",
              "</div>"
            ],
            "text/plain": [
              "                                                                                                                                            Announcement\n",
              "0  [editor, premiere, videografico, effect, editor, video, approfondito, documentato, esperienza, ricerca, posizione, interno, struttura, richiedere,...\n",
              "1  [ricerca, nuovo, collaboratore, stare, selezionare, nuovo, collaboratore, unopportunità, lavorativo, molto, profittevole, mondo, digitale, essere,...\n",
              "2  [tecnico, informatico, tecnico, informatico, simile, munire, auto, facile, lavoro, installazione, terminale, pc, gioco, sisal, superenalotto, mila...\n",
              "3  [cercare, tecnico, informatico, sistemista, help, desk, ricercare, n, 1, tecnico, sistemista, helpdesk, risorsa, venire, inserito, allinternare, d...\n",
              "4                                 [operatore, telefonico, part, time, fisso, 650, cliccare, link, sottostante, sito, web, inviare, candidatura, caserta]"
            ]
          },
          "metadata": {},
          "execution_count": 140
        }
      ]
    },
    {
      "cell_type": "markdown",
      "metadata": {
        "id": "KXr_V8r7lmSN"
      },
      "source": [
        "#**Search-Engine Index**#"
      ]
    },
    {
      "cell_type": "markdown",
      "metadata": {
        "id": "FAy-ZgDS1ghx"
      },
      "source": [
        "## 1. Inverted Index"
      ]
    },
    {
      "cell_type": "markdown",
      "metadata": {
        "id": "8NJtxG-E1mYj"
      },
      "source": [
        "\n",
        "---\n",
        "\n",
        "1.1. First, we need to **compute TF** for each term in the document. \n",
        "\n",
        "---\n",
        "\n",
        "We do it inside the DataFrame field using **lambda-function** and custom function `count` that creates `Counter()` object."
      ]
    },
    {
      "cell_type": "code",
      "metadata": {
        "id": "jOiOP7Spagsi"
      },
      "source": [
        "def count(l):\n",
        "\n",
        "  counter = Counter()\n",
        "  for elem in l:\n",
        "    counter[elem] += 1\n",
        "  return counter"
      ],
      "execution_count": 141,
      "outputs": []
    },
    {
      "cell_type": "code",
      "metadata": {
        "colab": {
          "base_uri": "https://localhost:8080/",
          "height": 204
        },
        "id": "FOU3ke3hQokt",
        "outputId": "dab319a7-949d-4fbe-965b-a6bb94acddb8"
      },
      "source": [
        "df_search_merged['Announcement'] = df_search_merged['Announcement'].apply(lambda x: count(x))\n",
        "df_search_merged.reset_index(level=0, inplace=True) #propagate row index to a separate column\n",
        "df_search_merged.head()"
      ],
      "execution_count": 142,
      "outputs": [
        {
          "output_type": "execute_result",
          "data": {
            "text/html": [
              "<div>\n",
              "<style scoped>\n",
              "    .dataframe tbody tr th:only-of-type {\n",
              "        vertical-align: middle;\n",
              "    }\n",
              "\n",
              "    .dataframe tbody tr th {\n",
              "        vertical-align: top;\n",
              "    }\n",
              "\n",
              "    .dataframe thead th {\n",
              "        text-align: right;\n",
              "    }\n",
              "</style>\n",
              "<table border=\"1\" class=\"dataframe\">\n",
              "  <thead>\n",
              "    <tr style=\"text-align: right;\">\n",
              "      <th></th>\n",
              "      <th>index</th>\n",
              "      <th>Announcement</th>\n",
              "    </tr>\n",
              "  </thead>\n",
              "  <tbody>\n",
              "    <tr>\n",
              "      <th>0</th>\n",
              "      <td>0</td>\n",
              "      <td>{'editor': 2, 'premiere': 2, 'videografico': 1, 'effect': 2, 'video': 1, 'approfondito': 1, 'documentato': 1, 'esperienza': 1, 'ricerca': 1, 'posi...</td>\n",
              "    </tr>\n",
              "    <tr>\n",
              "      <th>1</th>\n",
              "      <td>1</td>\n",
              "      <td>{'ricerca': 1, 'nuovo': 3, 'collaboratore': 2, 'stare': 3, 'selezionare': 1, 'unopportunità': 1, 'lavorativo': 1, 'molto': 2, 'profittevole': 2, '...</td>\n",
              "    </tr>\n",
              "    <tr>\n",
              "      <th>2</th>\n",
              "      <td>2</td>\n",
              "      <td>{'tecnico': 2, 'informatico': 2, 'simile': 1, 'munire': 1, 'auto': 1, 'facile': 1, 'lavoro': 1, 'installazione': 1, 'terminale': 1, 'pc': 1, 'gioc...</td>\n",
              "    </tr>\n",
              "    <tr>\n",
              "      <th>3</th>\n",
              "      <td>3</td>\n",
              "      <td>{'cercare': 1, 'tecnico': 3, 'informatico': 2, 'sistemista': 3, 'help': 1, 'desk': 1, 'ricercare': 1, 'n': 1, '1': 1, 'helpdesk': 1, 'risorsa': 1,...</td>\n",
              "    </tr>\n",
              "    <tr>\n",
              "      <th>4</th>\n",
              "      <td>4</td>\n",
              "      <td>{'operatore': 1, 'telefonico': 1, 'part': 1, 'time': 1, 'fisso': 1, '650': 1, 'cliccare': 1, 'link': 1, 'sottostante': 1, 'sito': 1, 'web': 1, 'in...</td>\n",
              "    </tr>\n",
              "  </tbody>\n",
              "</table>\n",
              "</div>"
            ],
            "text/plain": [
              "   index                                                                                                                                           Announcement\n",
              "0      0  {'editor': 2, 'premiere': 2, 'videografico': 1, 'effect': 2, 'video': 1, 'approfondito': 1, 'documentato': 1, 'esperienza': 1, 'ricerca': 1, 'posi...\n",
              "1      1  {'ricerca': 1, 'nuovo': 3, 'collaboratore': 2, 'stare': 3, 'selezionare': 1, 'unopportunità': 1, 'lavorativo': 1, 'molto': 2, 'profittevole': 2, '...\n",
              "2      2  {'tecnico': 2, 'informatico': 2, 'simile': 1, 'munire': 1, 'auto': 1, 'facile': 1, 'lavoro': 1, 'installazione': 1, 'terminale': 1, 'pc': 1, 'gioc...\n",
              "3      3  {'cercare': 1, 'tecnico': 3, 'informatico': 2, 'sistemista': 3, 'help': 1, 'desk': 1, 'ricercare': 1, 'n': 1, '1': 1, 'helpdesk': 1, 'risorsa': 1,...\n",
              "4      4  {'operatore': 1, 'telefonico': 1, 'part': 1, 'time': 1, 'fisso': 1, '650': 1, 'cliccare': 1, 'link': 1, 'sottostante': 1, 'sito': 1, 'web': 1, 'in..."
            ]
          },
          "metadata": {},
          "execution_count": 142
        }
      ]
    },
    {
      "cell_type": "markdown",
      "metadata": {
        "id": "mMMLn2wt5src"
      },
      "source": [
        "\n",
        "---\n",
        "\n",
        "\n",
        "1.2 **Naive Inverted Index** as was introduced during classes.\n",
        "\n",
        "\n",
        "---\n",
        "\n",
        "\n",
        "$\\forall$ `TERM` in DataFrame: create a map \n",
        "\n",
        "`TERM ->  all tuples (DOCUMENT INDEX, TF`),\n",
        "\n",
        "where `(DOCUMENT INDEX, TF`)` $-$ **(given document, term frequency of a given term in a given document)**, \n",
        "\n",
        "given document (represented by its index) $-$ all documents, containing given term,\n",
        "\n",
        "given term $-$ `TERM`.\n",
        "\n",
        "So, Inverted Index is implemented as described above map. The data structure to store this map is a dictionary: `d_indexed`."
      ]
    },
    {
      "cell_type": "code",
      "metadata": {
        "colab": {
          "base_uri": "https://localhost:8080/"
        },
        "id": "wZrXV6darJd6",
        "outputId": "e0aec2a2-2c11-4566-c3b9-73febee35015"
      },
      "source": [
        "d_indexed = dict()\n",
        "#iterating over DataFrame\n",
        "for index, counter in df_search_merged.values:\n",
        "  #cast Counter() object to dictionary\n",
        "  d = dict(counter)\n",
        "  #iterating over each dictionary zip TF with document index and save all such tuples (index, TF of the term in document with this index) in a list\n",
        "  #created list becomes a value of a new dictionary with term as a key\n",
        "  for (key, value) in d.items():\n",
        "    if key not in list(d_indexed.keys()):\n",
        "      l = list()\n",
        "      l.append(tuple((index, value)))\n",
        "      d_indexed[key] = l\n",
        "    else:\n",
        "      d_indexed[key].append(tuple((index, value)))\n",
        "\n",
        "#some examples from the middle because ones in the beginning are too long and not convenient for scrolling\n",
        "list(d_indexed.items())[-3000:-2995]"
      ],
      "execution_count": 143,
      "outputs": [
        {
          "output_type": "execute_result",
          "data": {
            "text/plain": [
              "[('internaanca', [(1283, 1)]),\n",
              " ('colloquiare', [(1283, 1)]),\n",
              " ('placement', [(1284, 1), (2834, 1)]),\n",
              " ('ddesigner', [(1284, 1)]),\n",
              " ('bresciano', [(1284, 2)])]"
            ]
          },
          "metadata": {},
          "execution_count": 143
        }
      ]
    },
    {
      "cell_type": "markdown",
      "metadata": {
        "id": "9Q6xIlnO-Owu"
      },
      "source": [
        "\n",
        "---\n",
        "\n",
        "1.3 We can do better, exploiting **tf-idf** instead of just frequencies.\n",
        "\n",
        "---\n",
        "\n"
      ]
    },
    {
      "cell_type": "markdown",
      "metadata": {
        "id": "NPSigg_L-1dS"
      },
      "source": [
        "1.3.1 First, for the Inverted Index with tf-idf we need to count the number of documents $N_j$, containing term $j$, $\\forall j$. And then we can compute $idf_j$  as $log(\\frac{n}{N_j})$ $\\forall j$, where $n$ $-$ the number of documents.\n",
        "\n",
        "$\\forall$ `TERM` in DataFrame: create a new map \n",
        "\n",
        "`TERM ->  IDF`,\n",
        "\n",
        "where `IDF` $-$ **IDF of a given term**, \n",
        "\n",
        "given term $-$ `TERM`.\n",
        "\n",
        "The data structure to store this map is a dictionary: `Ns`."
      ]
    },
    {
      "cell_type": "code",
      "metadata": {
        "colab": {
          "base_uri": "https://localhost:8080/"
        },
        "id": "3MXs4dde-NLT",
        "outputId": "79e00126-aebe-4d3f-b79f-241cf05a97fa"
      },
      "source": [
        "Ns = dict()\n",
        "n = df_search_merged.values[-1][0]+1 #number of documents correponds to an index of the last document + 1\n",
        "for (key, value) in d_indexed.items():\n",
        "  Ns[key] = math.log10(n/len(value))\n",
        "\n",
        "list(Ns.items())[:5]"
      ],
      "execution_count": 144,
      "outputs": [
        {
          "output_type": "execute_result",
          "data": {
            "text/plain": [
              "[('editor', 2.776701183988411),\n",
              " ('premiere', 2.5725812013324862),\n",
              " ('videografico', 2.9985499336047674),\n",
              " ('effect', 2.776701183988411),\n",
              " ('video', 1.785475108295916)]"
            ]
          },
          "metadata": {},
          "execution_count": 144
        }
      ]
    },
    {
      "cell_type": "markdown",
      "metadata": {
        "id": "-URGBQfIDSGK"
      },
      "source": [
        "\n",
        "---\n",
        "\n",
        "1.3.2 We rearrange `d_indexed` in such a way, so it contains **tf_idf instead of just tf**.\n",
        "\n",
        "\n",
        "---\n",
        "\n"
      ]
    },
    {
      "cell_type": "code",
      "metadata": {
        "colab": {
          "base_uri": "https://localhost:8080/"
        },
        "id": "EOa_K5HI_pph",
        "outputId": "6cdc51fb-712d-455d-ca9a-3e9baa0cd54c"
      },
      "source": [
        "for (key, value) in d_indexed.items():\n",
        "  for i, (index, tf) in enumerate(value):\n",
        "    tf_idf = tf * Ns[key]\n",
        "    d_indexed[key][i] = (index, tf_idf)\n",
        "\n",
        "list(d_indexed.items())[-3000:-2995]"
      ],
      "execution_count": 145,
      "outputs": [
        {
          "output_type": "execute_result",
          "data": {
            "text/plain": [
              "[('internaanca', [(1283, 3.4756711883244296)]),\n",
              " ('colloquiare', [(1283, 3.4756711883244296)]),\n",
              " ('placement', [(1284, 3.1746411926604483), (2834, 3.1746411926604483)]),\n",
              " ('ddesigner', [(1284, 3.4756711883244296)]),\n",
              " ('bresciano', [(1284, 6.951342376648859)])]"
            ]
          },
          "metadata": {},
          "execution_count": 145
        }
      ]
    },
    {
      "cell_type": "markdown",
      "metadata": {
        "id": "ZUQgmZtbEWgi"
      },
      "source": [
        "\n",
        "\n",
        "---\n",
        "\n",
        "1.4 Finally, we place created Inverted Index to the DataFrame `df_index` together with the **IDF** information (which will be needed to compute the **cosine similarity** with the query). \n",
        "\n",
        "---\n",
        "\n",
        "\n",
        "\n",
        "\n",
        "\n",
        "Then we **save** it in a file as suggested in the assignment."
      ]
    },
    {
      "cell_type": "code",
      "metadata": {
        "colab": {
          "base_uri": "https://localhost:8080/"
        },
        "id": "PkNFjYNQiV0X",
        "outputId": "c44de60a-4d17-461e-83fc-b97445870452"
      },
      "source": [
        "df_index = pd.DataFrame(columns = ['Term', 'IDF', 'Docs'])\n",
        "for (key, value) in tqdm(d_indexed.items()):\n",
        "  row = pd.DataFrame([[key, Ns[key], value]], columns=['Term', 'IDF', 'Docs'])\n",
        "  df_index = df_index.append(row, ignore_index=True)"
      ],
      "execution_count": 146,
      "outputs": [
        {
          "output_type": "stream",
          "name": "stderr",
          "text": [
            "100%|██████████| 9900/9900 [00:26<00:00, 380.27it/s]\n"
          ]
        }
      ]
    },
    {
      "cell_type": "code",
      "metadata": {
        "colab": {
          "base_uri": "https://localhost:8080/",
          "height": 419
        },
        "id": "TtlqNxeGFCnN",
        "outputId": "416288a0-6254-435b-e5ca-a050faa38a61"
      },
      "source": [
        "pd.set_option('display.max_colwidth', 100)\n",
        "df_index"
      ],
      "execution_count": 147,
      "outputs": [
        {
          "output_type": "execute_result",
          "data": {
            "text/html": [
              "<div>\n",
              "<style scoped>\n",
              "    .dataframe tbody tr th:only-of-type {\n",
              "        vertical-align: middle;\n",
              "    }\n",
              "\n",
              "    .dataframe tbody tr th {\n",
              "        vertical-align: top;\n",
              "    }\n",
              "\n",
              "    .dataframe thead th {\n",
              "        text-align: right;\n",
              "    }\n",
              "</style>\n",
              "<table border=\"1\" class=\"dataframe\">\n",
              "  <thead>\n",
              "    <tr style=\"text-align: right;\">\n",
              "      <th></th>\n",
              "      <th>Term</th>\n",
              "      <th>IDF</th>\n",
              "      <th>Docs</th>\n",
              "    </tr>\n",
              "  </thead>\n",
              "  <tbody>\n",
              "    <tr>\n",
              "      <th>0</th>\n",
              "      <td>editor</td>\n",
              "      <td>2.776701</td>\n",
              "      <td>[(0, 5.553402367976822), (85, 2.776701183988411), (389, 5.553402367976822), (1467, 2.77670118398...</td>\n",
              "    </tr>\n",
              "    <tr>\n",
              "      <th>1</th>\n",
              "      <td>premiere</td>\n",
              "      <td>2.572581</td>\n",
              "      <td>[(0, 5.1451624026649725), (379, 2.5725812013324862), (389, 5.1451624026649725), (555, 2.57258120...</td>\n",
              "    </tr>\n",
              "    <tr>\n",
              "      <th>2</th>\n",
              "      <td>videografico</td>\n",
              "      <td>2.998550</td>\n",
              "      <td>[(0, 2.9985499336047674), (1363, 8.995649800814302), (1860, 2.9985499336047674)]</td>\n",
              "    </tr>\n",
              "    <tr>\n",
              "      <th>3</th>\n",
              "      <td>effect</td>\n",
              "      <td>2.776701</td>\n",
              "      <td>[(0, 5.553402367976822), (389, 2.776701183988411), (555, 2.776701183988411), (652, 2.77670118398...</td>\n",
              "    </tr>\n",
              "    <tr>\n",
              "      <th>4</th>\n",
              "      <td>video</td>\n",
              "      <td>1.785475</td>\n",
              "      <td>[(0, 1.785475108295916), (35, 1.785475108295916), (85, 10.712850649775495), (86, 7.1419004331836...</td>\n",
              "    </tr>\n",
              "    <tr>\n",
              "      <th>...</th>\n",
              "      <td>...</td>\n",
              "      <td>...</td>\n",
              "      <td>...</td>\n",
              "    </tr>\n",
              "    <tr>\n",
              "      <th>9895</th>\n",
              "      <td>rubicone</td>\n",
              "      <td>3.475671</td>\n",
              "      <td>[(2988, 6.951342376648859)]</td>\n",
              "    </tr>\n",
              "    <tr>\n",
              "      <th>9896</th>\n",
              "      <td>savignano</td>\n",
              "      <td>3.475671</td>\n",
              "      <td>[(2988, 6.951342376648859)]</td>\n",
              "    </tr>\n",
              "    <tr>\n",
              "      <th>9897</th>\n",
              "      <td>rubicona</td>\n",
              "      <td>3.475671</td>\n",
              "      <td>[(2988, 3.4756711883244296)]</td>\n",
              "    </tr>\n",
              "    <tr>\n",
              "      <th>9898</th>\n",
              "      <td>reggiano</td>\n",
              "      <td>3.475671</td>\n",
              "      <td>[(2989, 3.4756711883244296)]</td>\n",
              "    </tr>\n",
              "    <tr>\n",
              "      <th>9899</th>\n",
              "      <td>javaconoscenza</td>\n",
              "      <td>3.475671</td>\n",
              "      <td>[(2989, 3.4756711883244296)]</td>\n",
              "    </tr>\n",
              "  </tbody>\n",
              "</table>\n",
              "<p>9900 rows × 3 columns</p>\n",
              "</div>"
            ],
            "text/plain": [
              "                Term  ...                                                                                                 Docs\n",
              "0             editor  ...  [(0, 5.553402367976822), (85, 2.776701183988411), (389, 5.553402367976822), (1467, 2.77670118398...\n",
              "1           premiere  ...  [(0, 5.1451624026649725), (379, 2.5725812013324862), (389, 5.1451624026649725), (555, 2.57258120...\n",
              "2       videografico  ...                     [(0, 2.9985499336047674), (1363, 8.995649800814302), (1860, 2.9985499336047674)]\n",
              "3             effect  ...  [(0, 5.553402367976822), (389, 2.776701183988411), (555, 2.776701183988411), (652, 2.77670118398...\n",
              "4              video  ...  [(0, 1.785475108295916), (35, 1.785475108295916), (85, 10.712850649775495), (86, 7.1419004331836...\n",
              "...              ...  ...                                                                                                  ...\n",
              "9895        rubicone  ...                                                                          [(2988, 6.951342376648859)]\n",
              "9896       savignano  ...                                                                          [(2988, 6.951342376648859)]\n",
              "9897        rubicona  ...                                                                         [(2988, 3.4756711883244296)]\n",
              "9898        reggiano  ...                                                                         [(2989, 3.4756711883244296)]\n",
              "9899  javaconoscenza  ...                                                                         [(2989, 3.4756711883244296)]\n",
              "\n",
              "[9900 rows x 3 columns]"
            ]
          },
          "metadata": {},
          "execution_count": 147
        }
      ]
    },
    {
      "cell_type": "code",
      "metadata": {
        "id": "toQTEe8BGzax"
      },
      "source": [
        "df_index.to_csv('/tmp/output_index.csv', index=False)"
      ],
      "execution_count": 148,
      "outputs": []
    },
    {
      "cell_type": "markdown",
      "metadata": {
        "id": "P05X2CEWH7_o"
      },
      "source": [
        "*NOTE 1:* \n",
        "\n",
        "Keep the structure of such a form seems to be not convenient in a sense of organizing search. One of the **alternative** options might be to keep the document index as a column name, and tf-idf as a value on the intersection term and document index. \n",
        "\n",
        "Then, to perform a search, one just need to derive a cell of a table, but: \n",
        "\n",
        "1) That would be a complete search table and **not** what is called **\"inverted index\"**; \n",
        "\n",
        "2) This will be **time** consuming on the stage of loading data to the table; \n",
        "\n",
        "3) Neither it's optimal from point of view of **memory** consumption."
      ]
    },
    {
      "cell_type": "markdown",
      "metadata": {
        "id": "M07-d__MLDgT"
      },
      "source": [
        "*NOTE 2:* \n",
        "\n",
        "**One more alternative** would be to do as we have done during Spark Lab, i.e. don't keep term as a unique row, but **keep as many rows as documents**, containing this term, each with it's own index. Then, to derive information regarding each document (e.d. document norm) would be easier, but that's not exactly inverted index, discussed during classes.\n"
      ]
    },
    {
      "cell_type": "markdown",
      "metadata": {
        "id": "TWYf7NkOLF1h"
      },
      "source": [
        "*NEVERTHELESS:*\n",
        "\n",
        "We still can organized search in a quite effective way, as it's shown in the following chapter. Indeed, the slowes part of the framework is a computation of documents norms, because in such settings information about particular document is not easily available. But all documents norms do not depend on a query and could be precomputed once."
      ]
    },
    {
      "cell_type": "markdown",
      "metadata": {
        "id": "swHbg4x9LYNo"
      },
      "source": [
        "## 2. Query"
      ]
    },
    {
      "cell_type": "markdown",
      "metadata": {
        "id": "dCESvT_lYj1F"
      },
      "source": [
        "In the **query processing** part we take a **query as a string**, and then convert it to a Pandas Series to be able to apply the same preprocessing function as to the documents (it takes as input column of a DataFrame). Then, to the preprocessed query we apply `count()` to derive **query term frequencies**."
      ]
    },
    {
      "cell_type": "markdown",
      "metadata": {
        "id": "JND_DlfjaByT"
      },
      "source": [
        "With a goal to find the closest to the query documents, we need to compute **cosine similarity** between each document and query using the following formula:\n",
        "\n",
        "\\begin{align}\n",
        "cos(\\mathbf{q}, \\mathbf{d_i}) = \\frac{\\sum_{j=1}^m tf-idf_{qj} \\cdot tf-idf_{ij}}{||\\mathbf{q}||_2 \\cdot ||\\mathbf{d_i}||_2} \\forall i \\in \\{1,...,n\\},\n",
        "\\end{align}\n",
        "\n",
        "where $\\mathbf{q}$ is a query vector, represented by its $tf-idf_{qj}$ $\\forall j \\in \\{1,...,m\\}$, and $||\\mathbf{q}||_2$ $-$ its norm, \n",
        "\n",
        "$\\mathbf{d_i}$ is a document vector, represented by its $tf-idf_{ij}$ $\\forall j \\in \\{1,...,m\\}$, and $||\\mathbf{d_i}||_2$ $-$ its norm,\n",
        "\n",
        "$m$ $-$ number of terms, $n$ $-$ number of documents."
      ]
    },
    {
      "cell_type": "markdown",
      "metadata": {
        "id": "OySi75F5d7d9"
      },
      "source": [
        "Cycle in a cell below computes **numerator** part of the formula for each document and saves in a dictionary `docs_tf_idf`, \n",
        "\n",
        "where key $-$ DOCUMENT INDEX, value $-$ NUMERATOR, computed for the document with this index."
      ]
    },
    {
      "cell_type": "code",
      "metadata": {
        "colab": {
          "base_uri": "https://localhost:8080/"
        },
        "id": "zQuysu4Tiwij",
        "outputId": "a5547a41-f32b-412b-dfaf-a7db4903820c"
      },
      "source": [
        "tagger = treetaggerwrapper.TreeTagger(TAGLANG=\"it\", TAGDIR='treetagger/')\n",
        "\n",
        "q = 'Editor video con con approfondita e documentata esperienza si ricerca per posizione interna alla struttura; si richiede 1) conoscenza approfondita di Premiere e After Effects, basilare conoscenza di Davinci, residenza entro 15 km da Novara\\nSe interessati e in possesso di tutti i requisiti inviare un curriculum a Job AT giuseppegalliano.it e link a proprio show reel.'\n",
        "q = pd.Series(q)\n",
        "preprocessed_q = column_preprocessing(q)\n",
        "q_tf = count(preprocessed_q[0])\n",
        "\n",
        "print(\"QUERY\\n\", dict(q_tf))\n",
        "\n",
        "docs_tf_idf = dict()\n",
        "#iterating over only terms containing in query, because for other terms query tf-idf is equal to 0\n",
        "for (q_key, q_tf) in dict(q_tf).items():\n",
        "  #we have query tf, now to compute tf-idf we need also to get idf fpt each query term, which is stored in index table\n",
        "  idf = df_index[df_index['Term']==q_key]['IDF'].values\n",
        "  #iterating over all the documents, containing given query term, we get their tf-idf, multiply by query tf-idf of a corresponding term and save\n",
        "  for (doc_id, doc_tf_idf) in list(df_index[df_index['Term']==q_key]['Docs'])[0]:\n",
        "    if doc_id not in docs_tf_idf.keys():\n",
        "      docs_tf_idf[doc_id] = float(doc_tf_idf*q_tf*idf)\n",
        "    else:\n",
        "      docs_tf_idf[doc_id] += float(doc_tf_idf*q_tf*idf)\n",
        "\n",
        "print(\"\\nDICTIONARY 10 LAST ITEMS\")\n",
        "list(docs_tf_idf.items())[-10:]"
      ],
      "execution_count": 149,
      "outputs": [
        {
          "output_type": "stream",
          "name": "stdout",
          "text": [
            "QUERY\n",
            " {'editor': 1, 'video': 1, 'approfondito': 1, 'documentato': 1, 'esperienza': 1, 'ricerca': 1, 'posizione': 1, 'interno': 1, 'struttura': 1, 'richiedere': 1, '1': 1, 'conoscenza': 2, 'approfondire': 1, 'premiere': 1, 'effect': 1, 'basilare': 1, 'davinci': 1, 'residenza': 1, 'entro': 1, '15': 1, 'km': 1, 'novara': 1, 'interessato': 1, 'possesso': 1, 'requisito': 1, 'inviare': 1, 'curriculum': 1, 'job': 1, 'giuseppegallianoit': 1, 'link': 1, 'proprio': 1, 'show': 1, 'reel': 1}\n",
            "\n",
            "DICTIONARY 10 LAST ITEMS\n"
          ]
        },
        {
          "output_type": "execute_result",
          "data": {
            "text/plain": [
              "[(2944, 0.06740641063712674),\n",
              " (1044, 4.563291268203765),\n",
              " (2906, 1.7843405395603822),\n",
              " (2851, 3.77988358771334),\n",
              " (390, 0.047520779521047905),\n",
              " (642, 0.047520779521047905),\n",
              " (1052, 0.9263169095477944),\n",
              " (1812, 0.9263169095477944),\n",
              " (2388, 1.8526338190955889),\n",
              " (2870, 0.9263169095477944)]"
            ]
          },
          "metadata": {},
          "execution_count": 149
        }
      ]
    },
    {
      "cell_type": "markdown",
      "metadata": {
        "id": "Up_zWr6wmDqF"
      },
      "source": [
        "Now, we need also **norms of documents vectors** to complete the formula. For each document we are interested in, we are checking all the rows of the index. \n",
        "\n",
        "    If the document was contained in the row: we infer its tf-idf,\n",
        "\n",
        "    else: we fill the corresponding value with 0.\n",
        "\n",
        "Then we clean out all the zeros and compute Euclidian **norm** of a vector. \n",
        "\n",
        "Result of the computations is saved again in the dictionary, which is called `docs_norms` and has a form: \n",
        "\n",
        "key $-$ DOCUMENT INDEX, value $-$ NORM of a document computed for the document with this index."
      ]
    },
    {
      "cell_type": "code",
      "metadata": {
        "colab": {
          "base_uri": "https://localhost:8080/"
        },
        "id": "DCeEeKehoR4G",
        "outputId": "e7a8135e-7d50-46c3-9636-7b09cf1301eb"
      },
      "source": [
        "docs_norms = dict()\n",
        "for doc_id in tqdm(list(docs_tf_idf.keys())):\n",
        "  doc_coords = df_index['Docs'].apply(lambda x: sum([tf_idf if index==doc_id else 0 for (index, tf_idf) in x]))\n",
        "  doc_coords = doc_coords[doc_coords>0]\n",
        "  doc_coords = doc_coords.apply(lambda x: x**2)\n",
        "  docs_norms[doc_id] = math.sqrt(doc_coords.sum())"
      ],
      "execution_count": 150,
      "outputs": [
        {
          "output_type": "stream",
          "name": "stderr",
          "text": [
            "100%|██████████| 2763/2763 [01:54<00:00, 24.10it/s]\n"
          ]
        }
      ]
    },
    {
      "cell_type": "markdown",
      "metadata": {
        "id": "VQO3aH0Ho48Z"
      },
      "source": [
        "Finally, we can **join** two dictionaries corresponding to the **numerator** **and denominator** parts of the formula of cosine similarities.\n"
      ]
    },
    {
      "cell_type": "code",
      "metadata": {
        "id": "LliHDT_H0s4v"
      },
      "source": [
        "similarities = dict()\n",
        "for (doc_id, doc_tf_idf) in docs_tf_idf.items():\n",
        "  similarities[doc_id] = doc_tf_idf/docs_norms[doc_id]"
      ],
      "execution_count": 151,
      "outputs": []
    },
    {
      "cell_type": "markdown",
      "metadata": {
        "id": "2XXuxtYJqMsh"
      },
      "source": [
        "**Sorting similarities** by the value in descinding order and printing **top-5** items, we retrieve indices of the document, closes to the query.\n",
        "\n",
        "*NOTE:* \n",
        "\n",
        "In fact, not cosine similarities, but cosine similarities, multiplied by the norm of the query, have been computed. We never compute norm of a query, since it's the same for all documents and doesn't influence on the result of comparison. That's why final values of similarities are greater than 1."
      ]
    },
    {
      "cell_type": "code",
      "metadata": {
        "colab": {
          "base_uri": "https://localhost:8080/"
        },
        "id": "2_Y5y9wc3n96",
        "outputId": "b686491c-287a-4011-8317-94eff6979a56"
      },
      "source": [
        "sorted_tuples = sorted(similarities.items(), key=lambda item: item[1], reverse=True)\n",
        "top_5 = sorted_tuples[:5]\n",
        "print(\"TOP-5\\n\", top_5)"
      ],
      "execution_count": 152,
      "outputs": [
        {
          "output_type": "stream",
          "name": "stdout",
          "text": [
            "TOP-5\n",
            " [(0, 10.869276542141431), (389, 10.423592452961877), (463, 1.5112248886569895), (2559, 1.3331854724491985), (555, 1.2310618249902723)]\n"
          ]
        }
      ]
    },
    {
      "cell_type": "markdown",
      "metadata": {
        "id": "leE8UItHsKcf"
      },
      "source": [
        "Now, we can find **top-5 announcements** correponding to found indices in the merged DataFrame and analyze them."
      ]
    },
    {
      "cell_type": "code",
      "metadata": {
        "colab": {
          "base_uri": "https://localhost:8080/"
        },
        "id": "UNF4MlGA3pJ8",
        "outputId": "39053d1c-df7a-49b9-e98a-0c325f199fa3"
      },
      "source": [
        "pd.set_option('display.max_colwidth', 1000)\n",
        "for (index, similarity) in top_5:\n",
        "  print(df_search_merged[df_search_merged.index==index]['Announcement'])"
      ],
      "execution_count": 159,
      "outputs": [
        {
          "output_type": "stream",
          "name": "stdout",
          "text": [
            "0    {'editor': 2, 'premiere': 2, 'videografico': 1, 'effect': 2, 'video': 1, 'approfondito': 1, 'documentato': 1, 'esperienza': 1, 'ricerca': 1, 'posizione': 1, 'interno': 1, 'struttura': 1, 'richiedere': 1, '1': 1, 'conoscenza': 2, 'approfondire': 1, 'basilare': 1, 'davinci': 1, 'residenza': 1, 'entro': 1, '15': 1, 'km': 1, 'novara': 2, 'interessato': 1, 'possesso': 1, 'requisito': 1, 'inviare': 1, 'curriculum': 1, 'job': 1, 'giuseppegallianoit': 1, 'link': 1, 'proprio': 1, 'show': 1, 'reel': 1}\n",
            "Name: Announcement, dtype: object\n",
            "389    {'copywriter': 2, 'esperto': 2, 'settore': 2, 'esperienza': 4, 'gastronomico': 2, 'cercare': 1, 'blog': 1, 'inerente': 2, 'redazione': 1, 'settimanale': 2, 'articolo': 1, 'nonché': 1, 'newsletter': 1, 'sempre': 1, 'gusto': 1, 'richiedere': 1, 'pregresso': 1, 'milano': 1}\n",
            "Name: Announcement, dtype: object\n",
            "463    {'lavoro': 1, 'part': 1, 'time': 1, 'giovane': 1, 'apprendista': 1, 'cliccare': 1, 'link': 1, 'sottostante': 1, 'sito': 1, 'web': 1, 'inviare': 1, 'candidatura': 1, 'caserta': 1}\n",
            "Name: Announcement, dtype: object\n",
            "2559    {'personale': 1, 'part': 1, 'time': 1, '650': 1, 'mese': 1, 'napoli': 2, 'cliccare': 1, 'link': 1, 'sottostante': 1, 'sito': 1, 'web': 1, 'inviare': 1, 'candidatura': 1}\n",
            "Name: Announcement, dtype: object\n",
            "555    {'ultimo': 1, '5': 1, 'posto': 1, 'disp': 1, 'mattina': 1, 'fisso': 1, '550': 1, 'plus': 1, 'bounus': 1, 'cliccare': 1, 'link': 1, 'sottostante': 1, 'sito': 1, 'web': 1, 'inviare': 1, 'candidatura': 1, 'napoli': 1}\n",
            "Name: Announcement, dtype: object\n"
          ]
        }
      ]
    },
    {
      "cell_type": "markdown",
      "metadata": {
        "id": "vB4C5EO8sr_5"
      },
      "source": [
        "Or to check up what were initial whole announcements."
      ]
    },
    {
      "cell_type": "code",
      "metadata": {
        "colab": {
          "base_uri": "https://localhost:8080/"
        },
        "id": "fWV-wT0m8T0P",
        "outputId": "3429fd64-8483-482b-c820-177033a6882b"
      },
      "source": [
        "for (index, similarity) in top_5:\n",
        "  print(df[df.index==index].values)"
      ],
      "execution_count": 154,
      "outputs": [
        {
          "output_type": "stream",
          "name": "stdout",
          "text": [
            "[['Editor Premiere - videografico-a After Effects'\n",
            "  'Editor video con con approfondita e documentata esperienza si ricerca per posizione interna alla struttura; si richiede 1) conoscenza approfondita di Premiere e After Effects, basilare conoscenza di Davinci, residenza entro 15 km da Novara\\nSe interessati e in possesso di tutti i requisiti inviare un curriculum a Job AT giuseppegalliano.it e link a proprio show reel.'\n",
            "  'Novara' '31 agosto, 19:02'\n",
            "  'https://www.kijiji.it/annunci/offerta/messina-annunci-novara-di-sicilia/editor-premiere-videografico-a-after-effects/159299183']]\n",
            "[['Video Editor Premiere'\n",
            "  'Editor video con con documentata esperienza si ricerca per posizione interna alla struttura; si richiede 1) conoscenza approfondita di Premiere 2) discreta conoscenza di Davinci 3) basilare conoscenza di After Effects. Indispensabile residenza entro 15 km da Novara\\nSe interessati e in possesso di tutti i requisiti inviare un curriculum a Job AT giuseppegalliano.it e link a proprio show reel.'\n",
            "  'Novara' '25 ottobre, 12:43'\n",
            "  'https://www.kijiji.it/annunci/offerta/novara-annunci-novara/video-editor-premiere/167407426']]\n",
            "[['Graphic Designer 3D'\n",
            "  'Descrizione: creazioni grafiche 3D.\\n\\nCaratteristiche: padronanza software per modellazione 3D, creatività e cura del dettaglio.\\n\\nVerrà valutato esclusivamente il CV caricato sul \"Lavora con noi\" di Moka Adv.\\n\\nRequisiti: il CV deve necessariamente essere corredato da foto. Non verranno presi in considerazione profili che non abbiano inviato portfolio o show reel.\\n\\n1 - I candidati selezionati faranno un video colloquio.\\n2 - A seguire un colloquio frontale.'\n",
            "  'Catania' '23 ottobre, 11:36'\n",
            "  'https://www.kijiji.it/annunci/offerta/catania-annunci-catania/graphic-designer-3d/167354986']]\n",
            "[['Programmatore tecnico informatico'\n",
            "  \"Operatore telefonico regionale, ricerca personale per sviluppo portali di e-commerce ed applicativi web per gestione centralini Asterisk. Ottima conoscenza: HTML, JAVASCRIPT, CSS, PHP, MYSQL, Wordpress, Linux, JQWERY. Ricerca anche tecnici per gestione server e networking. E' gradita esperienza nel ruolo. Ambosessi automuniti. Retribuzione ed inquadramento commisurati all'esperienza. Inviare riferimenti (mail e telefono) per contatto ed appuntamento in sede a Novara.\"\n",
            "  'Novara' '20 settembre, 10:37'\n",
            "  'https://www.kijiji.it/annunci/offerta/novara-annunci-novara/programmatore-tecnico-informatico/122522925']]\n",
            "[['Grafico/a'\n",
            "  'WBIG con sede a Genova, ricerca giovane grafico/a, che conosca e sappia usare i seguenti programmi specifici.\\n - Realizzazione grafiche per diversi materiali di comunicazione: siti ..brochure, cataloghi, promozioniâ€¦\\n - Esperienza in Graphic Designer: ottima conoscenza \\n adobe illustrator, in design, Photoshop\\n -Video Maker : ottima conoscenza after effect e premiere\\n ( o simili ) \\n - Ottima conoscenza adobe illustrator, in design, \\n Photoshop\\n - Autonomia e spirito organizzativo, predisposizione al \\n lavoro di gruppo\\n - Spiccate doti di creatività\\n - Dinamismo\\n - Forte motivazione\\nOffriamo:\\n - Contratto stage di prova, gradita P.I.\\n - Possibilità orari flessibili e lavoro da casa\\n \\nPer colloquio conoscitivo inviare C.V. \\n'\n",
            "  'Genova' '22 ottobre, 13:54'\n",
            "  'https://www.kijiji.it/annunci/offerta/genova-annunci-genova/grafico-a/167345569']]\n"
          ]
        }
      ]
    },
    {
      "cell_type": "markdown",
      "metadata": {
        "id": "lALWpzfNtK7B"
      },
      "source": [
        "## 3. Screenshots"
      ]
    },
    {
      "cell_type": "markdown",
      "metadata": {
        "id": "1wg29CwWuOS4"
      },
      "source": [
        "Let's collect all the stages of the search by the query in a single function to call it with different queries."
      ]
    },
    {
      "cell_type": "code",
      "metadata": {
        "id": "WvoUu7Urr9Wl"
      },
      "source": [
        "tagger = treetaggerwrapper.TreeTagger(TAGLANG=\"it\", TAGDIR='treetagger/')\n",
        "\n",
        "def search(q):\n",
        "\n",
        "  q = pd.Series(q)\n",
        "  preprocessed_q = column_preprocessing(q)\n",
        "  q_tf = count(preprocessed_q[0])\n",
        "\n",
        "  docs_tf_idf = dict()\n",
        "  #iterating over only terms containing in query, because for other terms query tf-idf is equal to 0\n",
        "  for (q_key, q_tf) in dict(q_tf).items():\n",
        "    #we have query tf, now to compute tf-idf we need also to get idf fpt each query term, which is stored in index table\n",
        "    idf = df_index[df_index['Term']==q_key]['IDF'].values\n",
        "    #iterating over all the documents, containing given query term, we get their tf-idf, multiply by query tf-idf of a corresponding term and save\n",
        "    for (doc_id, doc_tf_idf) in list(df_index[df_index['Term']==q_key]['Docs'])[0]:\n",
        "      if doc_id not in docs_tf_idf.keys():\n",
        "        docs_tf_idf[doc_id] = float(doc_tf_idf*q_tf*idf)\n",
        "      else:\n",
        "        docs_tf_idf[doc_id] += float(doc_tf_idf*q_tf*idf)\n",
        "\n",
        "  docs_norms = dict()\n",
        "  for doc_id in tqdm(list(docs_tf_idf.keys())):\n",
        "    doc_coords = df_index['Docs'].apply(lambda x: sum([tf_idf if index==doc_id else 0 for (index, tf_idf) in x]))\n",
        "    doc_coords = doc_coords[doc_coords>0]\n",
        "    doc_coords = doc_coords.apply(lambda x: x**2)\n",
        "    docs_norms[doc_id] = math.sqrt(doc_coords.sum())\n",
        "\n",
        "  similarities = dict()\n",
        "  for (doc_id, doc_tf_idf) in docs_tf_idf.items():\n",
        "    similarities[doc_id] = doc_tf_idf/docs_norms[doc_id]\n",
        "\n",
        "  sorted_tuples = sorted(similarities.items(), key=lambda item: item[1], reverse=True)\n",
        "  top_5 = sorted_tuples[:5]\n",
        "  print(\"TOP-5\\n\", top_5)\n",
        "\n",
        "  pd.set_option('display.max_colwidth', 1000)\n",
        "  for (index, similarity) in top_5:\n",
        "    print(df_search_merged[df_search_merged.index==index]['Announcement'])\n",
        "\n",
        "  for (index, similarity) in top_5:\n",
        "    print(df[df.index==index].values)"
      ],
      "execution_count": 160,
      "outputs": []
    },
    {
      "cell_type": "markdown",
      "metadata": {
        "id": "LKMFOuNPvYuw"
      },
      "source": [
        "### 3.1 Query 1\n",
        "**Idea:** \n",
        "\n",
        "Simple test if we take as a query actual description of one of the announcement, we expect to get in the result index of this annoucement. Let's take the part of the content of the Description field of the announcement with index 0.\n",
        "\n",
        "**Result:** \n",
        "\n",
        "Indeed, announcement with index 0 is recommended as top-1 annoucement. Although the following in top-2 announcement (index 389) has close value of cosine similarity (up to query norm), this is correct, because the contents are similar as well."
      ]
    },
    {
      "cell_type": "code",
      "metadata": {
        "colab": {
          "base_uri": "https://localhost:8080/"
        },
        "id": "gikwm4vVuED1",
        "outputId": "99bf3d51-3299-4c93-db66-e2ec0b273f32"
      },
      "source": [
        "q1 = 'Editor video con con approfondita e documentata esperienza si ricerca per posizione interna alla struttura; si richiede 1) conoscenza approfondita di Premiere e After Effects, basilare conoscenza di Davinci, residenza entro 15 km da Novara\\nSe interessati e in possesso di tutti i requisiti inviare un curriculum a Job AT giuseppegalliano.it e link a proprio show reel.'\n",
        "search(q1)"
      ],
      "execution_count": 161,
      "outputs": [
        {
          "output_type": "stream",
          "name": "stderr",
          "text": [
            "100%|██████████| 2763/2763 [01:49<00:00, 25.28it/s]"
          ]
        },
        {
          "output_type": "stream",
          "name": "stdout",
          "text": [
            "TOP-5\n",
            " [(0, 10.869276542141431), (389, 10.423592452961877), (463, 1.5112248886569895), (2559, 1.3331854724491985), (555, 1.2310618249902723)]\n",
            "0    {'editor': 2, 'premiere': 2, 'videografico': 1, 'effect': 2, 'video': 1, 'approfondito': 1, 'documentato': 1, 'esperienza': 1, 'ricerca': 1, 'posizione': 1, 'interno': 1, 'struttura': 1, 'richiedere': 1, '1': 1, 'conoscenza': 2, 'approfondire': 1, 'basilare': 1, 'davinci': 1, 'residenza': 1, 'entro': 1, '15': 1, 'km': 1, 'novara': 2, 'interessato': 1, 'possesso': 1, 'requisito': 1, 'inviare': 1, 'curriculum': 1, 'job': 1, 'giuseppegallianoit': 1, 'link': 1, 'proprio': 1, 'show': 1, 'reel': 1}\n",
            "Name: Announcement, dtype: object\n",
            "389    {'copywriter': 2, 'esperto': 2, 'settore': 2, 'esperienza': 4, 'gastronomico': 2, 'cercare': 1, 'blog': 1, 'inerente': 2, 'redazione': 1, 'settimanale': 2, 'articolo': 1, 'nonché': 1, 'newsletter': 1, 'sempre': 1, 'gusto': 1, 'richiedere': 1, 'pregresso': 1, 'milano': 1}\n",
            "Name: Announcement, dtype: object\n",
            "463    {'lavoro': 1, 'part': 1, 'time': 1, 'giovane': 1, 'apprendista': 1, 'cliccare': 1, 'link': 1, 'sottostante': 1, 'sito': 1, 'web': 1, 'inviare': 1, 'candidatura': 1, 'caserta': 1}\n",
            "Name: Announcement, dtype: object\n",
            "2559    {'personale': 1, 'part': 1, 'time': 1, '650': 1, 'mese': 1, 'napoli': 2, 'cliccare': 1, 'link': 1, 'sottostante': 1, 'sito': 1, 'web': 1, 'inviare': 1, 'candidatura': 1}\n",
            "Name: Announcement, dtype: object\n",
            "555    {'ultimo': 1, '5': 1, 'posto': 1, 'disp': 1, 'mattina': 1, 'fisso': 1, '550': 1, 'plus': 1, 'bounus': 1, 'cliccare': 1, 'link': 1, 'sottostante': 1, 'sito': 1, 'web': 1, 'inviare': 1, 'candidatura': 1, 'napoli': 1}\n",
            "Name: Announcement, dtype: object\n",
            "[['Editor Premiere - videografico-a After Effects'\n",
            "  'Editor video con con approfondita e documentata esperienza si ricerca per posizione interna alla struttura; si richiede 1) conoscenza approfondita di Premiere e After Effects, basilare conoscenza di Davinci, residenza entro 15 km da Novara\\nSe interessati e in possesso di tutti i requisiti inviare un curriculum a Job AT giuseppegalliano.it e link a proprio show reel.'\n",
            "  'Novara' '31 agosto, 19:02'\n",
            "  'https://www.kijiji.it/annunci/offerta/messina-annunci-novara-di-sicilia/editor-premiere-videografico-a-after-effects/159299183']]\n",
            "[['Video Editor Premiere'\n",
            "  'Editor video con con documentata esperienza si ricerca per posizione interna alla struttura; si richiede 1) conoscenza approfondita di Premiere 2) discreta conoscenza di Davinci 3) basilare conoscenza di After Effects. Indispensabile residenza entro 15 km da Novara\\nSe interessati e in possesso di tutti i requisiti inviare un curriculum a Job AT giuseppegalliano.it e link a proprio show reel.'\n",
            "  'Novara' '25 ottobre, 12:43'\n",
            "  'https://www.kijiji.it/annunci/offerta/novara-annunci-novara/video-editor-premiere/167407426']]\n",
            "[['Graphic Designer 3D'\n",
            "  'Descrizione: creazioni grafiche 3D.\\n\\nCaratteristiche: padronanza software per modellazione 3D, creatività e cura del dettaglio.\\n\\nVerrà valutato esclusivamente il CV caricato sul \"Lavora con noi\" di Moka Adv.\\n\\nRequisiti: il CV deve necessariamente essere corredato da foto. Non verranno presi in considerazione profili che non abbiano inviato portfolio o show reel.\\n\\n1 - I candidati selezionati faranno un video colloquio.\\n2 - A seguire un colloquio frontale.'\n",
            "  'Catania' '23 ottobre, 11:36'\n",
            "  'https://www.kijiji.it/annunci/offerta/catania-annunci-catania/graphic-designer-3d/167354986']]\n",
            "[['Programmatore tecnico informatico'\n",
            "  \"Operatore telefonico regionale, ricerca personale per sviluppo portali di e-commerce ed applicativi web per gestione centralini Asterisk. Ottima conoscenza: HTML, JAVASCRIPT, CSS, PHP, MYSQL, Wordpress, Linux, JQWERY. Ricerca anche tecnici per gestione server e networking. E' gradita esperienza nel ruolo. Ambosessi automuniti. Retribuzione ed inquadramento commisurati all'esperienza. Inviare riferimenti (mail e telefono) per contatto ed appuntamento in sede a Novara.\"\n",
            "  'Novara' '20 settembre, 10:37'\n",
            "  'https://www.kijiji.it/annunci/offerta/novara-annunci-novara/programmatore-tecnico-informatico/122522925']]\n",
            "[['Grafico/a'\n",
            "  'WBIG con sede a Genova, ricerca giovane grafico/a, che conosca e sappia usare i seguenti programmi specifici.\\n - Realizzazione grafiche per diversi materiali di comunicazione: siti ..brochure, cataloghi, promozioniâ€¦\\n - Esperienza in Graphic Designer: ottima conoscenza \\n adobe illustrator, in design, Photoshop\\n -Video Maker : ottima conoscenza after effect e premiere\\n ( o simili ) \\n - Ottima conoscenza adobe illustrator, in design, \\n Photoshop\\n - Autonomia e spirito organizzativo, predisposizione al \\n lavoro di gruppo\\n - Spiccate doti di creatività\\n - Dinamismo\\n - Forte motivazione\\nOffriamo:\\n - Contratto stage di prova, gradita P.I.\\n - Possibilità orari flessibili e lavoro da casa\\n \\nPer colloquio conoscitivo inviare C.V. \\n'\n",
            "  'Genova' '22 ottobre, 13:54'\n",
            "  'https://www.kijiji.it/annunci/offerta/genova-annunci-genova/grafico-a/167345569']]\n"
          ]
        },
        {
          "output_type": "stream",
          "name": "stderr",
          "text": [
            "\n"
          ]
        }
      ]
    },
    {
      "cell_type": "code",
      "metadata": {
        "colab": {
          "base_uri": "https://localhost:8080/",
          "height": 165
        },
        "id": "eXAmUmviuLW3",
        "outputId": "01e8234f-34a1-4618-ec51-d65976969611"
      },
      "source": [
        "df[df.index==0]"
      ],
      "execution_count": 163,
      "outputs": [
        {
          "output_type": "execute_result",
          "data": {
            "text/html": [
              "<div>\n",
              "<style scoped>\n",
              "    .dataframe tbody tr th:only-of-type {\n",
              "        vertical-align: middle;\n",
              "    }\n",
              "\n",
              "    .dataframe tbody tr th {\n",
              "        vertical-align: top;\n",
              "    }\n",
              "\n",
              "    .dataframe thead th {\n",
              "        text-align: right;\n",
              "    }\n",
              "</style>\n",
              "<table border=\"1\" class=\"dataframe\">\n",
              "  <thead>\n",
              "    <tr style=\"text-align: right;\">\n",
              "      <th></th>\n",
              "      <th>Title</th>\n",
              "      <th>Description</th>\n",
              "      <th>Location</th>\n",
              "      <th>Publication Date</th>\n",
              "      <th>URL</th>\n",
              "    </tr>\n",
              "  </thead>\n",
              "  <tbody>\n",
              "    <tr>\n",
              "      <th>0</th>\n",
              "      <td>Editor Premiere - videografico-a After Effects</td>\n",
              "      <td>Editor video con con approfondita e documentata esperienza si ricerca per posizione interna alla struttura; si richiede 1) conoscenza approfondita di Premiere e After Effects, basilare conoscenza di Davinci, residenza entro 15 km da Novara\\nSe interessati e in possesso di tutti i requisiti inviare un curriculum a Job AT giuseppegalliano.it e link a proprio show reel.</td>\n",
              "      <td>Novara</td>\n",
              "      <td>31 agosto, 19:02</td>\n",
              "      <td>https://www.kijiji.it/annunci/offerta/messina-annunci-novara-di-sicilia/editor-premiere-videografico-a-after-effects/159299183</td>\n",
              "    </tr>\n",
              "  </tbody>\n",
              "</table>\n",
              "</div>"
            ],
            "text/plain": [
              "                                            Title  ...                                                                                                                             URL\n",
              "0  Editor Premiere - videografico-a After Effects  ...  https://www.kijiji.it/annunci/offerta/messina-annunci-novara-di-sicilia/editor-premiere-videografico-a-after-effects/159299183\n",
              "\n",
              "[1 rows x 5 columns]"
            ]
          },
          "metadata": {},
          "execution_count": 163
        }
      ]
    },
    {
      "cell_type": "code",
      "metadata": {
        "colab": {
          "base_uri": "https://localhost:8080/",
          "height": 165
        },
        "id": "3YMdQ72cvqLe",
        "outputId": "473f3f9a-9394-492d-a697-7559b01770e5"
      },
      "source": [
        "df[df.index==389]"
      ],
      "execution_count": 164,
      "outputs": [
        {
          "output_type": "execute_result",
          "data": {
            "text/html": [
              "<div>\n",
              "<style scoped>\n",
              "    .dataframe tbody tr th:only-of-type {\n",
              "        vertical-align: middle;\n",
              "    }\n",
              "\n",
              "    .dataframe tbody tr th {\n",
              "        vertical-align: top;\n",
              "    }\n",
              "\n",
              "    .dataframe thead th {\n",
              "        text-align: right;\n",
              "    }\n",
              "</style>\n",
              "<table border=\"1\" class=\"dataframe\">\n",
              "  <thead>\n",
              "    <tr style=\"text-align: right;\">\n",
              "      <th></th>\n",
              "      <th>Title</th>\n",
              "      <th>Description</th>\n",
              "      <th>Location</th>\n",
              "      <th>Publication Date</th>\n",
              "      <th>URL</th>\n",
              "    </tr>\n",
              "  </thead>\n",
              "  <tbody>\n",
              "    <tr>\n",
              "      <th>389</th>\n",
              "      <td>Video Editor Premiere</td>\n",
              "      <td>Editor video con con documentata esperienza si ricerca per posizione interna alla struttura; si richiede 1) conoscenza approfondita di Premiere 2) discreta conoscenza di Davinci 3) basilare conoscenza di After Effects. Indispensabile residenza entro 15 km da Novara\\nSe interessati e in possesso di tutti i requisiti inviare un curriculum a Job AT giuseppegalliano.it e link a proprio show reel.</td>\n",
              "      <td>Novara</td>\n",
              "      <td>25 ottobre, 12:43</td>\n",
              "      <td>https://www.kijiji.it/annunci/offerta/novara-annunci-novara/video-editor-premiere/167407426</td>\n",
              "    </tr>\n",
              "  </tbody>\n",
              "</table>\n",
              "</div>"
            ],
            "text/plain": [
              "                     Title  ...                                                                                          URL\n",
              "389  Video Editor Premiere  ...  https://www.kijiji.it/annunci/offerta/novara-annunci-novara/video-editor-premiere/167407426\n",
              "\n",
              "[1 rows x 5 columns]"
            ]
          },
          "metadata": {},
          "execution_count": 164
        }
      ]
    },
    {
      "cell_type": "markdown",
      "metadata": {
        "id": "gzTygCDW1T02"
      },
      "source": [
        "### 3.2 Query 2\n",
        "**Idea:** \n",
        "\n",
        "Very short query with the name of specialization.\n",
        "\n",
        "**Result:** \n",
        "\n",
        "Indeed, the search seems to be Title-oriented: announcements with similar to query Titles are selected, meanwhile Description part of announcements is chosen as the shortest possible: no description, reference to web-page."
      ]
    },
    {
      "cell_type": "code",
      "metadata": {
        "colab": {
          "base_uri": "https://localhost:8080/"
        },
        "id": "wD7tse_51IPC",
        "outputId": "02f753f0-4508-454f-e990-c719a1997dae"
      },
      "source": [
        "q2 = 'software developer'\n",
        "search(q2)"
      ],
      "execution_count": 165,
      "outputs": [
        {
          "output_type": "stream",
          "name": "stderr",
          "text": [
            "100%|██████████| 502/502 [00:19<00:00, 25.15it/s]"
          ]
        },
        {
          "output_type": "stream",
          "name": "stdout",
          "text": [
            "TOP-5\n",
            " [(1286, 0.5242870506607974), (2791, 0.39704199105321714), (2240, 0.3675930210682385), (1634, 0.35021954493257523), (2624, 0.3303452821462126)]\n",
            "1286    {'poartime': 1, 'disponibilita': 1, 'immmediare': 1, '6h': 1, 'gg': 1, '800': 1, 'cliccare': 1, 'link': 1, 'sottostante': 1, 'sito': 1, 'web': 1, 'inviare': 1, 'candidatura': 1, 'caserta': 1}\n",
            "Name: Announcement, dtype: object\n",
            "2791    {'team': 1, 'leader': 1, 'esperienza': 1, 'melito': 1, 'napoli': 2, 'cliccare': 1, 'link': 1, 'sottostante': 1, 'sito': 1, 'web': 1, 'inviare': 1, 'candidatura': 1}\n",
            "Name: Announcement, dtype: object\n",
            "2240    {'centralino': 2, 'receptionist': 1, 'risorsa': 1, 'svolgere': 1, 'mansione': 1, 'reception': 1, 'essere': 3, 'inoltre': 1, 'supporto': 1, 'allufficiare': 1, 'fornitorisi': 1, 'valutare': 1, 'candidatura': 2, 'preferibilmente': 1, 'possesso': 1, 'seguente': 1, 'requisito': 1, 'età': 1, 'comprendere': 1, '18': 1, '29': 1, 'anno': 1, 'minimo': 1, 'esperienza': 1, 'lavorativo': 1, 'conoscenza': 4, 'mondo': 1, 'lavoro': 6, 'diploma': 1, 'ragioneria': 1, 'studio': 1, 'simile': 1, 'informatico': 1, 'pacchetto': 1, 'office': 1, 'preferibile': 1, 'gestionale': 1, 'sap': 1, 's400': 1, 'molto': 1, 'buono': 1, 'lingua': 1, 'inglese': 1, 'plus': 1, 'secondo': 1, 'linguaorario': 1, 'full': 1, 'time': 1, 'giornataluogo': 1, 'mestre': 1, 'vesi': 1, 'offrire': 1, 'contratto': 2, 'somministrazione': 1, 'diretto': 1, 'aziendale': 1, 'ricerca': 1, 'rivolgere': 1, 'candidato': 2, 'delluno': 1, 'dellaltro': 1, 'sesso': 1, 'senso': 1, '77': 1, '91': 1, 'invitare': 1, 'leggere': 1, 'pagina': 1, 'wwwadhri...\n",
            "Name: Announcement, dtype: object\n",
            "1634    {'part': 1, 'time': 1, '300x3h': 1, 'plus': 1, 'bonus': 1, 'mamma': 1, 'studente': 1, 'cliccare': 1, 'link': 1, 'sottostante': 1, 'sito': 1, 'web': 1, 'inviare': 1, 'candidatura': 1, 'napoli': 1}\n",
            "Name: Announcement, dtype: object\n",
            "2624    {'net': 3, 'full': 4, 'stack': 4, 'developer': 2, 'tsi': 1, 'srl': 1, 'società': 1, 'consolidatasi': 1, 'nellambiente': 1, 'romano': 1, 'essere': 3, 'ricerca': 2, 'figura': 1, 'requisito': 1, 'richiedere': 1, 'esperienza': 1, 'pregresso': 1, 'mansione': 2, 'competenza': 1, 'tecnologia': 1, 'microsoft': 1, 'csharp': 1, 'conoscenza': 3, 'applicativo': 1, 'aspnet': 1, 'entity': 1, 'framework': 1, 'mvc': 1, 'html': 2, 'jquery': 1, 'bootstrap': 1, 'database': 1, 'sqlserver': 1, 'cs': 1, 'javascript': 1, 'costituire': 1, 'titolo': 1, 'preferenziale': 1, 'altro': 1, 'open': 1, 'source': 1, 'completare': 1, 'profilo': 1, 'dote': 1, 'professionalità': 1, 'flessibilità': 1, 'autonomia': 1, 'rispetto': 1, 'tempistica': 1, 'offrire': 1, 'inserimento': 1, 'diretto': 1, 'azienda': 1, 'rivolgere': 1, 'candidato': 1, 'entrambi': 1, 'sesso': 1, 'legge': 1, '903': 1, '77': 1, 'dato': 1, 'trattare': 1, 'conservare': 1, 'esclusivamente': 1, 'fine': 1, 'presente': 1, 'futuro': 1, 'selezione': 1, 'garan...\n",
            "Name: Announcement, dtype: object\n",
            "[['Full stack developers'\n",
            "  '\\n\\nClicca sul link sottostante \"sito web\" per inviarci la tua candidatura.'\n",
            "  'Napoli' '13 ottobre, 04:06'\n",
            "  'https://www.kijiji.it/annunci/offerta/napoli-annunci-napoli/full-stack-developers/167066190']]\n",
            "[['Senior Software Developer'\n",
            "  \"TXT Group è un provider IT end-to-end internazionale di consulenza per soluzioni software e servizi, che supporta la trasformazione digitale dei prodotti e dei processi core dei clienti. Con un portafoglio software proprietario e una profonda esperienza nei domini verticali, TXT Group opera in diversi mercati, con un'impronta crescente nei settori aerospaziale, aeronautico, della difesa, industriale, governativo e fintech. La Capogruppo TXT e-solutions S.p.A. è quotata presso Borsa Italiana, al Segmento Star (TXT.MI), da luglio 2000. TXT Group ha sede a Milano e ha filiali in Italia, Germania, Regno Unito, Francia, Svizzera e Stati Uniti d'America.\\n\\nSenior Software Developer:\\n\\nTXT Group è alla ricerca di un Senior Software Developer, con almeno tre anni di esperienza, da inserire nella nostra\\xa0divisione\\xa0Training and Simulation.\\xa0\\n\\nLa risorsa lavorerà all'interno di un team dinamico e a carattere internazionale.\\xa0\\n\\nNello specifico, il candidato si occuperà di sviluppare, progettare e mantenere i software di alta qualità, in maniera coerente con le migliori pratiche e in accordo con le linee guida, le regole, i processi e le pratiche di sviluppo software del team.\\xa0\\n\\nPrincipali responsabilità:\\nAnalizzare i requisiti;\\nProgettare soluzioni software;\\nSviluppare software;\\nIntegrare software su target finale.\\n\\nCompetenze tecniche richieste:\\xa0\\nBuona conoscenza di C++;\\nBuona conoscenza dei concetti e della terminologia aerospaziale.\\xa0\\n\\nLa conoscenza di .NET sarà considerata un plus.\\n\\nFormazione richiesta: Laurea Triennale/Magistrale in Informatica o in Ingegneria Aerospaziale.\\n\\nCompletano il profilo la buona conoscenza della lingua inglese,\\xa0attitudine al lavoro in team, abilità di problem solving, capacità di rispettare le scadenze e di lavorare in autonomia.\\xa0\\n\\nOffriamo un\\xa0contratto a tempo indeterminato\\xa0e la possibilità di lavorare in un ambiente internazionale.\"\n",
            "  'Varese' '14 settembre, 11:44'\n",
            "  'https://www.kijiji.it/annunci/offerta/varese-annunci-varese/senior-software-developer/166374079']]\n",
            "[['Assistenza software'\n",
            "  '\\n\\nClicca sul link sottostante \"sito web\" per inviarci la tua candidatura.'\n",
            "  'Roma' '26 settembre, 03:22'\n",
            "  'https://www.kijiji.it/annunci/offerta/roma-annunci-roma/assistenza-software/166678461']]\n",
            "[['Java developer junior'\n",
            "  \"Si seleziona e ricerca n. 1 JAVA DEVELOPER JUNIOR su Roma per importante realtà nel settore di consulenza informatica.\\n\\n\\nAttività:\\nLa risorsa verrà inserita all'interno del team seguendo attività di progettazione e sviluppo software in ambito Java Enterprise.\\nSi occuperà, inoltre, di analisi di nuove funzionalità, manutenzione del software esistente e monitoraggio dell'architettura software.\\n\\nRequisiti:\\nIl candidato ideale ha maturato almeno 2 anni di esperienza in ruolo analogo ed ha una buona dimestichezza e conoscenza tecnica nello sviluppo e testing software con le seguenti tecnologie:\\nJava J2EE versione 7/8\\nSpring MVC e/o Spring Boot\\nServizi Rest\\nWebservices\\nApplication server tra questi: JBoss, WebSphere, WildFly, Tomcat\\nDatabase: Oracle/SQL server\\nMaven\\nGIT e/o SVN\"\n",
            "  'Roma' '7 ottobre, 14:45'\n",
            "  'https://www.kijiji.it/annunci/offerta/roma-annunci-roma/java-developer-junior/166957560']]\n",
            "[['Sviluppatori software'\n",
            "  '\\n\\nClicca sul link sottostante \"sito web\" per inviarci la tua candidatura.'\n",
            "  'Torino' '18 settembre, 04:08'\n",
            "  'https://www.kijiji.it/annunci/offerta/torino-annunci-torino/sviluppatori-software/166474637']]\n"
          ]
        },
        {
          "output_type": "stream",
          "name": "stderr",
          "text": [
            "\n"
          ]
        }
      ]
    },
    {
      "cell_type": "markdown",
      "metadata": {
        "id": "myaiHXA_2uUD"
      },
      "source": [
        "### 3.3 Query 3\n",
        "**Idea:** \n",
        "\n",
        "Very long query with the content, which does not correspond to any particular announcement (description of who is Java-developer in Italian).\n",
        "\n",
        "**Result:** \n",
        "\n",
        "Top-1 search result are courses of programming, all other candidates in top-5 also include the general content about the programming, which reflects the nature of a query correctly."
      ]
    },
    {
      "cell_type": "code",
      "metadata": {
        "colab": {
          "base_uri": "https://localhost:8080/"
        },
        "id": "BRRfAaOk1kvR",
        "outputId": "46522361-eeb5-4851-bc52-43b6db43e74b"
      },
      "source": [
        "q3 = 'Diventare programmatore informatico richiede una formazione tecnica molto specifica, ad esempio una laurea in Informatica, Ingegneria Informatica, Software Engineering. Esistono però anche corsi online e offline per studiare programmazione da autodidatta, imparando i vari linguaggi di programmazione in autonomia e preparando un portfolio con i progetti realizzati per dimostrare le proprie abilità nel coding.'\n",
        "search(q3)"
      ],
      "execution_count": 167,
      "outputs": [
        {
          "output_type": "stream",
          "name": "stderr",
          "text": [
            "100%|██████████| 1314/1314 [00:52<00:00, 25.12it/s]"
          ]
        },
        {
          "output_type": "stream",
          "name": "stdout",
          "text": [
            "TOP-5\n",
            " [(1807, 2.110456119644632), (2873, 1.5337882675587495), (2928, 1.3589919610105483), (922, 1.223458862642477), (1094, 1.2187270994087147)]\n",
            "1807    {'disegnatore': 1, 'junior': 2, 'importante': 1, 'società': 1, 'consulenza': 1, 'ingegneristica': 1, 'operante': 1, '36': 1, 'paese': 1, 'mondo': 1, 'stare': 1, 'selezionare': 1, 'undisegnatore': 1, 'riportare': 1, 'responsabile': 1, 'team': 1, 'progetto': 1, 'internazionale': 1, 'occupare': 1, 'redigere': 1, 'grafico': 1, 'struttura': 1, 'civile': 1, 'lavorare': 2, 'contesto': 1, 'sereno': 1, 'innovativo': 1, 'dinamico': 1, 'allinterno': 1, 'giovane': 1, 'affiatare': 1, 'grupporequisitidiploma': 1, 'laurea': 1, 'tecnicaconoscenza': 1, 'lingua': 1, 'inglese': 1, 'b1eccellente': 1, 'conoscenza': 1, 'autocaddisponibilità': 1, 'genova': 2, 'fuori': 1, 'sedecompetenza': 1, 'trasversalicapacità': 1, 'agire': 1, 'proattivamenteprecisione': 1, 'organizzazionecapacità': 1, 'analisi': 1, 'spirito': 1, 'criticocapacità': 1, 'gestire': 1, 'forte': 1, 'carico': 1, 'lavorosedegenovariporto': 1, 'gerarchicotitolareinquadramentopiva': 1, 'candidare': 1, 'scrivere': 1, 'vedere': 1, 'modalità': 1, ...\n",
            "Name: Announcement, dtype: object\n",
            "Series([], Name: Announcement, dtype: object)\n",
            "Series([], Name: Announcement, dtype: object)\n",
            "922    {'automation': 5, 'tester': 3, 'esprienza': 2, 'sviluppo': 6, 'python': 4, 'essere': 5, 'spindox': 3, 'energia': 1, 'puro': 1, 'intelligenza': 1, 'passione': 1, 'partner': 1, 'trasformazione': 2, 'digitale': 3, 'impresa': 1, 'italiano': 1, 'volere': 1, 'cambiare': 1, 'modo': 2, 'fare': 3, 'lavorare': 3, 'persona': 1, 'ingaggiare': 1, 'cliente': 4, 'gestire': 2, 'processo': 2, 'ideare': 1, 'prodotto': 1, 'servizio': 1, 'offrire': 2, 'avere': 1, 'lanima': 1, 'insieme': 1, 'trasparente': 1, 'responsabile': 1, 'consulenza': 1, 'design': 1, 'governance': 1, 'progetto': 1, 'system': 1, 'integration': 1, 'manutenzione': 1, 'applicativo': 1, 'gestione': 2, 'infrastruttura': 1, 'hardware': 1, 'software': 1, 'supportare': 1, 'allesercizio': 1, 'ingegneria': 1, 'telecomunicazione': 1, 'accompagnare': 1, 'tribù': 1, 'ognuna': 1, 'specifico': 1, 'missione': 1, 'sfida': 1, 'vincere': 1, 'approccio': 1, 'multidisciplinare': 1, 'là': 1, 'business': 1, 'organizzazione': 1, 'tecnologia': 1, 'incontr...\n",
            "Name: Announcement, dtype: object\n",
            "1094    {'programmatore': 1, 'software': 2, 'import': 1, 'consulting': 1, 'essere': 4, 'società': 1, 'offrire': 1, 'consulenza': 1, 'ambito': 2, 'sap': 4, 'ente': 1, 'pubblico': 1, 'privato': 1, 'pmi': 1, 'grande': 1, 'azienda': 2, 'sistema': 1, 'erp': 1, 'enterprise': 1, 'resource': 1, 'planning': 1, 'potente': 1, 'utilizzare': 1, 'ãˆ': 1, 'gestionale': 1, 'gestire': 1, 'processo': 2, 'qualunque': 1, 'settore': 1, 'economico': 1, 'contabilità': 1, 'produzione': 1, 'maniera': 1, 'integrato': 1, 'modulare': 1, 'scalabile': 1, 'storico': 1, 'vantare': 1, 'collaborazione': 1, 'progetto': 1, 'ministero': 1, 'tesoro': 1, 'bulgaro': 1, 'ferrero': 1, 'vorwerk': 1, 'enel': 1, 'fiat': 1, 'lamborghini': 1, 'altro': 1, 'ancora': 1, 'stare': 2, 'cercare': 1, 'persona': 1, 'forte': 1, 'passione': 1, 'spronare': 1, 'curiosità': 2, 'apprendere': 1, 'nuovo': 2, 'tecnologia': 1, 'naturale': 1, 'attitudine': 1, 'team': 1, 'working': 1, 'valore': 1, 'lavoro': 1, 'squadra': 1, 'base': 4, 'marchio': 1, 'amplia...\n",
            "Name: Announcement, dtype: object\n",
            "[['Corso di formazione Coding/programmazione gratuito online'\n",
            "  'Piazza del lavoro To, Agenzia per il lavoro Aut Min 39/0010939 e 39/0010775 ricerca persone interessate a svolgere un corso di formazione Coding gratuito che offre significative e concrete possibilità di assunzione.\\n\\nIl corso avrà una durata di circa 3 mesi per un impegno full time di 8 ore giornaliere con orario 9-13, 14-18.\\n\\nIl corso verrà svolto online; è quindi necessario possedere una connessione internet e un computer per potersi collegare alla lezioni e svolgere le esercitazioni che verranno affidate dai docenti.\\n\\nRequisito fondamentale per partecipare:\\n\\n- essere disoccupati/inoccupati\\n\\nNon è richiesto titolo di studio specifico.'\n",
            "  'Torino' '4 ottobre, 17:35'\n",
            "  'https://www.kijiji.it/annunci/offerta/torino-annunci-torino/corso-di-formazione-coding-gratuito/166525581']]\n",
            "[['Tecnico IT - Sistemista - Programmatore'\n",
            "  'Bros Manifatture, azienda leader nel settore Fashion Jewelry con i brand Brosway, Sâ€™Agapò, Rosato, Pianegonda, ricerca la figura di: Tecnico IT - Sistemista - Programmatore.\\nLa figura richiesta allâ€™interno dellâ€™azienda si occuperà di realizzare sotto la guida del responsabile IT, progetti software offline e online e di effettuare manutenzione di reti e sistemi linux e windows. \\nSi richiede almeno la conoscenza del linguaggio di programmazione PHP e conoscenza dei sistemi Windows e Linux oltre che conoscenza di db SQL (almeno nella realizzazione di query). \\nGradita qualsiasi altra skill a livello di linguaggi di programmazione. \\nCerchiamo persone preparate, con una forte propensione allâ€™innovazione e alla ricerca continua di nuove tecnologie.'\n",
            "  'Grottazzolina' '7 settembre, 16:48'\n",
            "  'https://www.kijiji.it/annunci/offerta/fermo-annunci-grottazzolina/tecnico-it-sistemista-programmatore/166186349']]\n",
            "[['Programmazione java'\n",
            "  '\\n\\nClicca sul link sottostante \"sito web\" per inviarci la tua candidatura.'\n",
            "  'Roma' '27 luglio, 04:06'\n",
            "  'https://www.kijiji.it/annunci/offerta/roma-annunci-roma/programmazione-java/164876600']]\n",
            "[['Programmatore'\n",
            "  'Società di Ingegneria ricerca per la propria sede di Napoli un programmatore-sviluppatore software Front-end e Back-end, con almeno 3 anni di esperienza specifica, che si occuperà dello sviluppo e la manutenzione dei software gestionali interni e della implementazione e programmazione di processi informatici, è richiesta:\\n\\n-Ottima conoscenza di PHP e framework di sviluppo\\n-Ottima conoscenza di MySQL\\n-Ottima conoscenza di DHTML, CSS e JavaScript/AJAX\\n-Buona conoscenza di Java\\n- Ottima conoscenza c#\\n-Esperienza con PHP per lo sviluppo web e software design\\n-Esperienza con Java\\nCompletano il profilo buone capacità relazionali, organizzative ed orientamento ai risultati, inquadramento e retribuzione saranno stabiliti sulla base delle effettive competenze, per candidarsi inviare proprio curriculum vitae.'\n",
            "  'Napoli' '18 ottobre, 09:17'\n",
            "  'https://www.kijiji.it/annunci/offerta/napoli-annunci-napoli/programmatore/165985066']]\n",
            "[['Tecnico informatico'\n",
            "  '\\n\\nClicca sul link sottostante \"sito web\" per inviarci la tua candidatura.'\n",
            "  'Bari' '15 ottobre, 04:08'\n",
            "  'https://www.kijiji.it/annunci/offerta/bari-annunci-bari/tecnico-informatico/167120560']]\n"
          ]
        },
        {
          "output_type": "stream",
          "name": "stderr",
          "text": [
            "\n"
          ]
        }
      ]
    },
    {
      "cell_type": "markdown",
      "metadata": {
        "id": "Qsyjd1kF4yPb"
      },
      "source": [
        "### 3.4 Query 4\n",
        "**Idea:** \n",
        "\n",
        "Short query with salary and location specifications.\n",
        "\n",
        "**Result:** \n",
        "\n",
        "Looks like preference in search is given to the number, meanwhile location information is ignored."
      ]
    },
    {
      "cell_type": "code",
      "metadata": {
        "colab": {
          "base_uri": "https://localhost:8080/"
        },
        "id": "qdWG4EVA3lJG",
        "outputId": "baff1e7b-c01f-4494-c6fc-4370b5164d25"
      },
      "source": [
        "q4 = 'intelligenza artificiale engineer 1000 euro milano'\n",
        "search(q4)"
      ],
      "execution_count": 169,
      "outputs": [
        {
          "output_type": "stream",
          "name": "stderr",
          "text": [
            "100%|██████████| 544/544 [00:21<00:00, 25.05it/s]"
          ]
        },
        {
          "output_type": "stream",
          "name": "stdout",
          "text": [
            "TOP-5\n",
            " [(522, 1.858215015601881), (761, 1.6233151494856204), (2714, 1.586982468774548), (1668, 1.0486018546113232), (593, 1.030570830840662)]\n",
            "522    {'progettista': 1, 'cliccare': 1, 'link': 1, 'sottostante': 1, 'sito': 1, 'web': 1, 'inviare': 1, 'candidatura': 1, 'napoli': 1}\n",
            "Name: Announcement, dtype: object\n",
            "761    {'corso': 1, 'certificazione': 1, 'ecdl': 1, 'cliccare': 1, 'link': 1, 'sottostante': 1, 'sito': 1, 'web': 1, 'inviare': 1, 'candidatura': 1, 'treviso': 1}\n",
            "Name: Announcement, dtype: object\n",
            "2714    {'lazio': 1, 'visioture': 1, 'ricercare': 1, 'angular': 2, 'developer': 1, '2': 1, '3': 1, 'anno': 1, 'esperienza': 2, 'ruolo': 1, 'requisire': 1, 'conoscenza': 6, '6': 1, 'javascript': 1, 'typescript': 1, 'html5': 1, 'css3': 1, 'base': 3, 'apache': 1, 'web': 1, 'server': 1, 'database': 1, 'sql': 1, 'vuejs': 1, 'react': 1, 'lingua': 1, 'inglese': 1, 'capacità': 2, 'lavoro': 2, 'team': 1, 'passione': 1, 'mondo': 1, 'digital': 2, 'sede': 1, 'rom': 2, 'offrire': 1, 'contratto': 1, 'tempo': 1, 'pieno': 1, 'retribuzione': 1, 'concordare': 1, 'effettivamente': 1, 'maturare': 1, 'crescita': 1, 'professionale': 1, 'diverso': 1, 'ambito': 1, 'corso': 1, 'formazione': 1, 'contesto': 1, 'giovane': 1, 'dinamico': 1, 'presente': 1, 'annuncio': 1, 'essere': 1, 'rivolgere': 1, 'entrambi': 1, 'sesso': 1, 'senso': 2, 'legge': 1, '903': 1, '77': 1, '125': 1, '91': 1, 'persona': 1, 'età': 1, 'nazionalità': 1, 'decreto': 1, 'legislativo': 1, '215': 1, '03': 2, '216': 1}\n",
            "Name: Announcement, dtype: object\n",
            "1668    {'neodiplomato': 1, 'informatico': 3, 'tech': 1, 'unâ': 3, '€': 7, '™azienda': 1, 'cliente': 2, 'specializzare': 3, 'progettazione': 1, 'realizzazione': 1, 'grande': 2, 'rete': 4, 'telecomunicazione': 1, 'divisione': 1, 'digital': 1, 'innovation': 1, '™academy': 1, 'gratuito': 2, 'altamente': 1, 'ambito': 2, 'networking': 4, 'cybersecurity': 6, 'ricerca': 1, '25': 1, 'risorsa': 1, 'appassionato': 1, 'dellâ': 1, '™ambito': 1, 'posizione': 1, 'percorso': 2, 'dâ': 1, '™inserimento': 1, 'prevedere': 4, '™attività': 2, 'formazione': 3, 'specialistico': 1, 'condurre': 1, 'cisco': 3, 'academy': 1, 'struttura': 1, 'internazionale': 1, 'specializzazione': 1, 'ccna': 1, 'routing': 1, 'switching': 1, 'operation': 1, 'termine': 1, 'periodo': 2, 'essere': 3, 'rilasciare': 1, 'attestato': 1, 'qualità': 1, 'junior': 1, 'network': 1, 'engineer': 2, 'piano': 1, 'carriera': 2, 'volta': 1, 'assumere': 1, 'azienda': 1, 'partner': 1, 'apprendimento': 1, 'job': 1, 'allâ': 1, '™interno': 1, 'team': 3, 'l...\n",
            "Name: Announcement, dtype: object\n",
            "593    {'seo': 1, 'esperienza': 1, 'cliccare': 1, 'link': 1, 'sottostante': 1, 'sito': 1, 'web': 1, 'inviare': 1, 'candidatura': 1, 'rom': 1}\n",
            "Name: Announcement, dtype: object\n",
            "[['Team leader full time 1000 euro+bonus'\n",
            "  '\\n\\nClicca sul link sottostante \"sito web\" per inviarci la tua candidatura.'\n",
            "  'Napoli' '23 ottobre, 04:04'\n",
            "  'https://www.kijiji.it/annunci/offerta/napoli-annunci-napoli/team-leader-full-time-1000-euro-bonus/167357266']]\n",
            "[['Team leader di sala full time 1000 euro'\n",
            "  '\\n\\nClicca sul link sottostante \"sito web\" per inviarci la tua candidatura.'\n",
            "  'Napoli' '20 ottobre, 04:10'\n",
            "  'https://www.kijiji.it/annunci/offerta/napoli-annunci-napoli/team-leader-di-sala-full-time-1000-euro/167280945']]\n",
            "[['Operatore call center esperto - 1000 fisso'\n",
            "  '\\n\\nClicca sul link sottostante \"sito web\" per inviarci la tua candidatura.'\n",
            "  'Napoli' '17 settembre, 04:05'\n",
            "  'https://www.kijiji.it/annunci/offerta/napoli-annunci-napoli/operatore-call-center-esperto-1000-fisso/166437042']]\n",
            "[['Collaboratori per rivendita servizi IT'\n",
            "  \"Importante Azienda Inglese operante nei servizi avanzati IT inerenti Intelligenza Artificiale e CyberSecurity e'interessata\\na professionisti e aziende con ufficio proprio e forza vendita\\nper la tutto il territorio nazionale.\\n\\nIl o i candidati ideali sono persone anche non esperte ma interessate ad operare per obbiettivi e a crescere al interno del azienda con possibilita'di carriera e partnership diretta aziendale che abbiano il desiderio di crescere e proporre e rivendere i nostri servizi di Intelligenza Artificiale e CyberSecurity.\\n\\nPer informazioni citare il riferimento LCUK/IT 33\"\n",
            "  'Centro Storico' '6 ottobre, 23:07'\n",
            "  'https://www.kijiji.it/annunci/offerta/roma-annunci-centro-storico/collaboratori-per-rivendita-servizi-it/166923352']]\n",
            "[['Ricerchiamo segretaria dalle ore 10:00 alle 16:00'\n",
            "  '\\n\\nClicca sul link sottostante \"sito web\" per inviarci la tua candidatura.'\n",
            "  'Caserta' '22 ottobre, 04:07'\n",
            "  'https://www.kijiji.it/annunci/offerta/caserta-annunci-caserta/ricerchiamo-segretaria-dalle-ore-10-00-alle-16-00/167327812']]\n"
          ]
        },
        {
          "output_type": "stream",
          "name": "stderr",
          "text": [
            "\n"
          ]
        }
      ]
    },
    {
      "cell_type": "code",
      "metadata": {
        "id": "ugVcND0I6Kt3"
      },
      "source": [
        ""
      ],
      "execution_count": null,
      "outputs": []
    }
  ]
}
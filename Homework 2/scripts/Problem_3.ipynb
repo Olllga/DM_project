{
  "nbformat": 4,
  "nbformat_minor": 0,
  "metadata": {
    "colab": {
      "name": "DM_Homework_2__Problem_3__1937430_Olga_Sorokoletova.ipynb",
      "provenance": [],
      "collapsed_sections": [
        "WGllYoRPb14L",
        "JNW4VUo-b50T",
        "jT2d_Uzuod3P",
        "S4xyHiOQojn2",
        "0s8MR-le0hfm",
        "gRwglLDUL7G_",
        "yQ1W5ASlrnpX",
        "SNukmzB526Ai",
        "pZ4N_vsiTyBB",
        "VaorUxDLfqCJ"
      ]
    },
    "kernelspec": {
      "name": "python3",
      "display_name": "Python 3"
    },
    "language_info": {
      "name": "python"
    }
  },
  "cells": [
    {
      "cell_type": "markdown",
      "metadata": {
        "id": "WGllYoRPb14L"
      },
      "source": [
        "#**Imports and Spark Installation**#"
      ]
    },
    {
      "cell_type": "code",
      "metadata": {
        "colab": {
          "base_uri": "https://localhost:8080/"
        },
        "id": "Rkkw0WL1dE-B",
        "outputId": "c78b24c6-ca32-4ddc-ec82-49860f0152c3"
      },
      "source": [
        "!pip install pyspark"
      ],
      "execution_count": 1,
      "outputs": [
        {
          "output_type": "stream",
          "name": "stdout",
          "text": [
            "Requirement already satisfied: pyspark in /usr/local/lib/python3.7/dist-packages (3.2.0)\n",
            "Requirement already satisfied: py4j==0.10.9.2 in /usr/local/lib/python3.7/dist-packages (from pyspark) (0.10.9.2)\n"
          ]
        }
      ]
    },
    {
      "cell_type": "code",
      "metadata": {
        "id": "flhstiQKbDoS"
      },
      "source": [
        "import pyspark\n",
        "import requests\n",
        "from bs4 import BeautifulSoup\n",
        "import csv\n",
        "from tqdm import tqdm\n",
        "import time\n",
        "import pandas as pd\n",
        "import re\n",
        "import hashlib\n",
        "import numpy as np\n",
        "import itertools"
      ],
      "execution_count": 2,
      "outputs": []
    },
    {
      "cell_type": "markdown",
      "metadata": {
        "id": "JNW4VUo-b50T"
      },
      "source": [
        "#**Load Data**#"
      ]
    },
    {
      "cell_type": "code",
      "metadata": {
        "id": "EKt_4YoSbuG3"
      },
      "source": [
        "url = 'https://www.kijiji.it/offerte-di-lavoro/offerta/informatica-e-web/'"
      ],
      "execution_count": 3,
      "outputs": []
    },
    {
      "cell_type": "code",
      "metadata": {
        "colab": {
          "base_uri": "https://localhost:8080/"
        },
        "id": "7imR5Nwtb9E-",
        "outputId": "6f14f52c-3f9f-4cb3-af7e-f5d6d19e9395"
      },
      "source": [
        "def get_data_from_url(url, num_pages):\n",
        "\n",
        "  new_url = url\n",
        "\n",
        "  with open('/tmp/output.tsv', 'wt') as out_file:\n",
        "    tsv_writer = csv.writer(out_file, delimiter='\\t')\n",
        "    tsv_writer.writerow(['Title', 'Description', 'Location', 'Publication Date', 'URL'])\n",
        "\n",
        "    for i in tqdm(range(1, num_pages+1)):\n",
        "      if i > 1:\n",
        "        new_url = url + \"?p=\" + str(i)\n",
        "\n",
        "      r = requests.get(new_url)\n",
        "      soup = BeautifulSoup(r.content)\n",
        "      g_data = soup.find_all(\"div\", {\"class\": \"item-content\"})\n",
        "      for item in g_data:\n",
        "        tsv_writer.writerow([item.contents[1].find_all(\"a\", {\"class\": \"cta\"})[0].text.strip(),\n",
        "                             item.contents[3].text, \n",
        "                             item.contents[7].text, item.contents[9].text,\n",
        "                             item.contents[1].find_all(\"a\", {\"class\": \"cta\"})[0].get('href')])\n",
        "      time.sleep(0.75)\n",
        "\n",
        "#152 is the number of pages with job announcements on the kijiji web page in the Informatica/Grafica/Web sector     \n",
        "get_data_from_url(url, 152)"
      ],
      "execution_count": 4,
      "outputs": [
        {
          "output_type": "stream",
          "name": "stderr",
          "text": [
            "100%|██████████| 152/152 [05:22<00:00,  2.12s/it]\n"
          ]
        }
      ]
    },
    {
      "cell_type": "code",
      "metadata": {
        "colab": {
          "base_uri": "https://localhost:8080/"
        },
        "id": "pUvXPLc2cDdG",
        "outputId": "7380ff96-753a-44e9-cc31-d9af373dc593"
      },
      "source": [
        "tsv_file = open(\"/tmp/output.tsv\")\n",
        "read_tsv = csv.reader(tsv_file, delimiter=\"\\t\")\n",
        "\n",
        "for i, row in enumerate(read_tsv):\n",
        "  print(row)\n",
        "  if i == 5:\n",
        "    break\n"
      ],
      "execution_count": 5,
      "outputs": [
        {
          "output_type": "stream",
          "name": "stdout",
          "text": [
            "['Title', 'Description', 'Location', 'Publication Date', 'URL']\n",
            "['Editor Premiere - videografico-a After Effects', 'Editor video con con approfondita e documentata esperienza si ricerca per posizione interna alla struttura; si richiede 1) conoscenza approfondita di Premiere e After Effects, basilare conoscenza di Davinci, residenza entro 15 km da Novara\\nSe interessati e in possesso di tutti i requisiti inviare un curriculum a Job AT giuseppegalliano.it e link a proprio show reel.', 'Novara', '31 agosto, 19:02', 'https://www.kijiji.it/annunci/offerta/messina-annunci-novara-di-sicilia/editor-premiere-videografico-a-after-effects/159299183']\n",
            "['Programmatori junior - neolaureati/neodiplomati', \"Visioture - Digital Technology Company, ricerca:\\n\\nPROGRAMMATORE JUNIOR - neodiplomati/neolaureati \\n\\nHai appena terminato gli studi e sei laureato (magistrale o triennale) in Scienze (Informatica, Matematica, Fisica, Statistica, Geologia), Ingegneria o Economia e hai acquisito competenze di informatica?\\nTi piace imparare e sperimentare cose diverse, valutare, creare e gestire le applicazioni IT?\\n\\nVisioture sta selezionando nuove risorse motivate da inserire in uno stage formativo di due mesi con successiva certificazione Salesforce propedeutica all'assunzione ed il placement in consulenza su nostri primari System Integrator Partner. \\nLo stage prevede la docenza e le esercitazioni riguardanti il percorso Salesforce Administrator e Salesforce Platform Developer I.\\nIl profilo che ricerchiamo è quello di programmatore junior con una forte passione per il digitale. \\nSi valuteranno sia neodiplomati che neolaureati in discipline informatiche che siano al momento inoccupati.\\n\\nREQUISITI:\\n\\nconoscenza base o di fondamenti di Object Oriented;\\nconoscenza dei database relazionali;\\ngradita conoscenza di uno dei linguaggi di programmazione quali Java, .NET, ASP.net, C#, Javascript, Python e PHP;\\nessere disoccupati/inoccupati e in cerca di lavoro;\\ntitolo di studio: diploma o laurea;\\nconoscenza della lingua inglese;\\nattitudine al lavoro in team;\\npassione per il mondo IT;\\ncapacità comunicative e relazionali.\\n\\n\\nUlteriori dettagli:\\n\\nDurata dello stage: 1 mese\\nInizio stage: 11/2021\\nCosto: stage/corso e la certificazione gratuiti\\n\\nSede di lavoro: Roma\\nInizio lavoro: 01/2022\\n\\nQualifica istruttore: Docente Senior Certificato\\n\\n\\nIl presente annuncio è rivolto ad entrambi i sessi, ai sensi delle leggi 903/77 e 125/91, e a persone di tutte le età e tutte le nazionalità, ai sensi dei decreti legislativi 215/03 e 216/03.\\n\", 'Flaminio / Parioli / Pinciano', 'Ieri, 22:12', 'https://www.kijiji.it/annunci/offerta/roma-annunci-roma/programmatori-junior/166289216']\n",
            "['Responsabile Marketing', \"Rossato Group Srl, per rafforzamento e strutturazione ufficio marketing, ricerca una figura con esperienza almeno quinquennale.\\n\\nL'azienda Rossato Group è stata fondata nel 1977 e si è specializzata in più di 40 anni di attività nella fornitura di componenti per impianti innovativi di riscaldamento, raffrescamento e produzione di acqua calda, alimentati da fonte rinnovabile; oggi è un'azienda dinamica ma solida, riconosciuta nel settore come punto di riferimento per capacità innovativa sia di prodotto che di processo.\\n\\nRequisiti richiesti:\\n- Residenza effettiva nel raggio di 30 km dalla sede aziendale (Sermoneta). Non verranno accettate candidature fuori da questa zona.\\n- Diploma di laurea o laurea nel settore marketing o affini;\\n- Esperienza pratica nel settore marketing o web marketing di almeno 5 anni.\\n- Forte padronanza e competenze in ambito SEO e SEM.\\n- Conoscenza dei più moderni strumenti di marketing e comunicazione web based (posizionamenti organici su motori di ricerca, Google AdWords, e-mail marketing, social media, ecc.) con le varie integrazioni possibili con piattaforme ERP (lato marketing).\\n- Buone capacità nel copyrighting;\\n- Ottime capacità nella manipolazione di immagini e montaggio video.\\n- Buona capacità utilizzo programmi grafici come Illustrator o Photoshop.\\n- Ottima capacità utilizzo strumenti informatici e pacchetto Office.\\n- Capacità nella strutturazione di un piano di marketing annuale suddiviso in campagne.\\n- Conoscenza e capacità di utilizzo piattaforme CRM\\n- Disponibilità a formazione continua, anche fuori dall'orario di lavoro.\\n- Disponibilità a lavoro straordinario, anche di sabato;\\n- Naturale propensione a relazionare attività svolta e cura nei dettaglio;\\n- Buona dialettica, ottime capacità relazionali e comunicative;\\n- Elevate capacità organizzative nella gestione dei progetti e agenda di lavoro.\\n- Attitudine al lavoro in team e capacità di gestione lavoro di altre colleghi nel team.\\n\\nRequisiti desiderati:\\n\\n- Capacità programmazione in HTML, Javascript, Pyton.\\n- Provenienza dal settore energie rinnovabili, edilizia o impiantistico.\\n- Maturità classica\\n\\nRuolo e mansioni:\\n- Programmazione settimanale, mensile ed annuale campagne di marketing;\\n- Mantenimento continuo canali social come Facebook, Youtube, Instagram, Linkedin.\\n- Mantenimento pagine e sito web in base a criteri SEO\\n- Scrittura news ed articoli in sito internet e portali di settore.\\n- Mantenimento pagine dedicate e sezioni in portali di settore.\\n- Redazione brochure e documenti commerciali.\\n- Gestione e strutturazione campagne di marketing.\\n- Aggiornamento dati clienti e attività in CRM.\\n- Gestione automazioni da campagne web a CRM.\\n- Gestione comunicati stampa.\\n\\nOfferta:\\n- Stipendio base fisso basato su esperienza e capacità oggettive.\\n- Formazione continua sia tecnica che commerciale;\\n- Supporto e tutor aziendale.\", 'Sermoneta', 'Ieri, 17:57', 'https://www.kijiji.it/annunci/offerta/latina-annunci-sermoneta/redatto-tecnico/163293146']\n",
            "['Lavoro Smart working', 'AZIENDA ITALIANA CERCASI PERSONALE in tutta Italia per lavoro in smart working. Lavoro in sharing economy e assistenza clienti.Legale al 100% ( Legge 173/2005 )\\n\\n? NO CALL CENTER\\n? NO NETWORK\\n? NO VENDITA\\n? NESSUN INVESTIMENTO\\n? PAGAMENTI SETTIMANALI? \\nNiente proposte assurde o ridicole?\\nSi offrono: guadagni interessanti, professione innovativa, formazione gratuita e collaborazione lungo termine.\\n\\nPER MAGGIORI INFORMAZIONI CONTATTAMI', 'Torrenova', 'Ieri, 17:48', 'https://www.kijiji.it/annunci/offerta/messina-annunci-torrenova/lavoro-smart-working/167845012']\n",
            "['Tecnico Reti Di Telecomunicazione', 'Tecnico Reti Di Telecomunicazione\\nCercasi tecnico installatore di reti di telecomunicazioni con esperienza di almeno 2 anni, per potenziamento del proprio organico nelle regioni Umbria, Abruzzo, Lazio, Campania, Marche, Molise, Basilicata, Puglia e Calabria.\\n \\nIl candidato cercato possiede buona conoscenza della struttura e del funzionamento delle infrastrutture di rete di telecomunicazione, della fonia e della rete di trasmissione dati; diploma di perito tecnico (in elettronica, elettrotecnica o telecomunicazioni) e buona dimestichezza con pc e smartphone. Eâ€™ preferibile che abbia maturato almeno due anni di esperienza in qualità di installatore di reti di telecomunicazione in rame, in particolare sui flussi in alta frequenza. \\n\\nPrincipali attività e responsabilità: la risorsa sarà coinvolta nelle attività di delivery ed assurance e permutazioni classiche per i principali operatori di telefonia in ambito rete di accesso sia in rame che in fibra. Si occuperà, nello specifico, di installazione e manutenzione impianti di abbonato nel rispetto del piano lavori e delle norme tecniche contrattuali previste dai singoli operatori.\\nAttraverso lâ€™utilizzo di strumentazione ed attrezzature specifiche, la risorsa si occuperà della costruzione di impianti di abbonato con attivazione di centrale, permutazioni (di centrali ed armadi), costruzione e manutenzione del raccordo o del montante in edificio. Provvederà, inoltre, allâ€™installazione di modem, router e prese presso lâ€™utente finale, per il necessario collaudo. \\n\\nEâ€™ necessario il possesso della patente B ed è richiesta la disponibilità alla mobilità sul territorio nazionale.\\nCompletano il profilo: orientamento al risultato e buone capacità di problem solving. Sono richieste, inoltre, proattività, flessibilità operativa e disponibilità ai rapporti interpersonali.\\n\\nPer candidarsi inviare il CV, corredato di foto e autorizzazione al trattamento dei dati personali allâ€™indirizzo mail: job-at-digitalcenter.biz con oggetto: Installatore Reti di Telecomunicazioni.\\n\\nIl presente annuncio è rivolto ad entrambi i sessi, ai sensi delle leggi 903/77 e 125/91, e a persone di tutte le età e tutte le nazionalità, ai sensi dei decreti legislativi 215/03 e 216/03.\\n', 'Cosenza', 'Ieri, 14:53', 'https://www.kijiji.it/annunci/offerta/cosenza-annunci-cosenza/tecnico-reti-di-telecomunicazione/130946640']\n"
          ]
        }
      ]
    },
    {
      "cell_type": "code",
      "metadata": {
        "colab": {
          "base_uri": "https://localhost:8080/"
        },
        "id": "AhRkI0dRjJqp",
        "outputId": "2c73c531-8e9e-464e-f120-5beb4e721022"
      },
      "source": [
        "df = pd.read_csv('/tmp/output.tsv', delimiter = '\\t')\n",
        "df.count()"
      ],
      "execution_count": 6,
      "outputs": [
        {
          "output_type": "execute_result",
          "data": {
            "text/plain": [
              "Title               3189\n",
              "Description         3189\n",
              "Location            3189\n",
              "Publication Date    3189\n",
              "URL                 3189\n",
              "dtype: int64"
            ]
          },
          "metadata": {},
          "execution_count": 6
        }
      ]
    },
    {
      "cell_type": "code",
      "metadata": {
        "colab": {
          "base_uri": "https://localhost:8080/",
          "height": 272
        },
        "id": "GmcThNNtjVVx",
        "outputId": "d5923629-08cf-4f46-ca58-956160e2263f"
      },
      "source": [
        "df.head()"
      ],
      "execution_count": 7,
      "outputs": [
        {
          "output_type": "execute_result",
          "data": {
            "text/html": [
              "<div>\n",
              "<style scoped>\n",
              "    .dataframe tbody tr th:only-of-type {\n",
              "        vertical-align: middle;\n",
              "    }\n",
              "\n",
              "    .dataframe tbody tr th {\n",
              "        vertical-align: top;\n",
              "    }\n",
              "\n",
              "    .dataframe thead th {\n",
              "        text-align: right;\n",
              "    }\n",
              "</style>\n",
              "<table border=\"1\" class=\"dataframe\">\n",
              "  <thead>\n",
              "    <tr style=\"text-align: right;\">\n",
              "      <th></th>\n",
              "      <th>Title</th>\n",
              "      <th>Description</th>\n",
              "      <th>Location</th>\n",
              "      <th>Publication Date</th>\n",
              "      <th>URL</th>\n",
              "    </tr>\n",
              "  </thead>\n",
              "  <tbody>\n",
              "    <tr>\n",
              "      <th>0</th>\n",
              "      <td>Editor Premiere - videografico-a After Effects</td>\n",
              "      <td>Editor video con con approfondita e documentat...</td>\n",
              "      <td>Novara</td>\n",
              "      <td>31 agosto, 19:02</td>\n",
              "      <td>https://www.kijiji.it/annunci/offerta/messina-...</td>\n",
              "    </tr>\n",
              "    <tr>\n",
              "      <th>1</th>\n",
              "      <td>Programmatori junior - neolaureati/neodiplomati</td>\n",
              "      <td>Visioture - Digital Technology Company, ricerc...</td>\n",
              "      <td>Flaminio / Parioli / Pinciano</td>\n",
              "      <td>Ieri, 22:12</td>\n",
              "      <td>https://www.kijiji.it/annunci/offerta/roma-ann...</td>\n",
              "    </tr>\n",
              "    <tr>\n",
              "      <th>2</th>\n",
              "      <td>Responsabile Marketing</td>\n",
              "      <td>Rossato Group Srl, per rafforzamento e struttu...</td>\n",
              "      <td>Sermoneta</td>\n",
              "      <td>Ieri, 17:57</td>\n",
              "      <td>https://www.kijiji.it/annunci/offerta/latina-a...</td>\n",
              "    </tr>\n",
              "    <tr>\n",
              "      <th>3</th>\n",
              "      <td>Lavoro Smart working</td>\n",
              "      <td>AZIENDA ITALIANA CERCASI PERSONALE in tutta It...</td>\n",
              "      <td>Torrenova</td>\n",
              "      <td>Ieri, 17:48</td>\n",
              "      <td>https://www.kijiji.it/annunci/offerta/messina-...</td>\n",
              "    </tr>\n",
              "    <tr>\n",
              "      <th>4</th>\n",
              "      <td>Tecnico Reti Di Telecomunicazione</td>\n",
              "      <td>Tecnico Reti Di Telecomunicazione\\nCercasi tec...</td>\n",
              "      <td>Cosenza</td>\n",
              "      <td>Ieri, 14:53</td>\n",
              "      <td>https://www.kijiji.it/annunci/offerta/cosenza-...</td>\n",
              "    </tr>\n",
              "  </tbody>\n",
              "</table>\n",
              "</div>"
            ],
            "text/plain": [
              "                                             Title  ...                                                URL\n",
              "0   Editor Premiere - videografico-a After Effects  ...  https://www.kijiji.it/annunci/offerta/messina-...\n",
              "1  Programmatori junior - neolaureati/neodiplomati  ...  https://www.kijiji.it/annunci/offerta/roma-ann...\n",
              "2                           Responsabile Marketing  ...  https://www.kijiji.it/annunci/offerta/latina-a...\n",
              "3                             Lavoro Smart working  ...  https://www.kijiji.it/annunci/offerta/messina-...\n",
              "4                Tecnico Reti Di Telecomunicazione  ...  https://www.kijiji.it/annunci/offerta/cosenza-...\n",
              "\n",
              "[5 rows x 5 columns]"
            ]
          },
          "metadata": {},
          "execution_count": 7
        }
      ]
    },
    {
      "cell_type": "code",
      "metadata": {
        "colab": {
          "base_uri": "https://localhost:8080/"
        },
        "id": "7IOVE_MAjXFp",
        "outputId": "b928a0a6-112b-4aba-8a2f-e68d1f256036"
      },
      "source": [
        "df_with_description = df[df['Description'] != '\\n\\nClicca sul link sottostante \"sito web\" per inviarci la tua candidatura.']\n",
        "df_with_description.count()"
      ],
      "execution_count": 8,
      "outputs": [
        {
          "output_type": "execute_result",
          "data": {
            "text/plain": [
              "Title               1728\n",
              "Description         1728\n",
              "Location            1728\n",
              "Publication Date    1728\n",
              "URL                 1728\n",
              "dtype: int64"
            ]
          },
          "metadata": {},
          "execution_count": 8
        }
      ]
    },
    {
      "cell_type": "markdown",
      "metadata": {
        "id": "EmrnrTCslgAq"
      },
      "source": [
        "Now we peform column preprocessing (using part of the preprocessing function, created for the Problem 1) in order to provide\n",
        "\n",
        "**properly separated** file to Spark."
      ]
    },
    {
      "cell_type": "code",
      "metadata": {
        "id": "Fuv2Dcptk8to"
      },
      "source": [
        "def column_preprocessing(col):\n",
        "  col = col.apply(lambda x: x.lower()) #1.1\n",
        "  col = col.apply(lambda x: re.sub('\\n', ' ', x)) #1.2.6\n",
        "  col = col.apply(lambda x: re.sub(' +', ' ', x)) #1.2.7\n",
        "  return col"
      ],
      "execution_count": 9,
      "outputs": []
    },
    {
      "cell_type": "code",
      "metadata": {
        "id": "BFm7l8y6jmCL"
      },
      "source": [
        "np.savetxt(r'/tmp/description.txt', column_preprocessing(df_with_description['Description']).values, fmt='%s')"
      ],
      "execution_count": 10,
      "outputs": []
    },
    {
      "cell_type": "code",
      "metadata": {
        "id": "Ecpx5FI-d-e-"
      },
      "source": [
        "sc = pyspark.SparkContext('local[*]') # Create a Spark context"
      ],
      "execution_count": 11,
      "outputs": []
    },
    {
      "cell_type": "code",
      "metadata": {
        "colab": {
          "base_uri": "https://localhost:8080/"
        },
        "id": "DKc2yZEre1Vd",
        "outputId": "c1e1f968-3c07-4bbe-ad8b-ed538b67595d"
      },
      "source": [
        "txt = sc.textFile('/tmp/description.txt') # Create an RDD\n",
        "\n",
        "# Check that file has been loaded properly\n",
        "print(txt.count())"
      ],
      "execution_count": 12,
      "outputs": [
        {
          "output_type": "stream",
          "name": "stdout",
          "text": [
            "1728\n"
          ]
        }
      ]
    },
    {
      "cell_type": "code",
      "metadata": {
        "colab": {
          "base_uri": "https://localhost:8080/"
        },
        "id": "3-Nxf9RzhIlX",
        "outputId": "c652888c-36e7-4879-9e73-07a3081503f1"
      },
      "source": [
        "txt.take(5)"
      ],
      "execution_count": 13,
      "outputs": [
        {
          "output_type": "execute_result",
          "data": {
            "text/plain": [
              "['editor video con con approfondita e documentata esperienza si ricerca per posizione interna alla struttura; si richiede 1) conoscenza approfondita di premiere e after effects, basilare conoscenza di davinci, residenza entro 15 km da novara se interessati e in possesso di tutti i requisiti inviare un curriculum a job at giuseppegalliano.it e link a proprio show reel.',\n",
              " \"visioture - digital technology company, ricerca: programmatore junior - neodiplomati/neolaureati hai appena terminato gli studi e sei laureato (magistrale o triennale) in scienze (informatica, matematica, fisica, statistica, geologia), ingegneria o economia e hai acquisito competenze di informatica? ti piace imparare e sperimentare cose diverse, valutare, creare e gestire le applicazioni it? visioture sta selezionando nuove risorse motivate da inserire in uno stage formativo di due mesi con successiva certificazione salesforce propedeutica all'assunzione ed il placement in consulenza su nostri primari system integrator partner. lo stage prevede la docenza e le esercitazioni riguardanti il percorso salesforce administrator e salesforce platform developer i. il profilo che ricerchiamo è quello di programmatore junior con una forte passione per il digitale. si valuteranno sia neodiplomati che neolaureati in discipline informatiche che siano al momento inoccupati. requisiti: conoscenza base o di fondamenti di object oriented; conoscenza dei database relazionali; gradita conoscenza di uno dei linguaggi di programmazione quali java, .net, asp.net, c#, javascript, python e php; essere disoccupati/inoccupati e in cerca di lavoro; titolo di studio: diploma o laurea; conoscenza della lingua inglese; attitudine al lavoro in team; passione per il mondo it; capacità comunicative e relazionali. ulteriori dettagli: durata dello stage: 1 mese inizio stage: 11/2021 costo: stage/corso e la certificazione gratuiti sede di lavoro: roma inizio lavoro: 01/2022 qualifica istruttore: docente senior certificato il presente annuncio è rivolto ad entrambi i sessi, ai sensi delle leggi 903/77 e 125/91, e a persone di tutte le età e tutte le nazionalità, ai sensi dei decreti legislativi 215/03 e 216/03. \",\n",
              " \"rossato group srl, per rafforzamento e strutturazione ufficio marketing, ricerca una figura con esperienza almeno quinquennale. l'azienda rossato group è stata fondata nel 1977 e si è specializzata in più di 40 anni di attività nella fornitura di componenti per impianti innovativi di riscaldamento, raffrescamento e produzione di acqua calda, alimentati da fonte rinnovabile; oggi è un'azienda dinamica ma solida, riconosciuta nel settore come punto di riferimento per capacità innovativa sia di prodotto che di processo. requisiti richiesti: - residenza effettiva nel raggio di 30 km dalla sede aziendale (sermoneta). non verranno accettate candidature fuori da questa zona. - diploma di laurea o laurea nel settore marketing o affini; - esperienza pratica nel settore marketing o web marketing di almeno 5 anni. - forte padronanza e competenze in ambito seo e sem. - conoscenza dei più moderni strumenti di marketing e comunicazione web based (posizionamenti organici su motori di ricerca, google adwords, e-mail marketing, social media, ecc.) con le varie integrazioni possibili con piattaforme erp (lato marketing). - buone capacità nel copyrighting; - ottime capacità nella manipolazione di immagini e montaggio video. - buona capacità utilizzo programmi grafici come illustrator o photoshop. - ottima capacità utilizzo strumenti informatici e pacchetto office. - capacità nella strutturazione di un piano di marketing annuale suddiviso in campagne. - conoscenza e capacità di utilizzo piattaforme crm - disponibilità a formazione continua, anche fuori dall'orario di lavoro. - disponibilità a lavoro straordinario, anche di sabato; - naturale propensione a relazionare attività svolta e cura nei dettaglio; - buona dialettica, ottime capacità relazionali e comunicative; - elevate capacità organizzative nella gestione dei progetti e agenda di lavoro. - attitudine al lavoro in team e capacità di gestione lavoro di altre colleghi nel team. requisiti desiderati: - capacità programmazione in html, javascript, pyton. - provenienza dal settore energie rinnovabili, edilizia o impiantistico. - maturità classica ruolo e mansioni: - programmazione settimanale, mensile ed annuale campagne di marketing; - mantenimento continuo canali social come facebook, youtube, instagram, linkedin. - mantenimento pagine e sito web in base a criteri seo - scrittura news ed articoli in sito internet e portali di settore. - mantenimento pagine dedicate e sezioni in portali di settore. - redazione brochure e documenti commerciali. - gestione e strutturazione campagne di marketing. - aggiornamento dati clienti e attività in crm. - gestione automazioni da campagne web a crm. - gestione comunicati stampa. offerta: - stipendio base fisso basato su esperienza e capacità oggettive. - formazione continua sia tecnica che commerciale; - supporto e tutor aziendale.\",\n",
              " 'azienda italiana cercasi personale in tutta italia per lavoro in smart working. lavoro in sharing economy e assistenza clienti.legale al 100% ( legge 173/2005 ) ? no call center ? no network ? no vendita ? nessun investimento ? pagamenti settimanali? niente proposte assurde o ridicole? si offrono: guadagni interessanti, professione innovativa, formazione gratuita e collaborazione lungo termine. per maggiori informazioni contattami',\n",
              " 'tecnico reti di telecomunicazione cercasi tecnico installatore di reti di telecomunicazioni con esperienza di almeno 2 anni, per potenziamento del proprio organico nelle regioni umbria, abruzzo, lazio, campania, marche, molise, basilicata, puglia e calabria. il candidato cercato possiede buona conoscenza della struttura e del funzionamento delle infrastrutture di rete di telecomunicazione, della fonia e della rete di trasmissione dati; diploma di perito tecnico (in elettronica, elettrotecnica o telecomunicazioni) e buona dimestichezza con pc e smartphone. eâ€™ preferibile che abbia maturato almeno due anni di esperienza in qualità di installatore di reti di telecomunicazione in rame, in particolare sui flussi in alta frequenza. principali attività e responsabilità: la risorsa sarà coinvolta nelle attività di delivery ed assurance e permutazioni classiche per i principali operatori di telefonia in ambito rete di accesso sia in rame che in fibra. si occuperà, nello specifico, di installazione e manutenzione impianti di abbonato nel rispetto del piano lavori e delle norme tecniche contrattuali previste dai singoli operatori. attraverso lâ€™utilizzo di strumentazione ed attrezzature specifiche, la risorsa si occuperà della costruzione di impianti di abbonato con attivazione di centrale, permutazioni (di centrali ed armadi), costruzione e manutenzione del raccordo o del montante in edificio. provvederà, inoltre, allâ€™installazione di modem, router e prese presso lâ€™utente finale, per il necessario collaudo. eâ€™ necessario il possesso della patente b ed è richiesta la disponibilità alla mobilità sul territorio nazionale. completano il profilo: orientamento al risultato e buone capacità di problem solving. sono richieste, inoltre, proattività, flessibilità operativa e disponibilità ai rapporti interpersonali. per candidarsi inviare il cv, corredato di foto e autorizzazione al trattamento dei dati personali allâ€™indirizzo mail: job-at-digitalcenter.biz con oggetto: installatore reti di telecomunicazioni. il presente annuncio è rivolto ad entrambi i sessi, ai sensi delle leggi 903/77 e 125/91, e a persone di tutte le età e tutte le nazionalità, ai sensi dei decreti legislativi 215/03 e 216/03. ']"
            ]
          },
          "metadata": {},
          "execution_count": 13
        }
      ]
    },
    {
      "cell_type": "code",
      "metadata": {
        "colab": {
          "base_uri": "https://localhost:8080/"
        },
        "id": "CAKkUSuBh8OH",
        "outputId": "ea9cc142-eb51-478a-e990-a4e3b6a73cc1"
      },
      "source": [
        "txt = sc.textFile('/tmp/description.txt').zipWithIndex()\n",
        "txt.take(10)"
      ],
      "execution_count": 14,
      "outputs": [
        {
          "output_type": "execute_result",
          "data": {
            "text/plain": [
              "[('editor video con con approfondita e documentata esperienza si ricerca per posizione interna alla struttura; si richiede 1) conoscenza approfondita di premiere e after effects, basilare conoscenza di davinci, residenza entro 15 km da novara se interessati e in possesso di tutti i requisiti inviare un curriculum a job at giuseppegalliano.it e link a proprio show reel.',\n",
              "  0),\n",
              " (\"visioture - digital technology company, ricerca: programmatore junior - neodiplomati/neolaureati hai appena terminato gli studi e sei laureato (magistrale o triennale) in scienze (informatica, matematica, fisica, statistica, geologia), ingegneria o economia e hai acquisito competenze di informatica? ti piace imparare e sperimentare cose diverse, valutare, creare e gestire le applicazioni it? visioture sta selezionando nuove risorse motivate da inserire in uno stage formativo di due mesi con successiva certificazione salesforce propedeutica all'assunzione ed il placement in consulenza su nostri primari system integrator partner. lo stage prevede la docenza e le esercitazioni riguardanti il percorso salesforce administrator e salesforce platform developer i. il profilo che ricerchiamo è quello di programmatore junior con una forte passione per il digitale. si valuteranno sia neodiplomati che neolaureati in discipline informatiche che siano al momento inoccupati. requisiti: conoscenza base o di fondamenti di object oriented; conoscenza dei database relazionali; gradita conoscenza di uno dei linguaggi di programmazione quali java, .net, asp.net, c#, javascript, python e php; essere disoccupati/inoccupati e in cerca di lavoro; titolo di studio: diploma o laurea; conoscenza della lingua inglese; attitudine al lavoro in team; passione per il mondo it; capacità comunicative e relazionali. ulteriori dettagli: durata dello stage: 1 mese inizio stage: 11/2021 costo: stage/corso e la certificazione gratuiti sede di lavoro: roma inizio lavoro: 01/2022 qualifica istruttore: docente senior certificato il presente annuncio è rivolto ad entrambi i sessi, ai sensi delle leggi 903/77 e 125/91, e a persone di tutte le età e tutte le nazionalità, ai sensi dei decreti legislativi 215/03 e 216/03. \",\n",
              "  1),\n",
              " (\"rossato group srl, per rafforzamento e strutturazione ufficio marketing, ricerca una figura con esperienza almeno quinquennale. l'azienda rossato group è stata fondata nel 1977 e si è specializzata in più di 40 anni di attività nella fornitura di componenti per impianti innovativi di riscaldamento, raffrescamento e produzione di acqua calda, alimentati da fonte rinnovabile; oggi è un'azienda dinamica ma solida, riconosciuta nel settore come punto di riferimento per capacità innovativa sia di prodotto che di processo. requisiti richiesti: - residenza effettiva nel raggio di 30 km dalla sede aziendale (sermoneta). non verranno accettate candidature fuori da questa zona. - diploma di laurea o laurea nel settore marketing o affini; - esperienza pratica nel settore marketing o web marketing di almeno 5 anni. - forte padronanza e competenze in ambito seo e sem. - conoscenza dei più moderni strumenti di marketing e comunicazione web based (posizionamenti organici su motori di ricerca, google adwords, e-mail marketing, social media, ecc.) con le varie integrazioni possibili con piattaforme erp (lato marketing). - buone capacità nel copyrighting; - ottime capacità nella manipolazione di immagini e montaggio video. - buona capacità utilizzo programmi grafici come illustrator o photoshop. - ottima capacità utilizzo strumenti informatici e pacchetto office. - capacità nella strutturazione di un piano di marketing annuale suddiviso in campagne. - conoscenza e capacità di utilizzo piattaforme crm - disponibilità a formazione continua, anche fuori dall'orario di lavoro. - disponibilità a lavoro straordinario, anche di sabato; - naturale propensione a relazionare attività svolta e cura nei dettaglio; - buona dialettica, ottime capacità relazionali e comunicative; - elevate capacità organizzative nella gestione dei progetti e agenda di lavoro. - attitudine al lavoro in team e capacità di gestione lavoro di altre colleghi nel team. requisiti desiderati: - capacità programmazione in html, javascript, pyton. - provenienza dal settore energie rinnovabili, edilizia o impiantistico. - maturità classica ruolo e mansioni: - programmazione settimanale, mensile ed annuale campagne di marketing; - mantenimento continuo canali social come facebook, youtube, instagram, linkedin. - mantenimento pagine e sito web in base a criteri seo - scrittura news ed articoli in sito internet e portali di settore. - mantenimento pagine dedicate e sezioni in portali di settore. - redazione brochure e documenti commerciali. - gestione e strutturazione campagne di marketing. - aggiornamento dati clienti e attività in crm. - gestione automazioni da campagne web a crm. - gestione comunicati stampa. offerta: - stipendio base fisso basato su esperienza e capacità oggettive. - formazione continua sia tecnica che commerciale; - supporto e tutor aziendale.\",\n",
              "  2),\n",
              " ('azienda italiana cercasi personale in tutta italia per lavoro in smart working. lavoro in sharing economy e assistenza clienti.legale al 100% ( legge 173/2005 ) ? no call center ? no network ? no vendita ? nessun investimento ? pagamenti settimanali? niente proposte assurde o ridicole? si offrono: guadagni interessanti, professione innovativa, formazione gratuita e collaborazione lungo termine. per maggiori informazioni contattami',\n",
              "  3),\n",
              " ('tecnico reti di telecomunicazione cercasi tecnico installatore di reti di telecomunicazioni con esperienza di almeno 2 anni, per potenziamento del proprio organico nelle regioni umbria, abruzzo, lazio, campania, marche, molise, basilicata, puglia e calabria. il candidato cercato possiede buona conoscenza della struttura e del funzionamento delle infrastrutture di rete di telecomunicazione, della fonia e della rete di trasmissione dati; diploma di perito tecnico (in elettronica, elettrotecnica o telecomunicazioni) e buona dimestichezza con pc e smartphone. eâ€™ preferibile che abbia maturato almeno due anni di esperienza in qualità di installatore di reti di telecomunicazione in rame, in particolare sui flussi in alta frequenza. principali attività e responsabilità: la risorsa sarà coinvolta nelle attività di delivery ed assurance e permutazioni classiche per i principali operatori di telefonia in ambito rete di accesso sia in rame che in fibra. si occuperà, nello specifico, di installazione e manutenzione impianti di abbonato nel rispetto del piano lavori e delle norme tecniche contrattuali previste dai singoli operatori. attraverso lâ€™utilizzo di strumentazione ed attrezzature specifiche, la risorsa si occuperà della costruzione di impianti di abbonato con attivazione di centrale, permutazioni (di centrali ed armadi), costruzione e manutenzione del raccordo o del montante in edificio. provvederà, inoltre, allâ€™installazione di modem, router e prese presso lâ€™utente finale, per il necessario collaudo. eâ€™ necessario il possesso della patente b ed è richiesta la disponibilità alla mobilità sul territorio nazionale. completano il profilo: orientamento al risultato e buone capacità di problem solving. sono richieste, inoltre, proattività, flessibilità operativa e disponibilità ai rapporti interpersonali. per candidarsi inviare il cv, corredato di foto e autorizzazione al trattamento dei dati personali allâ€™indirizzo mail: job-at-digitalcenter.biz con oggetto: installatore reti di telecomunicazioni. il presente annuncio è rivolto ad entrambi i sessi, ai sensi delle leggi 903/77 e 125/91, e a persone di tutte le età e tutte le nazionalità, ai sensi dei decreti legislativi 215/03 e 216/03. ',\n",
              "  4),\n",
              " ('siamo alla ricerca di esperti networking che abbiano competenze in : - cisco routing and switching. - juniper routing and switching. - cisco aci (software defined networking) le attività da svolgere sono di incident e change management di secondo livello sugli apparati e servizi di rete del cliente, gestiti tramite tool remedy, per le tecnologie sopra indicate. stipendio: €1.200,00 - €1.600,00 al mese in base alle proprie competenze e capacità.',\n",
              "  5),\n",
              " ('scuola superiore di milano assume docente di informatica (laurea specialistica o vecchio ordinamento), classe di concorso a041 per cattedra completa e annuale. disponibilità immediata. la ricerca ha carattere di urgenza si prega di inviare cv per colloquio. ',\n",
              "  6),\n",
              " ('gruppo gpi\\xa0è il partner di riferimento in italia per le tecnologie e i servizi dedicati alla sanità e al sociale e alla pubblica amministrazione. nata 33 anni fa in trentino, gpi è costantemente cresciuta nel tempo, sia per dimensioni che per competenze: attualmente conta\\xa0oltre 6.000 dipendenti\\xa0ed è presente con numerose filiali su tutto il territorio nazionale ed estero. gpi\\xa0è quotata in borsa sul mercato mta da dicembre 2018; i risultati del 2020 si attestano a circa 270 mln di euro, in crescita di circa il 12% rispetto al 2019, confermando la redditività e la stabilità del gruppo. tecnico informatico dtm: siamo alla ricerca di un tecnico informatico dtm\\xa0da inserire all\\'interno della nostra asa tecnologie per attività a presidio presso ns. clienti.\\xa0 requisiti richiesti conoscenza dei sistemi operativi client microsoft, mac os, linux; conoscenza dei principali pacchetti applicativi base installati sui pc (office, acrobat, browser, mail client); competenze di base sulle tecnologie di rete standard e sui principali protocolli; conoscenza di base dei prodotti per la virtualizzazione (vmware, thinapp, citrix, ...); competenze su manutenzione sw e hw delle postazioni di lavoro; competenze su manutenzione sw e hw delle stampanti di rete e locale; disponibilità a trasferte sul territorio regionale; attitudine alla gestione ordinata e precisa del proprio lavoro; orientamento al problem solving e al troubleshooting; capacità di lavoro in team. requisiti preferenziali esperienza pregressa nell\\'ambito lavorativo oggetto di ricerca; certificazioni tecniche in ambito informatico; conoscenza base inglese tecnico. indicazioni siamo interessati anche a tutti coloro i quali fanno parte delle \"categorie protette\" secondo l\\'art. 1 e art. 18 della legge 68/99. sede di lavoro: bologna, modena, parma, reggio emilia e ferrara.\\xa0 orario di lavoro: full time indicazioni retributive: ccnl multiservizi - ral commisurata all\\'esperienza nel ruolo',\n",
              "  7),\n",
              " ('gruppo gpi\\xa0è il partner di riferimento in italia per le tecnologie e i servizi dedicati alla sanità e al sociale e alla pubblica amministrazione. nata 33 anni fa in trentino, gpi è costantemente cresciuta nel tempo, sia per dimensioni che per competenze: attualmente conta\\xa0oltre 6.000 dipendenti\\xa0ed è presente con numerose filiali su tutto il territorio nazionale ed estero. gpi\\xa0è quotata in borsa sul mercato mta da dicembre 2018; i risultati del 2020 si attestano a circa 270 mln di euro, in crescita di circa il 12% rispetto al 2019, confermando la redditività e la stabilità del gruppo. tecnico informatico dtm: siamo alla ricerca di un tecnico informatico dtm\\xa0da inserire all\\'interno della nostra asa tecnologie per attività a presidio presso ns. clienti.\\xa0 requisiti richiesti conoscenza dei sistemi operativi client microsoft, mac os, linux; conoscenza dei principali pacchetti applicativi base installati sui pc (office, acrobat, browser, mail client); competenze di base sulle tecnologie di rete standard e sui principali protocolli; conoscenza di base dei prodotti per la virtualizzazione (vmware, thinapp, citrix, ...); competenze su manutenzione sw e hw delle postazioni di lavoro; competenze su manutenzione sw e hw delle stampanti di rete e locale; disponibilità a trasferte sul territorio regionale; attitudine alla gestione ordinata e precisa del proprio lavoro; orientamento al problem solving e al troubleshooting; capacità di lavoro in team. requisiti preferenziali esperienza pregressa nell\\'ambito lavorativo oggetto di ricerca; certificazioni tecniche in ambito informatico; conoscenza base inglese tecnico. indicazioni siamo interessati anche a tutti coloro i quali fanno parte delle \"categorie protette\" secondo l\\'art. 1 e art. 18 della legge 68/99. sede di lavoro: bologna, modena, parma, reggio emilia e ferrara.\\xa0 orario di lavoro: full time indicazioni retributive: ccnl multiservizi - ral commisurata all\\'esperienza nel ruolo',\n",
              "  8),\n",
              " (\"txt group è un provider it end-to-end internazionale di consulenza per soluzioni software e servizi, che supporta la trasformazione digitale dei prodotti e dei processi core dei clienti. con un portafoglio software proprietario e una profonda esperienza nei domini verticali, txt group opera in diversi mercati, con un'impronta crescente nei settori aerospaziale, aeronautico, della difesa, industriale, governativo e fintech. la capogruppo txt e-solutions s.p.a. è quotata presso borsa italiana, al segmento star (txt.mi), da luglio 2000. txt group ha sede a milano e ha filiali in italia, germania, regno unito, francia, svizzera e stati uniti d'america. system software engineer: txt group, per la divisione della società txt e-solutions di aerospace defence & hight tech,\\xa0 ricerca un system software engineer per attività di analisi requisiti, sviluppo, gestione ed integrazione dei sistemi avionici reali o simulati per simulatori di volo civili e militari ad alta fedeltà. la risorsa lavorerà presso la sede di uno dei nostri principali clienti avendo modo di interfacciarsi e relazionarsi direttamente con il cliente. sarà inserita all'interno di un team strutturato con cui avrà modo di collaborare. principali attività: analisi e gestione dei requisiti e definizione delle specifiche tecniche: definizione di architetture di sistema; sviluppo software di sottosistemi di simulazione; integrazione e validazione di sistema. competenze tecniche richieste: conoscenza di almeno un linguaggio di programmazione (c/c++/python/matlab); conoscenza di sistemi operativi (linux/windows); esperienza nell'analisi e gestione dei requisiti e nella definizione delle specifiche tecniche. la conoscenza di visual studio 19, qt e git sarà considerata un plus. formazione richiesta: laurea in ingegneria elettronica, robotica, aerospaziale, informatica o esperienza equivalente. completano il profilo una buona conoscenza della lingua inglese, proattività, capacità di problem solving e di lavoro in team. si offre contratto a tempo indeterminato e la possibilità di lavorare presso un importante cliente del settore aerospace&defence. \\xa0e' inoltre previsto supporto da parte dell'azienda.\",\n",
              "  9)]"
            ]
          },
          "metadata": {},
          "execution_count": 14
        }
      ]
    },
    {
      "cell_type": "markdown",
      "metadata": {
        "id": "jT2d_Uzuod3P"
      },
      "source": [
        "# **Hash Functions and Global Variables**"
      ]
    },
    {
      "cell_type": "code",
      "metadata": {
        "id": "GTK5M8iloLd7"
      },
      "source": [
        "def hashFamily(i):\n",
        "  resultSize = 8\n",
        "  maxLen = 20 \n",
        "  salt = str(i).zfill(maxLen)[-maxLen:]\n",
        "  def hashMember(x):\n",
        "    return int(hashlib.sha1(x.encode('utf-8') + salt.encode('utf-8')).hexdigest()[-resultSize:], 16)\n",
        "  return hashMember"
      ],
      "execution_count": 15,
      "outputs": []
    },
    {
      "cell_type": "code",
      "metadata": {
        "id": "F1W4Aeofm7a-"
      },
      "source": [
        "#global variables: set the same as in Problem 2\n",
        "k = 10\n",
        "t = 100\n",
        "b = 10\n",
        "r = int(t/b)\n",
        "s = 0.8"
      ],
      "execution_count": 16,
      "outputs": []
    },
    {
      "cell_type": "markdown",
      "metadata": {
        "id": "S4xyHiOQojn2"
      },
      "source": [
        "# **Shingling**"
      ]
    },
    {
      "cell_type": "markdown",
      "metadata": {
        "id": "XbbjLlRTw7Mb"
      },
      "source": [
        "With a power of Spark we can easily represent all the dataset as a dataset of couples `(index, shingle)`, where `index` $-$ is an **index of the document**, to which this shingle belongs, so we can always get the entire $k$-shingle set, corresponding to a particular document.  "
      ]
    },
    {
      "cell_type": "code",
      "metadata": {
        "colab": {
          "base_uri": "https://localhost:8080/"
        },
        "id": "lLj7IY_yoaYW",
        "outputId": "b03d2e43-0755-4f4e-8726-e65b2390c9fe"
      },
      "source": [
        "start_time_pipeline = time.time()\n",
        "shingles = txt.flatMap(lambda line: [(line[1], shingle) for shingle in set([line[0][i:i+k] for i in range(0, len(line[0]) - k + 1)])])\n",
        "\n",
        "shingles.take(10)"
      ],
      "execution_count": 17,
      "outputs": [
        {
          "output_type": "execute_result",
          "data": {
            "text/plain": [
              "[(0, 'so di tutt'),\n",
              " (0, 'fondita di'),\n",
              " (0, 'enza si ri'),\n",
              " (0, 'a si ricer'),\n",
              " (0, 'asilare co'),\n",
              " (0, 'ata esperi'),\n",
              " (0, ' link a pr'),\n",
              " (0, ' e after e'),\n",
              " (0, 'e after ef'),\n",
              " (0, 'ondita e d')]"
            ]
          },
          "metadata": {},
          "execution_count": 17
        }
      ]
    },
    {
      "cell_type": "markdown",
      "metadata": {
        "id": "rDOZ1AtWzU7p"
      },
      "source": [
        "Here we perfom a mapping to change the key-value paris to a new set, in which the **value is a hash** of a given $k$-shingle."
      ]
    },
    {
      "cell_type": "code",
      "metadata": {
        "colab": {
          "base_uri": "https://localhost:8080/"
        },
        "id": "sREpJMqXqA57",
        "outputId": "afbb3524-9c3f-43a0-b315-64983804c626"
      },
      "source": [
        "h = hashFamily(1)\n",
        "hashed_shingles = shingles.map(lambda line: (line[0], h(line[1])))\n",
        "\n",
        "hashed_shingles.take(10)"
      ],
      "execution_count": 18,
      "outputs": [
        {
          "output_type": "execute_result",
          "data": {
            "text/plain": [
              "[(0, 3144206161),\n",
              " (0, 2402504238),\n",
              " (0, 176612626),\n",
              " (0, 699448986),\n",
              " (0, 4018840556),\n",
              " (0, 4083956041),\n",
              " (0, 3703487612),\n",
              " (0, 946062341),\n",
              " (0, 3532600866),\n",
              " (0, 768497043)]"
            ]
          },
          "metadata": {},
          "execution_count": 18
        }
      ]
    },
    {
      "cell_type": "markdown",
      "metadata": {
        "id": "0s8MR-le0hfm"
      },
      "source": [
        "# **Minwise Hashing**"
      ]
    },
    {
      "cell_type": "markdown",
      "metadata": {
        "id": "aTMauza0EsSq"
      },
      "source": [
        "We start from the input in the form of $k$-shingle sets. \n"
      ]
    },
    {
      "cell_type": "markdown",
      "metadata": {
        "id": "WIUzc8W9H66U"
      },
      "source": [
        "First, we transform `(shingle, index)` couples into `((index, hash_function_index), hash)` couples, where\n",
        "\n",
        ">`index` $-$ again an index of the document in the dataset, \n",
        "\n",
        ">`hash_function_index` $-$ an index of a family member from the hash functions family,\n",
        "\n",
        ">`hash` $-$ a hash of a given shingle after application of the current family member. "
      ]
    },
    {
      "cell_type": "markdown",
      "metadata": {
        "id": "vC5lm22UH9sh"
      },
      "source": [
        "Therefore, key-value `((index, hash_function_index), hash)` couple with the same `(index, hash_function_index)` key exists as many times as the number of shingles in the $k$-shingles set of the document with `index`."
      ]
    },
    {
      "cell_type": "code",
      "metadata": {
        "colab": {
          "base_uri": "https://localhost:8080/"
        },
        "id": "cW2jPk6A0VmZ",
        "outputId": "fd290331-1146-4787-b9f4-af287463d60b"
      },
      "source": [
        "hashed_family_shingles = shingles.flatMap(lambda line: [((line[0], i), h(line[1])) for (i, h) in [(i, hashFamily(i)) for i in range(1, t+1)]])\n",
        "\n",
        "hashed_family_shingles.take(15)"
      ],
      "execution_count": 19,
      "outputs": [
        {
          "output_type": "execute_result",
          "data": {
            "text/plain": [
              "[((0, 1), 3144206161),\n",
              " ((0, 2), 3222467061),\n",
              " ((0, 3), 2139456305),\n",
              " ((0, 4), 505994397),\n",
              " ((0, 5), 349000194),\n",
              " ((0, 6), 3876889083),\n",
              " ((0, 7), 2697778568),\n",
              " ((0, 8), 2889832540),\n",
              " ((0, 9), 883038693),\n",
              " ((0, 10), 1392102110),\n",
              " ((0, 11), 3877287351),\n",
              " ((0, 12), 3249362571),\n",
              " ((0, 13), 2624492449),\n",
              " ((0, 14), 372305720),\n",
              " ((0, 15), 4279738365)]"
            ]
          },
          "metadata": {},
          "execution_count": 19
        }
      ]
    },
    {
      "cell_type": "markdown",
      "metadata": {
        "id": "SDoT2IWGILM-"
      },
      "source": [
        "Now for each document for the fixed hash family member we compute minimum has (i.e. grouping by key, we compute **minimum hash value over all hashed shingles**). \n"
      ]
    },
    {
      "cell_type": "markdown",
      "metadata": {
        "id": "0K9tpTdULQEa"
      },
      "source": [
        "As the result, we get `((index, hash_function_index), min_hash)` couples, where\n",
        "\n",
        "> `hash_function_index` $-$ an index of an element in the signature vector,\n",
        "\n",
        ">` min_hash` $-$ an element of the signature vector with index `hash_function_index`, \n",
        "\n",
        "> `index` $-$ an index of the document, which signature vector containing ` min_hash` with `hash_function_index` index corresponds to. \n",
        "\n",
        "Therefore, output that we got is in fact a **signature matrix.**"
      ]
    },
    {
      "cell_type": "code",
      "metadata": {
        "colab": {
          "base_uri": "https://localhost:8080/"
        },
        "id": "WCESQm4-2RLz",
        "outputId": "91a0b7bb-89e9-4043-8205-5be9a9690016"
      },
      "source": [
        "start_time_sig = time.time()\n",
        "signatures = hashed_family_shingles.reduceByKey(lambda line1, line2 : min(line1,line2)).sortByKey()\n",
        "print(\"Signature matrix has been computed within {} seconds.\\n\".format(round(time.time()-start_time_sig, 3)))\n",
        "signatures.take(10)"
      ],
      "execution_count": 20,
      "outputs": [
        {
          "output_type": "stream",
          "name": "stdout",
          "text": [
            "Signature matrix has been computed within 658.217 seconds.\n",
            "\n"
          ]
        },
        {
          "output_type": "execute_result",
          "data": {
            "text/plain": [
              "[((0, 1), 26345623),\n",
              " ((0, 2), 38050713),\n",
              " ((0, 3), 14601143),\n",
              " ((0, 4), 4072488),\n",
              " ((0, 5), 12636253),\n",
              " ((0, 6), 1374495),\n",
              " ((0, 7), 3767497),\n",
              " ((0, 8), 30256053),\n",
              " ((0, 9), 8388411),\n",
              " ((0, 10), 6990399)]"
            ]
          },
          "metadata": {},
          "execution_count": 20
        }
      ]
    },
    {
      "cell_type": "markdown",
      "metadata": {
        "id": "gRwglLDUL7G_"
      },
      "source": [
        "# **LSH**"
      ]
    },
    {
      "cell_type": "markdown",
      "metadata": {
        "id": "f9wZXQwZnKrb"
      },
      "source": [
        "##**Divide Signature Matrix**\n",
        "\n",
        "First step is to **divide signature matrix** into $b$ bands with $r$ rows. Using a helper function to define band given index of the vector element, we replace `((index, hash_function_index), min_hash)` tuple with  `((index, band), min_hash)`."
      ]
    },
    {
      "cell_type": "code",
      "metadata": {
        "id": "k57JzX4b4J3S"
      },
      "source": [
        "def define_band(sig_vec_idx):\n",
        "  for band, i in enumerate(range(r, t+r, r)):\n",
        "    if sig_vec_idx <= i:\n",
        "      return band+1"
      ],
      "execution_count": 21,
      "outputs": []
    },
    {
      "cell_type": "code",
      "metadata": {
        "colab": {
          "base_uri": "https://localhost:8080/"
        },
        "id": "7v_wfLzPNV-z",
        "outputId": "ec468dc5-8497-4818-a61b-036c5fdc8193"
      },
      "source": [
        "start_time_lsh = time.time()\n",
        "bands = signatures.flatMap(lambda line: [((line[0][0], define_band(line[0][1])), line[1])])\n",
        "\n",
        "bands.take(10)"
      ],
      "execution_count": 22,
      "outputs": [
        {
          "output_type": "execute_result",
          "data": {
            "text/plain": [
              "[((0, 1), 26345623),\n",
              " ((0, 1), 38050713),\n",
              " ((0, 1), 14601143),\n",
              " ((0, 1), 4072488),\n",
              " ((0, 1), 12636253),\n",
              " ((0, 1), 1374495),\n",
              " ((0, 1), 3767497),\n",
              " ((0, 1), 30256053),\n",
              " ((0, 1), 8388411),\n",
              " ((0, 1), 6990399)]"
            ]
          },
          "metadata": {},
          "execution_count": 22
        }
      ]
    },
    {
      "cell_type": "markdown",
      "metadata": {
        "id": "dVCVYBvXpVGQ"
      },
      "source": [
        "##**Hash**\n",
        "\n",
        "Now, what we want to do is to **compute for each band a hash function** that takes vectors of $r$ elements (the portion of one column within that band) and hashes them. But since our hashing function takes a string as an input, we will do it in two steps: \n",
        "\n",
        "1) **Cast** type of `min_hash` to string and **concatenate** them over band; \n",
        "\n",
        "2) Apply **hashing**."
      ]
    },
    {
      "cell_type": "code",
      "metadata": {
        "colab": {
          "base_uri": "https://localhost:8080/"
        },
        "id": "Six82Mb6Rgpl",
        "outputId": "aa62c427-c286-439e-c8cc-8cad776feb87"
      },
      "source": [
        "bands_reduced = bands.reduceByKey(lambda line1, line2 : str(line1)+str(line2)).sortByKey()\n",
        "\n",
        "bands_reduced.take(10)"
      ],
      "execution_count": 23,
      "outputs": [
        {
          "output_type": "execute_result",
          "data": {
            "text/plain": [
              "[((0, 1),\n",
              "  '263456233805071314601143407248812636253137449537674973025605383884116990399'),\n",
              " ((0, 2),\n",
              "  '629946411206475150302305133621380208402999448582523671992352611437023719829'),\n",
              " ((0, 3),\n",
              "  '168093511895970623587879729321027355082697751026027421829524384872269983296'),\n",
              " ((0, 4),\n",
              "  '277158961311768128908861147054737870590170337119326317108982445417887395'),\n",
              " ((0, 5),\n",
              "  '110856498959964724311931827677816711910291217759508647243450253949027967445'),\n",
              " ((0, 6),\n",
              "  '146118154624032803348710773470108166851297778564995292382463811770429268774'),\n",
              " ((0, 7),\n",
              "  '2758537614722289283989557150076293604126044563060580888970183610711702635'),\n",
              " ((0, 8),\n",
              "  '3254113175041908211964780832293183625046030649799707256390162426216375618'),\n",
              " ((0, 9),\n",
              "  '1517363110404544151879371554058425649280143005794317217424305444525911612050'),\n",
              " ((0, 10),\n",
              "  '9285571115273381632709833454282665208421148284796126214371928437211911811')]"
            ]
          },
          "metadata": {},
          "execution_count": 23
        }
      ]
    },
    {
      "cell_type": "markdown",
      "metadata": {
        "id": "jTJwyouvqpmZ"
      },
      "source": [
        "As the result, we obtain tuples `((index, band), band_hash)` where each document is represented inside each band as just one number `band_hash`."
      ]
    },
    {
      "cell_type": "code",
      "metadata": {
        "colab": {
          "base_uri": "https://localhost:8080/"
        },
        "id": "ez6NbhZpR-dD",
        "outputId": "ee817daa-f2c2-4fda-f9f8-2a5625ecc4a5"
      },
      "source": [
        "bands_hashed = bands_reduced.map(lambda line: (line[0], h(line[1])))\n",
        "\n",
        "bands_hashed.take(10)"
      ],
      "execution_count": 24,
      "outputs": [
        {
          "output_type": "execute_result",
          "data": {
            "text/plain": [
              "[((0, 1), 184215864),\n",
              " ((0, 2), 1077249376),\n",
              " ((0, 3), 446555541),\n",
              " ((0, 4), 2358882946),\n",
              " ((0, 5), 1558140311),\n",
              " ((0, 6), 128960355),\n",
              " ((0, 7), 1380435980),\n",
              " ((0, 8), 1405268789),\n",
              " ((0, 9), 539037899),\n",
              " ((0, 10), 2884072399)]"
            ]
          },
          "metadata": {},
          "execution_count": 24
        }
      ]
    },
    {
      "cell_type": "markdown",
      "metadata": {
        "id": "yQ1W5ASlrnpX"
      },
      "source": [
        "##**Find Candidates**\n",
        "\n",
        "Next goal is to find inside each band which documents should become **candidates**, i.e. which documents got the same `hash_band` value. \n",
        "\n",
        "Therefore, for each `band` and each `band_hash`, we want to **count**, how many documents have it, and **filter out** all the documents which were hashed uniquely inside each band. Then, documents which were not filtered out, become candidates."
      ]
    },
    {
      "cell_type": "markdown",
      "metadata": {
        "id": "RB38fP6Du73K"
      },
      "source": [
        "    Step 1. Rearrange key-value pairs in a way appropriate for counting. "
      ]
    },
    {
      "cell_type": "code",
      "metadata": {
        "colab": {
          "base_uri": "https://localhost:8080/"
        },
        "id": "-yxB3KJaTrU1",
        "outputId": "2423a7d8-cc23-45af-d952-ea69f05b3c90"
      },
      "source": [
        "changed_keys = bands_hashed.map(lambda line: ((line[0][1], line[1]), line[0][0]))\n",
        "\n",
        "changed_keys.take(10)"
      ],
      "execution_count": 25,
      "outputs": [
        {
          "output_type": "execute_result",
          "data": {
            "text/plain": [
              "[((1, 184215864), 0),\n",
              " ((2, 1077249376), 0),\n",
              " ((3, 446555541), 0),\n",
              " ((4, 2358882946), 0),\n",
              " ((5, 1558140311), 0),\n",
              " ((6, 128960355), 0),\n",
              " ((7, 1380435980), 0),\n",
              " ((8, 1405268789), 0),\n",
              " ((9, 539037899), 0),\n",
              " ((10, 2884072399), 0)]"
            ]
          },
          "metadata": {},
          "execution_count": 25
        }
      ]
    },
    {
      "cell_type": "markdown",
      "metadata": {
        "id": "j_zDju-0vtKw"
      },
      "source": [
        "    Step 2. Replace document index with 1 in order to sum up rows by key then."
      ]
    },
    {
      "cell_type": "code",
      "metadata": {
        "colab": {
          "base_uri": "https://localhost:8080/"
        },
        "id": "tYiPmn_dUuC_",
        "outputId": "4305cee4-b0ad-4857-cc2a-f50117bb7387"
      },
      "source": [
        "count_candidates = changed_keys.map(lambda line: (line[0], 1))\n",
        "\n",
        "count_candidates.take(10)"
      ],
      "execution_count": 26,
      "outputs": [
        {
          "output_type": "execute_result",
          "data": {
            "text/plain": [
              "[((1, 184215864), 1),\n",
              " ((2, 1077249376), 1),\n",
              " ((3, 446555541), 1),\n",
              " ((4, 2358882946), 1),\n",
              " ((5, 1558140311), 1),\n",
              " ((6, 128960355), 1),\n",
              " ((7, 1380435980), 1),\n",
              " ((8, 1405268789), 1),\n",
              " ((9, 539037899), 1),\n",
              " ((10, 2884072399), 1)]"
            ]
          },
          "metadata": {},
          "execution_count": 26
        }
      ]
    },
    {
      "cell_type": "markdown",
      "metadata": {
        "id": "0KBSkBDCwjPr"
      },
      "source": [
        "    Step 3. Perform counting."
      ]
    },
    {
      "cell_type": "code",
      "metadata": {
        "colab": {
          "base_uri": "https://localhost:8080/"
        },
        "id": "_2snvOExqrFV",
        "outputId": "0509d4ad-0742-4fb8-9e0e-103dc0a8919e"
      },
      "source": [
        "counted_candidates = count_candidates.reduceByKey(lambda line1, line2: line1+line2)\n",
        "\n",
        "counted_candidates.take(10)"
      ],
      "execution_count": 27,
      "outputs": [
        {
          "output_type": "execute_result",
          "data": {
            "text/plain": [
              "[((2, 1077249376), 153),\n",
              " ((3, 446555541), 153),\n",
              " ((4, 2358882946), 153),\n",
              " ((5, 1558140311), 153),\n",
              " ((9, 539037899), 153),\n",
              " ((7, 2126668039), 19),\n",
              " ((8, 3283088510), 19),\n",
              " ((10, 4239847336), 19),\n",
              " ((2, 2910322450), 19),\n",
              " ((8, 3233294692), 19)]"
            ]
          },
          "metadata": {},
          "execution_count": 27
        }
      ]
    },
    {
      "cell_type": "markdown",
      "metadata": {
        "id": "kwGx13Iexdnv"
      },
      "source": [
        "    Step 4. Retrieve back indices of documents."
      ]
    },
    {
      "cell_type": "code",
      "metadata": {
        "colab": {
          "base_uri": "https://localhost:8080/"
        },
        "id": "jaeNtwJzqtaZ",
        "outputId": "e7045d2e-839f-47e9-bfbb-ed34b514c4fb"
      },
      "source": [
        "documents_with_counts = changed_keys.join(counted_candidates)\n",
        "\n",
        "documents_with_counts.take(10)"
      ],
      "execution_count": 28,
      "outputs": [
        {
          "output_type": "execute_result",
          "data": {
            "text/plain": [
              "[((2, 1077249376), (0, 153)),\n",
              " ((2, 1077249376), (15, 153)),\n",
              " ((2, 1077249376), (23, 153)),\n",
              " ((2, 1077249376), (29, 153)),\n",
              " ((2, 1077249376), (48, 153)),\n",
              " ((2, 1077249376), (64, 153)),\n",
              " ((2, 1077249376), (71, 153)),\n",
              " ((2, 1077249376), (92, 153)),\n",
              " ((2, 1077249376), (113, 153)),\n",
              " ((2, 1077249376), (130, 153))]"
            ]
          },
          "metadata": {},
          "execution_count": 28
        }
      ]
    },
    {
      "cell_type": "markdown",
      "metadata": {
        "id": "WU9l_ARBylnx"
      },
      "source": [
        "    Step 5. Filter out non-duplicate documents."
      ]
    },
    {
      "cell_type": "code",
      "metadata": {
        "colab": {
          "base_uri": "https://localhost:8080/"
        },
        "id": "miZ3RGSENs-0",
        "outputId": "61a9c257-b27f-4171-a7fc-570a23ab6bd4"
      },
      "source": [
        "candidates = documents_with_counts.filter(lambda line: line[1][1]>1)\n",
        "\n",
        "candidates.take(10)"
      ],
      "execution_count": 29,
      "outputs": [
        {
          "output_type": "execute_result",
          "data": {
            "text/plain": [
              "[((2, 1077249376), (0, 153)),\n",
              " ((2, 1077249376), (15, 153)),\n",
              " ((2, 1077249376), (23, 153)),\n",
              " ((2, 1077249376), (29, 153)),\n",
              " ((2, 1077249376), (48, 153)),\n",
              " ((2, 1077249376), (64, 153)),\n",
              " ((2, 1077249376), (71, 153)),\n",
              " ((2, 1077249376), (92, 153)),\n",
              " ((2, 1077249376), (113, 153)),\n",
              " ((2, 1077249376), (130, 153))]"
            ]
          },
          "metadata": {},
          "execution_count": 29
        }
      ]
    },
    {
      "cell_type": "markdown",
      "metadata": {
        "id": "h6Vd5RwqzLT_"
      },
      "source": [
        "Now we rearrange collection to create mapping between `(band, band_hash)` as key and list of indices of documents which were hashed in `band` to `band_hash`. \n",
        "\n",
        "*Note:* Aforementioned list is in fact $(n+1)$-tuple built according to the following logic: element of $(n+1)$-tuple with index $1$ is n itself."
      ]
    },
    {
      "cell_type": "code",
      "metadata": {
        "colab": {
          "base_uri": "https://localhost:8080/"
        },
        "id": "pKYPx2IDQSQl",
        "outputId": "4dad3087-6dda-4e15-bb8b-d470fdc9bee3"
      },
      "source": [
        "grouped_candidates = candidates.reduceByKey(lambda line1, line2: (line1+line2)[:-1])\n",
        "\n",
        "grouped_candidates.take(2)"
      ],
      "execution_count": 30,
      "outputs": [
        {
          "output_type": "execute_result",
          "data": {
            "text/plain": [
              "[((2, 1077249376),\n",
              "  (0,\n",
              "   153,\n",
              "   15,\n",
              "   23,\n",
              "   29,\n",
              "   48,\n",
              "   64,\n",
              "   71,\n",
              "   92,\n",
              "   113,\n",
              "   130,\n",
              "   150,\n",
              "   161,\n",
              "   182,\n",
              "   194,\n",
              "   202,\n",
              "   210,\n",
              "   217,\n",
              "   229,\n",
              "   238,\n",
              "   243,\n",
              "   259,\n",
              "   263,\n",
              "   272,\n",
              "   285,\n",
              "   300,\n",
              "   309,\n",
              "   317,\n",
              "   338,\n",
              "   349,\n",
              "   358,\n",
              "   365,\n",
              "   385,\n",
              "   394,\n",
              "   397,\n",
              "   411,\n",
              "   421,\n",
              "   428,\n",
              "   432,\n",
              "   442,\n",
              "   458,\n",
              "   462,\n",
              "   472,\n",
              "   476,\n",
              "   496,\n",
              "   504,\n",
              "   507,\n",
              "   515,\n",
              "   533,\n",
              "   539,\n",
              "   543,\n",
              "   547,\n",
              "   565,\n",
              "   574,\n",
              "   580,\n",
              "   589,\n",
              "   610,\n",
              "   626,\n",
              "   630,\n",
              "   649,\n",
              "   655,\n",
              "   661,\n",
              "   675,\n",
              "   696,\n",
              "   706,\n",
              "   711,\n",
              "   713,\n",
              "   734,\n",
              "   742,\n",
              "   745,\n",
              "   760,\n",
              "   781,\n",
              "   789,\n",
              "   792,\n",
              "   795,\n",
              "   810,\n",
              "   819,\n",
              "   824,\n",
              "   845,\n",
              "   853,\n",
              "   855,\n",
              "   866,\n",
              "   887,\n",
              "   891,\n",
              "   902,\n",
              "   915,\n",
              "   922,\n",
              "   926,\n",
              "   938,\n",
              "   959,\n",
              "   975,\n",
              "   980,\n",
              "   981,\n",
              "   998,\n",
              "   1007,\n",
              "   1008,\n",
              "   1013,\n",
              "   1030,\n",
              "   1034,\n",
              "   1047,\n",
              "   1048,\n",
              "   1049,\n",
              "   1063,\n",
              "   1068,\n",
              "   1076,\n",
              "   1097,\n",
              "   1101,\n",
              "   1102,\n",
              "   1105,\n",
              "   1120,\n",
              "   1121,\n",
              "   1129,\n",
              "   1142,\n",
              "   1145,\n",
              "   1153,\n",
              "   1167,\n",
              "   1173,\n",
              "   1175,\n",
              "   1180,\n",
              "   1181,\n",
              "   1196,\n",
              "   1199,\n",
              "   1201,\n",
              "   1214,\n",
              "   1235,\n",
              "   1256,\n",
              "   1277,\n",
              "   1298,\n",
              "   1319,\n",
              "   1340,\n",
              "   1361,\n",
              "   1382,\n",
              "   1396,\n",
              "   1400,\n",
              "   1419,\n",
              "   1440,\n",
              "   1458,\n",
              "   1473,\n",
              "   1488,\n",
              "   1503,\n",
              "   1518,\n",
              "   1533,\n",
              "   1548,\n",
              "   1563,\n",
              "   1578,\n",
              "   1593,\n",
              "   1608,\n",
              "   1623,\n",
              "   1638,\n",
              "   1653,\n",
              "   1668,\n",
              "   1683,\n",
              "   1698,\n",
              "   1713)),\n",
              " ((4, 2358882946),\n",
              "  (0,\n",
              "   153,\n",
              "   15,\n",
              "   23,\n",
              "   29,\n",
              "   48,\n",
              "   64,\n",
              "   71,\n",
              "   92,\n",
              "   113,\n",
              "   130,\n",
              "   150,\n",
              "   161,\n",
              "   182,\n",
              "   194,\n",
              "   202,\n",
              "   210,\n",
              "   217,\n",
              "   229,\n",
              "   238,\n",
              "   243,\n",
              "   259,\n",
              "   263,\n",
              "   272,\n",
              "   285,\n",
              "   300,\n",
              "   309,\n",
              "   317,\n",
              "   338,\n",
              "   349,\n",
              "   358,\n",
              "   365,\n",
              "   385,\n",
              "   394,\n",
              "   397,\n",
              "   411,\n",
              "   421,\n",
              "   428,\n",
              "   432,\n",
              "   442,\n",
              "   458,\n",
              "   462,\n",
              "   472,\n",
              "   476,\n",
              "   496,\n",
              "   504,\n",
              "   507,\n",
              "   515,\n",
              "   533,\n",
              "   539,\n",
              "   543,\n",
              "   547,\n",
              "   565,\n",
              "   574,\n",
              "   580,\n",
              "   589,\n",
              "   610,\n",
              "   626,\n",
              "   630,\n",
              "   649,\n",
              "   655,\n",
              "   661,\n",
              "   675,\n",
              "   696,\n",
              "   706,\n",
              "   711,\n",
              "   713,\n",
              "   734,\n",
              "   742,\n",
              "   745,\n",
              "   760,\n",
              "   781,\n",
              "   789,\n",
              "   792,\n",
              "   795,\n",
              "   810,\n",
              "   819,\n",
              "   824,\n",
              "   845,\n",
              "   853,\n",
              "   855,\n",
              "   866,\n",
              "   887,\n",
              "   891,\n",
              "   902,\n",
              "   915,\n",
              "   922,\n",
              "   926,\n",
              "   938,\n",
              "   959,\n",
              "   975,\n",
              "   980,\n",
              "   981,\n",
              "   998,\n",
              "   1007,\n",
              "   1008,\n",
              "   1013,\n",
              "   1030,\n",
              "   1034,\n",
              "   1047,\n",
              "   1048,\n",
              "   1049,\n",
              "   1063,\n",
              "   1068,\n",
              "   1076,\n",
              "   1097,\n",
              "   1101,\n",
              "   1102,\n",
              "   1105,\n",
              "   1120,\n",
              "   1121,\n",
              "   1129,\n",
              "   1142,\n",
              "   1145,\n",
              "   1153,\n",
              "   1167,\n",
              "   1173,\n",
              "   1175,\n",
              "   1180,\n",
              "   1181,\n",
              "   1196,\n",
              "   1199,\n",
              "   1201,\n",
              "   1214,\n",
              "   1235,\n",
              "   1256,\n",
              "   1277,\n",
              "   1298,\n",
              "   1319,\n",
              "   1340,\n",
              "   1361,\n",
              "   1382,\n",
              "   1396,\n",
              "   1400,\n",
              "   1419,\n",
              "   1440,\n",
              "   1458,\n",
              "   1473,\n",
              "   1488,\n",
              "   1503,\n",
              "   1518,\n",
              "   1533,\n",
              "   1548,\n",
              "   1563,\n",
              "   1578,\n",
              "   1593,\n",
              "   1608,\n",
              "   1623,\n",
              "   1638,\n",
              "   1653,\n",
              "   1668,\n",
              "   1683,\n",
              "   1698,\n",
              "   1713))]"
            ]
          },
          "metadata": {},
          "execution_count": 30
        }
      ]
    },
    {
      "cell_type": "markdown",
      "metadata": {
        "id": "0lXyUKZk3dHY"
      },
      "source": [
        "The last step in the \"find candidates\" procedure is to represent them in the form of **set of pairs** of documents indices. \n",
        "\n",
        "Iterating over all $(n+1)$-tuples in the collection, we first **remove** length elements from the $(n+1)$-tuple and **convert** it to a list, and then, using `itertools` utility, build all possible unique **couplings of elements** in the list. \n",
        "\n",
        "We use `set` data strtucture to keep only unique pairs (the same coupling could appear from the different $(n+1)$-tuples)."
      ]
    },
    {
      "cell_type": "code",
      "metadata": {
        "colab": {
          "base_uri": "https://localhost:8080/"
        },
        "id": "1Z_6fmST0bC0",
        "outputId": "1f90ecd2-a2ca-4abc-cade-039f4ba26d35"
      },
      "source": [
        "candidate_pairs = set()\n",
        "for _, doc_tuple in tqdm(grouped_candidates.collect()):\n",
        "  docs = list([doc_tuple[0]])+list(doc_tuple[2:])\n",
        "  for pair in itertools.combinations(docs, 2):\n",
        "    candidate_pairs.add(pair)\n",
        "  "
      ],
      "execution_count": 31,
      "outputs": [
        {
          "output_type": "stream",
          "name": "stderr",
          "text": [
            "100%|██████████| 786/786 [00:00<00:00, 8822.74it/s]\n"
          ]
        }
      ]
    },
    {
      "cell_type": "markdown",
      "metadata": {
        "id": "TgQjnbzX6AYM"
      },
      "source": [
        "##**Check Jaccard**\n",
        "\n",
        "We need signature vectors to compute **estimated Jaccard similarity**. \n",
        "\n",
        "They could be found in the signature matrix, cleaned from `band` components (no division into bands is needed anymore once we found the candidates)."
      ]
    },
    {
      "cell_type": "code",
      "metadata": {
        "colab": {
          "base_uri": "https://localhost:8080/"
        },
        "id": "Hpu2tt1-YMEw",
        "outputId": "7e9b49e0-3f9b-468b-9e9b-741a90f98d16"
      },
      "source": [
        "signature_vectors = signatures.map(lambda line: (line[0][0], line[1]))\n",
        "signature_vectors.take(10)"
      ],
      "execution_count": 32,
      "outputs": [
        {
          "output_type": "execute_result",
          "data": {
            "text/plain": [
              "[(0, 26345623),\n",
              " (0, 38050713),\n",
              " (0, 14601143),\n",
              " (0, 4072488),\n",
              " (0, 12636253),\n",
              " (0, 1374495),\n",
              " (0, 3767497),\n",
              " (0, 30256053),\n",
              " (0, 8388411),\n",
              " (0, 6990399)]"
            ]
          },
          "metadata": {},
          "execution_count": 32
        }
      ]
    },
    {
      "cell_type": "markdown",
      "metadata": {
        "id": "01quBa5o7Glp"
      },
      "source": [
        "Now for convenient access to signature vector of the desired document, we create `dictionary` data structure and save to it documents in the form of `document index`-`signature vector of this document` key-value pairs. Signature vectors are `numpy` arrays."
      ]
    },
    {
      "cell_type": "code",
      "metadata": {
        "colab": {
          "base_uri": "https://localhost:8080/"
        },
        "id": "-NRVOT1KbqHP",
        "outputId": "5887ef93-9ec2-4c18-b036-a7c72e3af9b6"
      },
      "source": [
        "sig_dict = dict()\n",
        "sig_grouped = signature_vectors.reduceByKey(lambda line1, line2: str(line1)+'\\n'+str(line2))\n",
        "sig_sets = sig_grouped.map(lambda line: (line[0], np.array(list(map(int, line[1].split('\\n'))))))\n",
        "for (doc, signature) in tqdm(sig_sets.collect()):\n",
        "  sig_dict[doc] = signature"
      ],
      "execution_count": 33,
      "outputs": [
        {
          "output_type": "stream",
          "name": "stderr",
          "text": [
            "100%|██████████| 1728/1728 [00:00<00:00, 491107.01it/s]\n"
          ]
        }
      ]
    },
    {
      "cell_type": "markdown",
      "metadata": {
        "id": "tiSSznv08JN6"
      },
      "source": [
        "Finally, we interate over set of candidate pairs, retrieve from the dictionary **signature vectors** of candidates, compute the ratio of coincidence between them and, **comparing the ratio with a given threshold**, keep only those candidate pairs, which are above the threshold."
      ]
    },
    {
      "cell_type": "code",
      "metadata": {
        "colab": {
          "base_uri": "https://localhost:8080/"
        },
        "id": "42JJF3UODdva",
        "outputId": "7e9c93fc-5b7a-4e05-9e8c-94a2681034dd"
      },
      "source": [
        "lsh_duplicates = set()\n",
        "for (doc1, doc2) in tqdm(candidate_pairs):\n",
        "  if (sig_dict[doc1]==sig_dict[doc2]).sum()/t >= s:\n",
        "    lsh_duplicates.add((doc1,doc2))   \n",
        "\n",
        "print(\"\\n\\nLSH has been computed within {} seconds.\\n\".format(round(time.time()-start_time_lsh, 3)))\n",
        "print(\"Entire pipeline has been computed within {} seconds.\\n\".format(round(time.time()-start_time_pipeline, 3)))"
      ],
      "execution_count": 34,
      "outputs": [
        {
          "output_type": "stream",
          "name": "stderr",
          "text": [
            "100%|██████████| 18733/18733 [00:00<00:00, 121222.62it/s]"
          ]
        },
        {
          "output_type": "stream",
          "name": "stdout",
          "text": [
            "\n",
            "\n",
            "LSH has been computed within 5.925 seconds.\n",
            "\n",
            "Entire pipeline has been computed within 665.455 seconds.\n",
            "\n"
          ]
        },
        {
          "output_type": "stream",
          "name": "stderr",
          "text": [
            "\n"
          ]
        }
      ]
    },
    {
      "cell_type": "markdown",
      "metadata": {
        "id": "SNukmzB526Ai"
      },
      "source": [
        "#**Testing**"
      ]
    },
    {
      "cell_type": "markdown",
      "metadata": {
        "id": "fjdz0vH5Dw90"
      },
      "source": [
        "In order to perform testing, we need to find the **nearest neighbors by comparing all the shingle sets with each other**. \n",
        "\n",
        "Again we need to organize an easy access to the shingle set of the desired document by document index. Therefore, by analogy with signature vectors, we create a `dictionary` with `document index`-`shingle set of this document` key-value pairs."
      ]
    },
    {
      "cell_type": "code",
      "metadata": {
        "colab": {
          "base_uri": "https://localhost:8080/"
        },
        "id": "hoNWZTmTBSrF",
        "outputId": "9bb8f101-9d14-4ff9-9c61-e3ebe89b594e"
      },
      "source": [
        "start_time_dc = time.time()\n",
        "shingle_dict = dict()\n",
        "shingles_grouped = shingles.reduceByKey(lambda line1, line2: line1+'\\n'+line2)\n",
        "shingle_sets = shingles_grouped.map(lambda line: (line[0], set(line[1].split('\\n'))))\n",
        "for (doc, shingle_set) in tqdm(shingle_sets.collect()):\n",
        "  shingle_dict[doc] = shingle_set"
      ],
      "execution_count": 35,
      "outputs": [
        {
          "output_type": "stream",
          "name": "stderr",
          "text": [
            "100%|██████████| 1728/1728 [00:00<00:00, 620686.59it/s]\n"
          ]
        }
      ]
    },
    {
      "cell_type": "markdown",
      "metadata": {
        "id": "5g4RxevfFFXa"
      },
      "source": [
        "Then, knowing the number of documents in the dataset, we can use `itertools` to get **all possible couplings** between documents indices. Then, iterating over pairs of indices, we pop out corresponding **shingle sets from the dictionary**, compute **Jaccard similarity** between them and compare found quantity with the desired threshold. \n",
        "\n",
        "**Thresholding** operation defines duplicate documents."
      ]
    },
    {
      "cell_type": "code",
      "metadata": {
        "colab": {
          "base_uri": "https://localhost:8080/"
        },
        "id": "MbtopNg0PFhv",
        "outputId": "608f1638-caf0-414f-b792-da3407973685"
      },
      "source": [
        "dc_duplicates = set()\n",
        "all_pairs = itertools.combinations(np.arange(txt.count()), 2)\n",
        "for (doc1, doc2) in tqdm(all_pairs):\n",
        "  if len(shingle_dict[doc1].intersection(shingle_dict[doc2])) / len(shingle_dict[doc1].union(shingle_dict[doc2])) >= s:\n",
        "    dc_duplicates.add((doc1,doc2))\n",
        "\n",
        "print(\"\\n\\nDirect comparison has been computed within {} seconds.\\n\".format(round(time.time()-start_time_dc, 3))) "
      ],
      "execution_count": 36,
      "outputs": [
        {
          "output_type": "stream",
          "name": "stderr",
          "text": [
            "1492128it [03:53, 6385.52it/s]"
          ]
        },
        {
          "output_type": "stream",
          "name": "stdout",
          "text": [
            "\n",
            "\n",
            "Direct comparison has been computed within 239.137 seconds.\n",
            "\n"
          ]
        },
        {
          "output_type": "stream",
          "name": "stderr",
          "text": [
            "\n"
          ]
        }
      ]
    },
    {
      "cell_type": "markdown",
      "metadata": {
        "id": "qOC8rhtkUX6x"
      },
      "source": [
        "##**Time**\n",
        "\n",
        "> Comparison of only candidates with LSH is very fast and doesn't even take `tqdm` second counter to start, meanwhile comparison of all the pairs directly could take a while: 03:53 min.\n",
        "\n",
        "> Exact computational time of LSH part of algorithm is 5.925 sec, exact time of a direct approach is 239.137 sec (around 4 min).\n",
        "\n",
        "> However, computation of the signature matrix at the Minwise step with sorting is time consuming: 658.217 sec (around 11 min).\n",
        "\n",
        "> Overall time of execution of the shingling, minwise hashing, and locality-sensitive hashing is 665.455 sec.\n",
        "\n"
      ]
    },
    {
      "cell_type": "markdown",
      "metadata": {
        "id": "pZ4N_vsiTyBB"
      },
      "source": [
        "##**Number of duplicates**"
      ]
    },
    {
      "cell_type": "code",
      "metadata": {
        "colab": {
          "base_uri": "https://localhost:8080/"
        },
        "id": "r0pZ883yTy_B",
        "outputId": "a6b25b1f-4b45-4433-d672-96f7e98e0e19"
      },
      "source": [
        "print(\"The number of duplicates found by LSH is equal to \", len(lsh_duplicates), \n",
        "      \"\\nThe number of duplicates found by direct comparison is equal to \", len(dc_duplicates), \n",
        "      \"\\nSize of intersection is equal to \", len(lsh_duplicates.intersection(dc_duplicates)))"
      ],
      "execution_count": 37,
      "outputs": [
        {
          "output_type": "stream",
          "name": "stdout",
          "text": [
            "The number of duplicates found by LSH is equal to  18449 \n",
            "The number of duplicates found by direct comparison is equal to  18447 \n",
            "Size of intersection is equal to  18439\n"
          ]
        }
      ]
    },
    {
      "cell_type": "markdown",
      "metadata": {
        "id": "VaorUxDLfqCJ"
      },
      "source": [
        "##**Print Examples**"
      ]
    },
    {
      "cell_type": "code",
      "metadata": {
        "colab": {
          "base_uri": "https://localhost:8080/"
        },
        "id": "ULndtDVEei9c",
        "outputId": "be40503a-9f9a-4f1e-8a44-e35702443f18"
      },
      "source": [
        "(doc1, doc2) = lsh_duplicates.pop()\n",
        "for (description, index) in txt.collect():\n",
        "  if index in [doc1, doc2]:\n",
        "    print(description)"
      ],
      "execution_count": 38,
      "outputs": [
        {
          "output_type": "stream",
          "name": "stdout",
          "text": [
            "editor video con con approfondita e documentata esperienza si ricerca per posizione interna alla struttura; si richiede 1) conoscenza approfondita di premiere e after effects, basilare conoscenza di davinci, residenza entro 15 km da novara se interessati e in possesso di tutti i requisiti inviare un curriculum a job at giuseppegalliano.it e link a proprio show reel.\n",
            "editor video con con approfondita e documentata esperienza si ricerca per posizione interna alla struttura; si richiede 1) conoscenza approfondita di premiere e after effects, basilare conoscenza di davinci, residenza entro 15 km da novara se interessati e in possesso di tutti i requisiti inviare un curriculum a job at giuseppegalliano.it e link a proprio show reel.\n"
          ]
        }
      ]
    },
    {
      "cell_type": "code",
      "metadata": {
        "colab": {
          "base_uri": "https://localhost:8080/"
        },
        "id": "i9eIwDmme9fT",
        "outputId": "7271cfa1-d4f3-4185-b7ca-6f38a729d0bd"
      },
      "source": [
        "(doc1, doc2) = dc_duplicates.pop()\n",
        "for (description, index) in txt.collect():\n",
        "  if index in [doc1, doc2]:\n",
        "    print(description)"
      ],
      "execution_count": 39,
      "outputs": [
        {
          "output_type": "stream",
          "name": "stdout",
          "text": [
            "editor video con con approfondita e documentata esperienza si ricerca per posizione interna alla struttura; si richiede 1) conoscenza approfondita di premiere e after effects, basilare conoscenza di davinci, residenza entro 15 km da novara se interessati e in possesso di tutti i requisiti inviare un curriculum a job at giuseppegalliano.it e link a proprio show reel.\n",
            "editor video con con approfondita e documentata esperienza si ricerca per posizione interna alla struttura; si richiede 1) conoscenza approfondita di premiere e after effects, basilare conoscenza di davinci, residenza entro 15 km da novara se interessati e in possesso di tutti i requisiti inviare un curriculum a job at giuseppegalliano.it e link a proprio show reel.\n"
          ]
        }
      ]
    }
  ]
}
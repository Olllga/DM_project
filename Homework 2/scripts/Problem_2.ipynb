{
  "nbformat": 4,
  "nbformat_minor": 0,
  "metadata": {
    "colab": {
      "name": "DM_Homework_2__Problem_2__1937430_Olga_Sorokoletova.ipynb",
      "provenance": [],
      "collapsed_sections": [
        "j5TwJCds3aGG",
        "9ecqgp3x3bw6",
        "jfX7R3n6C7zi",
        "25EsEbI--9xs",
        "Ftk5Ohj8qZgl",
        "w8ch8HaBVosR",
        "yYvZB6kZVg8i"
      ]
    },
    "kernelspec": {
      "name": "python3",
      "display_name": "Python 3"
    },
    "language_info": {
      "name": "python"
    }
  },
  "cells": [
    {
      "cell_type": "markdown",
      "metadata": {
        "id": "j5TwJCds3aGG"
      },
      "source": [
        "#**Imports**#"
      ]
    },
    {
      "cell_type": "code",
      "metadata": {
        "id": "dRnHYZjEss9S"
      },
      "source": [
        "import requests\n",
        "from bs4 import BeautifulSoup\n",
        "import csv\n",
        "from tqdm import tqdm\n",
        "import time\n",
        "import pandas as pd\n",
        "import re\n",
        "import hashlib\n",
        "import numpy as np"
      ],
      "execution_count": 6,
      "outputs": []
    },
    {
      "cell_type": "markdown",
      "metadata": {
        "id": "9ecqgp3x3bw6"
      },
      "source": [
        "#**Load Data**#"
      ]
    },
    {
      "cell_type": "code",
      "metadata": {
        "id": "LTAqqZmV3VrO"
      },
      "source": [
        "url = 'https://www.kijiji.it/offerte-di-lavoro/offerta/informatica-e-web/'"
      ],
      "execution_count": 350,
      "outputs": []
    },
    {
      "cell_type": "code",
      "metadata": {
        "colab": {
          "base_uri": "https://localhost:8080/"
        },
        "id": "CAyimWFr3hrL",
        "outputId": "ef74e096-c829-4c60-bbd6-882267d45ccf"
      },
      "source": [
        "def get_data_from_url(url, num_pages):\n",
        "\n",
        "  new_url = url\n",
        "\n",
        "  with open('/tmp/output.tsv', 'wt') as out_file:\n",
        "    tsv_writer = csv.writer(out_file, delimiter='\\t')\n",
        "    tsv_writer.writerow(['Title', 'Description', 'Location', 'Publication Date', 'URL'])\n",
        "\n",
        "    for i in tqdm(range(1, num_pages+1)):\n",
        "      if i > 1:\n",
        "        new_url = url + \"?p=\" + str(i)\n",
        "\n",
        "      r = requests.get(new_url)\n",
        "      soup = BeautifulSoup(r.content)\n",
        "      g_data = soup.find_all(\"div\", {\"class\": \"item-content\"})\n",
        "      for item in g_data:\n",
        "        tsv_writer.writerow([item.contents[1].find_all(\"a\", {\"class\": \"cta\"})[0].text.strip(),\n",
        "                             item.contents[3].text, \n",
        "                             item.contents[7].text, item.contents[9].text,\n",
        "                             item.contents[1].find_all(\"a\", {\"class\": \"cta\"})[0].get('href')])\n",
        "      time.sleep(0.75)\n",
        "\n",
        "#152 is the number of pages with job announcements on the kijiji web page in the Informatica/Grafica/Web sector     \n",
        "get_data_from_url(url, 152)"
      ],
      "execution_count": 351,
      "outputs": [
        {
          "output_type": "stream",
          "name": "stderr",
          "text": [
            "100%|██████████| 152/152 [04:10<00:00,  1.65s/it]\n"
          ]
        }
      ]
    },
    {
      "cell_type": "code",
      "metadata": {
        "colab": {
          "base_uri": "https://localhost:8080/"
        },
        "id": "jKXq60Ti3tfi",
        "outputId": "c9124662-c52c-4b5b-f6df-103958937e18"
      },
      "source": [
        "tsv_file = open(\"/tmp/output.tsv\")\n",
        "read_tsv = csv.reader(tsv_file, delimiter=\"\\t\")\n",
        "\n",
        "for i, row in enumerate(read_tsv):\n",
        "  print(row)\n",
        "  if i == 5:\n",
        "    break"
      ],
      "execution_count": 352,
      "outputs": [
        {
          "output_type": "stream",
          "name": "stdout",
          "text": [
            "['Title', 'Description', 'Location', 'Publication Date', 'URL']\n",
            "['Editor Premiere - videografico-a After Effects', 'Editor video con con approfondita e documentata esperienza si ricerca per posizione interna alla struttura; si richiede 1) conoscenza approfondita di Premiere e After Effects, basilare conoscenza di Davinci, residenza entro 15 km da Novara\\nSe interessati e in possesso di tutti i requisiti inviare un curriculum a Job AT giuseppegalliano.it e link a proprio show reel.', 'Novara', '31 agosto, 19:02', 'https://www.kijiji.it/annunci/offerta/messina-annunci-novara-di-sicilia/editor-premiere-videografico-a-after-effects/159299183']\n",
            "['Analista software', 'Hai ottime capacità di analisi e attitudine al problem solving\\' Per società operante nel settore informatico ricerchiamo un Analista che si occupi di analizzare i requisiti e le esigenze di business per produrre le specifiche tecniche e i progetti.In collaborazione con i soci ti occuperai della raccolta di tutte le informazioni utili alla progettazione di software dedicati e ti occuperai poi della verifica e studio della fattibilità, in collaborazione con il team di programmatori.Ti chiediamo di aver già maturato esperienza e di conoscere i principali linguaggi di programmazione, oltre che di avere attitudine ai rapporti interpersonali e al lavoro in team.Sede di lavoro: Lentiai (BL), con disponibilità a trasferte regionali e nei territori limitrofi.Data inizio prevista: 01/12/2021Categoria Professionale: Analisi / Sviluppo Software / WebSettore: INFORMATION TECHNOLOGY & TELECOMUNICAZIONICittà: Feltre (Belluno)Esperienza lavorativa: analista softwareIstruzione: Diploma / Accademia - Scientifico / TecnicoLaurea Triennale - Tecnico / IngegneristicoMezzi di trasporto: AutoDisponibilità oraria: Full TimeI candidati, nel rispetto del D.lgs. 198/2006, D.lgs 215/2003 e D.lgs 216/2003, sono invitati a leggere l\\'informativa sulla privacy. (Regolamento UE n. 2016/679). Facsimile di domanda è disponibile al seguente link Facsimile domanda candidatura. ATTENZIONE: Abbiamo rilevato la presenza in rete di molti annunci falsi; prendi visione dei nostri consigli per riconoscere i tentativi di truffa al seguente link. Adecco Italia S.p.A. (Aut. Min. Prot. N.1100-SG del 26.11.2004).\\n\\nClicca sul link sottostante \"sito web\" per inviarci la tua candidatura.', 'Belluno', 'Oggi, 04:10', 'https://www.kijiji.it/annunci/offerta/belluno-annunci-belluno/analista-software/167793348']\n",
            "['Operaio per car wrapping e antifurti', '\\n\\nClicca sul link sottostante \"sito web\" per inviarci la tua candidatura.', 'Napoli', 'Oggi, 04:10', 'https://www.kijiji.it/annunci/offerta/napoli-annunci-napoli/operaio-per-car-wrapping-e-antifurti/167793330']\n",
            "['Figura professinale ingegnere /architetto', '\\n\\nClicca sul link sottostante \"sito web\" per inviarci la tua candidatura.', 'Torino', 'Oggi, 04:09', 'https://www.kijiji.it/annunci/offerta/torino-annunci-torino/figura-professinale-ingegnere-architetto/167793276']\n",
            "['Neodiplomati/ laurea breve in ingegneria o architettura', 'Oggi Lavoro Srl - Filiale di Tradate seleziona per azienda cliente sita a Ternate NEODIPLOMATI/ LAUREA BREVE IN INGEGNERIA O ARCHITETTURARequisiti richiesti: Diploma laurea a indirizzo tecnico, ottima conoscenza di autocad e del pacchetto office, disponibilità immediata. E\\' preferibile la conoscenza di Sketchup, Revit, Adoboe Photoshop.La risorsa si occuperà , in affiancamento col responsabile senior, di progettazione, direzione lavori, coordinamento cantieri verifica e gestione della documentazione, rilievi e ingegnerizzazione progetti.Luogo di lavoro: prov di Varese, per una fase iniziale è previsto un alloggioOrario di lavoro: full timeTipo di contratto: inziale stage I candidati ambosessi (D.Lgs. 198/2006), sono invitati a leggere sul nostro sito l\\'informativa privacy (D.Lgs. 196/2003). Aut. Min. 10/10/2007 Prot.\\n\\nClicca sul link sottostante \"sito web\" per inviarci la tua candidatura.', 'Varese', 'Oggi, 04:09', 'https://www.kijiji.it/annunci/offerta/varese-annunci-varese/neodiplomati-laurea-breve-in-ingegneria-o-architettura/167793266']\n"
          ]
        }
      ]
    },
    {
      "cell_type": "code",
      "metadata": {
        "colab": {
          "base_uri": "https://localhost:8080/"
        },
        "id": "_i6X_wiV32zB",
        "outputId": "ee4367c4-591c-44b8-90ee-0edc76dfb9fa"
      },
      "source": [
        "df = pd.read_csv('/tmp/output.tsv', delimiter = '\\t')\n",
        "df.count()"
      ],
      "execution_count": 354,
      "outputs": [
        {
          "output_type": "execute_result",
          "data": {
            "text/plain": [
              "Title               3187\n",
              "Description         3187\n",
              "Location            3187\n",
              "Publication Date    3187\n",
              "URL                 3187\n",
              "dtype: int64"
            ]
          },
          "metadata": {},
          "execution_count": 354
        }
      ]
    },
    {
      "cell_type": "code",
      "metadata": {
        "colab": {
          "base_uri": "https://localhost:8080/",
          "height": 306
        },
        "id": "IoyKzjqq3_dK",
        "outputId": "3e064807-ac50-4dd4-e30a-7c3ddaa69f15"
      },
      "source": [
        "df.head()"
      ],
      "execution_count": 355,
      "outputs": [
        {
          "output_type": "execute_result",
          "data": {
            "text/html": [
              "<div>\n",
              "<style scoped>\n",
              "    .dataframe tbody tr th:only-of-type {\n",
              "        vertical-align: middle;\n",
              "    }\n",
              "\n",
              "    .dataframe tbody tr th {\n",
              "        vertical-align: top;\n",
              "    }\n",
              "\n",
              "    .dataframe thead th {\n",
              "        text-align: right;\n",
              "    }\n",
              "</style>\n",
              "<table border=\"1\" class=\"dataframe\">\n",
              "  <thead>\n",
              "    <tr style=\"text-align: right;\">\n",
              "      <th></th>\n",
              "      <th>Title</th>\n",
              "      <th>Description</th>\n",
              "      <th>Location</th>\n",
              "      <th>Publication Date</th>\n",
              "      <th>URL</th>\n",
              "    </tr>\n",
              "  </thead>\n",
              "  <tbody>\n",
              "    <tr>\n",
              "      <th>0</th>\n",
              "      <td>Editor Premiere - videografico-a After Effects</td>\n",
              "      <td>Editor video con con approfondita e documentata esperienza si ricerca per posizione interna alla...</td>\n",
              "      <td>Novara</td>\n",
              "      <td>31 agosto, 19:02</td>\n",
              "      <td>https://www.kijiji.it/annunci/offerta/messina-annunci-novara-di-sicilia/editor-premiere-videogra...</td>\n",
              "    </tr>\n",
              "    <tr>\n",
              "      <th>1</th>\n",
              "      <td>Analista software</td>\n",
              "      <td>Hai ottime capacità di analisi e attitudine al problem solving' Per società operante nel settore...</td>\n",
              "      <td>Belluno</td>\n",
              "      <td>Oggi, 04:10</td>\n",
              "      <td>https://www.kijiji.it/annunci/offerta/belluno-annunci-belluno/analista-software/167793348</td>\n",
              "    </tr>\n",
              "    <tr>\n",
              "      <th>2</th>\n",
              "      <td>Operaio per car wrapping e antifurti</td>\n",
              "      <td>\\n\\nClicca sul link sottostante \"sito web\" per inviarci la tua candidatura.</td>\n",
              "      <td>Napoli</td>\n",
              "      <td>Oggi, 04:10</td>\n",
              "      <td>https://www.kijiji.it/annunci/offerta/napoli-annunci-napoli/operaio-per-car-wrapping-e-antifurti...</td>\n",
              "    </tr>\n",
              "    <tr>\n",
              "      <th>3</th>\n",
              "      <td>Figura professinale ingegnere /architetto</td>\n",
              "      <td>\\n\\nClicca sul link sottostante \"sito web\" per inviarci la tua candidatura.</td>\n",
              "      <td>Torino</td>\n",
              "      <td>Oggi, 04:09</td>\n",
              "      <td>https://www.kijiji.it/annunci/offerta/torino-annunci-torino/figura-professinale-ingegnere-archit...</td>\n",
              "    </tr>\n",
              "    <tr>\n",
              "      <th>4</th>\n",
              "      <td>Neodiplomati/ laurea breve in ingegneria o architettura</td>\n",
              "      <td>Oggi Lavoro Srl - Filiale di Tradate seleziona per azienda cliente sita a Ternate NEODIPLOMATI/ ...</td>\n",
              "      <td>Varese</td>\n",
              "      <td>Oggi, 04:09</td>\n",
              "      <td>https://www.kijiji.it/annunci/offerta/varese-annunci-varese/neodiplomati-laurea-breve-in-ingegne...</td>\n",
              "    </tr>\n",
              "  </tbody>\n",
              "</table>\n",
              "</div>"
            ],
            "text/plain": [
              "                                                     Title  ...                                                                                                  URL\n",
              "0           Editor Premiere - videografico-a After Effects  ...  https://www.kijiji.it/annunci/offerta/messina-annunci-novara-di-sicilia/editor-premiere-videogra...\n",
              "1                                        Analista software  ...            https://www.kijiji.it/annunci/offerta/belluno-annunci-belluno/analista-software/167793348\n",
              "2                     Operaio per car wrapping e antifurti  ...  https://www.kijiji.it/annunci/offerta/napoli-annunci-napoli/operaio-per-car-wrapping-e-antifurti...\n",
              "3                Figura professinale ingegnere /architetto  ...  https://www.kijiji.it/annunci/offerta/torino-annunci-torino/figura-professinale-ingegnere-archit...\n",
              "4  Neodiplomati/ laurea breve in ingegneria o architettura  ...  https://www.kijiji.it/annunci/offerta/varese-annunci-varese/neodiplomati-laurea-breve-in-ingegne...\n",
              "\n",
              "[5 rows x 5 columns]"
            ]
          },
          "metadata": {},
          "execution_count": 355
        }
      ]
    },
    {
      "cell_type": "markdown",
      "metadata": {
        "id": "vHHDYX628AkZ"
      },
      "source": [
        "Analysis will be done based on the **\"Description\"** field of the DataFrame, as it is suggested in the assignment. \n",
        "\n",
        "Therefore, we **clean up data** from the announcements which contain reference to the web-page instead of the description, because they are not really duplicates of the same announcement, but different announcements without description."
      ]
    },
    {
      "cell_type": "code",
      "metadata": {
        "colab": {
          "base_uri": "https://localhost:8080/"
        },
        "id": "iY8sTZHywvmX",
        "outputId": "0524bb0f-7290-4fe4-e4de-6687efd1063f"
      },
      "source": [
        "df_with_description = df[df['Description'] != '\\n\\nClicca sul link sottostante \"sito web\" per inviarci la tua candidatura.']\n",
        "df_with_description.count()"
      ],
      "execution_count": 356,
      "outputs": [
        {
          "output_type": "execute_result",
          "data": {
            "text/plain": [
              "Title               1662\n",
              "Description         1662\n",
              "Location            1662\n",
              "Publication Date    1662\n",
              "URL                 1662\n",
              "dtype: int64"
            ]
          },
          "metadata": {},
          "execution_count": 356
        }
      ]
    },
    {
      "cell_type": "markdown",
      "metadata": {
        "id": "jfX7R3n6C7zi"
      },
      "source": [
        "# **Hash Functions**"
      ]
    },
    {
      "cell_type": "markdown",
      "metadata": {
        "id": "_x7hxEFqDIEi"
      },
      "source": [
        "A piece of code provided in the assignment, but with the corrected encoding part (row №6)."
      ]
    },
    {
      "cell_type": "code",
      "metadata": {
        "id": "APGYnAZsP7VH"
      },
      "source": [
        "def hashFamily(i):\n",
        "  resultSize = 8\n",
        "  maxLen = 20 \n",
        "  salt = str(i).zfill(maxLen)[-maxLen:]\n",
        "  def hashMember(x):\n",
        "    return int(hashlib.sha1(x.encode('utf-8') + salt.encode('utf-8')).hexdigest()[-resultSize:], 16)\n",
        "  return hashMember"
      ],
      "execution_count": 357,
      "outputs": []
    },
    {
      "cell_type": "markdown",
      "metadata": {
        "id": "25EsEbI--9xs"
      },
      "source": [
        "# **Shingling**"
      ]
    },
    {
      "cell_type": "markdown",
      "metadata": {
        "id": "A78m-Ng8_YYC"
      },
      "source": [
        "##**Kind of Shingling**\n",
        "\n",
        "*Book Def*. If document is a string of characters, then **$k$-shingle** for a document is a substring of length $k$ found within the document.\n",
        "\n",
        "*Note:* It's possible to work on shingles built from words or from characters. Given task assignment suggests to use exactly **characters shingling**.\n",
        "\n",
        "##**Preprocessing**\n",
        "\n",
        "*Suggestion from the book:* There are several options regarding how white space (blank, tab, newline, etc.) is treated. It probably makes sense to replace any sequence of one or more white-space characters by a single blank. That way, we distinguish shingles that cover two or more words from those that do not.\n",
        "\n",
        "In our particular task assignment we consider strings, contained in the **Description** field of DataFrame as documents. After implementing pre-processing step of the Problem 1 of the current homework, it is known that in our case \"sequence of one or more white-space characters\" could be represented either by `\\n`, or by single blank.\n",
        "\n",
        "Therefore, everything that is needed to be done in order to follow suggestion from the book is to **replace `\\n` with a single blank**.\n",
        "\n",
        "Apart from that, amongst pre-processing steps only **lowercasing** is applied: we don't want to remove punctuation/specific characters, because they bring information that might be useful for distinguishing between shingles, we don't manipulate tokens, because the work is arranged on the character level.\n",
        "\n",
        "##**CLASS DESCRIPTION**\n",
        "*Assignment:* Implement a class that, given a document, creates its set of character shingles of some length $k$.\n",
        "\n",
        "- **INPUT:** A DOCUMENT AS A STRING AND $k$\n",
        "- LOWERCASING\n",
        "- REPLACING `\\n`\n",
        "- DOUBLE BLANKS REMOVAL\n",
        "- SPLITTING INTO SHINGLES\n",
        "- **OUTPUT:** A DOCUMENT AS A SET OF SHINGLES"
      ]
    },
    {
      "cell_type": "code",
      "metadata": {
        "id": "8N3PIW4g_Xla"
      },
      "source": [
        "class Shingling:\n",
        "\n",
        "    def __init__(self, doc: str, k: int = 10):\n",
        "        self.doc = doc\n",
        "        self.k = k #By default we will use shingles of length 10 characters\n",
        "\n",
        "    def preprocess(self):\n",
        "        self.doc = self.doc.lower()\n",
        "        self.doc = re.sub('\\n', ' ', self.doc)\n",
        "        self.doc = re.sub(' +', ' ', self.doc)\n",
        "    \n",
        "    def split(self):\n",
        "        self.preprocess()\n",
        "        self.s = set([self.doc[i:i+self.k] for i in range(0, len(self.doc) - self.k + 1)])\n",
        "        return self.s"
      ],
      "execution_count": 358,
      "outputs": []
    },
    {
      "cell_type": "markdown",
      "metadata": {
        "id": "1dLVtsoDD7LU"
      },
      "source": [
        "*Assignment:* Then represent the document as the set of the hashes of the shingles, for some hash function."
      ]
    },
    {
      "cell_type": "code",
      "metadata": {
        "id": "lSF08myrYL6w"
      },
      "source": [
        "def hashing_shingles(doc):\n",
        "  sh = Shingling(doc)\n",
        "  s = sh.split()\n",
        "  h = hashFamily(1) #1st member of the family (could be chosen with the random seed instead of 1)\n",
        "  hashed_s = set([h(shingle) for shingle in s])\n",
        "  return hashed_s"
      ],
      "execution_count": 359,
      "outputs": []
    },
    {
      "cell_type": "markdown",
      "metadata": {
        "id": "-D2DvnjeEtmt"
      },
      "source": [
        "##**Example**\n",
        "\n"
      ]
    },
    {
      "cell_type": "code",
      "metadata": {
        "colab": {
          "base_uri": "https://localhost:8080/"
        },
        "id": "lFiJyVlUPg6q",
        "outputId": "8d71f301-38f9-44c0-e438-9a62cf3013c4"
      },
      "source": [
        "doc = 'Editor\\n video\\n editor video con con approfondita e documentata esperienza si ricerca per posizione interna alla struttura'\n",
        "sh = Shingling(doc)\n",
        "s = sh.split()\n",
        "hs = hashing_shingles(doc)\n",
        "print(\"INPUT STRING:\\n\", doc)\n",
        "print(\"\\nLENGTH OF SHINGLE SET AND LENGTH OF HASHED SHINGLE SET\\n\", (len(s), len(hs))) #To check that didn't change\n",
        "print(\"\\nEXAMPLE FOR 5 SHINGLES IN BOTH SETS\\n\", list(zip(list(s)[:5], list(hs)[:5])))"
      ],
      "execution_count": 360,
      "outputs": [
        {
          "output_type": "stream",
          "name": "stdout",
          "text": [
            "INPUT STRING:\n",
            " Editor\n",
            " video\n",
            " editor video con con approfondita e documentata esperienza si ricerca per posizione interna alla struttura\n",
            "\n",
            "LENGTH OF SHINGLE SET AND LENGTH OF HASHED SHINGLE SET\n",
            " (106, 106)\n",
            "\n",
            "EXAMPLE FOR 5 SHINGLES IN BOTH SETS\n",
            " [('o editor v', 133963275), ('editor vid', 825021965), ('entata esp', 822642194), (' struttura', 1619594258), (' alla stru', 3601244693)]\n"
          ]
        }
      ]
    },
    {
      "cell_type": "markdown",
      "metadata": {
        "id": "Ftk5Ohj8qZgl"
      },
      "source": [
        "# **Minwise Hashing**"
      ]
    },
    {
      "cell_type": "markdown",
      "metadata": {
        "id": "_oOmvJ1Fqj6I"
      },
      "source": [
        "*Assignment:* Implement a class, that given a collection of sets of objects (e.g., strings, or numbers), creates a minwise hashing based signature for each set.\n",
        "\n",
        "So, first of all, let's **create** a collection for the class **input**: collection of sets of strings $-$ sets of $k$-shingles.\n"
      ]
    },
    {
      "cell_type": "code",
      "metadata": {
        "colab": {
          "base_uri": "https://localhost:8080/"
        },
        "id": "izpKFHbqstqm",
        "outputId": "5a1f1d8d-bfa3-4d1f-cdcb-1e96cd7f519a"
      },
      "source": [
        "# create a collection of sets for class input\n",
        "description_strings = df_with_description['Description']\n",
        "description_sets = description_strings.apply(lambda x: Shingling(x, k=10).split())\n",
        "description_sets[:5]"
      ],
      "execution_count": 361,
      "outputs": [
        {
          "output_type": "execute_result",
          "data": {
            "text/plain": [
              "0    {emiere e a, residenza ,  struttura, entata esp,  alla stru, ndita e do, enza si ri, siti invia,...\n",
              "1    {ettore: in, 679). facs, ità di ana, ifico / te, colaurea t, formazioni, isponibile, ttazione d,...\n",
              "4    {ratto: inz, sito l'inf, 003). aut., nza di ske, tazione, r, a. e' pref,  i candida, previsto u,...\n",
              "5    {in progett, niche, cat,  mansioni , l.903/77) , declinazio,  (art.13, ,  azienda c, ionale;-es,...\n",
              "6    {nte gli in, ni:program, to informa, a e di lav, rtimento r,  sebbene n, n/una adde, eader tra ,...\n",
              "Name: Description, dtype: object"
            ]
          },
          "metadata": {},
          "execution_count": 361
        }
      ]
    },
    {
      "cell_type": "markdown",
      "metadata": {
        "id": "VYS2kfLNILO6"
      },
      "source": [
        "##**CLASS DESCRIPTION**\n",
        "\n",
        "\n",
        "$t$ $-$ signature length, by default is set equal to $100$.\n",
        "\n",
        "- **INPUT:** COLLECTION OF SETS OF STRINGS AND $t$\n",
        "- REPEAT $\\forall$ SETS IN COLLECTION\n",
        "> - REPEAT $\\forall$ $t$ HASH FUNCTIONS\n",
        ">> - COMPUTE HASH FUNCTION $\\forall$ SHINGLES IN SET\n",
        ">> - FIND MINIMUM\n",
        ">> - MINIMUM BECOMES AN ELEMENT OF THE SIGNATURE VECTOR\n",
        "- **OUTOUT:** COLLECTIONS OF SIGNATURE VECTORS"
      ]
    },
    {
      "cell_type": "code",
      "metadata": {
        "id": "_Nu2aon5V_aG"
      },
      "source": [
        "class Minwise:\n",
        "\n",
        "    def __init__(self, collection: pd.Series, t: int = 100):\n",
        "      self.collection = collection\n",
        "      self.t = t\n",
        "\n",
        "    def create_signature(self):\n",
        "        self.signature = pd.DataFrame(data=None)\n",
        "        for i in tqdm(range(1, self.t+1)):\n",
        "          h_i = hashFamily(i)\n",
        "          f_i = self.collection.apply(lambda shingle_set: min(set([h_i(shingle) for shingle in shingle_set])))\n",
        "          self.signature = pd.concat([self.signature, f_i], axis=1)\n",
        "          self.signature = self.signature.rename(columns={'Description': 'f_{}'.format(i)})\n",
        "        return self.signature\n"
      ],
      "execution_count": 362,
      "outputs": []
    },
    {
      "cell_type": "code",
      "metadata": {
        "colab": {
          "base_uri": "https://localhost:8080/"
        },
        "id": "OuGtBNMK57AG",
        "outputId": "2aaf106f-bb67-49ae-832e-3f632d19d42b"
      },
      "source": [
        "m = Minwise(description_sets)\n",
        "sig_df = m.create_signature()"
      ],
      "execution_count": 363,
      "outputs": [
        {
          "output_type": "stream",
          "name": "stderr",
          "text": [
            "100%|██████████| 100/100 [04:47<00:00,  2.87s/it]\n"
          ]
        }
      ]
    },
    {
      "cell_type": "code",
      "metadata": {
        "colab": {
          "base_uri": "https://localhost:8080/"
        },
        "id": "E_l6hnw47LE5",
        "outputId": "bf5e2da3-f90a-4620-d70e-f77d6b0254a6"
      },
      "source": [
        "signature_vectors = sig_df.values\n",
        "signature_vectors[:1]"
      ],
      "execution_count": 364,
      "outputs": [
        {
          "output_type": "execute_result",
          "data": {
            "text/plain": [
              "array([[26345623, 38050713, 14601143,  4072488, 12636253,  1374495,\n",
              "         3767497, 30256053,  8388411,  6990399,  6299464, 11206475,\n",
              "        15030230,  5133621, 38020840, 29994485,  8252367, 19923526,\n",
              "         1143702,  3719829,  1680935, 11895970, 62358787, 97293210,\n",
              "        27355082,  6977510,  2602742, 18295243,  8487226,  9983296,\n",
              "        27715896,  1311768, 12890886, 11470547,   378705, 90170337,\n",
              "         1193263,  1710898,   244541,  7887395, 11085649,  8959964,\n",
              "         7243119, 31827677,  8167119, 10291217,  7595086, 47243450,\n",
              "        25394902,  7967445, 14611815,  4624032,  8033487, 10773470,\n",
              "        10816685, 12977785,  6499529, 23824638, 11770429,   268774,\n",
              "        27585376, 14722289,  2839895,  5715007,  6293604, 12604456,\n",
              "         3060580,  8889701,   836107, 11702635,  3254113, 17504190,\n",
              "         8211964, 78083229, 31836250,  4603064,  9799707, 25639016,\n",
              "         2426216,   375618, 15173631, 10404544, 15187937, 15540584,\n",
              "        25649280, 14300579,  4317217,  4243054,  4452591,  1612050,\n",
              "         9285571, 11527338, 16327098, 33454282,   665208,    42114,\n",
              "         8284796, 12621437, 19284372, 11911811]])"
            ]
          },
          "metadata": {},
          "execution_count": 364
        }
      ]
    },
    {
      "cell_type": "markdown",
      "metadata": {
        "id": "w8ch8HaBVosR"
      },
      "source": [
        "# **LSH**"
      ]
    },
    {
      "cell_type": "markdown",
      "metadata": {
        "id": "H_9ZQqT5ru3j"
      },
      "source": [
        "\n",
        "*Assignment:* Implement a class that implements the locally sensitive hashing (LSH) technique, so that, given a collection of minwise hash signatures of a set of documents, it finds the all the documents pairs that are near each other.\n",
        "\n",
        "##**Threshold**\n",
        "\n",
        "We will say that two announcements are near duplicates if the Jaccard coefficient of their shingle sets is at least $80%$. \n",
        "\n",
        "Therefore, we **choose a threshold** $s$ that defines how similar documents have to be in order for them to be regarded as a desired \"similar pair\" equal to $0.8$.\n",
        "\n",
        "##**$r$ and $b$**\n",
        "\n",
        "For a fised $t = 100$ a number of bands $b$ and a number of rows $r$ are picked such that $br = t$, and the threshold $s$ $\\approx$ $\\frac{1}{b}^\\frac{1}{r}$.\n",
        "\n",
        "$b = 10, r = 10$ are optimal for this case, although in fact they produce a bit lower threshold $s \\approx 0.794$, which penalizes **false negatives** (therefore, false positives are vice versa expected).\n",
        "\n",
        "##**CLASS DESCRIPTION**\n",
        "\n",
        "- **INPUT:** SIGNATURE MATRIX AS A PANDAS DATAFRAME (TRANSPOSED), NUMBER OF BANDS $b$ AND DESIRED THRESHOLD $s$\n",
        "- CREATE AN EMPTY SET THAT WILL KEEP 2-ELEMENT TUPLES $-$ INDICES OF CANDIDATE PAIR OF DOCUMENTS\n",
        "- DIVIDE THE SIGNATURE MATRIX INTO $b$ BANDS CONSISTING OF $r$ ROWS EACH\n",
        "- REPEAT $\\forall$ BAND\n",
        "> - CREATE AN EMPTY DICTIONARY FOR THIS BAND WHERE KEYS WILL BE HASHES AND VALUES WILL BE LISTS OF INDICES OF ALL THE DOCUMENTS THAT WERE HASHED TO THIS HASH FOR THE CURRENT BAND\n",
        "> - COMPUTE A HASH FUNCTION THAT TAKES VECTOR OF $r$ INTEGERS (THE PORTION OF ONE COLUMN WITHIN CURRENT BAND) AND HASHES THEM\n",
        "> - UPDATE THE BAND DICTIONARY AND IF SOME NEW CANDIDATE PAIR APPEARS, UPDATE SET OF CANDIDATES\n",
        "- FILTER SET OF CANDIDATES (COMPARISON OF THE ESTIMATED JACCARD SIMILARITY WITH A GIVEN THRESHOLD)\n",
        "- **OUTPUT:** SET OF TUPLES, EACH TUPLE $-$ INDICES OF PAIR OF DOCUMENTS THAT ARE NEAR EACH OTHER\n",
        "\n",
        "\n"
      ]
    },
    {
      "cell_type": "code",
      "metadata": {
        "id": "GHx589nkrxnN"
      },
      "source": [
        "class LSH:\n",
        "\n",
        "    def __init__(self, collection: pd.DataFrame, b: int = 10, s: float = 0.8):\n",
        "      self.collection = collection\n",
        "      self.t = self.collection.shape[1]\n",
        "      self.b = b\n",
        "      self.r = int(self.t / self.b)\n",
        "      self.h = hashFamily(1)\n",
        "      self.candidates = set()\n",
        "      self.s = s\n",
        "      print(\"COLLECTION:\\n\", self.collection)\n",
        "\n",
        "    def find_candidates(self):\n",
        "        print(\"\\nCandidates search has started.\")\n",
        "        for band_start in tqdm(range(0, self.t, self.r)):\n",
        "        \n",
        "          band_names = self.collection.columns[band_start:band_start+self.r]\n",
        "          band = self.collection[band_names]\n",
        "\n",
        "          band_dict = dict()\n",
        "          for (doc_id, doc) in zip(band.index, band.values):\n",
        "            doc_hash = self.h(str(doc))\n",
        "            if doc_hash not in list(band_dict.keys()):\n",
        "              l = list()\n",
        "              l.append(doc_id)\n",
        "              band_dict[doc_hash] = l\n",
        "            else:\n",
        "              for pair_candidate in band_dict[doc_hash]:\n",
        "                self.candidates.add(tuple(sorted([pair_candidate, doc_id])))\n",
        "              band_dict[doc_hash].append(doc_id)\n",
        "\n",
        "        return self.check_jaccard()\n",
        "\n",
        "    def check_jaccard(self):\n",
        "      self.output = set()\n",
        "      print(\"\\nCandidates check has started.\")\n",
        "      for (doc_id1, doc_id2) in tqdm(self.candidates):\n",
        "        if (self.collection[self.collection.index==doc_id1].values==self.collection[self.collection.index==doc_id2].values).sum()/self.t >= self.s:\n",
        "          self.output.add((doc_id1, doc_id2))\n",
        "      return self.output      "
      ],
      "execution_count": 365,
      "outputs": []
    },
    {
      "cell_type": "code",
      "metadata": {
        "colab": {
          "base_uri": "https://localhost:8080/"
        },
        "id": "S5uqwPQR9CKd",
        "outputId": "b9b7a045-69c5-41fc-c1b5-75bbc94c7963"
      },
      "source": [
        "lsh = LSH(sig_df)\n",
        "lsh_duplicates = lsh.find_candidates()"
      ],
      "execution_count": 366,
      "outputs": [
        {
          "output_type": "stream",
          "name": "stdout",
          "text": [
            "COLLECTION:\n",
            "            f_1       f_2       f_3  ...      f_98      f_99     f_100\n",
            "0     26345623  38050713  14601143  ...  12621437  19284372  11911811\n",
            "1      1744654   2620362   4386901  ...   2611723   6612311   3222934\n",
            "4      4315546    373729   1594827  ...    665243   5136030   6214771\n",
            "5      1225647    373729   1503761  ...   7532408   1660821   3823569\n",
            "6       647817   2481720    793272  ...  11357568   5292696   5992101\n",
            "...        ...       ...       ...  ...       ...       ...       ...\n",
            "3179   1573293   3271937  15739850  ...  32873585    777998   8734718\n",
            "3180   4315546    373729   2771673  ...   2643912    838145   2272727\n",
            "3182   3588297   2285455    249993  ...   2611723   3687878  10928945\n",
            "3183   1573293   1768218   9961987  ...    665243  14734767    450654\n",
            "3186   2171580    373729   2585175  ...    651198   1270011   3823569\n",
            "\n",
            "[1662 rows x 100 columns]\n",
            "\n",
            "Candidates search has started.\n"
          ]
        },
        {
          "output_type": "stream",
          "name": "stderr",
          "text": [
            "100%|██████████| 10/10 [00:01<00:00,  5.76it/s]\n"
          ]
        },
        {
          "output_type": "stream",
          "name": "stdout",
          "text": [
            "\n",
            "Candidates check has started.\n"
          ]
        },
        {
          "output_type": "stream",
          "name": "stderr",
          "text": [
            "100%|██████████| 14085/14085 [00:09<00:00, 1443.35it/s]\n"
          ]
        }
      ]
    },
    {
      "cell_type": "markdown",
      "metadata": {
        "id": "9NYBi71AbxfB"
      },
      "source": [
        "##**LSH Time**\n",
        "\n",
        "It takes $10s$ to derive a set of near-duplicate pairs with LSH. \n",
        "\n",
        "Note, that Minwise step took a long while ($5m$) to get signature vectors, but if we estimate LSH only, it's very fast. Meanwhile, Minwise step time depends on the desired length of signature vectors and could be shortened (or more advanced arrangement of the Minwise class internal computations could probably improve the result even with a current desired length of signature vectors)."
      ]
    },
    {
      "cell_type": "markdown",
      "metadata": {
        "id": "yYvZB6kZVg8i"
      },
      "source": [
        "# **Testing**"
      ]
    },
    {
      "cell_type": "markdown",
      "metadata": {
        "id": "awGHdLCgVxUQ"
      },
      "source": [
        "*Assignment:* To test the LSH algorithm, also implement a class that given the shingles of each of the documents, finds the nearest neighbors by comparing all the shingle sets with each other.\n",
        "\n",
        "##**CLASS DESCRIPTION**\n",
        "\n",
        "- **INPUT:** COLLECTION OF SETS OF STRINGS ($k$-SHINGLES)\n",
        "- CREATE AN EMPTY SET THAT WILL KEEP 2-ELEMENT TUPLES $-$ INDICES OF CANDIDATE PAIR OF DOCUMENTS\n",
        "- REPEAT $\\forall$ SETS IN COLLECTION\n",
        "> - COMPUTE JACCARD SIMILARITY BETWEEN CURRENT SET AND ALL SETS IN THE COLLECTION WITH WHICH IT HASN'T BEEN COMPARED YET\n",
        "> - IF COMPUTED SIMILARITY IS ABOVE THE GIVEN THRESHOLD, ADD INDICES OF CURRENT PAIR TO THE OUTPUT SET\n",
        "- **OUTPUT:** SET OF TUPLES, EACH TUPLE $-$ INDICES OF PAIR OF DOCUMENTS THAT ARE NEAR EACH OTHER"
      ]
    },
    {
      "cell_type": "code",
      "metadata": {
        "id": "aUsXdU--ccpf"
      },
      "source": [
        "class DirectComparison:\n",
        "\n",
        "    def __init__(self, collection: pd.Series, s: float = 0.8):\n",
        "      self.collection = collection\n",
        "      self.s = s\n",
        "      self.output = set()\n",
        "\n",
        "    def check_jaccard(self):\n",
        "\n",
        "      for (doc_id1, doc1) in tqdm(zip(self.collection.index, self.collection.values)):\n",
        "        following = self.collection[self.collection.index > doc_id1]\n",
        "        for (doc_id2, doc2) in zip(following.index, following.values):\n",
        "          if len(doc1.intersection(doc2)) / len(doc1.union(doc2)) >= self.s:\n",
        "            self.output.add((doc_id1,doc_id2))\n",
        "      return self.output        "
      ],
      "execution_count": 367,
      "outputs": []
    },
    {
      "cell_type": "code",
      "metadata": {
        "colab": {
          "base_uri": "https://localhost:8080/"
        },
        "id": "Wqa0byXHdp83",
        "outputId": "b19a41a5-f072-43de-cab6-d838de0bf4d0"
      },
      "source": [
        "dc = DirectComparison(description_sets)\n",
        "dc_duplicates = dc.check_jaccard()"
      ],
      "execution_count": 368,
      "outputs": [
        {
          "output_type": "stream",
          "name": "stderr",
          "text": [
            "1662it [02:47,  9.93it/s] \n"
          ]
        }
      ]
    },
    {
      "cell_type": "markdown",
      "metadata": {
        "id": "QXrkku_yc9yK"
      },
      "source": [
        "##**Direct Comparison Time**\n",
        "\n",
        "It takes around $3m$ to find nearest neighbors by comparing all the shingle sets with each other, which is expectedly long."
      ]
    },
    {
      "cell_type": "markdown",
      "metadata": {
        "id": "P3dLCpAGYFe5"
      },
      "source": [
        "##**Number of duplicates**\n",
        "\n",
        "*Assignment:* Report the number of duplicates found in both cases, and the size of the intersection.**Текст, выделенный полужирным шрифтом**\n",
        "\n",
        "As we can see, LSH found almost all the pairs correctly."
      ]
    },
    {
      "cell_type": "code",
      "metadata": {
        "colab": {
          "base_uri": "https://localhost:8080/"
        },
        "id": "7cKadh4pdyCh",
        "outputId": "6f88261c-cf07-450a-ebab-6205d4dca91e"
      },
      "source": [
        "print(\"The number of duplicates found by LSH is equal to \", len(lsh_duplicates), \n",
        "      \"\\nThe number of duplicates found by direct comparison is equal to \", len(dc_duplicates), \n",
        "      \"\\nSize of intersection is equal to \", len(lsh_duplicates.intersection(dc_duplicates)))"
      ],
      "execution_count": 369,
      "outputs": [
        {
          "output_type": "stream",
          "name": "stdout",
          "text": [
            "The number of duplicates found by LSH is equal to  13911 \n",
            "The number of duplicates found by direct comparison is equal to  13910 \n",
            "Size of intersectio is equal to  13900\n"
          ]
        }
      ]
    },
    {
      "cell_type": "markdown",
      "metadata": {
        "id": "-vC6oaB6Z70T"
      },
      "source": [
        "##**Print Examples**\n",
        "\n",
        "Let's display some near-duplicates announcements."
      ]
    },
    {
      "cell_type": "code",
      "metadata": {
        "id": "6g9lK18_aar0"
      },
      "source": [
        "# The desired number of examples to be set\n",
        "def display_announcements(duplicates, num_examples):\n",
        "  for i in range(num_examples):\n",
        "    (doc_id1, doc_id2) = duplicates.pop()\n",
        "    print((doc_id1, doc_id2))\n",
        "    print(\"-\"*200)\n",
        "    pd.set_option('display.max_colwidth', 100)\n",
        "    df1 = df[df.index==doc_id1]\n",
        "    df2 = df[df.index==doc_id2]\n",
        "    display(df1.append(df2))\n",
        "    print(\"-\"*200)"
      ],
      "execution_count": 371,
      "outputs": []
    },
    {
      "cell_type": "code",
      "metadata": {
        "colab": {
          "base_uri": "https://localhost:8080/",
          "height": 625
        },
        "id": "skE561l0fKh2",
        "outputId": "94acbfff-27fe-4087-af7d-1f5161316ba5"
      },
      "source": [
        "display_announcements(lsh_duplicates, 3)"
      ],
      "execution_count": 372,
      "outputs": [
        {
          "output_type": "stream",
          "name": "stdout",
          "text": [
            "(1386, 2184)\n",
            "--------------------------------------------------------------------------------------------------------------------------------------------------------------------------------------------------------\n"
          ]
        },
        {
          "output_type": "display_data",
          "data": {
            "text/html": [
              "<div>\n",
              "<style scoped>\n",
              "    .dataframe tbody tr th:only-of-type {\n",
              "        vertical-align: middle;\n",
              "    }\n",
              "\n",
              "    .dataframe tbody tr th {\n",
              "        vertical-align: top;\n",
              "    }\n",
              "\n",
              "    .dataframe thead th {\n",
              "        text-align: right;\n",
              "    }\n",
              "</style>\n",
              "<table border=\"1\" class=\"dataframe\">\n",
              "  <thead>\n",
              "    <tr style=\"text-align: right;\">\n",
              "      <th></th>\n",
              "      <th>Title</th>\n",
              "      <th>Description</th>\n",
              "      <th>Location</th>\n",
              "      <th>Publication Date</th>\n",
              "      <th>URL</th>\n",
              "    </tr>\n",
              "  </thead>\n",
              "  <tbody>\n",
              "    <tr>\n",
              "      <th>1386</th>\n",
              "      <td>Editor Premiere - videografico-a After Effects</td>\n",
              "      <td>Editor video con con approfondita e documentata esperienza si ricerca per posizione interna alla...</td>\n",
              "      <td>Novara</td>\n",
              "      <td>31 agosto, 19:02</td>\n",
              "      <td>https://www.kijiji.it/annunci/offerta/messina-annunci-novara-di-sicilia/editor-premiere-videogra...</td>\n",
              "    </tr>\n",
              "    <tr>\n",
              "      <th>2184</th>\n",
              "      <td>Editor Premiere - videografico-a After Effects</td>\n",
              "      <td>Editor video con con approfondita e documentata esperienza si ricerca per posizione interna alla...</td>\n",
              "      <td>Novara</td>\n",
              "      <td>31 agosto, 19:02</td>\n",
              "      <td>https://www.kijiji.it/annunci/offerta/messina-annunci-novara-di-sicilia/editor-premiere-videogra...</td>\n",
              "    </tr>\n",
              "  </tbody>\n",
              "</table>\n",
              "</div>"
            ],
            "text/plain": [
              "                                               Title  ...                                                                                                  URL\n",
              "1386  Editor Premiere - videografico-a After Effects  ...  https://www.kijiji.it/annunci/offerta/messina-annunci-novara-di-sicilia/editor-premiere-videogra...\n",
              "2184  Editor Premiere - videografico-a After Effects  ...  https://www.kijiji.it/annunci/offerta/messina-annunci-novara-di-sicilia/editor-premiere-videogra...\n",
              "\n",
              "[2 rows x 5 columns]"
            ]
          },
          "metadata": {}
        },
        {
          "output_type": "stream",
          "name": "stdout",
          "text": [
            "--------------------------------------------------------------------------------------------------------------------------------------------------------------------------------------------------------\n",
            "(2226, 3040)\n",
            "--------------------------------------------------------------------------------------------------------------------------------------------------------------------------------------------------------\n"
          ]
        },
        {
          "output_type": "display_data",
          "data": {
            "text/html": [
              "<div>\n",
              "<style scoped>\n",
              "    .dataframe tbody tr th:only-of-type {\n",
              "        vertical-align: middle;\n",
              "    }\n",
              "\n",
              "    .dataframe tbody tr th {\n",
              "        vertical-align: top;\n",
              "    }\n",
              "\n",
              "    .dataframe thead th {\n",
              "        text-align: right;\n",
              "    }\n",
              "</style>\n",
              "<table border=\"1\" class=\"dataframe\">\n",
              "  <thead>\n",
              "    <tr style=\"text-align: right;\">\n",
              "      <th></th>\n",
              "      <th>Title</th>\n",
              "      <th>Description</th>\n",
              "      <th>Location</th>\n",
              "      <th>Publication Date</th>\n",
              "      <th>URL</th>\n",
              "    </tr>\n",
              "  </thead>\n",
              "  <tbody>\n",
              "    <tr>\n",
              "      <th>2226</th>\n",
              "      <td>Editor Premiere - videografico-a After Effects</td>\n",
              "      <td>Editor video con con approfondita e documentata esperienza si ricerca per posizione interna alla...</td>\n",
              "      <td>Novara</td>\n",
              "      <td>31 agosto, 19:02</td>\n",
              "      <td>https://www.kijiji.it/annunci/offerta/messina-annunci-novara-di-sicilia/editor-premiere-videogra...</td>\n",
              "    </tr>\n",
              "    <tr>\n",
              "      <th>3040</th>\n",
              "      <td>Editor Premiere - videografico-a After Effects</td>\n",
              "      <td>Editor video con con approfondita e documentata esperienza si ricerca per posizione interna alla...</td>\n",
              "      <td>Novara</td>\n",
              "      <td>31 agosto, 19:02</td>\n",
              "      <td>https://www.kijiji.it/annunci/offerta/messina-annunci-novara-di-sicilia/editor-premiere-videogra...</td>\n",
              "    </tr>\n",
              "  </tbody>\n",
              "</table>\n",
              "</div>"
            ],
            "text/plain": [
              "                                               Title  ...                                                                                                  URL\n",
              "2226  Editor Premiere - videografico-a After Effects  ...  https://www.kijiji.it/annunci/offerta/messina-annunci-novara-di-sicilia/editor-premiere-videogra...\n",
              "3040  Editor Premiere - videografico-a After Effects  ...  https://www.kijiji.it/annunci/offerta/messina-annunci-novara-di-sicilia/editor-premiere-videogra...\n",
              "\n",
              "[2 rows x 5 columns]"
            ]
          },
          "metadata": {}
        },
        {
          "output_type": "stream",
          "name": "stdout",
          "text": [
            "--------------------------------------------------------------------------------------------------------------------------------------------------------------------------------------------------------\n",
            "(840, 1848)\n",
            "--------------------------------------------------------------------------------------------------------------------------------------------------------------------------------------------------------\n"
          ]
        },
        {
          "output_type": "display_data",
          "data": {
            "text/html": [
              "<div>\n",
              "<style scoped>\n",
              "    .dataframe tbody tr th:only-of-type {\n",
              "        vertical-align: middle;\n",
              "    }\n",
              "\n",
              "    .dataframe tbody tr th {\n",
              "        vertical-align: top;\n",
              "    }\n",
              "\n",
              "    .dataframe thead th {\n",
              "        text-align: right;\n",
              "    }\n",
              "</style>\n",
              "<table border=\"1\" class=\"dataframe\">\n",
              "  <thead>\n",
              "    <tr style=\"text-align: right;\">\n",
              "      <th></th>\n",
              "      <th>Title</th>\n",
              "      <th>Description</th>\n",
              "      <th>Location</th>\n",
              "      <th>Publication Date</th>\n",
              "      <th>URL</th>\n",
              "    </tr>\n",
              "  </thead>\n",
              "  <tbody>\n",
              "    <tr>\n",
              "      <th>840</th>\n",
              "      <td>Editor Premiere - videografico-a After Effects</td>\n",
              "      <td>Editor video con con approfondita e documentata esperienza si ricerca per posizione interna alla...</td>\n",
              "      <td>Novara</td>\n",
              "      <td>31 agosto, 19:02</td>\n",
              "      <td>https://www.kijiji.it/annunci/offerta/messina-annunci-novara-di-sicilia/editor-premiere-videogra...</td>\n",
              "    </tr>\n",
              "    <tr>\n",
              "      <th>1848</th>\n",
              "      <td>Editor Premiere - videografico-a After Effects</td>\n",
              "      <td>Editor video con con approfondita e documentata esperienza si ricerca per posizione interna alla...</td>\n",
              "      <td>Novara</td>\n",
              "      <td>31 agosto, 19:02</td>\n",
              "      <td>https://www.kijiji.it/annunci/offerta/messina-annunci-novara-di-sicilia/editor-premiere-videogra...</td>\n",
              "    </tr>\n",
              "  </tbody>\n",
              "</table>\n",
              "</div>"
            ],
            "text/plain": [
              "                                               Title  ...                                                                                                  URL\n",
              "840   Editor Premiere - videografico-a After Effects  ...  https://www.kijiji.it/annunci/offerta/messina-annunci-novara-di-sicilia/editor-premiere-videogra...\n",
              "1848  Editor Premiere - videografico-a After Effects  ...  https://www.kijiji.it/annunci/offerta/messina-annunci-novara-di-sicilia/editor-premiere-videogra...\n",
              "\n",
              "[2 rows x 5 columns]"
            ]
          },
          "metadata": {}
        },
        {
          "output_type": "stream",
          "name": "stdout",
          "text": [
            "--------------------------------------------------------------------------------------------------------------------------------------------------------------------------------------------------------\n"
          ]
        }
      ]
    },
    {
      "cell_type": "code",
      "metadata": {
        "colab": {
          "base_uri": "https://localhost:8080/",
          "height": 625
        },
        "id": "kjDn_N0pt2FS",
        "outputId": "f1eb398c-8e52-4710-9cf4-bbd00b7d90b6"
      },
      "source": [
        "display_announcements(dc_duplicates, 3)"
      ],
      "execution_count": 373,
      "outputs": [
        {
          "output_type": "stream",
          "name": "stdout",
          "text": [
            "(1386, 2184)\n",
            "--------------------------------------------------------------------------------------------------------------------------------------------------------------------------------------------------------\n"
          ]
        },
        {
          "output_type": "display_data",
          "data": {
            "text/html": [
              "<div>\n",
              "<style scoped>\n",
              "    .dataframe tbody tr th:only-of-type {\n",
              "        vertical-align: middle;\n",
              "    }\n",
              "\n",
              "    .dataframe tbody tr th {\n",
              "        vertical-align: top;\n",
              "    }\n",
              "\n",
              "    .dataframe thead th {\n",
              "        text-align: right;\n",
              "    }\n",
              "</style>\n",
              "<table border=\"1\" class=\"dataframe\">\n",
              "  <thead>\n",
              "    <tr style=\"text-align: right;\">\n",
              "      <th></th>\n",
              "      <th>Title</th>\n",
              "      <th>Description</th>\n",
              "      <th>Location</th>\n",
              "      <th>Publication Date</th>\n",
              "      <th>URL</th>\n",
              "    </tr>\n",
              "  </thead>\n",
              "  <tbody>\n",
              "    <tr>\n",
              "      <th>1386</th>\n",
              "      <td>Editor Premiere - videografico-a After Effects</td>\n",
              "      <td>Editor video con con approfondita e documentata esperienza si ricerca per posizione interna alla...</td>\n",
              "      <td>Novara</td>\n",
              "      <td>31 agosto, 19:02</td>\n",
              "      <td>https://www.kijiji.it/annunci/offerta/messina-annunci-novara-di-sicilia/editor-premiere-videogra...</td>\n",
              "    </tr>\n",
              "    <tr>\n",
              "      <th>2184</th>\n",
              "      <td>Editor Premiere - videografico-a After Effects</td>\n",
              "      <td>Editor video con con approfondita e documentata esperienza si ricerca per posizione interna alla...</td>\n",
              "      <td>Novara</td>\n",
              "      <td>31 agosto, 19:02</td>\n",
              "      <td>https://www.kijiji.it/annunci/offerta/messina-annunci-novara-di-sicilia/editor-premiere-videogra...</td>\n",
              "    </tr>\n",
              "  </tbody>\n",
              "</table>\n",
              "</div>"
            ],
            "text/plain": [
              "                                               Title  ...                                                                                                  URL\n",
              "1386  Editor Premiere - videografico-a After Effects  ...  https://www.kijiji.it/annunci/offerta/messina-annunci-novara-di-sicilia/editor-premiere-videogra...\n",
              "2184  Editor Premiere - videografico-a After Effects  ...  https://www.kijiji.it/annunci/offerta/messina-annunci-novara-di-sicilia/editor-premiere-videogra...\n",
              "\n",
              "[2 rows x 5 columns]"
            ]
          },
          "metadata": {}
        },
        {
          "output_type": "stream",
          "name": "stdout",
          "text": [
            "--------------------------------------------------------------------------------------------------------------------------------------------------------------------------------------------------------\n",
            "(2226, 3040)\n",
            "--------------------------------------------------------------------------------------------------------------------------------------------------------------------------------------------------------\n"
          ]
        },
        {
          "output_type": "display_data",
          "data": {
            "text/html": [
              "<div>\n",
              "<style scoped>\n",
              "    .dataframe tbody tr th:only-of-type {\n",
              "        vertical-align: middle;\n",
              "    }\n",
              "\n",
              "    .dataframe tbody tr th {\n",
              "        vertical-align: top;\n",
              "    }\n",
              "\n",
              "    .dataframe thead th {\n",
              "        text-align: right;\n",
              "    }\n",
              "</style>\n",
              "<table border=\"1\" class=\"dataframe\">\n",
              "  <thead>\n",
              "    <tr style=\"text-align: right;\">\n",
              "      <th></th>\n",
              "      <th>Title</th>\n",
              "      <th>Description</th>\n",
              "      <th>Location</th>\n",
              "      <th>Publication Date</th>\n",
              "      <th>URL</th>\n",
              "    </tr>\n",
              "  </thead>\n",
              "  <tbody>\n",
              "    <tr>\n",
              "      <th>2226</th>\n",
              "      <td>Editor Premiere - videografico-a After Effects</td>\n",
              "      <td>Editor video con con approfondita e documentata esperienza si ricerca per posizione interna alla...</td>\n",
              "      <td>Novara</td>\n",
              "      <td>31 agosto, 19:02</td>\n",
              "      <td>https://www.kijiji.it/annunci/offerta/messina-annunci-novara-di-sicilia/editor-premiere-videogra...</td>\n",
              "    </tr>\n",
              "    <tr>\n",
              "      <th>3040</th>\n",
              "      <td>Editor Premiere - videografico-a After Effects</td>\n",
              "      <td>Editor video con con approfondita e documentata esperienza si ricerca per posizione interna alla...</td>\n",
              "      <td>Novara</td>\n",
              "      <td>31 agosto, 19:02</td>\n",
              "      <td>https://www.kijiji.it/annunci/offerta/messina-annunci-novara-di-sicilia/editor-premiere-videogra...</td>\n",
              "    </tr>\n",
              "  </tbody>\n",
              "</table>\n",
              "</div>"
            ],
            "text/plain": [
              "                                               Title  ...                                                                                                  URL\n",
              "2226  Editor Premiere - videografico-a After Effects  ...  https://www.kijiji.it/annunci/offerta/messina-annunci-novara-di-sicilia/editor-premiere-videogra...\n",
              "3040  Editor Premiere - videografico-a After Effects  ...  https://www.kijiji.it/annunci/offerta/messina-annunci-novara-di-sicilia/editor-premiere-videogra...\n",
              "\n",
              "[2 rows x 5 columns]"
            ]
          },
          "metadata": {}
        },
        {
          "output_type": "stream",
          "name": "stdout",
          "text": [
            "--------------------------------------------------------------------------------------------------------------------------------------------------------------------------------------------------------\n",
            "(840, 1848)\n",
            "--------------------------------------------------------------------------------------------------------------------------------------------------------------------------------------------------------\n"
          ]
        },
        {
          "output_type": "display_data",
          "data": {
            "text/html": [
              "<div>\n",
              "<style scoped>\n",
              "    .dataframe tbody tr th:only-of-type {\n",
              "        vertical-align: middle;\n",
              "    }\n",
              "\n",
              "    .dataframe tbody tr th {\n",
              "        vertical-align: top;\n",
              "    }\n",
              "\n",
              "    .dataframe thead th {\n",
              "        text-align: right;\n",
              "    }\n",
              "</style>\n",
              "<table border=\"1\" class=\"dataframe\">\n",
              "  <thead>\n",
              "    <tr style=\"text-align: right;\">\n",
              "      <th></th>\n",
              "      <th>Title</th>\n",
              "      <th>Description</th>\n",
              "      <th>Location</th>\n",
              "      <th>Publication Date</th>\n",
              "      <th>URL</th>\n",
              "    </tr>\n",
              "  </thead>\n",
              "  <tbody>\n",
              "    <tr>\n",
              "      <th>840</th>\n",
              "      <td>Editor Premiere - videografico-a After Effects</td>\n",
              "      <td>Editor video con con approfondita e documentata esperienza si ricerca per posizione interna alla...</td>\n",
              "      <td>Novara</td>\n",
              "      <td>31 agosto, 19:02</td>\n",
              "      <td>https://www.kijiji.it/annunci/offerta/messina-annunci-novara-di-sicilia/editor-premiere-videogra...</td>\n",
              "    </tr>\n",
              "    <tr>\n",
              "      <th>1848</th>\n",
              "      <td>Editor Premiere - videografico-a After Effects</td>\n",
              "      <td>Editor video con con approfondita e documentata esperienza si ricerca per posizione interna alla...</td>\n",
              "      <td>Novara</td>\n",
              "      <td>31 agosto, 19:02</td>\n",
              "      <td>https://www.kijiji.it/annunci/offerta/messina-annunci-novara-di-sicilia/editor-premiere-videogra...</td>\n",
              "    </tr>\n",
              "  </tbody>\n",
              "</table>\n",
              "</div>"
            ],
            "text/plain": [
              "                                               Title  ...                                                                                                  URL\n",
              "840   Editor Premiere - videografico-a After Effects  ...  https://www.kijiji.it/annunci/offerta/messina-annunci-novara-di-sicilia/editor-premiere-videogra...\n",
              "1848  Editor Premiere - videografico-a After Effects  ...  https://www.kijiji.it/annunci/offerta/messina-annunci-novara-di-sicilia/editor-premiere-videogra...\n",
              "\n",
              "[2 rows x 5 columns]"
            ]
          },
          "metadata": {}
        },
        {
          "output_type": "stream",
          "name": "stdout",
          "text": [
            "--------------------------------------------------------------------------------------------------------------------------------------------------------------------------------------------------------\n"
          ]
        }
      ]
    },
    {
      "cell_type": "code",
      "metadata": {
        "id": "RnbQxAnTgv2E"
      },
      "source": [
        ""
      ],
      "execution_count": null,
      "outputs": []
    }
  ]
}